{
 "cells": [
  {
   "cell_type": "markdown",
   "metadata": {},
   "source": [
    "# 一、导入数据"
   ]
  },
  {
   "cell_type": "code",
   "execution_count": 1,
   "metadata": {},
   "outputs": [],
   "source": [
    "import numpy as np\n",
    "import pandas as pd"
   ]
  },
  {
   "cell_type": "code",
   "execution_count": 2,
   "metadata": {},
   "outputs": [],
   "source": [
    "data = pd.read_excel(\"input/data_.xlsx\",index_col=0)"
   ]
  },
  {
   "cell_type": "code",
   "execution_count": 3,
   "metadata": {},
   "outputs": [
    {
     "data": {
      "text/html": [
       "<div>\n",
       "<style scoped>\n",
       "    .dataframe tbody tr th:only-of-type {\n",
       "        vertical-align: middle;\n",
       "    }\n",
       "\n",
       "    .dataframe tbody tr th {\n",
       "        vertical-align: top;\n",
       "    }\n",
       "\n",
       "    .dataframe thead th {\n",
       "        text-align: right;\n",
       "    }\n",
       "</style>\n",
       "<table border=\"1\" class=\"dataframe\">\n",
       "  <thead>\n",
       "    <tr style=\"text-align: right;\">\n",
       "      <th></th>\n",
       "      <th>Clump Thickness</th>\n",
       "      <th>Uniformity of Cell Size</th>\n",
       "      <th>Uniformity of Cell Shape</th>\n",
       "      <th>Marginal Adhesion</th>\n",
       "      <th>Single Epithelial Cell Size</th>\n",
       "      <th>Bare Nuclei</th>\n",
       "      <th>Bland Chromatin</th>\n",
       "      <th>Normal Nucleoli</th>\n",
       "      <th>Mitoses</th>\n",
       "      <th>Class</th>\n",
       "      <th>Thickness_classnum</th>\n",
       "      <th>Cell Size _small</th>\n",
       "      <th>Cell Size _medium</th>\n",
       "      <th>Cell Size _big</th>\n",
       "      <th>Thickness_class</th>\n",
       "      <th>Cell Size</th>\n",
       "    </tr>\n",
       "    <tr>\n",
       "      <th>ID</th>\n",
       "      <th></th>\n",
       "      <th></th>\n",
       "      <th></th>\n",
       "      <th></th>\n",
       "      <th></th>\n",
       "      <th></th>\n",
       "      <th></th>\n",
       "      <th></th>\n",
       "      <th></th>\n",
       "      <th></th>\n",
       "      <th></th>\n",
       "      <th></th>\n",
       "      <th></th>\n",
       "      <th></th>\n",
       "      <th></th>\n",
       "      <th></th>\n",
       "    </tr>\n",
       "  </thead>\n",
       "  <tbody>\n",
       "    <tr>\n",
       "      <th>1275807</th>\n",
       "      <td>4</td>\n",
       "      <td>2</td>\n",
       "      <td>4</td>\n",
       "      <td>3</td>\n",
       "      <td>2</td>\n",
       "      <td>2</td>\n",
       "      <td>2</td>\n",
       "      <td>1</td>\n",
       "      <td>1</td>\n",
       "      <td>2</td>\n",
       "      <td>2</td>\n",
       "      <td>1</td>\n",
       "      <td>0</td>\n",
       "      <td>0</td>\n",
       "      <td>medium</td>\n",
       "      <td>small</td>\n",
       "    </tr>\n",
       "    <tr>\n",
       "      <th>1193683</th>\n",
       "      <td>1</td>\n",
       "      <td>1</td>\n",
       "      <td>2</td>\n",
       "      <td>1</td>\n",
       "      <td>3</td>\n",
       "      <td>1</td>\n",
       "      <td>1</td>\n",
       "      <td>1</td>\n",
       "      <td>1</td>\n",
       "      <td>2</td>\n",
       "      <td>1</td>\n",
       "      <td>1</td>\n",
       "      <td>0</td>\n",
       "      <td>0</td>\n",
       "      <td>thin</td>\n",
       "      <td>small</td>\n",
       "    </tr>\n",
       "    <tr>\n",
       "      <th>1170419</th>\n",
       "      <td>10</td>\n",
       "      <td>10</td>\n",
       "      <td>10</td>\n",
       "      <td>8</td>\n",
       "      <td>2</td>\n",
       "      <td>10</td>\n",
       "      <td>4</td>\n",
       "      <td>1</td>\n",
       "      <td>1</td>\n",
       "      <td>4</td>\n",
       "      <td>3</td>\n",
       "      <td>0</td>\n",
       "      <td>0</td>\n",
       "      <td>1</td>\n",
       "      <td>thick</td>\n",
       "      <td>big</td>\n",
       "    </tr>\n",
       "    <tr>\n",
       "      <th>1190386</th>\n",
       "      <td>4</td>\n",
       "      <td>6</td>\n",
       "      <td>6</td>\n",
       "      <td>5</td>\n",
       "      <td>7</td>\n",
       "      <td>6</td>\n",
       "      <td>7</td>\n",
       "      <td>7</td>\n",
       "      <td>3</td>\n",
       "      <td>4</td>\n",
       "      <td>2</td>\n",
       "      <td>0</td>\n",
       "      <td>1</td>\n",
       "      <td>0</td>\n",
       "      <td>medium</td>\n",
       "      <td>medium</td>\n",
       "    </tr>\n",
       "    <tr>\n",
       "      <th>1202125</th>\n",
       "      <td>4</td>\n",
       "      <td>1</td>\n",
       "      <td>1</td>\n",
       "      <td>1</td>\n",
       "      <td>2</td>\n",
       "      <td>1</td>\n",
       "      <td>3</td>\n",
       "      <td>1</td>\n",
       "      <td>1</td>\n",
       "      <td>2</td>\n",
       "      <td>2</td>\n",
       "      <td>1</td>\n",
       "      <td>0</td>\n",
       "      <td>0</td>\n",
       "      <td>medium</td>\n",
       "      <td>small</td>\n",
       "    </tr>\n",
       "    <tr>\n",
       "      <th>...</th>\n",
       "      <td>...</td>\n",
       "      <td>...</td>\n",
       "      <td>...</td>\n",
       "      <td>...</td>\n",
       "      <td>...</td>\n",
       "      <td>...</td>\n",
       "      <td>...</td>\n",
       "      <td>...</td>\n",
       "      <td>...</td>\n",
       "      <td>...</td>\n",
       "      <td>...</td>\n",
       "      <td>...</td>\n",
       "      <td>...</td>\n",
       "      <td>...</td>\n",
       "      <td>...</td>\n",
       "      <td>...</td>\n",
       "    </tr>\n",
       "    <tr>\n",
       "      <th>493452</th>\n",
       "      <td>1</td>\n",
       "      <td>1</td>\n",
       "      <td>3</td>\n",
       "      <td>1</td>\n",
       "      <td>2</td>\n",
       "      <td>1</td>\n",
       "      <td>1</td>\n",
       "      <td>1</td>\n",
       "      <td>1</td>\n",
       "      <td>2</td>\n",
       "      <td>1</td>\n",
       "      <td>1</td>\n",
       "      <td>0</td>\n",
       "      <td>0</td>\n",
       "      <td>thin</td>\n",
       "      <td>small</td>\n",
       "    </tr>\n",
       "    <tr>\n",
       "      <th>1116132</th>\n",
       "      <td>6</td>\n",
       "      <td>3</td>\n",
       "      <td>4</td>\n",
       "      <td>1</td>\n",
       "      <td>5</td>\n",
       "      <td>2</td>\n",
       "      <td>3</td>\n",
       "      <td>9</td>\n",
       "      <td>1</td>\n",
       "      <td>4</td>\n",
       "      <td>2</td>\n",
       "      <td>1</td>\n",
       "      <td>0</td>\n",
       "      <td>0</td>\n",
       "      <td>medium</td>\n",
       "      <td>small</td>\n",
       "    </tr>\n",
       "    <tr>\n",
       "      <th>1133136</th>\n",
       "      <td>3</td>\n",
       "      <td>1</td>\n",
       "      <td>1</td>\n",
       "      <td>1</td>\n",
       "      <td>2</td>\n",
       "      <td>3</td>\n",
       "      <td>3</td>\n",
       "      <td>1</td>\n",
       "      <td>1</td>\n",
       "      <td>2</td>\n",
       "      <td>1</td>\n",
       "      <td>1</td>\n",
       "      <td>0</td>\n",
       "      <td>0</td>\n",
       "      <td>thin</td>\n",
       "      <td>small</td>\n",
       "    </tr>\n",
       "    <tr>\n",
       "      <th>1158247</th>\n",
       "      <td>1</td>\n",
       "      <td>1</td>\n",
       "      <td>1</td>\n",
       "      <td>1</td>\n",
       "      <td>2</td>\n",
       "      <td>1</td>\n",
       "      <td>2</td>\n",
       "      <td>1</td>\n",
       "      <td>1</td>\n",
       "      <td>2</td>\n",
       "      <td>1</td>\n",
       "      <td>1</td>\n",
       "      <td>0</td>\n",
       "      <td>0</td>\n",
       "      <td>thin</td>\n",
       "      <td>small</td>\n",
       "    </tr>\n",
       "    <tr>\n",
       "      <th>1206314</th>\n",
       "      <td>1</td>\n",
       "      <td>2</td>\n",
       "      <td>3</td>\n",
       "      <td>1</td>\n",
       "      <td>2</td>\n",
       "      <td>1</td>\n",
       "      <td>1</td>\n",
       "      <td>1</td>\n",
       "      <td>1</td>\n",
       "      <td>2</td>\n",
       "      <td>1</td>\n",
       "      <td>1</td>\n",
       "      <td>0</td>\n",
       "      <td>0</td>\n",
       "      <td>thin</td>\n",
       "      <td>small</td>\n",
       "    </tr>\n",
       "  </tbody>\n",
       "</table>\n",
       "<p>645 rows × 16 columns</p>\n",
       "</div>"
      ],
      "text/plain": [
       "         Clump Thickness  Uniformity of Cell Size  Uniformity of Cell Shape  \\\n",
       "ID                                                                            \n",
       "1275807                4                        2                         4   \n",
       "1193683                1                        1                         2   \n",
       "1170419               10                       10                        10   \n",
       "1190386                4                        6                         6   \n",
       "1202125                4                        1                         1   \n",
       "...                  ...                      ...                       ...   \n",
       "493452                 1                        1                         3   \n",
       "1116132                6                        3                         4   \n",
       "1133136                3                        1                         1   \n",
       "1158247                1                        1                         1   \n",
       "1206314                1                        2                         3   \n",
       "\n",
       "         Marginal Adhesion  Single Epithelial Cell Size  Bare Nuclei  \\\n",
       "ID                                                                     \n",
       "1275807                  3                            2            2   \n",
       "1193683                  1                            3            1   \n",
       "1170419                  8                            2           10   \n",
       "1190386                  5                            7            6   \n",
       "1202125                  1                            2            1   \n",
       "...                    ...                          ...          ...   \n",
       "493452                   1                            2            1   \n",
       "1116132                  1                            5            2   \n",
       "1133136                  1                            2            3   \n",
       "1158247                  1                            2            1   \n",
       "1206314                  1                            2            1   \n",
       "\n",
       "         Bland Chromatin  Normal Nucleoli  Mitoses  Class  Thickness_classnum  \\\n",
       "ID                                                                              \n",
       "1275807                2                1        1      2                   2   \n",
       "1193683                1                1        1      2                   1   \n",
       "1170419                4                1        1      4                   3   \n",
       "1190386                7                7        3      4                   2   \n",
       "1202125                3                1        1      2                   2   \n",
       "...                  ...              ...      ...    ...                 ...   \n",
       "493452                 1                1        1      2                   1   \n",
       "1116132                3                9        1      4                   2   \n",
       "1133136                3                1        1      2                   1   \n",
       "1158247                2                1        1      2                   1   \n",
       "1206314                1                1        1      2                   1   \n",
       "\n",
       "         Cell Size _small  Cell Size _medium  Cell Size _big Thickness_class  \\\n",
       "ID                                                                             \n",
       "1275807                 1                  0               0          medium   \n",
       "1193683                 1                  0               0            thin   \n",
       "1170419                 0                  0               1           thick   \n",
       "1190386                 0                  1               0          medium   \n",
       "1202125                 1                  0               0          medium   \n",
       "...                   ...                ...             ...             ...   \n",
       "493452                  1                  0               0            thin   \n",
       "1116132                 1                  0               0          medium   \n",
       "1133136                 1                  0               0            thin   \n",
       "1158247                 1                  0               0            thin   \n",
       "1206314                 1                  0               0            thin   \n",
       "\n",
       "        Cell Size  \n",
       "ID                 \n",
       "1275807     small  \n",
       "1193683     small  \n",
       "1170419       big  \n",
       "1190386    medium  \n",
       "1202125     small  \n",
       "...           ...  \n",
       "493452      small  \n",
       "1116132     small  \n",
       "1133136     small  \n",
       "1158247     small  \n",
       "1206314     small  \n",
       "\n",
       "[645 rows x 16 columns]"
      ]
     },
     "execution_count": 3,
     "metadata": {},
     "output_type": "execute_result"
    }
   ],
   "source": [
    "data_ = data.copy()\n",
    "data_"
   ]
  },
  {
   "cell_type": "code",
   "execution_count": 4,
   "metadata": {},
   "outputs": [
    {
     "name": "stdout",
     "output_type": "stream",
     "text": [
      "<class 'pandas.core.frame.DataFrame'>\n",
      "Index: 645 entries, 1275807 to 1206314\n",
      "Data columns (total 16 columns):\n",
      " #   Column                       Non-Null Count  Dtype \n",
      "---  ------                       --------------  ----- \n",
      " 0   Clump Thickness              645 non-null    int64 \n",
      " 1   Uniformity of Cell Size      645 non-null    int64 \n",
      " 2   Uniformity of Cell Shape     645 non-null    int64 \n",
      " 3   Marginal Adhesion            645 non-null    int64 \n",
      " 4   Single Epithelial Cell Size  645 non-null    int64 \n",
      " 5   Bare Nuclei                  645 non-null    int64 \n",
      " 6   Bland Chromatin              645 non-null    int64 \n",
      " 7   Normal Nucleoli              645 non-null    int64 \n",
      " 8   Mitoses                      645 non-null    int64 \n",
      " 9   Class                        645 non-null    int64 \n",
      " 10  Thickness_classnum           645 non-null    int64 \n",
      " 11  Cell Size _small             645 non-null    int64 \n",
      " 12  Cell Size _medium            645 non-null    int64 \n",
      " 13  Cell Size _big               645 non-null    int64 \n",
      " 14  Thickness_class              645 non-null    object\n",
      " 15  Cell Size                    645 non-null    object\n",
      "dtypes: int64(14), object(2)\n",
      "memory usage: 85.7+ KB\n"
     ]
    }
   ],
   "source": [
    "data_.info()"
   ]
  },
  {
   "cell_type": "markdown",
   "metadata": {},
   "source": [
    "# 二、设置变量"
   ]
  },
  {
   "cell_type": "code",
   "execution_count": 5,
   "metadata": {},
   "outputs": [
    {
     "data": {
      "text/html": [
       "<div>\n",
       "<style scoped>\n",
       "    .dataframe tbody tr th:only-of-type {\n",
       "        vertical-align: middle;\n",
       "    }\n",
       "\n",
       "    .dataframe tbody tr th {\n",
       "        vertical-align: top;\n",
       "    }\n",
       "\n",
       "    .dataframe thead th {\n",
       "        text-align: right;\n",
       "    }\n",
       "</style>\n",
       "<table border=\"1\" class=\"dataframe\">\n",
       "  <thead>\n",
       "    <tr style=\"text-align: right;\">\n",
       "      <th></th>\n",
       "      <th>Clump Thickness</th>\n",
       "      <th>Uniformity of Cell Size</th>\n",
       "      <th>Uniformity of Cell Shape</th>\n",
       "      <th>Marginal Adhesion</th>\n",
       "      <th>Single Epithelial Cell Size</th>\n",
       "      <th>Bare Nuclei</th>\n",
       "      <th>Bland Chromatin</th>\n",
       "      <th>Normal Nucleoli</th>\n",
       "      <th>Mitoses</th>\n",
       "      <th>Thickness_classnum</th>\n",
       "      <th>Cell Size _small</th>\n",
       "      <th>Cell Size _medium</th>\n",
       "      <th>Cell Size _big</th>\n",
       "    </tr>\n",
       "    <tr>\n",
       "      <th>ID</th>\n",
       "      <th></th>\n",
       "      <th></th>\n",
       "      <th></th>\n",
       "      <th></th>\n",
       "      <th></th>\n",
       "      <th></th>\n",
       "      <th></th>\n",
       "      <th></th>\n",
       "      <th></th>\n",
       "      <th></th>\n",
       "      <th></th>\n",
       "      <th></th>\n",
       "      <th></th>\n",
       "    </tr>\n",
       "  </thead>\n",
       "  <tbody>\n",
       "    <tr>\n",
       "      <th>1275807</th>\n",
       "      <td>4</td>\n",
       "      <td>2</td>\n",
       "      <td>4</td>\n",
       "      <td>3</td>\n",
       "      <td>2</td>\n",
       "      <td>2</td>\n",
       "      <td>2</td>\n",
       "      <td>1</td>\n",
       "      <td>1</td>\n",
       "      <td>2</td>\n",
       "      <td>1</td>\n",
       "      <td>0</td>\n",
       "      <td>0</td>\n",
       "    </tr>\n",
       "    <tr>\n",
       "      <th>1193683</th>\n",
       "      <td>1</td>\n",
       "      <td>1</td>\n",
       "      <td>2</td>\n",
       "      <td>1</td>\n",
       "      <td>3</td>\n",
       "      <td>1</td>\n",
       "      <td>1</td>\n",
       "      <td>1</td>\n",
       "      <td>1</td>\n",
       "      <td>1</td>\n",
       "      <td>1</td>\n",
       "      <td>0</td>\n",
       "      <td>0</td>\n",
       "    </tr>\n",
       "    <tr>\n",
       "      <th>1170419</th>\n",
       "      <td>10</td>\n",
       "      <td>10</td>\n",
       "      <td>10</td>\n",
       "      <td>8</td>\n",
       "      <td>2</td>\n",
       "      <td>10</td>\n",
       "      <td>4</td>\n",
       "      <td>1</td>\n",
       "      <td>1</td>\n",
       "      <td>3</td>\n",
       "      <td>0</td>\n",
       "      <td>0</td>\n",
       "      <td>1</td>\n",
       "    </tr>\n",
       "    <tr>\n",
       "      <th>1190386</th>\n",
       "      <td>4</td>\n",
       "      <td>6</td>\n",
       "      <td>6</td>\n",
       "      <td>5</td>\n",
       "      <td>7</td>\n",
       "      <td>6</td>\n",
       "      <td>7</td>\n",
       "      <td>7</td>\n",
       "      <td>3</td>\n",
       "      <td>2</td>\n",
       "      <td>0</td>\n",
       "      <td>1</td>\n",
       "      <td>0</td>\n",
       "    </tr>\n",
       "    <tr>\n",
       "      <th>1202125</th>\n",
       "      <td>4</td>\n",
       "      <td>1</td>\n",
       "      <td>1</td>\n",
       "      <td>1</td>\n",
       "      <td>2</td>\n",
       "      <td>1</td>\n",
       "      <td>3</td>\n",
       "      <td>1</td>\n",
       "      <td>1</td>\n",
       "      <td>2</td>\n",
       "      <td>1</td>\n",
       "      <td>0</td>\n",
       "      <td>0</td>\n",
       "    </tr>\n",
       "    <tr>\n",
       "      <th>...</th>\n",
       "      <td>...</td>\n",
       "      <td>...</td>\n",
       "      <td>...</td>\n",
       "      <td>...</td>\n",
       "      <td>...</td>\n",
       "      <td>...</td>\n",
       "      <td>...</td>\n",
       "      <td>...</td>\n",
       "      <td>...</td>\n",
       "      <td>...</td>\n",
       "      <td>...</td>\n",
       "      <td>...</td>\n",
       "      <td>...</td>\n",
       "    </tr>\n",
       "    <tr>\n",
       "      <th>493452</th>\n",
       "      <td>1</td>\n",
       "      <td>1</td>\n",
       "      <td>3</td>\n",
       "      <td>1</td>\n",
       "      <td>2</td>\n",
       "      <td>1</td>\n",
       "      <td>1</td>\n",
       "      <td>1</td>\n",
       "      <td>1</td>\n",
       "      <td>1</td>\n",
       "      <td>1</td>\n",
       "      <td>0</td>\n",
       "      <td>0</td>\n",
       "    </tr>\n",
       "    <tr>\n",
       "      <th>1116132</th>\n",
       "      <td>6</td>\n",
       "      <td>3</td>\n",
       "      <td>4</td>\n",
       "      <td>1</td>\n",
       "      <td>5</td>\n",
       "      <td>2</td>\n",
       "      <td>3</td>\n",
       "      <td>9</td>\n",
       "      <td>1</td>\n",
       "      <td>2</td>\n",
       "      <td>1</td>\n",
       "      <td>0</td>\n",
       "      <td>0</td>\n",
       "    </tr>\n",
       "    <tr>\n",
       "      <th>1133136</th>\n",
       "      <td>3</td>\n",
       "      <td>1</td>\n",
       "      <td>1</td>\n",
       "      <td>1</td>\n",
       "      <td>2</td>\n",
       "      <td>3</td>\n",
       "      <td>3</td>\n",
       "      <td>1</td>\n",
       "      <td>1</td>\n",
       "      <td>1</td>\n",
       "      <td>1</td>\n",
       "      <td>0</td>\n",
       "      <td>0</td>\n",
       "    </tr>\n",
       "    <tr>\n",
       "      <th>1158247</th>\n",
       "      <td>1</td>\n",
       "      <td>1</td>\n",
       "      <td>1</td>\n",
       "      <td>1</td>\n",
       "      <td>2</td>\n",
       "      <td>1</td>\n",
       "      <td>2</td>\n",
       "      <td>1</td>\n",
       "      <td>1</td>\n",
       "      <td>1</td>\n",
       "      <td>1</td>\n",
       "      <td>0</td>\n",
       "      <td>0</td>\n",
       "    </tr>\n",
       "    <tr>\n",
       "      <th>1206314</th>\n",
       "      <td>1</td>\n",
       "      <td>2</td>\n",
       "      <td>3</td>\n",
       "      <td>1</td>\n",
       "      <td>2</td>\n",
       "      <td>1</td>\n",
       "      <td>1</td>\n",
       "      <td>1</td>\n",
       "      <td>1</td>\n",
       "      <td>1</td>\n",
       "      <td>1</td>\n",
       "      <td>0</td>\n",
       "      <td>0</td>\n",
       "    </tr>\n",
       "  </tbody>\n",
       "</table>\n",
       "<p>645 rows × 13 columns</p>\n",
       "</div>"
      ],
      "text/plain": [
       "         Clump Thickness  Uniformity of Cell Size  Uniformity of Cell Shape  \\\n",
       "ID                                                                            \n",
       "1275807                4                        2                         4   \n",
       "1193683                1                        1                         2   \n",
       "1170419               10                       10                        10   \n",
       "1190386                4                        6                         6   \n",
       "1202125                4                        1                         1   \n",
       "...                  ...                      ...                       ...   \n",
       "493452                 1                        1                         3   \n",
       "1116132                6                        3                         4   \n",
       "1133136                3                        1                         1   \n",
       "1158247                1                        1                         1   \n",
       "1206314                1                        2                         3   \n",
       "\n",
       "         Marginal Adhesion  Single Epithelial Cell Size  Bare Nuclei  \\\n",
       "ID                                                                     \n",
       "1275807                  3                            2            2   \n",
       "1193683                  1                            3            1   \n",
       "1170419                  8                            2           10   \n",
       "1190386                  5                            7            6   \n",
       "1202125                  1                            2            1   \n",
       "...                    ...                          ...          ...   \n",
       "493452                   1                            2            1   \n",
       "1116132                  1                            5            2   \n",
       "1133136                  1                            2            3   \n",
       "1158247                  1                            2            1   \n",
       "1206314                  1                            2            1   \n",
       "\n",
       "         Bland Chromatin  Normal Nucleoli  Mitoses  Thickness_classnum  \\\n",
       "ID                                                                       \n",
       "1275807                2                1        1                   2   \n",
       "1193683                1                1        1                   1   \n",
       "1170419                4                1        1                   3   \n",
       "1190386                7                7        3                   2   \n",
       "1202125                3                1        1                   2   \n",
       "...                  ...              ...      ...                 ...   \n",
       "493452                 1                1        1                   1   \n",
       "1116132                3                9        1                   2   \n",
       "1133136                3                1        1                   1   \n",
       "1158247                2                1        1                   1   \n",
       "1206314                1                1        1                   1   \n",
       "\n",
       "         Cell Size _small  Cell Size _medium  Cell Size _big  \n",
       "ID                                                            \n",
       "1275807                 1                  0               0  \n",
       "1193683                 1                  0               0  \n",
       "1170419                 0                  0               1  \n",
       "1190386                 0                  1               0  \n",
       "1202125                 1                  0               0  \n",
       "...                   ...                ...             ...  \n",
       "493452                  1                  0               0  \n",
       "1116132                 1                  0               0  \n",
       "1133136                 1                  0               0  \n",
       "1158247                 1                  0               0  \n",
       "1206314                 1                  0               0  \n",
       "\n",
       "[645 rows x 13 columns]"
      ]
     },
     "execution_count": 5,
     "metadata": {},
     "output_type": "execute_result"
    }
   ],
   "source": [
    "features = data_.drop(columns=['Class','Thickness_class','Cell Size'])\n",
    "features"
   ]
  },
  {
   "cell_type": "code",
   "execution_count": 6,
   "metadata": {},
   "outputs": [
    {
     "data": {
      "text/plain": [
       "ID\n",
       "1275807    0\n",
       "1193683    0\n",
       "1170419    1\n",
       "1190386    1\n",
       "1202125    0\n",
       "          ..\n",
       "493452     0\n",
       "1116132    1\n",
       "1133136    0\n",
       "1158247    0\n",
       "1206314    0\n",
       "Name: Class, Length: 645, dtype: int64"
      ]
     },
     "execution_count": 6,
     "metadata": {},
     "output_type": "execute_result"
    }
   ],
   "source": [
    "target = data_.Class.replace(to_replace = [2, 4], value = [0,1])\n",
    "target"
   ]
  },
  {
   "cell_type": "code",
   "execution_count": 7,
   "metadata": {},
   "outputs": [],
   "source": [
    "from sklearn.preprocessing import StandardScaler"
   ]
  },
  {
   "cell_type": "code",
   "execution_count": 8,
   "metadata": {},
   "outputs": [],
   "source": [
    "transfer = StandardScaler()"
   ]
  },
  {
   "cell_type": "code",
   "execution_count": 9,
   "metadata": {},
   "outputs": [],
   "source": [
    "features_ = transfer.fit_transform(features)"
   ]
  },
  {
   "cell_type": "code",
   "execution_count": 10,
   "metadata": {},
   "outputs": [
    {
     "data": {
      "text/plain": [
       "array([[-0.17231198, -0.39676889,  0.23516391, ...,  0.62217102,\n",
       "        -0.47319015, -0.32610809],\n",
       "       [-1.22412169, -0.72153531, -0.43303311, ...,  0.62217102,\n",
       "        -0.47319015, -0.32610809],\n",
       "       [ 1.93130744,  2.20136243,  2.23975499, ..., -1.60727513,\n",
       "        -0.47319015,  3.06646797],\n",
       "       ...,\n",
       "       [-0.52291521, -0.72153531, -0.76713162, ...,  0.62217102,\n",
       "        -0.47319015, -0.32610809],\n",
       "       [-1.22412169, -0.72153531, -0.76713162, ...,  0.62217102,\n",
       "        -0.47319015, -0.32610809],\n",
       "       [-1.22412169, -0.39676889, -0.0989346 , ...,  0.62217102,\n",
       "        -0.47319015, -0.32610809]])"
      ]
     },
     "execution_count": 10,
     "metadata": {},
     "output_type": "execute_result"
    }
   ],
   "source": [
    "features_"
   ]
  },
  {
   "cell_type": "markdown",
   "metadata": {},
   "source": [
    "# 三、拆分数据集"
   ]
  },
  {
   "cell_type": "code",
   "execution_count": 11,
   "metadata": {},
   "outputs": [],
   "source": [
    "from sklearn.model_selection import train_test_split"
   ]
  },
  {
   "cell_type": "code",
   "execution_count": 12,
   "metadata": {},
   "outputs": [],
   "source": [
    "train_features, test_features, train_target, test_target = train_test_split(\n",
    "    features, target, \n",
    "    test_size = 145, random_state = 99)"
   ]
  },
  {
   "cell_type": "code",
   "execution_count": 13,
   "metadata": {},
   "outputs": [
    {
     "name": "stdout",
     "output_type": "stream",
     "text": [
      "(500, 13)\n",
      "(500,)\n",
      "(145, 13)\n",
      "(145,)\n"
     ]
    }
   ],
   "source": [
    "print(train_features.shape)\n",
    "print(train_target.shape)\n",
    "print(test_features.shape)\n",
    "print(test_target.shape)"
   ]
  },
  {
   "cell_type": "markdown",
   "metadata": {},
   "source": [
    "# 四、建立模型"
   ]
  },
  {
   "cell_type": "code",
   "execution_count": 14,
   "metadata": {},
   "outputs": [],
   "source": [
    "from sklearn.svm import SVC"
   ]
  },
  {
   "cell_type": "code",
   "execution_count": 15,
   "metadata": {},
   "outputs": [],
   "source": [
    "svc_linear = SVC(kernel = \"linear\")"
   ]
  },
  {
   "cell_type": "code",
   "execution_count": 16,
   "metadata": {},
   "outputs": [
    {
     "data": {
      "text/html": [
       "<style>#sk-container-id-1 {color: black;background-color: white;}#sk-container-id-1 pre{padding: 0;}#sk-container-id-1 div.sk-toggleable {background-color: white;}#sk-container-id-1 label.sk-toggleable__label {cursor: pointer;display: block;width: 100%;margin-bottom: 0;padding: 0.3em;box-sizing: border-box;text-align: center;}#sk-container-id-1 label.sk-toggleable__label-arrow:before {content: \"▸\";float: left;margin-right: 0.25em;color: #696969;}#sk-container-id-1 label.sk-toggleable__label-arrow:hover:before {color: black;}#sk-container-id-1 div.sk-estimator:hover label.sk-toggleable__label-arrow:before {color: black;}#sk-container-id-1 div.sk-toggleable__content {max-height: 0;max-width: 0;overflow: hidden;text-align: left;background-color: #f0f8ff;}#sk-container-id-1 div.sk-toggleable__content pre {margin: 0.2em;color: black;border-radius: 0.25em;background-color: #f0f8ff;}#sk-container-id-1 input.sk-toggleable__control:checked~div.sk-toggleable__content {max-height: 200px;max-width: 100%;overflow: auto;}#sk-container-id-1 input.sk-toggleable__control:checked~label.sk-toggleable__label-arrow:before {content: \"▾\";}#sk-container-id-1 div.sk-estimator input.sk-toggleable__control:checked~label.sk-toggleable__label {background-color: #d4ebff;}#sk-container-id-1 div.sk-label input.sk-toggleable__control:checked~label.sk-toggleable__label {background-color: #d4ebff;}#sk-container-id-1 input.sk-hidden--visually {border: 0;clip: rect(1px 1px 1px 1px);clip: rect(1px, 1px, 1px, 1px);height: 1px;margin: -1px;overflow: hidden;padding: 0;position: absolute;width: 1px;}#sk-container-id-1 div.sk-estimator {font-family: monospace;background-color: #f0f8ff;border: 1px dotted black;border-radius: 0.25em;box-sizing: border-box;margin-bottom: 0.5em;}#sk-container-id-1 div.sk-estimator:hover {background-color: #d4ebff;}#sk-container-id-1 div.sk-parallel-item::after {content: \"\";width: 100%;border-bottom: 1px solid gray;flex-grow: 1;}#sk-container-id-1 div.sk-label:hover label.sk-toggleable__label {background-color: #d4ebff;}#sk-container-id-1 div.sk-serial::before {content: \"\";position: absolute;border-left: 1px solid gray;box-sizing: border-box;top: 0;bottom: 0;left: 50%;z-index: 0;}#sk-container-id-1 div.sk-serial {display: flex;flex-direction: column;align-items: center;background-color: white;padding-right: 0.2em;padding-left: 0.2em;position: relative;}#sk-container-id-1 div.sk-item {position: relative;z-index: 1;}#sk-container-id-1 div.sk-parallel {display: flex;align-items: stretch;justify-content: center;background-color: white;position: relative;}#sk-container-id-1 div.sk-item::before, #sk-container-id-1 div.sk-parallel-item::before {content: \"\";position: absolute;border-left: 1px solid gray;box-sizing: border-box;top: 0;bottom: 0;left: 50%;z-index: -1;}#sk-container-id-1 div.sk-parallel-item {display: flex;flex-direction: column;z-index: 1;position: relative;background-color: white;}#sk-container-id-1 div.sk-parallel-item:first-child::after {align-self: flex-end;width: 50%;}#sk-container-id-1 div.sk-parallel-item:last-child::after {align-self: flex-start;width: 50%;}#sk-container-id-1 div.sk-parallel-item:only-child::after {width: 0;}#sk-container-id-1 div.sk-dashed-wrapped {border: 1px dashed gray;margin: 0 0.4em 0.5em 0.4em;box-sizing: border-box;padding-bottom: 0.4em;background-color: white;}#sk-container-id-1 div.sk-label label {font-family: monospace;font-weight: bold;display: inline-block;line-height: 1.2em;}#sk-container-id-1 div.sk-label-container {text-align: center;}#sk-container-id-1 div.sk-container {/* jupyter's `normalize.less` sets `[hidden] { display: none; }` but bootstrap.min.css set `[hidden] { display: none !important; }` so we also need the `!important` here to be able to override the default hidden behavior on the sphinx rendered scikit-learn.org. See: https://github.com/scikit-learn/scikit-learn/issues/21755 */display: inline-block !important;position: relative;}#sk-container-id-1 div.sk-text-repr-fallback {display: none;}</style><div id=\"sk-container-id-1\" class=\"sk-top-container\"><div class=\"sk-text-repr-fallback\"><pre>SVC(kernel=&#x27;linear&#x27;)</pre><b>In a Jupyter environment, please rerun this cell to show the HTML representation or trust the notebook. <br />On GitHub, the HTML representation is unable to render, please try loading this page with nbviewer.org.</b></div><div class=\"sk-container\" hidden><div class=\"sk-item\"><div class=\"sk-estimator sk-toggleable\"><input class=\"sk-toggleable__control sk-hidden--visually\" id=\"sk-estimator-id-1\" type=\"checkbox\" checked><label for=\"sk-estimator-id-1\" class=\"sk-toggleable__label sk-toggleable__label-arrow\">SVC</label><div class=\"sk-toggleable__content\"><pre>SVC(kernel=&#x27;linear&#x27;)</pre></div></div></div></div></div>"
      ],
      "text/plain": [
       "SVC(kernel='linear')"
      ]
     },
     "execution_count": 16,
     "metadata": {},
     "output_type": "execute_result"
    }
   ],
   "source": [
    "svc_linear.fit(train_features, train_target)"
   ]
  },
  {
   "cell_type": "code",
   "execution_count": 17,
   "metadata": {},
   "outputs": [
    {
     "data": {
      "text/plain": [
       "array([[ 0.53805263,  0.13457885,  0.14434002,  0.07394703, -0.02556639,\n",
       "         0.22747659,  0.17697374,  0.06787877,  0.34298653, -0.7559374 ,\n",
       "         0.25831728, -0.25831728,  0.        ]])"
      ]
     },
     "execution_count": 17,
     "metadata": {},
     "output_type": "execute_result"
    }
   ],
   "source": [
    "svc_linear.coef_"
   ]
  },
  {
   "cell_type": "code",
   "execution_count": 18,
   "metadata": {},
   "outputs": [
    {
     "data": {
      "text/plain": [
       "array([-4.55846337])"
      ]
     },
     "execution_count": 18,
     "metadata": {},
     "output_type": "execute_result"
    }
   ],
   "source": [
    "svc_linear.intercept_"
   ]
  },
  {
   "cell_type": "code",
   "execution_count": 19,
   "metadata": {},
   "outputs": [
    {
     "data": {
      "text/plain": [
       "array([0, 1, 1, 0, 1, 1, 0, 1, 0, 1, 1, 0, 1, 0, 0, 0, 0, 0, 0, 0, 1, 0,\n",
       "       0, 0, 0, 0, 1, 0, 0, 0, 0, 1, 0, 0, 0, 0, 0, 0, 0, 0, 0, 0, 0, 0,\n",
       "       1, 1, 1, 1, 0, 0, 0, 0, 1, 1, 0, 1, 1, 0, 0, 0, 0, 1, 1, 0, 1, 0,\n",
       "       0, 0, 0, 1, 1, 1, 0, 0, 1, 1, 1, 0, 0, 0, 1, 0, 0, 0, 0, 0, 1, 0,\n",
       "       0, 1, 0, 0, 0, 0, 0, 0, 0, 0, 0, 0, 0, 1, 1, 0, 0, 0, 0, 0, 1, 0,\n",
       "       0, 0, 0, 1, 0, 1, 0, 0, 0, 0, 0, 0, 0, 1, 0, 1, 0, 1, 1, 0, 0, 0,\n",
       "       1, 0, 1, 1, 0, 0, 0, 0, 0, 0, 1, 0, 1])"
      ]
     },
     "execution_count": 19,
     "metadata": {},
     "output_type": "execute_result"
    }
   ],
   "source": [
    "test_predict = svc_linear.predict(test_features)\n",
    "test_predict"
   ]
  },
  {
   "cell_type": "code",
   "execution_count": 20,
   "metadata": {},
   "outputs": [
    {
     "data": {
      "text/plain": [
       "0.9793103448275862"
      ]
     },
     "execution_count": 20,
     "metadata": {},
     "output_type": "execute_result"
    }
   ],
   "source": [
    "svc_linear.score(test_features,test_target)"
   ]
  },
  {
   "cell_type": "code",
   "execution_count": 21,
   "metadata": {},
   "outputs": [],
   "source": [
    "svc_poly = SVC(kernel=\"poly\",degree=3,coef0=0.2)"
   ]
  },
  {
   "cell_type": "code",
   "execution_count": 22,
   "metadata": {
    "scrolled": true
   },
   "outputs": [
    {
     "data": {
      "text/html": [
       "<style>#sk-container-id-2 {color: black;background-color: white;}#sk-container-id-2 pre{padding: 0;}#sk-container-id-2 div.sk-toggleable {background-color: white;}#sk-container-id-2 label.sk-toggleable__label {cursor: pointer;display: block;width: 100%;margin-bottom: 0;padding: 0.3em;box-sizing: border-box;text-align: center;}#sk-container-id-2 label.sk-toggleable__label-arrow:before {content: \"▸\";float: left;margin-right: 0.25em;color: #696969;}#sk-container-id-2 label.sk-toggleable__label-arrow:hover:before {color: black;}#sk-container-id-2 div.sk-estimator:hover label.sk-toggleable__label-arrow:before {color: black;}#sk-container-id-2 div.sk-toggleable__content {max-height: 0;max-width: 0;overflow: hidden;text-align: left;background-color: #f0f8ff;}#sk-container-id-2 div.sk-toggleable__content pre {margin: 0.2em;color: black;border-radius: 0.25em;background-color: #f0f8ff;}#sk-container-id-2 input.sk-toggleable__control:checked~div.sk-toggleable__content {max-height: 200px;max-width: 100%;overflow: auto;}#sk-container-id-2 input.sk-toggleable__control:checked~label.sk-toggleable__label-arrow:before {content: \"▾\";}#sk-container-id-2 div.sk-estimator input.sk-toggleable__control:checked~label.sk-toggleable__label {background-color: #d4ebff;}#sk-container-id-2 div.sk-label input.sk-toggleable__control:checked~label.sk-toggleable__label {background-color: #d4ebff;}#sk-container-id-2 input.sk-hidden--visually {border: 0;clip: rect(1px 1px 1px 1px);clip: rect(1px, 1px, 1px, 1px);height: 1px;margin: -1px;overflow: hidden;padding: 0;position: absolute;width: 1px;}#sk-container-id-2 div.sk-estimator {font-family: monospace;background-color: #f0f8ff;border: 1px dotted black;border-radius: 0.25em;box-sizing: border-box;margin-bottom: 0.5em;}#sk-container-id-2 div.sk-estimator:hover {background-color: #d4ebff;}#sk-container-id-2 div.sk-parallel-item::after {content: \"\";width: 100%;border-bottom: 1px solid gray;flex-grow: 1;}#sk-container-id-2 div.sk-label:hover label.sk-toggleable__label {background-color: #d4ebff;}#sk-container-id-2 div.sk-serial::before {content: \"\";position: absolute;border-left: 1px solid gray;box-sizing: border-box;top: 0;bottom: 0;left: 50%;z-index: 0;}#sk-container-id-2 div.sk-serial {display: flex;flex-direction: column;align-items: center;background-color: white;padding-right: 0.2em;padding-left: 0.2em;position: relative;}#sk-container-id-2 div.sk-item {position: relative;z-index: 1;}#sk-container-id-2 div.sk-parallel {display: flex;align-items: stretch;justify-content: center;background-color: white;position: relative;}#sk-container-id-2 div.sk-item::before, #sk-container-id-2 div.sk-parallel-item::before {content: \"\";position: absolute;border-left: 1px solid gray;box-sizing: border-box;top: 0;bottom: 0;left: 50%;z-index: -1;}#sk-container-id-2 div.sk-parallel-item {display: flex;flex-direction: column;z-index: 1;position: relative;background-color: white;}#sk-container-id-2 div.sk-parallel-item:first-child::after {align-self: flex-end;width: 50%;}#sk-container-id-2 div.sk-parallel-item:last-child::after {align-self: flex-start;width: 50%;}#sk-container-id-2 div.sk-parallel-item:only-child::after {width: 0;}#sk-container-id-2 div.sk-dashed-wrapped {border: 1px dashed gray;margin: 0 0.4em 0.5em 0.4em;box-sizing: border-box;padding-bottom: 0.4em;background-color: white;}#sk-container-id-2 div.sk-label label {font-family: monospace;font-weight: bold;display: inline-block;line-height: 1.2em;}#sk-container-id-2 div.sk-label-container {text-align: center;}#sk-container-id-2 div.sk-container {/* jupyter's `normalize.less` sets `[hidden] { display: none; }` but bootstrap.min.css set `[hidden] { display: none !important; }` so we also need the `!important` here to be able to override the default hidden behavior on the sphinx rendered scikit-learn.org. See: https://github.com/scikit-learn/scikit-learn/issues/21755 */display: inline-block !important;position: relative;}#sk-container-id-2 div.sk-text-repr-fallback {display: none;}</style><div id=\"sk-container-id-2\" class=\"sk-top-container\"><div class=\"sk-text-repr-fallback\"><pre>SVC(coef0=0.2, kernel=&#x27;poly&#x27;)</pre><b>In a Jupyter environment, please rerun this cell to show the HTML representation or trust the notebook. <br />On GitHub, the HTML representation is unable to render, please try loading this page with nbviewer.org.</b></div><div class=\"sk-container\" hidden><div class=\"sk-item\"><div class=\"sk-estimator sk-toggleable\"><input class=\"sk-toggleable__control sk-hidden--visually\" id=\"sk-estimator-id-2\" type=\"checkbox\" checked><label for=\"sk-estimator-id-2\" class=\"sk-toggleable__label sk-toggleable__label-arrow\">SVC</label><div class=\"sk-toggleable__content\"><pre>SVC(coef0=0.2, kernel=&#x27;poly&#x27;)</pre></div></div></div></div></div>"
      ],
      "text/plain": [
       "SVC(coef0=0.2, kernel='poly')"
      ]
     },
     "execution_count": 22,
     "metadata": {},
     "output_type": "execute_result"
    }
   ],
   "source": [
    "svc_poly.fit(train_features, train_target)"
   ]
  },
  {
   "cell_type": "code",
   "execution_count": 23,
   "metadata": {
    "scrolled": true
   },
   "outputs": [],
   "source": [
    "#svc_poly.coef_"
   ]
  },
  {
   "cell_type": "code",
   "execution_count": 24,
   "metadata": {},
   "outputs": [
    {
     "data": {
      "text/plain": [
       "array([-1.89660008])"
      ]
     },
     "execution_count": 24,
     "metadata": {},
     "output_type": "execute_result"
    }
   ],
   "source": [
    "svc_poly.intercept_"
   ]
  },
  {
   "cell_type": "code",
   "execution_count": 25,
   "metadata": {},
   "outputs": [
    {
     "data": {
      "text/plain": [
       "array([0, 1, 1, 0, 1, 1, 0, 1, 0, 1, 1, 0, 1, 0, 0, 0, 0, 0, 0, 0, 1, 0,\n",
       "       0, 0, 0, 0, 1, 0, 0, 0, 0, 1, 0, 0, 0, 0, 0, 0, 0, 0, 0, 0, 0, 0,\n",
       "       1, 1, 1, 1, 0, 0, 0, 0, 1, 1, 0, 1, 1, 0, 0, 0, 0, 1, 1, 0, 0, 0,\n",
       "       0, 0, 0, 1, 1, 1, 0, 0, 1, 0, 1, 0, 0, 0, 1, 0, 0, 0, 0, 0, 1, 0,\n",
       "       0, 1, 0, 0, 0, 0, 0, 0, 0, 0, 0, 0, 0, 1, 1, 0, 0, 0, 0, 0, 1, 0,\n",
       "       0, 0, 0, 1, 0, 1, 0, 0, 0, 0, 0, 0, 0, 1, 0, 1, 0, 1, 1, 0, 0, 0,\n",
       "       1, 0, 1, 1, 0, 0, 0, 0, 0, 0, 1, 0, 1])"
      ]
     },
     "execution_count": 25,
     "metadata": {},
     "output_type": "execute_result"
    }
   ],
   "source": [
    "test_predict = svc_poly.predict(test_features)\n",
    "test_predict"
   ]
  },
  {
   "cell_type": "code",
   "execution_count": 26,
   "metadata": {},
   "outputs": [
    {
     "data": {
      "text/plain": [
       "0.9793103448275862"
      ]
     },
     "execution_count": 26,
     "metadata": {},
     "output_type": "execute_result"
    }
   ],
   "source": [
    "svc_poly.score(test_features,test_target)"
   ]
  },
  {
   "cell_type": "code",
   "execution_count": 27,
   "metadata": {},
   "outputs": [],
   "source": [
    "svc_rbf = SVC(kernel=\"rbf\")"
   ]
  },
  {
   "cell_type": "code",
   "execution_count": 28,
   "metadata": {},
   "outputs": [
    {
     "data": {
      "text/html": [
       "<style>#sk-container-id-3 {color: black;background-color: white;}#sk-container-id-3 pre{padding: 0;}#sk-container-id-3 div.sk-toggleable {background-color: white;}#sk-container-id-3 label.sk-toggleable__label {cursor: pointer;display: block;width: 100%;margin-bottom: 0;padding: 0.3em;box-sizing: border-box;text-align: center;}#sk-container-id-3 label.sk-toggleable__label-arrow:before {content: \"▸\";float: left;margin-right: 0.25em;color: #696969;}#sk-container-id-3 label.sk-toggleable__label-arrow:hover:before {color: black;}#sk-container-id-3 div.sk-estimator:hover label.sk-toggleable__label-arrow:before {color: black;}#sk-container-id-3 div.sk-toggleable__content {max-height: 0;max-width: 0;overflow: hidden;text-align: left;background-color: #f0f8ff;}#sk-container-id-3 div.sk-toggleable__content pre {margin: 0.2em;color: black;border-radius: 0.25em;background-color: #f0f8ff;}#sk-container-id-3 input.sk-toggleable__control:checked~div.sk-toggleable__content {max-height: 200px;max-width: 100%;overflow: auto;}#sk-container-id-3 input.sk-toggleable__control:checked~label.sk-toggleable__label-arrow:before {content: \"▾\";}#sk-container-id-3 div.sk-estimator input.sk-toggleable__control:checked~label.sk-toggleable__label {background-color: #d4ebff;}#sk-container-id-3 div.sk-label input.sk-toggleable__control:checked~label.sk-toggleable__label {background-color: #d4ebff;}#sk-container-id-3 input.sk-hidden--visually {border: 0;clip: rect(1px 1px 1px 1px);clip: rect(1px, 1px, 1px, 1px);height: 1px;margin: -1px;overflow: hidden;padding: 0;position: absolute;width: 1px;}#sk-container-id-3 div.sk-estimator {font-family: monospace;background-color: #f0f8ff;border: 1px dotted black;border-radius: 0.25em;box-sizing: border-box;margin-bottom: 0.5em;}#sk-container-id-3 div.sk-estimator:hover {background-color: #d4ebff;}#sk-container-id-3 div.sk-parallel-item::after {content: \"\";width: 100%;border-bottom: 1px solid gray;flex-grow: 1;}#sk-container-id-3 div.sk-label:hover label.sk-toggleable__label {background-color: #d4ebff;}#sk-container-id-3 div.sk-serial::before {content: \"\";position: absolute;border-left: 1px solid gray;box-sizing: border-box;top: 0;bottom: 0;left: 50%;z-index: 0;}#sk-container-id-3 div.sk-serial {display: flex;flex-direction: column;align-items: center;background-color: white;padding-right: 0.2em;padding-left: 0.2em;position: relative;}#sk-container-id-3 div.sk-item {position: relative;z-index: 1;}#sk-container-id-3 div.sk-parallel {display: flex;align-items: stretch;justify-content: center;background-color: white;position: relative;}#sk-container-id-3 div.sk-item::before, #sk-container-id-3 div.sk-parallel-item::before {content: \"\";position: absolute;border-left: 1px solid gray;box-sizing: border-box;top: 0;bottom: 0;left: 50%;z-index: -1;}#sk-container-id-3 div.sk-parallel-item {display: flex;flex-direction: column;z-index: 1;position: relative;background-color: white;}#sk-container-id-3 div.sk-parallel-item:first-child::after {align-self: flex-end;width: 50%;}#sk-container-id-3 div.sk-parallel-item:last-child::after {align-self: flex-start;width: 50%;}#sk-container-id-3 div.sk-parallel-item:only-child::after {width: 0;}#sk-container-id-3 div.sk-dashed-wrapped {border: 1px dashed gray;margin: 0 0.4em 0.5em 0.4em;box-sizing: border-box;padding-bottom: 0.4em;background-color: white;}#sk-container-id-3 div.sk-label label {font-family: monospace;font-weight: bold;display: inline-block;line-height: 1.2em;}#sk-container-id-3 div.sk-label-container {text-align: center;}#sk-container-id-3 div.sk-container {/* jupyter's `normalize.less` sets `[hidden] { display: none; }` but bootstrap.min.css set `[hidden] { display: none !important; }` so we also need the `!important` here to be able to override the default hidden behavior on the sphinx rendered scikit-learn.org. See: https://github.com/scikit-learn/scikit-learn/issues/21755 */display: inline-block !important;position: relative;}#sk-container-id-3 div.sk-text-repr-fallback {display: none;}</style><div id=\"sk-container-id-3\" class=\"sk-top-container\"><div class=\"sk-text-repr-fallback\"><pre>SVC()</pre><b>In a Jupyter environment, please rerun this cell to show the HTML representation or trust the notebook. <br />On GitHub, the HTML representation is unable to render, please try loading this page with nbviewer.org.</b></div><div class=\"sk-container\" hidden><div class=\"sk-item\"><div class=\"sk-estimator sk-toggleable\"><input class=\"sk-toggleable__control sk-hidden--visually\" id=\"sk-estimator-id-3\" type=\"checkbox\" checked><label for=\"sk-estimator-id-3\" class=\"sk-toggleable__label sk-toggleable__label-arrow\">SVC</label><div class=\"sk-toggleable__content\"><pre>SVC()</pre></div></div></div></div></div>"
      ],
      "text/plain": [
       "SVC()"
      ]
     },
     "execution_count": 28,
     "metadata": {},
     "output_type": "execute_result"
    }
   ],
   "source": [
    "svc_rbf.fit(train_features, train_target)"
   ]
  },
  {
   "cell_type": "code",
   "execution_count": 29,
   "metadata": {},
   "outputs": [],
   "source": [
    "#svc_rbf.coef_"
   ]
  },
  {
   "cell_type": "code",
   "execution_count": 30,
   "metadata": {},
   "outputs": [
    {
     "data": {
      "text/plain": [
       "array([0.55493245])"
      ]
     },
     "execution_count": 30,
     "metadata": {},
     "output_type": "execute_result"
    }
   ],
   "source": [
    "svc_rbf.intercept_"
   ]
  },
  {
   "cell_type": "code",
   "execution_count": 31,
   "metadata": {},
   "outputs": [
    {
     "data": {
      "text/plain": [
       "array([0, 1, 1, 0, 1, 1, 0, 1, 0, 1, 1, 0, 1, 0, 0, 0, 0, 0, 0, 0, 1, 0,\n",
       "       0, 0, 0, 0, 1, 0, 0, 0, 0, 1, 1, 0, 0, 0, 0, 0, 0, 0, 0, 0, 0, 0,\n",
       "       1, 1, 1, 1, 0, 0, 0, 0, 1, 1, 0, 1, 1, 0, 0, 0, 0, 1, 1, 0, 0, 0,\n",
       "       0, 0, 0, 1, 1, 1, 0, 0, 1, 1, 1, 0, 0, 0, 1, 0, 0, 0, 0, 0, 1, 0,\n",
       "       0, 1, 0, 0, 0, 0, 0, 0, 0, 0, 0, 0, 0, 1, 1, 0, 0, 0, 0, 0, 1, 0,\n",
       "       0, 0, 0, 1, 0, 1, 0, 0, 0, 0, 0, 0, 0, 1, 0, 1, 0, 1, 1, 0, 0, 0,\n",
       "       1, 0, 1, 1, 0, 0, 0, 0, 0, 0, 1, 0, 1])"
      ]
     },
     "execution_count": 31,
     "metadata": {},
     "output_type": "execute_result"
    }
   ],
   "source": [
    "test_predict = svc_rbf.predict(test_features)\n",
    "test_predict"
   ]
  },
  {
   "cell_type": "code",
   "execution_count": 32,
   "metadata": {},
   "outputs": [
    {
     "data": {
      "text/plain": [
       "0.993103448275862"
      ]
     },
     "execution_count": 32,
     "metadata": {},
     "output_type": "execute_result"
    }
   ],
   "source": [
    "svc_rbf.score(test_features,test_target)"
   ]
  },
  {
   "cell_type": "markdown",
   "metadata": {},
   "source": [
    "# 五、查看模型效能"
   ]
  },
  {
   "cell_type": "code",
   "execution_count": 33,
   "metadata": {},
   "outputs": [],
   "source": [
    "from sklearn.metrics import confusion_matrix, roc_curve,accuracy_score"
   ]
  },
  {
   "cell_type": "code",
   "execution_count": 34,
   "metadata": {},
   "outputs": [
    {
     "data": {
      "text/plain": [
       "0.993103448275862"
      ]
     },
     "execution_count": 34,
     "metadata": {},
     "output_type": "execute_result"
    }
   ],
   "source": [
    "accuracy_score(test_target,test_predict)"
   ]
  },
  {
   "cell_type": "code",
   "execution_count": 35,
   "metadata": {},
   "outputs": [
    {
     "data": {
      "text/plain": [
       "array([[100,   1],\n",
       "       [  0,  44]])"
      ]
     },
     "execution_count": 35,
     "metadata": {},
     "output_type": "execute_result"
    }
   ],
   "source": [
    "confusion_matrix(test_target,test_predict)"
   ]
  },
  {
   "cell_type": "code",
   "execution_count": 36,
   "metadata": {},
   "outputs": [],
   "source": [
    "import seaborn as sns"
   ]
  },
  {
   "cell_type": "code",
   "execution_count": 37,
   "metadata": {},
   "outputs": [
    {
     "data": {
      "text/plain": [
       "<Axes: >"
      ]
     },
     "execution_count": 37,
     "metadata": {},
     "output_type": "execute_result"
    },
    {
     "data": {
      "image/png": "[encoded data removed]",
      "text/plain": [
       "<Figure size 640x480 with 2 Axes>"
      ]
     },
     "metadata": {},
     "output_type": "display_data"
    }
   ],
   "source": [
    "sns.heatmap(confusion_matrix(test_target,test_predict),\n",
    "           xticklabels=['B','M'],\n",
    "           yticklabels=['B','M'])"
   ]
  },
  {
   "cell_type": "code",
   "execution_count": 38,
   "metadata": {},
   "outputs": [],
   "source": [
    "y_score = svc_rbf.decision_function(test_features)"
   ]
  },
  {
   "cell_type": "code",
   "execution_count": 39,
   "metadata": {},
   "outputs": [],
   "source": [
    "fpr, tpr, thresholds = roc_curve(test_target, y_score)"
   ]
  },
  {
   "cell_type": "code",
   "execution_count": 40,
   "metadata": {
    "scrolled": true
   },
   "outputs": [
    {
     "data": {
      "image/png": "[encoded data removed]",
      "text/plain": [
       "<Figure size 640x480 with 1 Axes>"
      ]
     },
     "metadata": {},
     "output_type": "display_data"
    }
   ],
   "source": [
    "import matplotlib.pyplot as plt\n",
    "plt.figure()\n",
    "plt.plot(fpr, tpr)\n",
    "plt.xlabel('False Positive Rate')\n",
    "plt.ylabel('True Positive Rate')\n",
    "plt.title('ROC curve')\n",
    "plt.show()"
   ]
  },
  {
   "cell_type": "code",
   "execution_count": 41,
   "metadata": {},
   "outputs": [],
   "source": [
    "from sklearn.metrics import plot_confusion_matrix, plot_roc_curve, plot_precision_recall_curve"
   ]
  },
  {
   "cell_type": "code",
   "execution_count": 42,
   "metadata": {},
   "outputs": [
    {
     "name": "stderr",
     "output_type": "stream",
     "text": [
      "/root/anaconda3/lib/python3.11/site-packages/sklearn/utils/deprecation.py:87: FutureWarning: Function plot_confusion_matrix is deprecated; Function `plot_confusion_matrix` is deprecated in 1.0 and will be removed in 1.2. Use one of the class methods: ConfusionMatrixDisplay.from_predictions or ConfusionMatrixDisplay.from_estimator.\n",
      "  warnings.warn(msg, category=FutureWarning)\n"
     ]
    },
    {
     "data": {
      "text/plain": [
       "<sklearn.metrics._plot.confusion_matrix.ConfusionMatrixDisplay at 0x7f0aee5f8590>"
      ]
     },
     "execution_count": 42,
     "metadata": {},
     "output_type": "execute_result"
    },
    {
     "data": {
      "image/png": "[encoded data removed]",
      "text/plain": [
       "<Figure size 640x480 with 2 Axes>"
      ]
     },
     "metadata": {},
     "output_type": "display_data"
    }
   ],
   "source": [
    "plot_confusion_matrix(svc_rbf, test_features, test_target)"
   ]
  },
  {
   "cell_type": "code",
   "execution_count": 43,
   "metadata": {},
   "outputs": [
    {
     "name": "stderr",
     "output_type": "stream",
     "text": [
      "/root/anaconda3/lib/python3.11/site-packages/sklearn/utils/deprecation.py:87: FutureWarning: Function plot_roc_curve is deprecated; Function :func:`plot_roc_curve` is deprecated in 1.0 and will be removed in 1.2. Use one of the class methods: :meth:`sklearn.metrics.RocCurveDisplay.from_predictions` or :meth:`sklearn.metrics.RocCurveDisplay.from_estimator`.\n",
      "  warnings.warn(msg, category=FutureWarning)\n"
     ]
    },
    {
     "data": {
      "text/plain": [
       "<sklearn.metrics._plot.roc_curve.RocCurveDisplay at 0x7f0aedab8ed0>"
      ]
     },
     "execution_count": 43,
     "metadata": {},
     "output_type": "execute_result"
    },
    {
     "data": {
      "image/png": "[encoded data removed]",
      "text/plain": [
       "<Figure size 640x480 with 1 Axes>"
      ]
     },
     "metadata": {},
     "output_type": "display_data"
    }
   ],
   "source": [
    "plot_roc_curve(svc_rbf, test_features, test_target)"
   ]
  },
  {
   "cell_type": "code",
   "execution_count": 44,
   "metadata": {},
   "outputs": [
    {
     "name": "stderr",
     "output_type": "stream",
     "text": [
      "/root/anaconda3/lib/python3.11/site-packages/sklearn/utils/deprecation.py:87: FutureWarning: Function plot_precision_recall_curve is deprecated; Function `plot_precision_recall_curve` is deprecated in 1.0 and will be removed in 1.2. Use one of the class methods: PrecisionRecallDisplay.from_predictions or PrecisionRecallDisplay.from_estimator.\n",
      "  warnings.warn(msg, category=FutureWarning)\n"
     ]
    },
    {
     "data": {
      "text/plain": [
       "<sklearn.metrics._plot.precision_recall_curve.PrecisionRecallDisplay at 0x7f0aeda92750>"
      ]
     },
     "execution_count": 44,
     "metadata": {},
     "output_type": "execute_result"
    },
    {
     "data": {
      "image/png": "[encoded data removed]",
      "text/plain": [
       "<Figure size 640x480 with 1 Axes>"
      ]
     },
     "metadata": {},
     "output_type": "display_data"
    }
   ],
   "source": [
    "plot_precision_recall_curve(svc_rbf, test_features, test_target)"
   ]
  },
  {
   "cell_type": "markdown",
   "metadata": {},
   "source": [
    "# 六、知识拓展"
   ]
  },
  {
   "cell_type": "code",
   "execution_count": 45,
   "metadata": {},
   "outputs": [],
   "source": [
    "Cs = np.logspace(-3,2,200)"
   ]
  },
  {
   "cell_type": "code",
   "execution_count": 46,
   "metadata": {},
   "outputs": [],
   "source": [
    "acc_=[]\n",
    "for C_ in Cs:\n",
    "    svc_rbf = SVC(kernel=\"rbf\",C=C_)\n",
    "    svc_rbf.fit(train_features, train_target)\n",
    "    acc_.append(svc_rbf.score(test_features, test_target))"
   ]
  },
  {
   "cell_type": "code",
   "execution_count": 47,
   "metadata": {},
   "outputs": [
    {
     "data": {
      "text/plain": [
       "[0.696551724137931,\n",
       " 0.696551724137931,\n",
       " 0.696551724137931,\n",
       " 0.696551724137931,\n",
       " 0.696551724137931,\n",
       " 0.696551724137931,\n",
       " 0.696551724137931,\n",
       " 0.696551724137931,\n",
       " 0.696551724137931,\n",
       " 0.696551724137931,\n",
       " 0.696551724137931,\n",
       " 0.696551724137931,\n",
       " 0.696551724137931,\n",
       " 0.696551724137931,\n",
       " 0.696551724137931,\n",
       " 0.696551724137931,\n",
       " 0.696551724137931,\n",
       " 0.696551724137931,\n",
       " 0.696551724137931,\n",
       " 0.696551724137931,\n",
       " 0.696551724137931,\n",
       " 0.696551724137931,\n",
       " 0.696551724137931,\n",
       " 0.696551724137931,\n",
       " 0.696551724137931,\n",
       " 0.696551724137931,\n",
       " 0.696551724137931,\n",
       " 0.696551724137931,\n",
       " 0.7034482758620689,\n",
       " 0.7517241379310344,\n",
       " 0.8344827586206897,\n",
       " 0.896551724137931,\n",
       " 0.9241379310344827,\n",
       " 0.9586206896551724,\n",
       " 0.9724137931034482,\n",
       " 0.9724137931034482,\n",
       " 0.9724137931034482,\n",
       " 0.9862068965517241,\n",
       " 0.9862068965517241,\n",
       " 0.993103448275862,\n",
       " 0.993103448275862,\n",
       " 0.993103448275862,\n",
       " 0.993103448275862,\n",
       " 0.9862068965517241,\n",
       " 0.9862068965517241,\n",
       " 0.9793103448275862,\n",
       " 0.9793103448275862,\n",
       " 0.9862068965517241,\n",
       " 0.9862068965517241,\n",
       " 0.9862068965517241,\n",
       " 0.9862068965517241,\n",
       " 0.9862068965517241,\n",
       " 0.9862068965517241,\n",
       " 0.9862068965517241,\n",
       " 0.9862068965517241,\n",
       " 0.9862068965517241,\n",
       " 0.9862068965517241,\n",
       " 0.9862068965517241,\n",
       " 0.9862068965517241,\n",
       " 0.9862068965517241,\n",
       " 0.9862068965517241,\n",
       " 0.9862068965517241,\n",
       " 0.9862068965517241,\n",
       " 0.9862068965517241,\n",
       " 0.9862068965517241,\n",
       " 0.9862068965517241,\n",
       " 0.9862068965517241,\n",
       " 0.9862068965517241,\n",
       " 0.9862068965517241,\n",
       " 0.9862068965517241,\n",
       " 0.9862068965517241,\n",
       " 0.9862068965517241,\n",
       " 0.9862068965517241,\n",
       " 0.9862068965517241,\n",
       " 0.9862068965517241,\n",
       " 0.9862068965517241,\n",
       " 0.9862068965517241,\n",
       " 0.9862068965517241,\n",
       " 0.9862068965517241,\n",
       " 0.9862068965517241,\n",
       " 0.9862068965517241,\n",
       " 0.9862068965517241,\n",
       " 0.9862068965517241,\n",
       " 0.9862068965517241,\n",
       " 0.9862068965517241,\n",
       " 0.9862068965517241,\n",
       " 0.9862068965517241,\n",
       " 0.9862068965517241,\n",
       " 0.9862068965517241,\n",
       " 0.9862068965517241,\n",
       " 0.9862068965517241,\n",
       " 0.993103448275862,\n",
       " 0.993103448275862,\n",
       " 0.993103448275862,\n",
       " 0.993103448275862,\n",
       " 0.993103448275862,\n",
       " 0.993103448275862,\n",
       " 0.993103448275862,\n",
       " 0.993103448275862,\n",
       " 0.993103448275862,\n",
       " 0.993103448275862,\n",
       " 0.993103448275862,\n",
       " 0.993103448275862,\n",
       " 0.993103448275862,\n",
       " 0.993103448275862,\n",
       " 0.993103448275862,\n",
       " 0.993103448275862,\n",
       " 0.993103448275862,\n",
       " 0.993103448275862,\n",
       " 0.993103448275862,\n",
       " 0.993103448275862,\n",
       " 0.993103448275862,\n",
       " 0.993103448275862,\n",
       " 0.993103448275862,\n",
       " 0.993103448275862,\n",
       " 0.993103448275862,\n",
       " 0.993103448275862,\n",
       " 0.993103448275862,\n",
       " 0.993103448275862,\n",
       " 0.993103448275862,\n",
       " 0.993103448275862,\n",
       " 0.993103448275862,\n",
       " 0.9862068965517241,\n",
       " 0.9862068965517241,\n",
       " 0.9862068965517241,\n",
       " 0.9862068965517241,\n",
       " 0.9862068965517241,\n",
       " 0.9862068965517241,\n",
       " 0.9793103448275862,\n",
       " 0.9793103448275862,\n",
       " 0.9793103448275862,\n",
       " 0.9793103448275862,\n",
       " 0.9793103448275862,\n",
       " 0.9793103448275862,\n",
       " 0.993103448275862,\n",
       " 0.993103448275862,\n",
       " 0.993103448275862,\n",
       " 0.993103448275862,\n",
       " 0.993103448275862,\n",
       " 0.993103448275862,\n",
       " 0.993103448275862,\n",
       " 0.993103448275862,\n",
       " 0.9862068965517241,\n",
       " 0.9793103448275862,\n",
       " 0.9793103448275862,\n",
       " 0.9793103448275862,\n",
       " 0.9724137931034482,\n",
       " 0.9724137931034482,\n",
       " 0.9655172413793104,\n",
       " 0.9655172413793104,\n",
       " 0.9655172413793104,\n",
       " 0.9586206896551724,\n",
       " 0.9586206896551724,\n",
       " 0.9586206896551724,\n",
       " 0.9586206896551724,\n",
       " 0.9586206896551724,\n",
       " 0.9517241379310345,\n",
       " 0.9517241379310345,\n",
       " 0.9517241379310345,\n",
       " 0.9517241379310345,\n",
       " 0.9517241379310345,\n",
       " 0.9586206896551724,\n",
       " 0.9586206896551724,\n",
       " 0.9586206896551724,\n",
       " 0.9517241379310345,\n",
       " 0.9517241379310345,\n",
       " 0.9517241379310345,\n",
       " 0.9448275862068966,\n",
       " 0.9448275862068966,\n",
       " 0.9448275862068966,\n",
       " 0.9448275862068966,\n",
       " 0.9448275862068966,\n",
       " 0.9448275862068966,\n",
       " 0.9448275862068966,\n",
       " 0.9448275862068966,\n",
       " 0.9448275862068966,\n",
       " 0.9448275862068966,\n",
       " 0.9517241379310345,\n",
       " 0.9517241379310345,\n",
       " 0.9517241379310345,\n",
       " 0.9517241379310345,\n",
       " 0.9517241379310345,\n",
       " 0.9517241379310345,\n",
       " 0.9517241379310345,\n",
       " 0.9517241379310345,\n",
       " 0.9517241379310345,\n",
       " 0.9517241379310345,\n",
       " 0.9517241379310345,\n",
       " 0.9517241379310345,\n",
       " 0.9517241379310345,\n",
       " 0.9517241379310345,\n",
       " 0.9517241379310345,\n",
       " 0.9517241379310345,\n",
       " 0.9448275862068966,\n",
       " 0.9448275862068966,\n",
       " 0.9517241379310345,\n",
       " 0.9517241379310345,\n",
       " 0.9517241379310345,\n",
       " 0.9448275862068966,\n",
       " 0.9379310344827586]"
      ]
     },
     "execution_count": 47,
     "metadata": {},
     "output_type": "execute_result"
    }
   ],
   "source": [
    "acc_"
   ]
  },
  {
   "cell_type": "code",
   "execution_count": 48,
   "metadata": {},
   "outputs": [
    {
     "data": {
      "text/plain": [
       "200"
      ]
     },
     "execution_count": 48,
     "metadata": {},
     "output_type": "execute_result"
    }
   ],
   "source": [
    "len(acc_)"
   ]
  },
  {
   "cell_type": "code",
   "execution_count": 49,
   "metadata": {
    "scrolled": true
   },
   "outputs": [
    {
     "data": {
      "image/png": "[encoded data removed]",
      "text/plain": [
       "<Figure size 640x480 with 1 Axes>"
      ]
     },
     "metadata": {},
     "output_type": "display_data"
    }
   ],
   "source": [
    "plt.plot(Cs, acc_)\n",
    "plt.xscale('log')\n",
    "plt.xlabel('C')\n",
    "plt.ylabel('acc')\n",
    "plt.show()"
   ]
  },
  {
   "cell_type": "code",
   "execution_count": 50,
   "metadata": {},
   "outputs": [],
   "source": [
    "from sklearn.metrics import auc"
   ]
  },
  {
   "cell_type": "code",
   "execution_count": 51,
   "metadata": {},
   "outputs": [],
   "source": [
    "Cs = np.logspace(-3,2,200)\n",
    "aucs_=[]\n",
    "for C_ in Cs:\n",
    "    svc_rbf = SVC(kernel=\"rbf\",C=C_)\n",
    "    svc_rbf.fit(train_features, train_target)\n",
    "    y_score = svc_rbf.decision_function(test_features)\n",
    "    fpr, tpr, thresholds = roc_curve(test_target, y_score)\n",
    "    auc_ = auc(fpr, tpr)\n",
    "    aucs_.append(auc_)"
   ]
  },
  {
   "cell_type": "code",
   "execution_count": 52,
   "metadata": {},
   "outputs": [
    {
     "data": {
      "text/plain": [
       "[0.9995499549954995,\n",
       " 0.9995499549954995,\n",
       " 0.9995499549954995,\n",
       " 0.9995499549954995,\n",
       " 0.9995499549954995,\n",
       " 0.9995499549954995,\n",
       " 0.9995499549954995,\n",
       " 0.9995499549954995,\n",
       " 0.9995499549954995,\n",
       " 0.9995499549954995,\n",
       " 0.9995499549954995,\n",
       " 0.9995499549954995,\n",
       " 0.9995499549954995,\n",
       " 0.9995499549954995,\n",
       " 0.9995499549954995,\n",
       " 0.9995499549954995,\n",
       " 0.9995499549954995,\n",
       " 0.9995499549954995,\n",
       " 0.9995499549954995,\n",
       " 0.9995499549954995,\n",
       " 0.9995499549954995,\n",
       " 0.9995499549954995,\n",
       " 0.9995499549954995,\n",
       " 0.9995499549954995,\n",
       " 0.9995499549954995,\n",
       " 0.9995499549954995,\n",
       " 0.9995499549954995,\n",
       " 0.9995499549954995,\n",
       " 0.9995499549954995,\n",
       " 0.9995499549954995,\n",
       " 0.9995499549954995,\n",
       " 0.9995499549954995,\n",
       " 0.9995499549954995,\n",
       " 0.9995499549954995,\n",
       " 0.9995499549954995,\n",
       " 0.9995499549954995,\n",
       " 0.9995499549954995,\n",
       " 0.9995499549954995,\n",
       " 0.9995499549954995,\n",
       " 0.9995499549954995,\n",
       " 0.9995499549954995,\n",
       " 0.9995499549954996,\n",
       " 0.9995499549954996,\n",
       " 0.9995499549954996,\n",
       " 0.9995499549954996,\n",
       " 0.9995499549954996,\n",
       " 0.9995499549954996,\n",
       " 0.9995499549954996,\n",
       " 0.9995499549954995,\n",
       " 0.9995499549954995,\n",
       " 0.9995499549954995,\n",
       " 0.9995499549954997,\n",
       " 0.9995499549954997,\n",
       " 0.9995499549954997,\n",
       " 0.9995499549954995,\n",
       " 0.9997749774977498,\n",
       " 0.9995499549954996,\n",
       " 0.9995499549954996,\n",
       " 0.9995499549954996,\n",
       " 0.9995499549954996,\n",
       " 0.9995499549954996,\n",
       " 0.9997749774977497,\n",
       " 0.9997749774977498,\n",
       " 0.9997749774977497,\n",
       " 0.9997749774977497,\n",
       " 0.9997749774977497,\n",
       " 1.0,\n",
       " 1.0,\n",
       " 1.0,\n",
       " 0.9997749774977498,\n",
       " 0.9997749774977497,\n",
       " 0.9997749774977498,\n",
       " 0.9997749774977498,\n",
       " 0.9997749774977497,\n",
       " 0.9997749774977498,\n",
       " 0.9997749774977498,\n",
       " 0.9997749774977498,\n",
       " 0.9997749774977498,\n",
       " 0.9997749774977498,\n",
       " 0.9997749774977498,\n",
       " 1.0,\n",
       " 1.0,\n",
       " 1.0,\n",
       " 0.9997749774977497,\n",
       " 0.9997749774977497,\n",
       " 0.9997749774977497,\n",
       " 0.9997749774977498,\n",
       " 0.9997749774977498,\n",
       " 0.9997749774977497,\n",
       " 0.9997749774977497,\n",
       " 0.9997749774977497,\n",
       " 0.9997749774977497,\n",
       " 0.9997749774977497,\n",
       " 0.9997749774977497,\n",
       " 0.9997749774977497,\n",
       " 0.9997749774977498,\n",
       " 0.9997749774977498,\n",
       " 0.9997749774977498,\n",
       " 0.9997749774977498,\n",
       " 0.9997749774977498,\n",
       " 0.9997749774977498,\n",
       " 0.9997749774977498,\n",
       " 0.9997749774977498,\n",
       " 0.9997749774977498,\n",
       " 0.9997749774977498,\n",
       " 0.9997749774977498,\n",
       " 0.9997749774977498,\n",
       " 0.9997749774977498,\n",
       " 0.9997749774977498,\n",
       " 0.9997749774977498,\n",
       " 0.9997749774977498,\n",
       " 0.9997749774977498,\n",
       " 0.9997749774977498,\n",
       " 0.9995499549954995,\n",
       " 0.9995499549954995,\n",
       " 0.9995499549954995,\n",
       " 0.9995499549954995,\n",
       " 0.9995499549954995,\n",
       " 0.9995499549954995,\n",
       " 0.9995499549954995,\n",
       " 0.9993249324932493,\n",
       " 0.9990999099909991,\n",
       " 0.9990999099909991,\n",
       " 0.9990999099909991,\n",
       " 0.9990999099909992,\n",
       " 0.9990999099909992,\n",
       " 0.9990999099909991,\n",
       " 0.9990999099909991,\n",
       " 0.9990999099909991,\n",
       " 0.9990999099909991,\n",
       " 0.9990999099909991,\n",
       " 0.9990999099909991,\n",
       " 0.9990999099909991,\n",
       " 0.9990999099909992,\n",
       " 0.9990999099909992,\n",
       " 0.9990999099909992,\n",
       " 0.9990999099909992,\n",
       " 0.9990999099909991,\n",
       " 0.9993249324932493,\n",
       " 0.9993249324932493,\n",
       " 0.9993249324932493,\n",
       " 0.9993249324932494,\n",
       " 0.9990999099909992,\n",
       " 0.9988748874887489,\n",
       " 0.9986498649864987,\n",
       " 0.9984248424842483,\n",
       " 0.9979747974797479,\n",
       " 0.9970747074707471,\n",
       " 0.9966246624662467,\n",
       " 0.9966246624662466,\n",
       " 0.9963996399639964,\n",
       " 0.9961746174617462,\n",
       " 0.9961746174617462,\n",
       " 0.9957245724572457,\n",
       " 0.9952745274527454,\n",
       " 0.9952745274527454,\n",
       " 0.9948244824482448,\n",
       " 0.9945994599459946,\n",
       " 0.9945994599459946,\n",
       " 0.9943744374437444,\n",
       " 0.9943744374437443,\n",
       " 0.9934743474347434,\n",
       " 0.9925742574257426,\n",
       " 0.9925742574257426,\n",
       " 0.9923492349234924,\n",
       " 0.9923492349234924,\n",
       " 0.9925742574257426,\n",
       " 0.9927992799279928,\n",
       " 0.9925742574257426,\n",
       " 0.9925742574257426,\n",
       " 0.9923492349234923,\n",
       " 0.992124212421242,\n",
       " 0.992124212421242,\n",
       " 0.992124212421242,\n",
       " 0.9923492349234923,\n",
       " 0.992124212421242,\n",
       " 0.9918991899189918,\n",
       " 0.9918991899189918,\n",
       " 0.9912241224122412,\n",
       " 0.9907740774077408,\n",
       " 0.9907740774077408,\n",
       " 0.9907740774077408,\n",
       " 0.9905490549054906,\n",
       " 0.9900990099009901,\n",
       " 0.9898739873987399,\n",
       " 0.9898739873987399,\n",
       " 0.9898739873987399,\n",
       " 0.9900990099009901,\n",
       " 0.9900990099009901,\n",
       " 0.9900990099009901,\n",
       " 0.9903240324032403,\n",
       " 0.9903240324032403,\n",
       " 0.9900990099009901,\n",
       " 0.9898739873987399,\n",
       " 0.9898739873987399,\n",
       " 0.9894239423942395,\n",
       " 0.9896489648964897,\n",
       " 0.9896489648964897,\n",
       " 0.9891989198919892,\n",
       " 0.9891989198919893]"
      ]
     },
     "execution_count": 52,
     "metadata": {},
     "output_type": "execute_result"
    }
   ],
   "source": [
    "aucs_"
   ]
  },
  {
   "cell_type": "code",
   "execution_count": 53,
   "metadata": {},
   "outputs": [
    {
     "data": {
      "text/plain": [
       "200"
      ]
     },
     "execution_count": 53,
     "metadata": {},
     "output_type": "execute_result"
    }
   ],
   "source": [
    "len(aucs_)"
   ]
  },
  {
   "cell_type": "code",
   "execution_count": 54,
   "metadata": {},
   "outputs": [
    {
     "data": {
      "image/png": "[encoded data removed]",
      "text/plain": [
       "<Figure size 640x480 with 1 Axes>"
      ]
     },
     "metadata": {},
     "output_type": "display_data"
    }
   ],
   "source": [
    "plt.plot(Cs, aucs_)\n",
    "plt.xscale('log')\n",
    "plt.xlabel('C')\n",
    "plt.ylabel('auc')\n",
    "plt.show()"
   ]
  },
  {
   "cell_type": "code",
   "execution_count": null,
   "metadata": {},
   "outputs": [],
   "source": []
  }
 ],
 "metadata": {
  "kernelspec": {
   "display_name": "Python 3 (ipykernel)",
   "language": "python",
   "name": "python3"
  },
  "language_info": {
   "codemirror_mode": {
    "name": "ipython",
    "version": 3
   },
   "file_extension": ".py",
   "mimetype": "text/x-python",
   "name": "python",
   "nbconvert_exporter": "python",
   "pygments_lexer": "ipython3",
   "version": "3.11.7"
  }
 },
 "nbformat": 4,
 "nbformat_minor": 4
}
