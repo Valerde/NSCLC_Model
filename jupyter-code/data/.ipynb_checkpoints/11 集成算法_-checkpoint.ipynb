{
 "cells": [
  {
   "cell_type": "markdown",
   "metadata": {},
   "source": [
    "# 一、导入数据"
   ]
  },
  {
   "cell_type": "code",
   "execution_count": 1,
   "metadata": {},
   "outputs": [],
   "source": [
    "import numpy as np\n",
    "import pandas as pd"
   ]
  },
  {
   "cell_type": "code",
   "execution_count": 2,
   "metadata": {},
   "outputs": [],
   "source": [
    "data = pd.read_excel(\"input/data_.xlsx\",index_col=0)"
   ]
  },
  {
   "cell_type": "code",
   "execution_count": 3,
   "metadata": {},
   "outputs": [
    {
     "data": {
      "text/html": [
       "<div>\n",
       "<style scoped>\n",
       "    .dataframe tbody tr th:only-of-type {\n",
       "        vertical-align: middle;\n",
       "    }\n",
       "\n",
       "    .dataframe tbody tr th {\n",
       "        vertical-align: top;\n",
       "    }\n",
       "\n",
       "    .dataframe thead th {\n",
       "        text-align: right;\n",
       "    }\n",
       "</style>\n",
       "<table border=\"1\" class=\"dataframe\">\n",
       "  <thead>\n",
       "    <tr style=\"text-align: right;\">\n",
       "      <th></th>\n",
       "      <th>Clump Thickness</th>\n",
       "      <th>Uniformity of Cell Size</th>\n",
       "      <th>Uniformity of Cell Shape</th>\n",
       "      <th>Marginal Adhesion</th>\n",
       "      <th>Single Epithelial Cell Size</th>\n",
       "      <th>Bare Nuclei</th>\n",
       "      <th>Bland Chromatin</th>\n",
       "      <th>Normal Nucleoli</th>\n",
       "      <th>Mitoses</th>\n",
       "      <th>Class</th>\n",
       "      <th>Thickness_classnum</th>\n",
       "      <th>Cell Size _small</th>\n",
       "      <th>Cell Size _medium</th>\n",
       "      <th>Cell Size _big</th>\n",
       "      <th>Thickness_class</th>\n",
       "      <th>Cell Size</th>\n",
       "    </tr>\n",
       "    <tr>\n",
       "      <th>ID</th>\n",
       "      <th></th>\n",
       "      <th></th>\n",
       "      <th></th>\n",
       "      <th></th>\n",
       "      <th></th>\n",
       "      <th></th>\n",
       "      <th></th>\n",
       "      <th></th>\n",
       "      <th></th>\n",
       "      <th></th>\n",
       "      <th></th>\n",
       "      <th></th>\n",
       "      <th></th>\n",
       "      <th></th>\n",
       "      <th></th>\n",
       "      <th></th>\n",
       "    </tr>\n",
       "  </thead>\n",
       "  <tbody>\n",
       "    <tr>\n",
       "      <th>1275807</th>\n",
       "      <td>4</td>\n",
       "      <td>2</td>\n",
       "      <td>4</td>\n",
       "      <td>3</td>\n",
       "      <td>2</td>\n",
       "      <td>2</td>\n",
       "      <td>2</td>\n",
       "      <td>1</td>\n",
       "      <td>1</td>\n",
       "      <td>2</td>\n",
       "      <td>2</td>\n",
       "      <td>1</td>\n",
       "      <td>0</td>\n",
       "      <td>0</td>\n",
       "      <td>medium</td>\n",
       "      <td>small</td>\n",
       "    </tr>\n",
       "    <tr>\n",
       "      <th>1193683</th>\n",
       "      <td>1</td>\n",
       "      <td>1</td>\n",
       "      <td>2</td>\n",
       "      <td>1</td>\n",
       "      <td>3</td>\n",
       "      <td>1</td>\n",
       "      <td>1</td>\n",
       "      <td>1</td>\n",
       "      <td>1</td>\n",
       "      <td>2</td>\n",
       "      <td>1</td>\n",
       "      <td>1</td>\n",
       "      <td>0</td>\n",
       "      <td>0</td>\n",
       "      <td>thin</td>\n",
       "      <td>small</td>\n",
       "    </tr>\n",
       "    <tr>\n",
       "      <th>1170419</th>\n",
       "      <td>10</td>\n",
       "      <td>10</td>\n",
       "      <td>10</td>\n",
       "      <td>8</td>\n",
       "      <td>2</td>\n",
       "      <td>10</td>\n",
       "      <td>4</td>\n",
       "      <td>1</td>\n",
       "      <td>1</td>\n",
       "      <td>4</td>\n",
       "      <td>3</td>\n",
       "      <td>0</td>\n",
       "      <td>0</td>\n",
       "      <td>1</td>\n",
       "      <td>thick</td>\n",
       "      <td>big</td>\n",
       "    </tr>\n",
       "    <tr>\n",
       "      <th>1190386</th>\n",
       "      <td>4</td>\n",
       "      <td>6</td>\n",
       "      <td>6</td>\n",
       "      <td>5</td>\n",
       "      <td>7</td>\n",
       "      <td>6</td>\n",
       "      <td>7</td>\n",
       "      <td>7</td>\n",
       "      <td>3</td>\n",
       "      <td>4</td>\n",
       "      <td>2</td>\n",
       "      <td>0</td>\n",
       "      <td>1</td>\n",
       "      <td>0</td>\n",
       "      <td>medium</td>\n",
       "      <td>medium</td>\n",
       "    </tr>\n",
       "    <tr>\n",
       "      <th>1202125</th>\n",
       "      <td>4</td>\n",
       "      <td>1</td>\n",
       "      <td>1</td>\n",
       "      <td>1</td>\n",
       "      <td>2</td>\n",
       "      <td>1</td>\n",
       "      <td>3</td>\n",
       "      <td>1</td>\n",
       "      <td>1</td>\n",
       "      <td>2</td>\n",
       "      <td>2</td>\n",
       "      <td>1</td>\n",
       "      <td>0</td>\n",
       "      <td>0</td>\n",
       "      <td>medium</td>\n",
       "      <td>small</td>\n",
       "    </tr>\n",
       "    <tr>\n",
       "      <th>...</th>\n",
       "      <td>...</td>\n",
       "      <td>...</td>\n",
       "      <td>...</td>\n",
       "      <td>...</td>\n",
       "      <td>...</td>\n",
       "      <td>...</td>\n",
       "      <td>...</td>\n",
       "      <td>...</td>\n",
       "      <td>...</td>\n",
       "      <td>...</td>\n",
       "      <td>...</td>\n",
       "      <td>...</td>\n",
       "      <td>...</td>\n",
       "      <td>...</td>\n",
       "      <td>...</td>\n",
       "      <td>...</td>\n",
       "    </tr>\n",
       "    <tr>\n",
       "      <th>493452</th>\n",
       "      <td>1</td>\n",
       "      <td>1</td>\n",
       "      <td>3</td>\n",
       "      <td>1</td>\n",
       "      <td>2</td>\n",
       "      <td>1</td>\n",
       "      <td>1</td>\n",
       "      <td>1</td>\n",
       "      <td>1</td>\n",
       "      <td>2</td>\n",
       "      <td>1</td>\n",
       "      <td>1</td>\n",
       "      <td>0</td>\n",
       "      <td>0</td>\n",
       "      <td>thin</td>\n",
       "      <td>small</td>\n",
       "    </tr>\n",
       "    <tr>\n",
       "      <th>1116132</th>\n",
       "      <td>6</td>\n",
       "      <td>3</td>\n",
       "      <td>4</td>\n",
       "      <td>1</td>\n",
       "      <td>5</td>\n",
       "      <td>2</td>\n",
       "      <td>3</td>\n",
       "      <td>9</td>\n",
       "      <td>1</td>\n",
       "      <td>4</td>\n",
       "      <td>2</td>\n",
       "      <td>1</td>\n",
       "      <td>0</td>\n",
       "      <td>0</td>\n",
       "      <td>medium</td>\n",
       "      <td>small</td>\n",
       "    </tr>\n",
       "    <tr>\n",
       "      <th>1133136</th>\n",
       "      <td>3</td>\n",
       "      <td>1</td>\n",
       "      <td>1</td>\n",
       "      <td>1</td>\n",
       "      <td>2</td>\n",
       "      <td>3</td>\n",
       "      <td>3</td>\n",
       "      <td>1</td>\n",
       "      <td>1</td>\n",
       "      <td>2</td>\n",
       "      <td>1</td>\n",
       "      <td>1</td>\n",
       "      <td>0</td>\n",
       "      <td>0</td>\n",
       "      <td>thin</td>\n",
       "      <td>small</td>\n",
       "    </tr>\n",
       "    <tr>\n",
       "      <th>1158247</th>\n",
       "      <td>1</td>\n",
       "      <td>1</td>\n",
       "      <td>1</td>\n",
       "      <td>1</td>\n",
       "      <td>2</td>\n",
       "      <td>1</td>\n",
       "      <td>2</td>\n",
       "      <td>1</td>\n",
       "      <td>1</td>\n",
       "      <td>2</td>\n",
       "      <td>1</td>\n",
       "      <td>1</td>\n",
       "      <td>0</td>\n",
       "      <td>0</td>\n",
       "      <td>thin</td>\n",
       "      <td>small</td>\n",
       "    </tr>\n",
       "    <tr>\n",
       "      <th>1206314</th>\n",
       "      <td>1</td>\n",
       "      <td>2</td>\n",
       "      <td>3</td>\n",
       "      <td>1</td>\n",
       "      <td>2</td>\n",
       "      <td>1</td>\n",
       "      <td>1</td>\n",
       "      <td>1</td>\n",
       "      <td>1</td>\n",
       "      <td>2</td>\n",
       "      <td>1</td>\n",
       "      <td>1</td>\n",
       "      <td>0</td>\n",
       "      <td>0</td>\n",
       "      <td>thin</td>\n",
       "      <td>small</td>\n",
       "    </tr>\n",
       "  </tbody>\n",
       "</table>\n",
       "<p>645 rows × 16 columns</p>\n",
       "</div>"
      ],
      "text/plain": [
       "         Clump Thickness  Uniformity of Cell Size  Uniformity of Cell Shape  \\\n",
       "ID                                                                            \n",
       "1275807                4                        2                         4   \n",
       "1193683                1                        1                         2   \n",
       "1170419               10                       10                        10   \n",
       "1190386                4                        6                         6   \n",
       "1202125                4                        1                         1   \n",
       "...                  ...                      ...                       ...   \n",
       "493452                 1                        1                         3   \n",
       "1116132                6                        3                         4   \n",
       "1133136                3                        1                         1   \n",
       "1158247                1                        1                         1   \n",
       "1206314                1                        2                         3   \n",
       "\n",
       "         Marginal Adhesion  Single Epithelial Cell Size  Bare Nuclei  \\\n",
       "ID                                                                     \n",
       "1275807                  3                            2            2   \n",
       "1193683                  1                            3            1   \n",
       "1170419                  8                            2           10   \n",
       "1190386                  5                            7            6   \n",
       "1202125                  1                            2            1   \n",
       "...                    ...                          ...          ...   \n",
       "493452                   1                            2            1   \n",
       "1116132                  1                            5            2   \n",
       "1133136                  1                            2            3   \n",
       "1158247                  1                            2            1   \n",
       "1206314                  1                            2            1   \n",
       "\n",
       "         Bland Chromatin  Normal Nucleoli  Mitoses  Class  Thickness_classnum  \\\n",
       "ID                                                                              \n",
       "1275807                2                1        1      2                   2   \n",
       "1193683                1                1        1      2                   1   \n",
       "1170419                4                1        1      4                   3   \n",
       "1190386                7                7        3      4                   2   \n",
       "1202125                3                1        1      2                   2   \n",
       "...                  ...              ...      ...    ...                 ...   \n",
       "493452                 1                1        1      2                   1   \n",
       "1116132                3                9        1      4                   2   \n",
       "1133136                3                1        1      2                   1   \n",
       "1158247                2                1        1      2                   1   \n",
       "1206314                1                1        1      2                   1   \n",
       "\n",
       "         Cell Size _small  Cell Size _medium  Cell Size _big Thickness_class  \\\n",
       "ID                                                                             \n",
       "1275807                 1                  0               0          medium   \n",
       "1193683                 1                  0               0            thin   \n",
       "1170419                 0                  0               1           thick   \n",
       "1190386                 0                  1               0          medium   \n",
       "1202125                 1                  0               0          medium   \n",
       "...                   ...                ...             ...             ...   \n",
       "493452                  1                  0               0            thin   \n",
       "1116132                 1                  0               0          medium   \n",
       "1133136                 1                  0               0            thin   \n",
       "1158247                 1                  0               0            thin   \n",
       "1206314                 1                  0               0            thin   \n",
       "\n",
       "        Cell Size  \n",
       "ID                 \n",
       "1275807     small  \n",
       "1193683     small  \n",
       "1170419       big  \n",
       "1190386    medium  \n",
       "1202125     small  \n",
       "...           ...  \n",
       "493452      small  \n",
       "1116132     small  \n",
       "1133136     small  \n",
       "1158247     small  \n",
       "1206314     small  \n",
       "\n",
       "[645 rows x 16 columns]"
      ]
     },
     "execution_count": 3,
     "metadata": {},
     "output_type": "execute_result"
    }
   ],
   "source": [
    "data_ = data.copy()\n",
    "data_"
   ]
  },
  {
   "cell_type": "code",
   "execution_count": 4,
   "metadata": {
    "scrolled": false
   },
   "outputs": [
    {
     "name": "stdout",
     "output_type": "stream",
     "text": [
      "<class 'pandas.core.frame.DataFrame'>\n",
      "Int64Index: 645 entries, 1275807 to 1206314\n",
      "Data columns (total 16 columns):\n",
      " #   Column                       Non-Null Count  Dtype \n",
      "---  ------                       --------------  ----- \n",
      " 0   Clump Thickness              645 non-null    int64 \n",
      " 1   Uniformity of Cell Size      645 non-null    int64 \n",
      " 2   Uniformity of Cell Shape     645 non-null    int64 \n",
      " 3   Marginal Adhesion            645 non-null    int64 \n",
      " 4   Single Epithelial Cell Size  645 non-null    int64 \n",
      " 5   Bare Nuclei                  645 non-null    int64 \n",
      " 6   Bland Chromatin              645 non-null    int64 \n",
      " 7   Normal Nucleoli              645 non-null    int64 \n",
      " 8   Mitoses                      645 non-null    int64 \n",
      " 9   Class                        645 non-null    int64 \n",
      " 10  Thickness_classnum           645 non-null    int64 \n",
      " 11  Cell Size _small             645 non-null    int64 \n",
      " 12  Cell Size _medium            645 non-null    int64 \n",
      " 13  Cell Size _big               645 non-null    int64 \n",
      " 14  Thickness_class              645 non-null    object\n",
      " 15  Cell Size                    645 non-null    object\n",
      "dtypes: int64(14), object(2)\n",
      "memory usage: 85.7+ KB\n"
     ]
    }
   ],
   "source": [
    "data_.info()"
   ]
  },
  {
   "cell_type": "markdown",
   "metadata": {},
   "source": [
    "# 二、设置变量"
   ]
  },
  {
   "cell_type": "code",
   "execution_count": 5,
   "metadata": {},
   "outputs": [
    {
     "data": {
      "text/html": [
       "<div>\n",
       "<style scoped>\n",
       "    .dataframe tbody tr th:only-of-type {\n",
       "        vertical-align: middle;\n",
       "    }\n",
       "\n",
       "    .dataframe tbody tr th {\n",
       "        vertical-align: top;\n",
       "    }\n",
       "\n",
       "    .dataframe thead th {\n",
       "        text-align: right;\n",
       "    }\n",
       "</style>\n",
       "<table border=\"1\" class=\"dataframe\">\n",
       "  <thead>\n",
       "    <tr style=\"text-align: right;\">\n",
       "      <th></th>\n",
       "      <th>Clump Thickness</th>\n",
       "      <th>Uniformity of Cell Size</th>\n",
       "      <th>Uniformity of Cell Shape</th>\n",
       "      <th>Marginal Adhesion</th>\n",
       "      <th>Single Epithelial Cell Size</th>\n",
       "      <th>Bare Nuclei</th>\n",
       "      <th>Bland Chromatin</th>\n",
       "      <th>Normal Nucleoli</th>\n",
       "      <th>Mitoses</th>\n",
       "      <th>Thickness_classnum</th>\n",
       "      <th>Cell Size _small</th>\n",
       "      <th>Cell Size _medium</th>\n",
       "      <th>Cell Size _big</th>\n",
       "    </tr>\n",
       "    <tr>\n",
       "      <th>ID</th>\n",
       "      <th></th>\n",
       "      <th></th>\n",
       "      <th></th>\n",
       "      <th></th>\n",
       "      <th></th>\n",
       "      <th></th>\n",
       "      <th></th>\n",
       "      <th></th>\n",
       "      <th></th>\n",
       "      <th></th>\n",
       "      <th></th>\n",
       "      <th></th>\n",
       "      <th></th>\n",
       "    </tr>\n",
       "  </thead>\n",
       "  <tbody>\n",
       "    <tr>\n",
       "      <th>1275807</th>\n",
       "      <td>4</td>\n",
       "      <td>2</td>\n",
       "      <td>4</td>\n",
       "      <td>3</td>\n",
       "      <td>2</td>\n",
       "      <td>2</td>\n",
       "      <td>2</td>\n",
       "      <td>1</td>\n",
       "      <td>1</td>\n",
       "      <td>2</td>\n",
       "      <td>1</td>\n",
       "      <td>0</td>\n",
       "      <td>0</td>\n",
       "    </tr>\n",
       "    <tr>\n",
       "      <th>1193683</th>\n",
       "      <td>1</td>\n",
       "      <td>1</td>\n",
       "      <td>2</td>\n",
       "      <td>1</td>\n",
       "      <td>3</td>\n",
       "      <td>1</td>\n",
       "      <td>1</td>\n",
       "      <td>1</td>\n",
       "      <td>1</td>\n",
       "      <td>1</td>\n",
       "      <td>1</td>\n",
       "      <td>0</td>\n",
       "      <td>0</td>\n",
       "    </tr>\n",
       "    <tr>\n",
       "      <th>1170419</th>\n",
       "      <td>10</td>\n",
       "      <td>10</td>\n",
       "      <td>10</td>\n",
       "      <td>8</td>\n",
       "      <td>2</td>\n",
       "      <td>10</td>\n",
       "      <td>4</td>\n",
       "      <td>1</td>\n",
       "      <td>1</td>\n",
       "      <td>3</td>\n",
       "      <td>0</td>\n",
       "      <td>0</td>\n",
       "      <td>1</td>\n",
       "    </tr>\n",
       "    <tr>\n",
       "      <th>1190386</th>\n",
       "      <td>4</td>\n",
       "      <td>6</td>\n",
       "      <td>6</td>\n",
       "      <td>5</td>\n",
       "      <td>7</td>\n",
       "      <td>6</td>\n",
       "      <td>7</td>\n",
       "      <td>7</td>\n",
       "      <td>3</td>\n",
       "      <td>2</td>\n",
       "      <td>0</td>\n",
       "      <td>1</td>\n",
       "      <td>0</td>\n",
       "    </tr>\n",
       "    <tr>\n",
       "      <th>1202125</th>\n",
       "      <td>4</td>\n",
       "      <td>1</td>\n",
       "      <td>1</td>\n",
       "      <td>1</td>\n",
       "      <td>2</td>\n",
       "      <td>1</td>\n",
       "      <td>3</td>\n",
       "      <td>1</td>\n",
       "      <td>1</td>\n",
       "      <td>2</td>\n",
       "      <td>1</td>\n",
       "      <td>0</td>\n",
       "      <td>0</td>\n",
       "    </tr>\n",
       "    <tr>\n",
       "      <th>...</th>\n",
       "      <td>...</td>\n",
       "      <td>...</td>\n",
       "      <td>...</td>\n",
       "      <td>...</td>\n",
       "      <td>...</td>\n",
       "      <td>...</td>\n",
       "      <td>...</td>\n",
       "      <td>...</td>\n",
       "      <td>...</td>\n",
       "      <td>...</td>\n",
       "      <td>...</td>\n",
       "      <td>...</td>\n",
       "      <td>...</td>\n",
       "    </tr>\n",
       "    <tr>\n",
       "      <th>493452</th>\n",
       "      <td>1</td>\n",
       "      <td>1</td>\n",
       "      <td>3</td>\n",
       "      <td>1</td>\n",
       "      <td>2</td>\n",
       "      <td>1</td>\n",
       "      <td>1</td>\n",
       "      <td>1</td>\n",
       "      <td>1</td>\n",
       "      <td>1</td>\n",
       "      <td>1</td>\n",
       "      <td>0</td>\n",
       "      <td>0</td>\n",
       "    </tr>\n",
       "    <tr>\n",
       "      <th>1116132</th>\n",
       "      <td>6</td>\n",
       "      <td>3</td>\n",
       "      <td>4</td>\n",
       "      <td>1</td>\n",
       "      <td>5</td>\n",
       "      <td>2</td>\n",
       "      <td>3</td>\n",
       "      <td>9</td>\n",
       "      <td>1</td>\n",
       "      <td>2</td>\n",
       "      <td>1</td>\n",
       "      <td>0</td>\n",
       "      <td>0</td>\n",
       "    </tr>\n",
       "    <tr>\n",
       "      <th>1133136</th>\n",
       "      <td>3</td>\n",
       "      <td>1</td>\n",
       "      <td>1</td>\n",
       "      <td>1</td>\n",
       "      <td>2</td>\n",
       "      <td>3</td>\n",
       "      <td>3</td>\n",
       "      <td>1</td>\n",
       "      <td>1</td>\n",
       "      <td>1</td>\n",
       "      <td>1</td>\n",
       "      <td>0</td>\n",
       "      <td>0</td>\n",
       "    </tr>\n",
       "    <tr>\n",
       "      <th>1158247</th>\n",
       "      <td>1</td>\n",
       "      <td>1</td>\n",
       "      <td>1</td>\n",
       "      <td>1</td>\n",
       "      <td>2</td>\n",
       "      <td>1</td>\n",
       "      <td>2</td>\n",
       "      <td>1</td>\n",
       "      <td>1</td>\n",
       "      <td>1</td>\n",
       "      <td>1</td>\n",
       "      <td>0</td>\n",
       "      <td>0</td>\n",
       "    </tr>\n",
       "    <tr>\n",
       "      <th>1206314</th>\n",
       "      <td>1</td>\n",
       "      <td>2</td>\n",
       "      <td>3</td>\n",
       "      <td>1</td>\n",
       "      <td>2</td>\n",
       "      <td>1</td>\n",
       "      <td>1</td>\n",
       "      <td>1</td>\n",
       "      <td>1</td>\n",
       "      <td>1</td>\n",
       "      <td>1</td>\n",
       "      <td>0</td>\n",
       "      <td>0</td>\n",
       "    </tr>\n",
       "  </tbody>\n",
       "</table>\n",
       "<p>645 rows × 13 columns</p>\n",
       "</div>"
      ],
      "text/plain": [
       "         Clump Thickness  Uniformity of Cell Size  Uniformity of Cell Shape  \\\n",
       "ID                                                                            \n",
       "1275807                4                        2                         4   \n",
       "1193683                1                        1                         2   \n",
       "1170419               10                       10                        10   \n",
       "1190386                4                        6                         6   \n",
       "1202125                4                        1                         1   \n",
       "...                  ...                      ...                       ...   \n",
       "493452                 1                        1                         3   \n",
       "1116132                6                        3                         4   \n",
       "1133136                3                        1                         1   \n",
       "1158247                1                        1                         1   \n",
       "1206314                1                        2                         3   \n",
       "\n",
       "         Marginal Adhesion  Single Epithelial Cell Size  Bare Nuclei  \\\n",
       "ID                                                                     \n",
       "1275807                  3                            2            2   \n",
       "1193683                  1                            3            1   \n",
       "1170419                  8                            2           10   \n",
       "1190386                  5                            7            6   \n",
       "1202125                  1                            2            1   \n",
       "...                    ...                          ...          ...   \n",
       "493452                   1                            2            1   \n",
       "1116132                  1                            5            2   \n",
       "1133136                  1                            2            3   \n",
       "1158247                  1                            2            1   \n",
       "1206314                  1                            2            1   \n",
       "\n",
       "         Bland Chromatin  Normal Nucleoli  Mitoses  Thickness_classnum  \\\n",
       "ID                                                                       \n",
       "1275807                2                1        1                   2   \n",
       "1193683                1                1        1                   1   \n",
       "1170419                4                1        1                   3   \n",
       "1190386                7                7        3                   2   \n",
       "1202125                3                1        1                   2   \n",
       "...                  ...              ...      ...                 ...   \n",
       "493452                 1                1        1                   1   \n",
       "1116132                3                9        1                   2   \n",
       "1133136                3                1        1                   1   \n",
       "1158247                2                1        1                   1   \n",
       "1206314                1                1        1                   1   \n",
       "\n",
       "         Cell Size _small  Cell Size _medium  Cell Size _big  \n",
       "ID                                                            \n",
       "1275807                 1                  0               0  \n",
       "1193683                 1                  0               0  \n",
       "1170419                 0                  0               1  \n",
       "1190386                 0                  1               0  \n",
       "1202125                 1                  0               0  \n",
       "...                   ...                ...             ...  \n",
       "493452                  1                  0               0  \n",
       "1116132                 1                  0               0  \n",
       "1133136                 1                  0               0  \n",
       "1158247                 1                  0               0  \n",
       "1206314                 1                  0               0  \n",
       "\n",
       "[645 rows x 13 columns]"
      ]
     },
     "execution_count": 5,
     "metadata": {},
     "output_type": "execute_result"
    }
   ],
   "source": [
    "features = data_.drop(columns=['Class','Thickness_class','Cell Size'])\n",
    "features"
   ]
  },
  {
   "cell_type": "code",
   "execution_count": 6,
   "metadata": {},
   "outputs": [
    {
     "data": {
      "text/plain": [
       "ID\n",
       "1275807    0\n",
       "1193683    0\n",
       "1170419    1\n",
       "1190386    1\n",
       "1202125    0\n",
       "          ..\n",
       "493452     0\n",
       "1116132    1\n",
       "1133136    0\n",
       "1158247    0\n",
       "1206314    0\n",
       "Name: Class, Length: 645, dtype: int64"
      ]
     },
     "execution_count": 6,
     "metadata": {},
     "output_type": "execute_result"
    }
   ],
   "source": [
    "target = data_.Class.replace(to_replace = [2, 4], value = [0,1])\n",
    "target"
   ]
  },
  {
   "cell_type": "code",
   "execution_count": 7,
   "metadata": {},
   "outputs": [],
   "source": [
    "from sklearn.preprocessing import StandardScaler"
   ]
  },
  {
   "cell_type": "code",
   "execution_count": 8,
   "metadata": {},
   "outputs": [],
   "source": [
    "transfer = StandardScaler()"
   ]
  },
  {
   "cell_type": "code",
   "execution_count": 9,
   "metadata": {},
   "outputs": [],
   "source": [
    "features_ = transfer.fit_transform(features)"
   ]
  },
  {
   "cell_type": "code",
   "execution_count": 10,
   "metadata": {},
   "outputs": [
    {
     "data": {
      "text/plain": [
       "array([[-0.17231198, -0.39676889,  0.23516391, ...,  0.62217102,\n",
       "        -0.47319015, -0.32610809],\n",
       "       [-1.22412169, -0.72153531, -0.43303311, ...,  0.62217102,\n",
       "        -0.47319015, -0.32610809],\n",
       "       [ 1.93130744,  2.20136243,  2.23975499, ..., -1.60727513,\n",
       "        -0.47319015,  3.06646797],\n",
       "       ...,\n",
       "       [-0.52291521, -0.72153531, -0.76713162, ...,  0.62217102,\n",
       "        -0.47319015, -0.32610809],\n",
       "       [-1.22412169, -0.72153531, -0.76713162, ...,  0.62217102,\n",
       "        -0.47319015, -0.32610809],\n",
       "       [-1.22412169, -0.39676889, -0.0989346 , ...,  0.62217102,\n",
       "        -0.47319015, -0.32610809]])"
      ]
     },
     "execution_count": 10,
     "metadata": {},
     "output_type": "execute_result"
    }
   ],
   "source": [
    "features_"
   ]
  },
  {
   "cell_type": "markdown",
   "metadata": {},
   "source": [
    "# 三、拆分数据集"
   ]
  },
  {
   "cell_type": "code",
   "execution_count": 11,
   "metadata": {},
   "outputs": [],
   "source": [
    "from sklearn.model_selection import train_test_split"
   ]
  },
  {
   "cell_type": "code",
   "execution_count": 12,
   "metadata": {},
   "outputs": [],
   "source": [
    "train_features, test_features, train_target, test_target = train_test_split(\n",
    "    features, target, \n",
    "    test_size = 145, random_state = 99)"
   ]
  },
  {
   "cell_type": "code",
   "execution_count": 13,
   "metadata": {},
   "outputs": [
    {
     "name": "stdout",
     "output_type": "stream",
     "text": [
      "(500, 13)\n",
      "(500,)\n",
      "(145, 13)\n",
      "(145,)\n"
     ]
    }
   ],
   "source": [
    "print(train_features.shape)\n",
    "print(train_target.shape)\n",
    "print(test_features.shape)\n",
    "print(test_target.shape)"
   ]
  },
  {
   "cell_type": "markdown",
   "metadata": {},
   "source": [
    "# 四、Voting Classifier"
   ]
  },
  {
   "cell_type": "code",
   "execution_count": 14,
   "metadata": {},
   "outputs": [],
   "source": [
    "from sklearn.linear_model import LogisticRegression\n",
    "from sklearn.svm import SVC\n",
    "from sklearn.tree import DecisionTreeClassifier"
   ]
  },
  {
   "cell_type": "code",
   "execution_count": 15,
   "metadata": {},
   "outputs": [],
   "source": [
    "log_clf = LogisticRegression()\n",
    "svm_clf = SVC()\n",
    "tree_clf = DecisionTreeClassifier()"
   ]
  },
  {
   "cell_type": "code",
   "execution_count": 16,
   "metadata": {},
   "outputs": [],
   "source": [
    "from sklearn.ensemble import VotingClassifier"
   ]
  },
  {
   "cell_type": "code",
   "execution_count": 17,
   "metadata": {},
   "outputs": [],
   "source": [
    "voting_clf = VotingClassifier(\n",
    "    estimators=[('lr', log_clf), ('svc', svm_clf), ('tree', tree_clf)],\n",
    "    voting='hard')"
   ]
  },
  {
   "cell_type": "code",
   "execution_count": 18,
   "metadata": {},
   "outputs": [
    {
     "data": {
      "text/plain": [
       "VotingClassifier(estimators=[('lr',\n",
       "                              LogisticRegression(C=1.0, class_weight=None,\n",
       "                                                 dual=False, fit_intercept=True,\n",
       "                                                 intercept_scaling=1,\n",
       "                                                 l1_ratio=None, max_iter=100,\n",
       "                                                 multi_class='auto',\n",
       "                                                 n_jobs=None, penalty='l2',\n",
       "                                                 random_state=None,\n",
       "                                                 solver='lbfgs', tol=0.0001,\n",
       "                                                 verbose=0, warm_start=False)),\n",
       "                             ('svc',\n",
       "                              SVC(C=1.0, break_ties=False, cache_size=200,\n",
       "                                  class_weight=None, coef0=0.0,\n",
       "                                  d...\n",
       "                              DecisionTreeClassifier(ccp_alpha=0.0,\n",
       "                                                     class_weight=None,\n",
       "                                                     criterion='gini',\n",
       "                                                     max_depth=None,\n",
       "                                                     max_features=None,\n",
       "                                                     max_leaf_nodes=None,\n",
       "                                                     min_impurity_decrease=0.0,\n",
       "                                                     min_impurity_split=None,\n",
       "                                                     min_samples_leaf=1,\n",
       "                                                     min_samples_split=2,\n",
       "                                                     min_weight_fraction_leaf=0.0,\n",
       "                                                     presort='deprecated',\n",
       "                                                     random_state=None,\n",
       "                                                     splitter='best'))],\n",
       "                 flatten_transform=True, n_jobs=None, voting='hard',\n",
       "                 weights=None)"
      ]
     },
     "execution_count": 18,
     "metadata": {},
     "output_type": "execute_result"
    }
   ],
   "source": [
    "voting_clf.fit(train_features, train_target)"
   ]
  },
  {
   "cell_type": "code",
   "execution_count": 19,
   "metadata": {},
   "outputs": [
    {
     "name": "stdout",
     "output_type": "stream",
     "text": [
      "LogisticRegression 0.9862068965517241\n",
      "DecisionTreeClassifier 0.9310344827586207\n",
      "SVC 0.993103448275862\n",
      "VotingClassifier 0.9862068965517241\n"
     ]
    }
   ],
   "source": [
    "for clf in (log_clf, tree_clf, svm_clf, voting_clf):\n",
    "    clf.fit(train_features, train_target)\n",
    "    print(clf.__class__.__name__, clf.score(test_features, test_target))"
   ]
  },
  {
   "cell_type": "code",
   "execution_count": 20,
   "metadata": {},
   "outputs": [],
   "source": [
    "#voting_clf.predict_proba(test_features)"
   ]
  },
  {
   "cell_type": "code",
   "execution_count": 21,
   "metadata": {},
   "outputs": [],
   "source": [
    "log_clf = LogisticRegression()\n",
    "svm_clf = SVC(probability=True)\n",
    "tree_clf = DecisionTreeClassifier()"
   ]
  },
  {
   "cell_type": "code",
   "execution_count": 22,
   "metadata": {},
   "outputs": [],
   "source": [
    "voting_clf = VotingClassifier(\n",
    "    estimators=[('lr', log_clf), ('svc', svm_clf), ('tree', tree_clf)],\n",
    "    voting='soft')"
   ]
  },
  {
   "cell_type": "code",
   "execution_count": 23,
   "metadata": {
    "scrolled": true
   },
   "outputs": [
    {
     "data": {
      "text/plain": [
       "VotingClassifier(estimators=[('lr',\n",
       "                              LogisticRegression(C=1.0, class_weight=None,\n",
       "                                                 dual=False, fit_intercept=True,\n",
       "                                                 intercept_scaling=1,\n",
       "                                                 l1_ratio=None, max_iter=100,\n",
       "                                                 multi_class='auto',\n",
       "                                                 n_jobs=None, penalty='l2',\n",
       "                                                 random_state=None,\n",
       "                                                 solver='lbfgs', tol=0.0001,\n",
       "                                                 verbose=0, warm_start=False)),\n",
       "                             ('svc',\n",
       "                              SVC(C=1.0, break_ties=False, cache_size=200,\n",
       "                                  class_weight=None, coef0=0.0,\n",
       "                                  d...\n",
       "                              DecisionTreeClassifier(ccp_alpha=0.0,\n",
       "                                                     class_weight=None,\n",
       "                                                     criterion='gini',\n",
       "                                                     max_depth=None,\n",
       "                                                     max_features=None,\n",
       "                                                     max_leaf_nodes=None,\n",
       "                                                     min_impurity_decrease=0.0,\n",
       "                                                     min_impurity_split=None,\n",
       "                                                     min_samples_leaf=1,\n",
       "                                                     min_samples_split=2,\n",
       "                                                     min_weight_fraction_leaf=0.0,\n",
       "                                                     presort='deprecated',\n",
       "                                                     random_state=None,\n",
       "                                                     splitter='best'))],\n",
       "                 flatten_transform=True, n_jobs=None, voting='soft',\n",
       "                 weights=None)"
      ]
     },
     "execution_count": 23,
     "metadata": {},
     "output_type": "execute_result"
    }
   ],
   "source": [
    "voting_clf.fit(train_features, train_target)"
   ]
  },
  {
   "cell_type": "code",
   "execution_count": 24,
   "metadata": {},
   "outputs": [
    {
     "data": {
      "text/plain": [
       "array([[0.99824902, 0.00175098],\n",
       "       [0.01799846, 0.98200154],\n",
       "       [0.01224571, 0.98775429],\n",
       "       [0.99862809, 0.00137191],\n",
       "       [0.00617645, 0.99382355],\n",
       "       [0.35438195, 0.64561805],\n",
       "       [0.99785063, 0.00214937],\n",
       "       [0.00842956, 0.99157044],\n",
       "       [0.99790012, 0.00209988],\n",
       "       [0.0132111 , 0.9867889 ],\n",
       "       [0.01266828, 0.98733172],\n",
       "       [0.99353567, 0.00646433],\n",
       "       [0.01864907, 0.98135093],\n",
       "       [0.99856499, 0.00143501],\n",
       "       [0.99680655, 0.00319345],\n",
       "       [0.94060864, 0.05939136],\n",
       "       [0.99820723, 0.00179277],\n",
       "       [0.99869661, 0.00130339],\n",
       "       [0.873853  , 0.126147  ],\n",
       "       [0.99856499, 0.00143501],\n",
       "       [0.33992638, 0.66007362],\n",
       "       [0.97637489, 0.02362511],\n",
       "       [0.99869661, 0.00130339],\n",
       "       [0.9963483 , 0.0036517 ],\n",
       "       [0.99058798, 0.00941202],\n",
       "       [0.99869661, 0.00130339],\n",
       "       [0.01441315, 0.98558685],\n",
       "       [0.99824902, 0.00175098],\n",
       "       [0.99027069, 0.00972931],\n",
       "       [0.98896078, 0.01103922],\n",
       "       [0.99805042, 0.00194958],\n",
       "       [0.01876489, 0.98123511],\n",
       "       [0.70567066, 0.29432934],\n",
       "       [0.99185199, 0.00814801],\n",
       "       [0.99598111, 0.00401889],\n",
       "       [0.99667291, 0.00332709],\n",
       "       [0.98893445, 0.01106555],\n",
       "       [0.99851155, 0.00148845],\n",
       "       [0.98246181, 0.01753819],\n",
       "       [0.97810073, 0.02189927],\n",
       "       [0.98969701, 0.01030299],\n",
       "       [0.99576805, 0.00423195],\n",
       "       [0.99607499, 0.00392501],\n",
       "       [0.99749722, 0.00250278],\n",
       "       [0.00451594, 0.99548406],\n",
       "       [0.0538093 , 0.9461907 ],\n",
       "       [0.00839119, 0.99160881],\n",
       "       [0.01244953, 0.98755047],\n",
       "       [0.99576805, 0.00423195],\n",
       "       [0.94296357, 0.05703643],\n",
       "       [0.99576805, 0.00423195],\n",
       "       [0.99856499, 0.00143501],\n",
       "       [0.03185182, 0.96814818],\n",
       "       [0.18477271, 0.81522729],\n",
       "       [0.99800728, 0.00199272],\n",
       "       [0.01591475, 0.98408525],\n",
       "       [0.00937982, 0.99062018],\n",
       "       [0.99824902, 0.00175098],\n",
       "       [0.99869661, 0.00130339],\n",
       "       [0.6341646 , 0.3658354 ],\n",
       "       [0.97752481, 0.02247519],\n",
       "       [0.01091887, 0.98908113],\n",
       "       [0.44835223, 0.55164777],\n",
       "       [0.99856499, 0.00143501],\n",
       "       [0.37579444, 0.62420556],\n",
       "       [0.99804193, 0.00195807],\n",
       "       [0.99778365, 0.00221635],\n",
       "       [0.99493063, 0.00506937],\n",
       "       [0.99569475, 0.00430525],\n",
       "       [0.01296572, 0.98703428],\n",
       "       [0.0206066 , 0.9793934 ],\n",
       "       [0.01346933, 0.98653067],\n",
       "       [0.99861908, 0.00138092],\n",
       "       [0.99824902, 0.00175098],\n",
       "       [0.01239484, 0.98760516],\n",
       "       [0.43351903, 0.56648097],\n",
       "       [0.01251269, 0.98748731],\n",
       "       [0.99569475, 0.00430525],\n",
       "       [0.99614474, 0.00385526],\n",
       "       [0.98835764, 0.01164236],\n",
       "       [0.01173285, 0.98826715],\n",
       "       [0.99824902, 0.00175098],\n",
       "       [0.99265537, 0.00734463],\n",
       "       [0.97931496, 0.02068504],\n",
       "       [0.99856499, 0.00143501],\n",
       "       [0.98893445, 0.01106555],\n",
       "       [0.01477136, 0.98522864],\n",
       "       [0.9942221 , 0.0057779 ],\n",
       "       [0.99460653, 0.00539347],\n",
       "       [0.02583107, 0.97416893],\n",
       "       [0.87863928, 0.12136072],\n",
       "       [0.97124979, 0.02875021],\n",
       "       [0.99027731, 0.00972269],\n",
       "       [0.99808311, 0.00191689],\n",
       "       [0.98893445, 0.01106555],\n",
       "       [0.99856499, 0.00143501],\n",
       "       [0.99108176, 0.00891824],\n",
       "       [0.99567509, 0.00432491],\n",
       "       [0.99824902, 0.00175098],\n",
       "       [0.99367566, 0.00632434],\n",
       "       [0.99831675, 0.00168325],\n",
       "       [0.02155497, 0.97844503],\n",
       "       [0.01788418, 0.98211582],\n",
       "       [0.99662575, 0.00337425],\n",
       "       [0.99627571, 0.00372429],\n",
       "       [0.99602867, 0.00397133],\n",
       "       [0.8191393 , 0.1808607 ],\n",
       "       [0.99185199, 0.00814801],\n",
       "       [0.0141658 , 0.9858342 ],\n",
       "       [0.99602867, 0.00397133],\n",
       "       [0.99369835, 0.00630165],\n",
       "       [0.98953729, 0.01046271],\n",
       "       [0.99824902, 0.00175098],\n",
       "       [0.01639599, 0.98360401],\n",
       "       [0.99856499, 0.00143501],\n",
       "       [0.41895541, 0.58104459],\n",
       "       [0.99492947, 0.00507053],\n",
       "       [0.9858414 , 0.0141586 ],\n",
       "       [0.97810073, 0.02189927],\n",
       "       [0.99178847, 0.00821153],\n",
       "       [0.99856499, 0.00143501],\n",
       "       [0.99794697, 0.00205303],\n",
       "       [0.99824902, 0.00175098],\n",
       "       [0.01836463, 0.98163537],\n",
       "       [0.99856499, 0.00143501],\n",
       "       [0.01934447, 0.98065553],\n",
       "       [0.99460653, 0.00539347],\n",
       "       [0.00958971, 0.99041029],\n",
       "       [0.00891091, 0.99108909],\n",
       "       [0.99824902, 0.00175098],\n",
       "       [0.99805042, 0.00194958],\n",
       "       [0.99576805, 0.00423195],\n",
       "       [0.00431187, 0.99568813],\n",
       "       [0.99856499, 0.00143501],\n",
       "       [0.01354142, 0.98645858],\n",
       "       [0.01606369, 0.98393631],\n",
       "       [0.99680655, 0.00319345],\n",
       "       [0.97770421, 0.02229579],\n",
       "       [0.99676892, 0.00323108],\n",
       "       [0.99680655, 0.00319345],\n",
       "       [0.99484657, 0.00515343],\n",
       "       [0.99785063, 0.00214937],\n",
       "       [0.01375307, 0.98624693],\n",
       "       [0.99185199, 0.00814801],\n",
       "       [0.01438349, 0.98561651]])"
      ]
     },
     "execution_count": 24,
     "metadata": {},
     "output_type": "execute_result"
    }
   ],
   "source": [
    "voting_clf.predict_proba(test_features)"
   ]
  },
  {
   "cell_type": "code",
   "execution_count": 25,
   "metadata": {},
   "outputs": [
    {
     "name": "stdout",
     "output_type": "stream",
     "text": [
      "LogisticRegression 0.9862068965517241\n",
      "DecisionTreeClassifier 0.9310344827586207\n",
      "SVC 0.993103448275862\n",
      "VotingClassifier 0.9724137931034482\n"
     ]
    }
   ],
   "source": [
    "for clf in (log_clf, tree_clf, svm_clf, voting_clf):\n",
    "    clf.fit(train_features, train_target)\n",
    "    print(clf.__class__.__name__, clf.score(test_features, test_target))"
   ]
  },
  {
   "cell_type": "markdown",
   "metadata": {},
   "source": [
    "# 五、Stacking"
   ]
  },
  {
   "cell_type": "code",
   "execution_count": 26,
   "metadata": {},
   "outputs": [],
   "source": [
    "log_clf = LogisticRegression()\n",
    "svm_clf = SVC(probability=True)\n",
    "tree_clf = DecisionTreeClassifier()"
   ]
  },
  {
   "cell_type": "code",
   "execution_count": 27,
   "metadata": {},
   "outputs": [
    {
     "data": {
      "text/plain": [
       "DecisionTreeClassifier(ccp_alpha=0.0, class_weight=None, criterion='gini',\n",
       "                       max_depth=None, max_features=None, max_leaf_nodes=None,\n",
       "                       min_impurity_decrease=0.0, min_impurity_split=None,\n",
       "                       min_samples_leaf=1, min_samples_split=2,\n",
       "                       min_weight_fraction_leaf=0.0, presort='deprecated',\n",
       "                       random_state=None, splitter='best')"
      ]
     },
     "execution_count": 27,
     "metadata": {},
     "output_type": "execute_result"
    }
   ],
   "source": [
    "log_clf.fit(train_features, train_target)\n",
    "svm_clf.fit(train_features, train_target)\n",
    "tree_clf.fit(train_features, train_target)"
   ]
  },
  {
   "cell_type": "code",
   "execution_count": 28,
   "metadata": {},
   "outputs": [],
   "source": [
    "log_train = log_clf.predict(train_features)\n",
    "svm_train = svm_clf.predict(train_features)\n",
    "tree_train = tree_clf.predict(train_features)\n",
    "log_test = log_clf.predict(test_features)\n",
    "svm_test = svm_clf.predict(test_features)\n",
    "tree_test = tree_clf.predict(test_features)"
   ]
  },
  {
   "cell_type": "code",
   "execution_count": 29,
   "metadata": {},
   "outputs": [
    {
     "data": {
      "text/plain": [
       "(500, 3)"
      ]
     },
     "execution_count": 29,
     "metadata": {},
     "output_type": "execute_result"
    }
   ],
   "source": [
    "train_predictions = np.concatenate((log_train.reshape(500,1),svm_train.reshape(500,1)),axis=1)\n",
    "train_predictions = np.concatenate((train_predictions, tree_train.reshape(500,1)),axis=1)\n",
    "train_predictions.shape"
   ]
  },
  {
   "cell_type": "code",
   "execution_count": 30,
   "metadata": {},
   "outputs": [
    {
     "data": {
      "text/plain": [
       "(145, 3)"
      ]
     },
     "execution_count": 30,
     "metadata": {},
     "output_type": "execute_result"
    }
   ],
   "source": [
    "test_predictions = np.concatenate((log_test.reshape(145,1),svm_test.reshape(145,1)),axis=1)\n",
    "test_predictions = np.concatenate((test_predictions, tree_test.reshape(145,1)),axis=1)\n",
    "test_predictions.shape"
   ]
  },
  {
   "cell_type": "code",
   "execution_count": 31,
   "metadata": {},
   "outputs": [],
   "source": [
    "log_ensemble = LogisticRegression()"
   ]
  },
  {
   "cell_type": "code",
   "execution_count": 32,
   "metadata": {},
   "outputs": [
    {
     "data": {
      "text/plain": [
       "LogisticRegression(C=1.0, class_weight=None, dual=False, fit_intercept=True,\n",
       "                   intercept_scaling=1, l1_ratio=None, max_iter=100,\n",
       "                   multi_class='auto', n_jobs=None, penalty='l2',\n",
       "                   random_state=None, solver='lbfgs', tol=0.0001, verbose=0,\n",
       "                   warm_start=False)"
      ]
     },
     "execution_count": 32,
     "metadata": {},
     "output_type": "execute_result"
    }
   ],
   "source": [
    "log_ensemble.fit(train_predictions,train_target)"
   ]
  },
  {
   "cell_type": "code",
   "execution_count": 33,
   "metadata": {},
   "outputs": [
    {
     "data": {
      "text/plain": [
       "0.9310344827586207"
      ]
     },
     "execution_count": 33,
     "metadata": {},
     "output_type": "execute_result"
    }
   ],
   "source": [
    "log_ensemble.score(test_predictions,test_target)"
   ]
  },
  {
   "cell_type": "markdown",
   "metadata": {},
   "source": [
    "# 六、Bagging"
   ]
  },
  {
   "cell_type": "code",
   "execution_count": 34,
   "metadata": {},
   "outputs": [],
   "source": [
    "from sklearn.ensemble import BaggingClassifier"
   ]
  },
  {
   "cell_type": "code",
   "execution_count": 35,
   "metadata": {},
   "outputs": [],
   "source": [
    "bag_clf = BaggingClassifier(\n",
    "    DecisionTreeClassifier(), n_estimators=500,\n",
    "    max_samples=100, max_features=9,\n",
    "    bootstrap=True, oob_score=True,\n",
    "    random_state=99)"
   ]
  },
  {
   "cell_type": "code",
   "execution_count": 36,
   "metadata": {},
   "outputs": [
    {
     "data": {
      "text/plain": [
       "BaggingClassifier(base_estimator=DecisionTreeClassifier(ccp_alpha=0.0,\n",
       "                                                        class_weight=None,\n",
       "                                                        criterion='gini',\n",
       "                                                        max_depth=None,\n",
       "                                                        max_features=None,\n",
       "                                                        max_leaf_nodes=None,\n",
       "                                                        min_impurity_decrease=0.0,\n",
       "                                                        min_impurity_split=None,\n",
       "                                                        min_samples_leaf=1,\n",
       "                                                        min_samples_split=2,\n",
       "                                                        min_weight_fraction_leaf=0.0,\n",
       "                                                        presort='deprecated',\n",
       "                                                        random_state=None,\n",
       "                                                        splitter='best'),\n",
       "                  bootstrap=True, bootstrap_features=False, max_features=9,\n",
       "                  max_samples=100, n_estimators=500, n_jobs=None,\n",
       "                  oob_score=True, random_state=99, verbose=0, warm_start=False)"
      ]
     },
     "execution_count": 36,
     "metadata": {},
     "output_type": "execute_result"
    }
   ],
   "source": [
    "bag_clf.fit(train_features, train_target)"
   ]
  },
  {
   "cell_type": "code",
   "execution_count": 37,
   "metadata": {},
   "outputs": [
    {
     "data": {
      "text/plain": [
       "0.964"
      ]
     },
     "execution_count": 37,
     "metadata": {},
     "output_type": "execute_result"
    }
   ],
   "source": [
    "bag_clf.oob_score_"
   ]
  },
  {
   "cell_type": "code",
   "execution_count": 38,
   "metadata": {},
   "outputs": [
    {
     "data": {
      "text/plain": [
       "0.9793103448275862"
      ]
     },
     "execution_count": 38,
     "metadata": {},
     "output_type": "execute_result"
    }
   ],
   "source": [
    "bag_clf.score(test_features, test_target)"
   ]
  },
  {
   "cell_type": "markdown",
   "metadata": {},
   "source": [
    "# 七、Boosting"
   ]
  },
  {
   "cell_type": "code",
   "execution_count": 39,
   "metadata": {},
   "outputs": [],
   "source": [
    "from sklearn.ensemble import AdaBoostClassifier"
   ]
  },
  {
   "cell_type": "code",
   "execution_count": 40,
   "metadata": {},
   "outputs": [],
   "source": [
    "ada_clf = AdaBoostClassifier(\n",
    "    DecisionTreeClassifier(), n_estimators=500, learning_rate=0.5)"
   ]
  },
  {
   "cell_type": "code",
   "execution_count": 41,
   "metadata": {},
   "outputs": [
    {
     "data": {
      "text/plain": [
       "AdaBoostClassifier(algorithm='SAMME.R',\n",
       "                   base_estimator=DecisionTreeClassifier(ccp_alpha=0.0,\n",
       "                                                         class_weight=None,\n",
       "                                                         criterion='gini',\n",
       "                                                         max_depth=None,\n",
       "                                                         max_features=None,\n",
       "                                                         max_leaf_nodes=None,\n",
       "                                                         min_impurity_decrease=0.0,\n",
       "                                                         min_impurity_split=None,\n",
       "                                                         min_samples_leaf=1,\n",
       "                                                         min_samples_split=2,\n",
       "                                                         min_weight_fraction_leaf=0.0,\n",
       "                                                         presort='deprecated',\n",
       "                                                         random_state=None,\n",
       "                                                         splitter='best'),\n",
       "                   learning_rate=0.5, n_estimators=500, random_state=None)"
      ]
     },
     "execution_count": 41,
     "metadata": {},
     "output_type": "execute_result"
    }
   ],
   "source": [
    "ada_clf.fit(train_features,train_target)"
   ]
  },
  {
   "cell_type": "code",
   "execution_count": 42,
   "metadata": {},
   "outputs": [
    {
     "data": {
      "text/plain": [
       "0.9448275862068966"
      ]
     },
     "execution_count": 42,
     "metadata": {},
     "output_type": "execute_result"
    }
   ],
   "source": [
    "ada_clf.score(test_features,test_target)"
   ]
  },
  {
   "cell_type": "code",
   "execution_count": 43,
   "metadata": {},
   "outputs": [],
   "source": [
    "from sklearn.ensemble import GradientBoostingClassifier"
   ]
  },
  {
   "cell_type": "code",
   "execution_count": 44,
   "metadata": {},
   "outputs": [],
   "source": [
    "gra_clf = GradientBoostingClassifier(n_estimators=500, learning_rate=0.5)#Gradient Tree Boosting"
   ]
  },
  {
   "cell_type": "code",
   "execution_count": 45,
   "metadata": {},
   "outputs": [
    {
     "data": {
      "text/plain": [
       "GradientBoostingClassifier(ccp_alpha=0.0, criterion='friedman_mse', init=None,\n",
       "                           learning_rate=0.5, loss='deviance', max_depth=3,\n",
       "                           max_features=None, max_leaf_nodes=None,\n",
       "                           min_impurity_decrease=0.0, min_impurity_split=None,\n",
       "                           min_samples_leaf=1, min_samples_split=2,\n",
       "                           min_weight_fraction_leaf=0.0, n_estimators=500,\n",
       "                           n_iter_no_change=None, presort='deprecated',\n",
       "                           random_state=None, subsample=1.0, tol=0.0001,\n",
       "                           validation_fraction=0.1, verbose=0,\n",
       "                           warm_start=False)"
      ]
     },
     "execution_count": 45,
     "metadata": {},
     "output_type": "execute_result"
    }
   ],
   "source": [
    "gra_clf.fit(train_features,train_target)"
   ]
  },
  {
   "cell_type": "code",
   "execution_count": 46,
   "metadata": {},
   "outputs": [
    {
     "data": {
      "text/plain": [
       "0.9448275862068966"
      ]
     },
     "execution_count": 46,
     "metadata": {},
     "output_type": "execute_result"
    }
   ],
   "source": [
    "gra_clf.score(test_features,test_target)"
   ]
  },
  {
   "cell_type": "code",
   "execution_count": 47,
   "metadata": {
    "scrolled": false
   },
   "outputs": [
    {
     "data": {
      "text/plain": [
       "array([0.03385642, 0.75272058, 0.01437847, 0.00538723, 0.05551372,\n",
       "       0.07799102, 0.        , 0.06015256, 0.        , 0.        ,\n",
       "       0.        , 0.        , 0.        ])"
      ]
     },
     "execution_count": 47,
     "metadata": {},
     "output_type": "execute_result"
    }
   ],
   "source": [
    "ada_clf.feature_importances_"
   ]
  },
  {
   "cell_type": "code",
   "execution_count": 48,
   "metadata": {
    "scrolled": false
   },
   "outputs": [
    {
     "data": {
      "text/plain": [
       "array([4.81595484e-02, 5.70002908e-01, 3.37583267e-02, 8.80642012e-03,\n",
       "       2.21263397e-02, 2.02806441e-01, 5.99074856e-02, 4.45450016e-02,\n",
       "       1.75888604e-03, 6.20970613e-03, 1.85927004e-03, 5.96668738e-05,\n",
       "       0.00000000e+00])"
      ]
     },
     "execution_count": 48,
     "metadata": {},
     "output_type": "execute_result"
    }
   ],
   "source": [
    "gra_clf.feature_importances_"
   ]
  },
  {
   "cell_type": "markdown",
   "metadata": {},
   "source": [
    "# 八、随机森林"
   ]
  },
  {
   "cell_type": "code",
   "execution_count": 49,
   "metadata": {},
   "outputs": [],
   "source": [
    "from sklearn.ensemble import RandomForestClassifier"
   ]
  },
  {
   "cell_type": "code",
   "execution_count": 50,
   "metadata": {},
   "outputs": [],
   "source": [
    "rfc_clf = RandomForestClassifier(n_estimators=500,max_samples=100,max_features=9,random_state=99)"
   ]
  },
  {
   "cell_type": "code",
   "execution_count": 51,
   "metadata": {},
   "outputs": [
    {
     "data": {
      "text/plain": [
       "RandomForestClassifier(bootstrap=True, ccp_alpha=0.0, class_weight=None,\n",
       "                       criterion='gini', max_depth=None, max_features=9,\n",
       "                       max_leaf_nodes=None, max_samples=100,\n",
       "                       min_impurity_decrease=0.0, min_impurity_split=None,\n",
       "                       min_samples_leaf=1, min_samples_split=2,\n",
       "                       min_weight_fraction_leaf=0.0, n_estimators=500,\n",
       "                       n_jobs=None, oob_score=False, random_state=99, verbose=0,\n",
       "                       warm_start=False)"
      ]
     },
     "execution_count": 51,
     "metadata": {},
     "output_type": "execute_result"
    }
   ],
   "source": [
    "rfc_clf.fit(train_features,train_target)"
   ]
  },
  {
   "cell_type": "code",
   "execution_count": 52,
   "metadata": {},
   "outputs": [
    {
     "data": {
      "text/plain": [
       "0.9793103448275862"
      ]
     },
     "execution_count": 52,
     "metadata": {},
     "output_type": "execute_result"
    }
   ],
   "source": [
    "rfc_clf.score(test_features,test_target)"
   ]
  },
  {
   "cell_type": "code",
   "execution_count": 53,
   "metadata": {},
   "outputs": [
    {
     "data": {
      "text/plain": [
       "array([0.04444294, 0.27972714, 0.17882586, 0.0228714 , 0.06050002,\n",
       "       0.228914  , 0.10063741, 0.04794112, 0.00589252, 0.01099854,\n",
       "       0.01688998, 0.00161953, 0.00073954])"
      ]
     },
     "execution_count": 53,
     "metadata": {},
     "output_type": "execute_result"
    }
   ],
   "source": [
    "rfc_clf.feature_importances_"
   ]
  },
  {
   "cell_type": "markdown",
   "metadata": {},
   "source": [
    "# 九、Xgboost"
   ]
  },
  {
   "cell_type": "code",
   "execution_count": 54,
   "metadata": {},
   "outputs": [],
   "source": [
    "import xgboost"
   ]
  },
  {
   "cell_type": "code",
   "execution_count": 55,
   "metadata": {},
   "outputs": [],
   "source": [
    "xgb_clf = xgboost.XGBClassifier(n_estimators=500,learning_rate=0.5)"
   ]
  },
  {
   "cell_type": "code",
   "execution_count": 56,
   "metadata": {},
   "outputs": [
    {
     "data": {
      "text/plain": [
       "XGBClassifier(base_score=0.5, booster='gbtree', colsample_bylevel=1,\n",
       "              colsample_bynode=1, colsample_bytree=1, gamma=0, gpu_id=-1,\n",
       "              importance_type='gain', interaction_constraints='',\n",
       "              learning_rate=0.5, max_delta_step=0, max_depth=6,\n",
       "              min_child_weight=1, missing=nan, monotone_constraints='()',\n",
       "              n_estimators=500, n_jobs=0, num_parallel_tree=1,\n",
       "              objective='binary:logistic', random_state=0, reg_alpha=0,\n",
       "              reg_lambda=1, scale_pos_weight=1, subsample=1,\n",
       "              tree_method='exact', validate_parameters=1, verbosity=None)"
      ]
     },
     "execution_count": 56,
     "metadata": {},
     "output_type": "execute_result"
    }
   ],
   "source": [
    "xgb_clf.fit(train_features, train_target)"
   ]
  },
  {
   "cell_type": "code",
   "execution_count": 57,
   "metadata": {
    "scrolled": true
   },
   "outputs": [
    {
     "data": {
      "text/plain": [
       "0.9448275862068966"
      ]
     },
     "execution_count": 57,
     "metadata": {},
     "output_type": "execute_result"
    }
   ],
   "source": [
    "xgb_clf.score(test_features, test_target)"
   ]
  },
  {
   "cell_type": "code",
   "execution_count": 58,
   "metadata": {},
   "outputs": [
    {
     "data": {
      "text/plain": [
       "array([0.06066684, 0.38067472, 0.10667446, 0.03279881, 0.00560918,\n",
       "       0.17975621, 0.09092688, 0.02961534, 0.11259985, 0.        ,\n",
       "       0.        , 0.00067777, 0.        ], dtype=float32)"
      ]
     },
     "execution_count": 58,
     "metadata": {},
     "output_type": "execute_result"
    }
   ],
   "source": [
    "xgb_clf.feature_importances_"
   ]
  },
  {
   "cell_type": "code",
   "execution_count": null,
   "metadata": {},
   "outputs": [],
   "source": []
  }
 ],
 "metadata": {
  "kernelspec": {
   "display_name": "Python 3",
   "language": "python",
   "name": "python3"
  },
  "language_info": {
   "codemirror_mode": {
    "name": "ipython",
    "version": 3
   },
   "file_extension": ".py",
   "mimetype": "text/x-python",
   "name": "python",
   "nbconvert_exporter": "python",
   "pygments_lexer": "ipython3",
   "version": "3.7.6"
  }
 },
 "nbformat": 4,
 "nbformat_minor": 4
}
