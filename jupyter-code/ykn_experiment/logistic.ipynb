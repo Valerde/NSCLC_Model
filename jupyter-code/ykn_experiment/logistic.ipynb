{
 "cells": [
  {
   "cell_type": "code",
   "execution_count": 2,
   "id": "c3adca63-b05a-4bf2-b3d9-c115169674dd",
   "metadata": {},
   "outputs": [],
   "source": [
    "import numpy as np\n",
    "import pandas as pd"
   ]
  },
  {
   "cell_type": "code",
   "execution_count": 3,
   "id": "aac9c972-84f1-4278-82a6-6a0d1b561d30",
   "metadata": {},
   "outputs": [
    {
     "data": {
      "text/html": [
       "<div>\n",
       "<style scoped>\n",
       "    .dataframe tbody tr th:only-of-type {\n",
       "        vertical-align: middle;\n",
       "    }\n",
       "\n",
       "    .dataframe tbody tr th {\n",
       "        vertical-align: top;\n",
       "    }\n",
       "\n",
       "    .dataframe thead th {\n",
       "        text-align: right;\n",
       "    }\n",
       "</style>\n",
       "<table border=\"1\" class=\"dataframe\">\n",
       "  <thead>\n",
       "    <tr style=\"text-align: right;\">\n",
       "      <th></th>\n",
       "      <th>MVI</th>\n",
       "      <th>diagnosticsVersionsPyRadiomics</th>\n",
       "      <th>diagnosticsVersionsNumpy</th>\n",
       "      <th>diagnosticsVersionsSimpleITK</th>\n",
       "      <th>diagnosticsVersionsPyWavelet</th>\n",
       "      <th>diagnosticsVersionsPython</th>\n",
       "      <th>diagnosticsConfigurationSettings</th>\n",
       "      <th>diagnosticsConfigurationEnabledImageTypes</th>\n",
       "      <th>diagnosticsImage-originalHash</th>\n",
       "      <th>diagnosticsImage-originalDimensionality</th>\n",
       "      <th>...</th>\n",
       "      <th>wavelet-LLLglszmSmallAreaHighGrayLevelEmphasis</th>\n",
       "      <th>wavelet-LLLglszmSmallAreaLowGrayLevelEmphasis</th>\n",
       "      <th>wavelet-LLLglszmZoneEntropy</th>\n",
       "      <th>wavelet-LLLglszmZonePercentage</th>\n",
       "      <th>wavelet-LLLglszmZoneVariance</th>\n",
       "      <th>wavelet-LLLngtdmBusyness</th>\n",
       "      <th>wavelet-LLLngtdmCoarseness</th>\n",
       "      <th>wavelet-LLLngtdmComplexity</th>\n",
       "      <th>wavelet-LLLngtdmContrast</th>\n",
       "      <th>wavelet-LLLngtdmStrength</th>\n",
       "    </tr>\n",
       "    <tr>\n",
       "      <th>NAME</th>\n",
       "      <th></th>\n",
       "      <th></th>\n",
       "      <th></th>\n",
       "      <th></th>\n",
       "      <th></th>\n",
       "      <th></th>\n",
       "      <th></th>\n",
       "      <th></th>\n",
       "      <th></th>\n",
       "      <th></th>\n",
       "      <th></th>\n",
       "      <th></th>\n",
       "      <th></th>\n",
       "      <th></th>\n",
       "      <th></th>\n",
       "      <th></th>\n",
       "      <th></th>\n",
       "      <th></th>\n",
       "      <th></th>\n",
       "      <th></th>\n",
       "      <th></th>\n",
       "    </tr>\n",
       "  </thead>\n",
       "  <tbody>\n",
       "    <tr>\n",
       "      <th>X2-1</th>\n",
       "      <td>1</td>\n",
       "      <td>v3.0.1.post4+gad5b2de</td>\n",
       "      <td>1.19.2</td>\n",
       "      <td>2.0.2</td>\n",
       "      <td>1.1.1</td>\n",
       "      <td>3.6.7</td>\n",
       "      <td>{'minimumROIDimensions': 2, 'minimumROISize': ...</td>\n",
       "      <td>{'Original': {}, 'Wavelet': {}}</td>\n",
       "      <td>29f6af1a37740af486f91ec89a90a1ca4e6984e2</td>\n",
       "      <td>3D</td>\n",
       "      <td>...</td>\n",
       "      <td>318.638010</td>\n",
       "      <td>0.005610</td>\n",
       "      <td>6.130760</td>\n",
       "      <td>0.461261</td>\n",
       "      <td>5.506943</td>\n",
       "      <td>0.179501</td>\n",
       "      <td>0.009362</td>\n",
       "      <td>1490.228725</td>\n",
       "      <td>0.414473</td>\n",
       "      <td>3.601381</td>\n",
       "    </tr>\n",
       "    <tr>\n",
       "      <th>X3</th>\n",
       "      <td>1</td>\n",
       "      <td>v3.0.1.post4+gad5b2de</td>\n",
       "      <td>1.19.2</td>\n",
       "      <td>2.0.2</td>\n",
       "      <td>1.1.1</td>\n",
       "      <td>3.6.7</td>\n",
       "      <td>{'minimumROIDimensions': 2, 'minimumROISize': ...</td>\n",
       "      <td>{'Original': {}, 'Wavelet': {}}</td>\n",
       "      <td>4068241f92f505e2a2dae6f92d23e6931bb461da</td>\n",
       "      <td>3D</td>\n",
       "      <td>...</td>\n",
       "      <td>253.189853</td>\n",
       "      <td>0.012959</td>\n",
       "      <td>5.685717</td>\n",
       "      <td>0.381232</td>\n",
       "      <td>10.388698</td>\n",
       "      <td>0.082228</td>\n",
       "      <td>0.016611</td>\n",
       "      <td>1010.246634</td>\n",
       "      <td>0.243355</td>\n",
       "      <td>7.384377</td>\n",
       "    </tr>\n",
       "    <tr>\n",
       "      <th>X4</th>\n",
       "      <td>1</td>\n",
       "      <td>v3.0.1.post4+gad5b2de</td>\n",
       "      <td>1.19.2</td>\n",
       "      <td>2.0.2</td>\n",
       "      <td>1.1.1</td>\n",
       "      <td>3.6.7</td>\n",
       "      <td>{'minimumROIDimensions': 2, 'minimumROISize': ...</td>\n",
       "      <td>{'Original': {}, 'Wavelet': {}}</td>\n",
       "      <td>37a295cd8d6a203b63878c9495593cccf75685bc</td>\n",
       "      <td>3D</td>\n",
       "      <td>...</td>\n",
       "      <td>433.031711</td>\n",
       "      <td>0.012561</td>\n",
       "      <td>5.770776</td>\n",
       "      <td>0.698225</td>\n",
       "      <td>0.787777</td>\n",
       "      <td>0.037907</td>\n",
       "      <td>0.029661</td>\n",
       "      <td>4444.669700</td>\n",
       "      <td>0.862347</td>\n",
       "      <td>16.119822</td>\n",
       "    </tr>\n",
       "    <tr>\n",
       "      <th>X5</th>\n",
       "      <td>1</td>\n",
       "      <td>v3.0.1.post4+gad5b2de</td>\n",
       "      <td>1.19.2</td>\n",
       "      <td>2.0.2</td>\n",
       "      <td>1.1.1</td>\n",
       "      <td>3.6.7</td>\n",
       "      <td>{'minimumROIDimensions': 2, 'minimumROISize': ...</td>\n",
       "      <td>{'Original': {}, 'Wavelet': {}}</td>\n",
       "      <td>1ac20a232efc03ba36dc4df0ea8a6fb642f5cf97</td>\n",
       "      <td>3D</td>\n",
       "      <td>...</td>\n",
       "      <td>201.231494</td>\n",
       "      <td>0.012413</td>\n",
       "      <td>5.689176</td>\n",
       "      <td>0.537954</td>\n",
       "      <td>2.280703</td>\n",
       "      <td>0.087354</td>\n",
       "      <td>0.023778</td>\n",
       "      <td>770.115810</td>\n",
       "      <td>0.338459</td>\n",
       "      <td>6.332368</td>\n",
       "    </tr>\n",
       "    <tr>\n",
       "      <th>X6</th>\n",
       "      <td>1</td>\n",
       "      <td>v3.0.1.post4+gad5b2de</td>\n",
       "      <td>1.19.2</td>\n",
       "      <td>2.0.2</td>\n",
       "      <td>1.1.1</td>\n",
       "      <td>3.6.7</td>\n",
       "      <td>{'minimumROIDimensions': 2, 'minimumROISize': ...</td>\n",
       "      <td>{'Original': {}, 'Wavelet': {}}</td>\n",
       "      <td>eef77e18d852d42eb559b217ca48634a2bcf0977</td>\n",
       "      <td>3D</td>\n",
       "      <td>...</td>\n",
       "      <td>374.894737</td>\n",
       "      <td>0.056433</td>\n",
       "      <td>3.721612</td>\n",
       "      <td>1.000000</td>\n",
       "      <td>0.000000</td>\n",
       "      <td>0.041858</td>\n",
       "      <td>0.150401</td>\n",
       "      <td>569.926316</td>\n",
       "      <td>2.030981</td>\n",
       "      <td>33.718653</td>\n",
       "    </tr>\n",
       "    <tr>\n",
       "      <th>...</th>\n",
       "      <td>...</td>\n",
       "      <td>...</td>\n",
       "      <td>...</td>\n",
       "      <td>...</td>\n",
       "      <td>...</td>\n",
       "      <td>...</td>\n",
       "      <td>...</td>\n",
       "      <td>...</td>\n",
       "      <td>...</td>\n",
       "      <td>...</td>\n",
       "      <td>...</td>\n",
       "      <td>...</td>\n",
       "      <td>...</td>\n",
       "      <td>...</td>\n",
       "      <td>...</td>\n",
       "      <td>...</td>\n",
       "      <td>...</td>\n",
       "      <td>...</td>\n",
       "      <td>...</td>\n",
       "      <td>...</td>\n",
       "      <td>...</td>\n",
       "    </tr>\n",
       "    <tr>\n",
       "      <th>L55</th>\n",
       "      <td>0</td>\n",
       "      <td>v3.0.1.post4+gad5b2de</td>\n",
       "      <td>1.19.2</td>\n",
       "      <td>2.0.2</td>\n",
       "      <td>1.1.1</td>\n",
       "      <td>3.6.7</td>\n",
       "      <td>{'minimumROIDimensions': 2, 'minimumROISize': ...</td>\n",
       "      <td>{'Original': {}, 'Wavelet': {}}</td>\n",
       "      <td>dbd3b9b2485071bef320ff53d7296898f68c82d7</td>\n",
       "      <td>3D</td>\n",
       "      <td>...</td>\n",
       "      <td>279.387486</td>\n",
       "      <td>0.025947</td>\n",
       "      <td>5.183365</td>\n",
       "      <td>0.703297</td>\n",
       "      <td>1.025146</td>\n",
       "      <td>0.020200</td>\n",
       "      <td>0.109703</td>\n",
       "      <td>808.298210</td>\n",
       "      <td>0.253232</td>\n",
       "      <td>34.297916</td>\n",
       "    </tr>\n",
       "    <tr>\n",
       "      <th>L56</th>\n",
       "      <td>0</td>\n",
       "      <td>v3.0.1.post4+gad5b2de</td>\n",
       "      <td>1.19.2</td>\n",
       "      <td>2.0.2</td>\n",
       "      <td>1.1.1</td>\n",
       "      <td>3.6.7</td>\n",
       "      <td>{'minimumROIDimensions': 2, 'minimumROISize': ...</td>\n",
       "      <td>{'Original': {}, 'Wavelet': {}}</td>\n",
       "      <td>91f710e9a57b891bb8a2de753d91a44464027c12</td>\n",
       "      <td>3D</td>\n",
       "      <td>...</td>\n",
       "      <td>326.311845</td>\n",
       "      <td>0.013964</td>\n",
       "      <td>5.184157</td>\n",
       "      <td>0.731034</td>\n",
       "      <td>0.515575</td>\n",
       "      <td>0.026783</td>\n",
       "      <td>0.082561</td>\n",
       "      <td>613.155316</td>\n",
       "      <td>0.285109</td>\n",
       "      <td>22.278056</td>\n",
       "    </tr>\n",
       "    <tr>\n",
       "      <th>L57</th>\n",
       "      <td>0</td>\n",
       "      <td>v3.0.1.post4+gad5b2de</td>\n",
       "      <td>1.19.2</td>\n",
       "      <td>2.0.2</td>\n",
       "      <td>1.1.1</td>\n",
       "      <td>3.6.7</td>\n",
       "      <td>{'minimumROIDimensions': 2, 'minimumROISize': ...</td>\n",
       "      <td>{'Original': {}, 'Wavelet': {}}</td>\n",
       "      <td>cb601d98e9be5faf634e187ba8ca058fe6133f84</td>\n",
       "      <td>3D</td>\n",
       "      <td>...</td>\n",
       "      <td>112.369080</td>\n",
       "      <td>0.007642</td>\n",
       "      <td>5.717587</td>\n",
       "      <td>0.278552</td>\n",
       "      <td>110.601900</td>\n",
       "      <td>0.405384</td>\n",
       "      <td>0.006583</td>\n",
       "      <td>295.482604</td>\n",
       "      <td>0.074280</td>\n",
       "      <td>1.334465</td>\n",
       "    </tr>\n",
       "    <tr>\n",
       "      <th>L58</th>\n",
       "      <td>0</td>\n",
       "      <td>v3.0.1.post4+gad5b2de</td>\n",
       "      <td>1.19.2</td>\n",
       "      <td>2.0.2</td>\n",
       "      <td>1.1.1</td>\n",
       "      <td>3.6.7</td>\n",
       "      <td>{'minimumROIDimensions': 2, 'minimumROISize': ...</td>\n",
       "      <td>{'Original': {}, 'Wavelet': {}}</td>\n",
       "      <td>7f1fa8a2fbc12b8e80c24023498ecd5b61017273</td>\n",
       "      <td>3D</td>\n",
       "      <td>...</td>\n",
       "      <td>208.933922</td>\n",
       "      <td>0.004270</td>\n",
       "      <td>6.479337</td>\n",
       "      <td>0.206056</td>\n",
       "      <td>494.745756</td>\n",
       "      <td>0.732839</td>\n",
       "      <td>0.001708</td>\n",
       "      <td>840.260449</td>\n",
       "      <td>0.100901</td>\n",
       "      <td>0.773317</td>\n",
       "    </tr>\n",
       "    <tr>\n",
       "      <th>L59</th>\n",
       "      <td>0</td>\n",
       "      <td>v3.0.1.post4+gad5b2de</td>\n",
       "      <td>1.19.2</td>\n",
       "      <td>2.0.2</td>\n",
       "      <td>1.1.1</td>\n",
       "      <td>3.6.7</td>\n",
       "      <td>{'minimumROIDimensions': 2, 'minimumROISize': ...</td>\n",
       "      <td>{'Original': {}, 'Wavelet': {}}</td>\n",
       "      <td>4c4c9134a36733ea0a5637bf06ec8153c41160bb</td>\n",
       "      <td>3D</td>\n",
       "      <td>...</td>\n",
       "      <td>307.010998</td>\n",
       "      <td>0.002623</td>\n",
       "      <td>6.397461</td>\n",
       "      <td>0.425758</td>\n",
       "      <td>16.433623</td>\n",
       "      <td>1.458568</td>\n",
       "      <td>0.000727</td>\n",
       "      <td>1413.049188</td>\n",
       "      <td>0.106956</td>\n",
       "      <td>0.350365</td>\n",
       "    </tr>\n",
       "  </tbody>\n",
       "</table>\n",
       "<p>138 rows × 874 columns</p>\n",
       "</div>"
      ],
      "text/plain": [
       "      MVI diagnosticsVersionsPyRadiomics diagnosticsVersionsNumpy  \\\n",
       "NAME                                                                \n",
       "X2-1    1          v3.0.1.post4+gad5b2de                   1.19.2   \n",
       "X3      1          v3.0.1.post4+gad5b2de                   1.19.2   \n",
       "X4      1          v3.0.1.post4+gad5b2de                   1.19.2   \n",
       "X5      1          v3.0.1.post4+gad5b2de                   1.19.2   \n",
       "X6      1          v3.0.1.post4+gad5b2de                   1.19.2   \n",
       "...   ...                            ...                      ...   \n",
       "L55     0          v3.0.1.post4+gad5b2de                   1.19.2   \n",
       "L56     0          v3.0.1.post4+gad5b2de                   1.19.2   \n",
       "L57     0          v3.0.1.post4+gad5b2de                   1.19.2   \n",
       "L58     0          v3.0.1.post4+gad5b2de                   1.19.2   \n",
       "L59     0          v3.0.1.post4+gad5b2de                   1.19.2   \n",
       "\n",
       "     diagnosticsVersionsSimpleITK diagnosticsVersionsPyWavelet  \\\n",
       "NAME                                                             \n",
       "X2-1                        2.0.2                        1.1.1   \n",
       "X3                          2.0.2                        1.1.1   \n",
       "X4                          2.0.2                        1.1.1   \n",
       "X5                          2.0.2                        1.1.1   \n",
       "X6                          2.0.2                        1.1.1   \n",
       "...                           ...                          ...   \n",
       "L55                         2.0.2                        1.1.1   \n",
       "L56                         2.0.2                        1.1.1   \n",
       "L57                         2.0.2                        1.1.1   \n",
       "L58                         2.0.2                        1.1.1   \n",
       "L59                         2.0.2                        1.1.1   \n",
       "\n",
       "     diagnosticsVersionsPython  \\\n",
       "NAME                             \n",
       "X2-1                     3.6.7   \n",
       "X3                       3.6.7   \n",
       "X4                       3.6.7   \n",
       "X5                       3.6.7   \n",
       "X6                       3.6.7   \n",
       "...                        ...   \n",
       "L55                      3.6.7   \n",
       "L56                      3.6.7   \n",
       "L57                      3.6.7   \n",
       "L58                      3.6.7   \n",
       "L59                      3.6.7   \n",
       "\n",
       "                       diagnosticsConfigurationSettings  \\\n",
       "NAME                                                      \n",
       "X2-1  {'minimumROIDimensions': 2, 'minimumROISize': ...   \n",
       "X3    {'minimumROIDimensions': 2, 'minimumROISize': ...   \n",
       "X4    {'minimumROIDimensions': 2, 'minimumROISize': ...   \n",
       "X5    {'minimumROIDimensions': 2, 'minimumROISize': ...   \n",
       "X6    {'minimumROIDimensions': 2, 'minimumROISize': ...   \n",
       "...                                                 ...   \n",
       "L55   {'minimumROIDimensions': 2, 'minimumROISize': ...   \n",
       "L56   {'minimumROIDimensions': 2, 'minimumROISize': ...   \n",
       "L57   {'minimumROIDimensions': 2, 'minimumROISize': ...   \n",
       "L58   {'minimumROIDimensions': 2, 'minimumROISize': ...   \n",
       "L59   {'minimumROIDimensions': 2, 'minimumROISize': ...   \n",
       "\n",
       "     diagnosticsConfigurationEnabledImageTypes  \\\n",
       "NAME                                             \n",
       "X2-1           {'Original': {}, 'Wavelet': {}}   \n",
       "X3             {'Original': {}, 'Wavelet': {}}   \n",
       "X4             {'Original': {}, 'Wavelet': {}}   \n",
       "X5             {'Original': {}, 'Wavelet': {}}   \n",
       "X6             {'Original': {}, 'Wavelet': {}}   \n",
       "...                                        ...   \n",
       "L55            {'Original': {}, 'Wavelet': {}}   \n",
       "L56            {'Original': {}, 'Wavelet': {}}   \n",
       "L57            {'Original': {}, 'Wavelet': {}}   \n",
       "L58            {'Original': {}, 'Wavelet': {}}   \n",
       "L59            {'Original': {}, 'Wavelet': {}}   \n",
       "\n",
       "                 diagnosticsImage-originalHash  \\\n",
       "NAME                                             \n",
       "X2-1  29f6af1a37740af486f91ec89a90a1ca4e6984e2   \n",
       "X3    4068241f92f505e2a2dae6f92d23e6931bb461da   \n",
       "X4    37a295cd8d6a203b63878c9495593cccf75685bc   \n",
       "X5    1ac20a232efc03ba36dc4df0ea8a6fb642f5cf97   \n",
       "X6    eef77e18d852d42eb559b217ca48634a2bcf0977   \n",
       "...                                        ...   \n",
       "L55   dbd3b9b2485071bef320ff53d7296898f68c82d7   \n",
       "L56   91f710e9a57b891bb8a2de753d91a44464027c12   \n",
       "L57   cb601d98e9be5faf634e187ba8ca058fe6133f84   \n",
       "L58   7f1fa8a2fbc12b8e80c24023498ecd5b61017273   \n",
       "L59   4c4c9134a36733ea0a5637bf06ec8153c41160bb   \n",
       "\n",
       "     diagnosticsImage-originalDimensionality  ...  \\\n",
       "NAME                                          ...   \n",
       "X2-1                                      3D  ...   \n",
       "X3                                        3D  ...   \n",
       "X4                                        3D  ...   \n",
       "X5                                        3D  ...   \n",
       "X6                                        3D  ...   \n",
       "...                                      ...  ...   \n",
       "L55                                       3D  ...   \n",
       "L56                                       3D  ...   \n",
       "L57                                       3D  ...   \n",
       "L58                                       3D  ...   \n",
       "L59                                       3D  ...   \n",
       "\n",
       "     wavelet-LLLglszmSmallAreaHighGrayLevelEmphasis  \\\n",
       "NAME                                                  \n",
       "X2-1                                     318.638010   \n",
       "X3                                       253.189853   \n",
       "X4                                       433.031711   \n",
       "X5                                       201.231494   \n",
       "X6                                       374.894737   \n",
       "...                                             ...   \n",
       "L55                                      279.387486   \n",
       "L56                                      326.311845   \n",
       "L57                                      112.369080   \n",
       "L58                                      208.933922   \n",
       "L59                                      307.010998   \n",
       "\n",
       "     wavelet-LLLglszmSmallAreaLowGrayLevelEmphasis  \\\n",
       "NAME                                                 \n",
       "X2-1                                      0.005610   \n",
       "X3                                        0.012959   \n",
       "X4                                        0.012561   \n",
       "X5                                        0.012413   \n",
       "X6                                        0.056433   \n",
       "...                                            ...   \n",
       "L55                                       0.025947   \n",
       "L56                                       0.013964   \n",
       "L57                                       0.007642   \n",
       "L58                                       0.004270   \n",
       "L59                                       0.002623   \n",
       "\n",
       "      wavelet-LLLglszmZoneEntropy  wavelet-LLLglszmZonePercentage  \\\n",
       "NAME                                                                \n",
       "X2-1                     6.130760                        0.461261   \n",
       "X3                       5.685717                        0.381232   \n",
       "X4                       5.770776                        0.698225   \n",
       "X5                       5.689176                        0.537954   \n",
       "X6                       3.721612                        1.000000   \n",
       "...                           ...                             ...   \n",
       "L55                      5.183365                        0.703297   \n",
       "L56                      5.184157                        0.731034   \n",
       "L57                      5.717587                        0.278552   \n",
       "L58                      6.479337                        0.206056   \n",
       "L59                      6.397461                        0.425758   \n",
       "\n",
       "      wavelet-LLLglszmZoneVariance wavelet-LLLngtdmBusyness  \\\n",
       "NAME                                                          \n",
       "X2-1                      5.506943                 0.179501   \n",
       "X3                       10.388698                 0.082228   \n",
       "X4                        0.787777                 0.037907   \n",
       "X5                        2.280703                 0.087354   \n",
       "X6                        0.000000                 0.041858   \n",
       "...                            ...                      ...   \n",
       "L55                       1.025146                 0.020200   \n",
       "L56                       0.515575                 0.026783   \n",
       "L57                     110.601900                 0.405384   \n",
       "L58                     494.745756                 0.732839   \n",
       "L59                      16.433623                 1.458568   \n",
       "\n",
       "     wavelet-LLLngtdmCoarseness wavelet-LLLngtdmComplexity  \\\n",
       "NAME                                                         \n",
       "X2-1                   0.009362                1490.228725   \n",
       "X3                     0.016611                1010.246634   \n",
       "X4                     0.029661                4444.669700   \n",
       "X5                     0.023778                 770.115810   \n",
       "X6                     0.150401                 569.926316   \n",
       "...                         ...                        ...   \n",
       "L55                    0.109703                 808.298210   \n",
       "L56                    0.082561                 613.155316   \n",
       "L57                    0.006583                 295.482604   \n",
       "L58                    0.001708                 840.260449   \n",
       "L59                    0.000727                1413.049188   \n",
       "\n",
       "     wavelet-LLLngtdmContrast  wavelet-LLLngtdmStrength  \n",
       "NAME                                                     \n",
       "X2-1                 0.414473                  3.601381  \n",
       "X3                   0.243355                  7.384377  \n",
       "X4                   0.862347                 16.119822  \n",
       "X5                   0.338459                  6.332368  \n",
       "X6                   2.030981                 33.718653  \n",
       "...                       ...                       ...  \n",
       "L55                  0.253232                 34.297916  \n",
       "L56                  0.285109                 22.278056  \n",
       "L57                  0.074280                  1.334465  \n",
       "L58                  0.100901                  0.773317  \n",
       "L59                  0.106956                  0.350365  \n",
       "\n",
       "[138 rows x 874 columns]"
      ]
     },
     "execution_count": 3,
     "metadata": {},
     "output_type": "execute_result"
    }
   ],
   "source": [
    "data = pd.read_csv(\"input/total.csv\",index_col=0)\n",
    "data"
   ]
  },
  {
   "cell_type": "code",
   "execution_count": 4,
   "id": "e9395f8a-0836-4016-ba64-213e975b3e6b",
   "metadata": {},
   "outputs": [
    {
     "name": "stdout",
     "output_type": "stream",
     "text": [
      "<class 'pandas.core.frame.DataFrame'>\n",
      "Index: 138 entries, X2-1 to L59\n",
      "Columns: 874 entries, MVI to wavelet-LLLngtdmStrength\n",
      "dtypes: float64(848), int64(9), object(17)\n",
      "memory usage: 943.4+ KB\n"
     ]
    }
   ],
   "source": [
    "data_ = data.copy()\n",
    "data_.info()"
   ]
  },
  {
   "cell_type": "code",
   "execution_count": 5,
   "id": "92f52dd1-53bf-4d19-a1d7-4408d5a777c1",
   "metadata": {},
   "outputs": [
    {
     "data": {
      "text/plain": [
       "NAME\n",
       "X2-1    1\n",
       "X3      1\n",
       "X4      1\n",
       "X5      1\n",
       "X6      1\n",
       "       ..\n",
       "L55     0\n",
       "L56     0\n",
       "L57     0\n",
       "L58     0\n",
       "L59     0\n",
       "Name: MVI, Length: 138, dtype: int64"
      ]
     },
     "execution_count": 5,
     "metadata": {},
     "output_type": "execute_result"
    }
   ],
   "source": [
    "target = data_.iloc[:, 0]\n",
    "target"
   ]
  },
  {
   "cell_type": "code",
   "execution_count": 6,
   "id": "914d3def-f0c9-49ad-b029-ac6bb86bee25",
   "metadata": {},
   "outputs": [
    {
     "data": {
      "text/html": [
       "<div>\n",
       "<style scoped>\n",
       "    .dataframe tbody tr th:only-of-type {\n",
       "        vertical-align: middle;\n",
       "    }\n",
       "\n",
       "    .dataframe tbody tr th {\n",
       "        vertical-align: top;\n",
       "    }\n",
       "\n",
       "    .dataframe thead th {\n",
       "        text-align: right;\n",
       "    }\n",
       "</style>\n",
       "<table border=\"1\" class=\"dataframe\">\n",
       "  <thead>\n",
       "    <tr style=\"text-align: right;\">\n",
       "      <th></th>\n",
       "      <th>originalshapeElongation</th>\n",
       "      <th>originalshapeFlatness</th>\n",
       "      <th>originalshapeLeastAxisLength</th>\n",
       "      <th>originalshapeMajorAxisLength</th>\n",
       "      <th>originalshapeMaximum2DDiameterColumn</th>\n",
       "      <th>originalshapeMaximum2DDiameterRow</th>\n",
       "      <th>originalshapeMaximum2DDiameterSlice</th>\n",
       "      <th>originalshapeMaximum3DDiameter</th>\n",
       "      <th>originalshapeMeshVolume</th>\n",
       "      <th>originalshapeMinorAxisLength</th>\n",
       "      <th>...</th>\n",
       "      <th>wavelet-LLLglszmSmallAreaHighGrayLevelEmphasis</th>\n",
       "      <th>wavelet-LLLglszmSmallAreaLowGrayLevelEmphasis</th>\n",
       "      <th>wavelet-LLLglszmZoneEntropy</th>\n",
       "      <th>wavelet-LLLglszmZonePercentage</th>\n",
       "      <th>wavelet-LLLglszmZoneVariance</th>\n",
       "      <th>wavelet-LLLngtdmBusyness</th>\n",
       "      <th>wavelet-LLLngtdmCoarseness</th>\n",
       "      <th>wavelet-LLLngtdmComplexity</th>\n",
       "      <th>wavelet-LLLngtdmContrast</th>\n",
       "      <th>wavelet-LLLngtdmStrength</th>\n",
       "    </tr>\n",
       "    <tr>\n",
       "      <th>NAME</th>\n",
       "      <th></th>\n",
       "      <th></th>\n",
       "      <th></th>\n",
       "      <th></th>\n",
       "      <th></th>\n",
       "      <th></th>\n",
       "      <th></th>\n",
       "      <th></th>\n",
       "      <th></th>\n",
       "      <th></th>\n",
       "      <th></th>\n",
       "      <th></th>\n",
       "      <th></th>\n",
       "      <th></th>\n",
       "      <th></th>\n",
       "      <th></th>\n",
       "      <th></th>\n",
       "      <th></th>\n",
       "      <th></th>\n",
       "      <th></th>\n",
       "      <th></th>\n",
       "    </tr>\n",
       "  </thead>\n",
       "  <tbody>\n",
       "    <tr>\n",
       "      <th>X2-1</th>\n",
       "      <td>0.556183</td>\n",
       "      <td>0.304004</td>\n",
       "      <td>8.934097</td>\n",
       "      <td>29.388077</td>\n",
       "      <td>30.766256</td>\n",
       "      <td>25.378386</td>\n",
       "      <td>22.853559</td>\n",
       "      <td>30.957695</td>\n",
       "      <td>2009.419271</td>\n",
       "      <td>16.345148</td>\n",
       "      <td>...</td>\n",
       "      <td>318.638010</td>\n",
       "      <td>0.005610</td>\n",
       "      <td>6.130760</td>\n",
       "      <td>0.461261</td>\n",
       "      <td>5.506943</td>\n",
       "      <td>0.179501</td>\n",
       "      <td>0.009362</td>\n",
       "      <td>1490.228725</td>\n",
       "      <td>0.414473</td>\n",
       "      <td>3.601381</td>\n",
       "    </tr>\n",
       "    <tr>\n",
       "      <th>X3</th>\n",
       "      <td>0.538948</td>\n",
       "      <td>0.421506</td>\n",
       "      <td>8.462664</td>\n",
       "      <td>20.077230</td>\n",
       "      <td>25.378386</td>\n",
       "      <td>24.965288</td>\n",
       "      <td>11.442280</td>\n",
       "      <td>25.711440</td>\n",
       "      <td>1245.291667</td>\n",
       "      <td>10.820578</td>\n",
       "      <td>...</td>\n",
       "      <td>253.189853</td>\n",
       "      <td>0.012959</td>\n",
       "      <td>5.685717</td>\n",
       "      <td>0.381232</td>\n",
       "      <td>10.388698</td>\n",
       "      <td>0.082228</td>\n",
       "      <td>0.016611</td>\n",
       "      <td>1010.246634</td>\n",
       "      <td>0.243355</td>\n",
       "      <td>7.384377</td>\n",
       "    </tr>\n",
       "    <tr>\n",
       "      <th>X4</th>\n",
       "      <td>0.376898</td>\n",
       "      <td>0.185720</td>\n",
       "      <td>5.208266</td>\n",
       "      <td>28.043626</td>\n",
       "      <td>24.202595</td>\n",
       "      <td>25.492205</td>\n",
       "      <td>14.740596</td>\n",
       "      <td>28.391945</td>\n",
       "      <td>769.449870</td>\n",
       "      <td>10.569593</td>\n",
       "      <td>...</td>\n",
       "      <td>433.031711</td>\n",
       "      <td>0.012561</td>\n",
       "      <td>5.770776</td>\n",
       "      <td>0.698225</td>\n",
       "      <td>0.787777</td>\n",
       "      <td>0.037907</td>\n",
       "      <td>0.029661</td>\n",
       "      <td>4444.669700</td>\n",
       "      <td>0.862347</td>\n",
       "      <td>16.119822</td>\n",
       "    </tr>\n",
       "    <tr>\n",
       "      <th>X5</th>\n",
       "      <td>0.392714</td>\n",
       "      <td>0.229733</td>\n",
       "      <td>6.209354</td>\n",
       "      <td>27.028565</td>\n",
       "      <td>24.953490</td>\n",
       "      <td>26.476129</td>\n",
       "      <td>12.483830</td>\n",
       "      <td>26.773148</td>\n",
       "      <td>892.256973</td>\n",
       "      <td>10.614482</td>\n",
       "      <td>...</td>\n",
       "      <td>201.231494</td>\n",
       "      <td>0.012413</td>\n",
       "      <td>5.689176</td>\n",
       "      <td>0.537954</td>\n",
       "      <td>2.280703</td>\n",
       "      <td>0.087354</td>\n",
       "      <td>0.023778</td>\n",
       "      <td>770.115810</td>\n",
       "      <td>0.338459</td>\n",
       "      <td>6.332368</td>\n",
       "    </tr>\n",
       "    <tr>\n",
       "      <th>X6</th>\n",
       "      <td>0.396503</td>\n",
       "      <td>0.000000</td>\n",
       "      <td>0.000000</td>\n",
       "      <td>5.834307</td>\n",
       "      <td>8.310385</td>\n",
       "      <td>8.310385</td>\n",
       "      <td>5.408327</td>\n",
       "      <td>9.330729</td>\n",
       "      <td>68.250000</td>\n",
       "      <td>2.313318</td>\n",
       "      <td>...</td>\n",
       "      <td>374.894737</td>\n",
       "      <td>0.056433</td>\n",
       "      <td>3.721612</td>\n",
       "      <td>1.000000</td>\n",
       "      <td>0.000000</td>\n",
       "      <td>0.041858</td>\n",
       "      <td>0.150401</td>\n",
       "      <td>569.926316</td>\n",
       "      <td>2.030981</td>\n",
       "      <td>33.718653</td>\n",
       "    </tr>\n",
       "    <tr>\n",
       "      <th>...</th>\n",
       "      <td>...</td>\n",
       "      <td>...</td>\n",
       "      <td>...</td>\n",
       "      <td>...</td>\n",
       "      <td>...</td>\n",
       "      <td>...</td>\n",
       "      <td>...</td>\n",
       "      <td>...</td>\n",
       "      <td>...</td>\n",
       "      <td>...</td>\n",
       "      <td>...</td>\n",
       "      <td>...</td>\n",
       "      <td>...</td>\n",
       "      <td>...</td>\n",
       "      <td>...</td>\n",
       "      <td>...</td>\n",
       "      <td>...</td>\n",
       "      <td>...</td>\n",
       "      <td>...</td>\n",
       "      <td>...</td>\n",
       "      <td>...</td>\n",
       "    </tr>\n",
       "    <tr>\n",
       "      <th>L55</th>\n",
       "      <td>0.491960</td>\n",
       "      <td>0.320452</td>\n",
       "      <td>4.651530</td>\n",
       "      <td>14.515524</td>\n",
       "      <td>16.520263</td>\n",
       "      <td>17.406822</td>\n",
       "      <td>8.340038</td>\n",
       "      <td>17.460737</td>\n",
       "      <td>313.942978</td>\n",
       "      <td>7.141055</td>\n",
       "      <td>...</td>\n",
       "      <td>279.387486</td>\n",
       "      <td>0.025947</td>\n",
       "      <td>5.183365</td>\n",
       "      <td>0.703297</td>\n",
       "      <td>1.025146</td>\n",
       "      <td>0.020200</td>\n",
       "      <td>0.109703</td>\n",
       "      <td>808.298210</td>\n",
       "      <td>0.253232</td>\n",
       "      <td>34.297916</td>\n",
       "    </tr>\n",
       "    <tr>\n",
       "      <th>L56</th>\n",
       "      <td>0.491124</td>\n",
       "      <td>0.329871</td>\n",
       "      <td>6.792284</td>\n",
       "      <td>20.590706</td>\n",
       "      <td>16.891183</td>\n",
       "      <td>20.227225</td>\n",
       "      <td>18.690962</td>\n",
       "      <td>21.405454</td>\n",
       "      <td>616.151733</td>\n",
       "      <td>10.112599</td>\n",
       "      <td>...</td>\n",
       "      <td>326.311845</td>\n",
       "      <td>0.013964</td>\n",
       "      <td>5.184157</td>\n",
       "      <td>0.731034</td>\n",
       "      <td>0.515575</td>\n",
       "      <td>0.026783</td>\n",
       "      <td>0.082561</td>\n",
       "      <td>613.155316</td>\n",
       "      <td>0.285109</td>\n",
       "      <td>22.278056</td>\n",
       "    </tr>\n",
       "    <tr>\n",
       "      <th>L57</th>\n",
       "      <td>0.728034</td>\n",
       "      <td>0.554254</td>\n",
       "      <td>14.544836</td>\n",
       "      <td>26.242202</td>\n",
       "      <td>30.566942</td>\n",
       "      <td>26.468711</td>\n",
       "      <td>27.300936</td>\n",
       "      <td>31.643975</td>\n",
       "      <td>4666.411388</td>\n",
       "      <td>19.105224</td>\n",
       "      <td>...</td>\n",
       "      <td>112.369080</td>\n",
       "      <td>0.007642</td>\n",
       "      <td>5.717587</td>\n",
       "      <td>0.278552</td>\n",
       "      <td>110.601900</td>\n",
       "      <td>0.405384</td>\n",
       "      <td>0.006583</td>\n",
       "      <td>295.482604</td>\n",
       "      <td>0.074280</td>\n",
       "      <td>1.334465</td>\n",
       "    </tr>\n",
       "    <tr>\n",
       "      <th>L58</th>\n",
       "      <td>0.795739</td>\n",
       "      <td>0.716195</td>\n",
       "      <td>22.609793</td>\n",
       "      <td>31.569341</td>\n",
       "      <td>37.260536</td>\n",
       "      <td>37.951750</td>\n",
       "      <td>28.675305</td>\n",
       "      <td>38.636205</td>\n",
       "      <td>12252.504740</td>\n",
       "      <td>25.120958</td>\n",
       "      <td>...</td>\n",
       "      <td>208.933922</td>\n",
       "      <td>0.004270</td>\n",
       "      <td>6.479337</td>\n",
       "      <td>0.206056</td>\n",
       "      <td>494.745756</td>\n",
       "      <td>0.732839</td>\n",
       "      <td>0.001708</td>\n",
       "      <td>840.260449</td>\n",
       "      <td>0.100901</td>\n",
       "      <td>0.773317</td>\n",
       "    </tr>\n",
       "    <tr>\n",
       "      <th>L59</th>\n",
       "      <td>0.642624</td>\n",
       "      <td>0.447204</td>\n",
       "      <td>23.302191</td>\n",
       "      <td>52.106358</td>\n",
       "      <td>43.637007</td>\n",
       "      <td>60.602229</td>\n",
       "      <td>45.004700</td>\n",
       "      <td>61.800219</td>\n",
       "      <td>27374.066030</td>\n",
       "      <td>33.484814</td>\n",
       "      <td>...</td>\n",
       "      <td>307.010998</td>\n",
       "      <td>0.002623</td>\n",
       "      <td>6.397461</td>\n",
       "      <td>0.425758</td>\n",
       "      <td>16.433623</td>\n",
       "      <td>1.458568</td>\n",
       "      <td>0.000727</td>\n",
       "      <td>1413.049188</td>\n",
       "      <td>0.106956</td>\n",
       "      <td>0.350365</td>\n",
       "    </tr>\n",
       "  </tbody>\n",
       "</table>\n",
       "<p>138 rows × 851 columns</p>\n",
       "</div>"
      ],
      "text/plain": [
       "      originalshapeElongation  originalshapeFlatness  \\\n",
       "NAME                                                   \n",
       "X2-1                 0.556183               0.304004   \n",
       "X3                   0.538948               0.421506   \n",
       "X4                   0.376898               0.185720   \n",
       "X5                   0.392714               0.229733   \n",
       "X6                   0.396503               0.000000   \n",
       "...                       ...                    ...   \n",
       "L55                  0.491960               0.320452   \n",
       "L56                  0.491124               0.329871   \n",
       "L57                  0.728034               0.554254   \n",
       "L58                  0.795739               0.716195   \n",
       "L59                  0.642624               0.447204   \n",
       "\n",
       "      originalshapeLeastAxisLength  originalshapeMajorAxisLength  \\\n",
       "NAME                                                               \n",
       "X2-1                      8.934097                     29.388077   \n",
       "X3                        8.462664                     20.077230   \n",
       "X4                        5.208266                     28.043626   \n",
       "X5                        6.209354                     27.028565   \n",
       "X6                        0.000000                      5.834307   \n",
       "...                            ...                           ...   \n",
       "L55                       4.651530                     14.515524   \n",
       "L56                       6.792284                     20.590706   \n",
       "L57                      14.544836                     26.242202   \n",
       "L58                      22.609793                     31.569341   \n",
       "L59                      23.302191                     52.106358   \n",
       "\n",
       "      originalshapeMaximum2DDiameterColumn  originalshapeMaximum2DDiameterRow  \\\n",
       "NAME                                                                            \n",
       "X2-1                             30.766256                          25.378386   \n",
       "X3                               25.378386                          24.965288   \n",
       "X4                               24.202595                          25.492205   \n",
       "X5                               24.953490                          26.476129   \n",
       "X6                                8.310385                           8.310385   \n",
       "...                                    ...                                ...   \n",
       "L55                              16.520263                          17.406822   \n",
       "L56                              16.891183                          20.227225   \n",
       "L57                              30.566942                          26.468711   \n",
       "L58                              37.260536                          37.951750   \n",
       "L59                              43.637007                          60.602229   \n",
       "\n",
       "      originalshapeMaximum2DDiameterSlice  originalshapeMaximum3DDiameter  \\\n",
       "NAME                                                                        \n",
       "X2-1                            22.853559                       30.957695   \n",
       "X3                              11.442280                       25.711440   \n",
       "X4                              14.740596                       28.391945   \n",
       "X5                              12.483830                       26.773148   \n",
       "X6                               5.408327                        9.330729   \n",
       "...                                   ...                             ...   \n",
       "L55                              8.340038                       17.460737   \n",
       "L56                             18.690962                       21.405454   \n",
       "L57                             27.300936                       31.643975   \n",
       "L58                             28.675305                       38.636205   \n",
       "L59                             45.004700                       61.800219   \n",
       "\n",
       "      originalshapeMeshVolume  originalshapeMinorAxisLength  ...  \\\n",
       "NAME                                                         ...   \n",
       "X2-1              2009.419271                     16.345148  ...   \n",
       "X3                1245.291667                     10.820578  ...   \n",
       "X4                 769.449870                     10.569593  ...   \n",
       "X5                 892.256973                     10.614482  ...   \n",
       "X6                  68.250000                      2.313318  ...   \n",
       "...                       ...                           ...  ...   \n",
       "L55                313.942978                      7.141055  ...   \n",
       "L56                616.151733                     10.112599  ...   \n",
       "L57               4666.411388                     19.105224  ...   \n",
       "L58              12252.504740                     25.120958  ...   \n",
       "L59              27374.066030                     33.484814  ...   \n",
       "\n",
       "      wavelet-LLLglszmSmallAreaHighGrayLevelEmphasis  \\\n",
       "NAME                                                   \n",
       "X2-1                                      318.638010   \n",
       "X3                                        253.189853   \n",
       "X4                                        433.031711   \n",
       "X5                                        201.231494   \n",
       "X6                                        374.894737   \n",
       "...                                              ...   \n",
       "L55                                       279.387486   \n",
       "L56                                       326.311845   \n",
       "L57                                       112.369080   \n",
       "L58                                       208.933922   \n",
       "L59                                       307.010998   \n",
       "\n",
       "      wavelet-LLLglszmSmallAreaLowGrayLevelEmphasis  \\\n",
       "NAME                                                  \n",
       "X2-1                                       0.005610   \n",
       "X3                                         0.012959   \n",
       "X4                                         0.012561   \n",
       "X5                                         0.012413   \n",
       "X6                                         0.056433   \n",
       "...                                             ...   \n",
       "L55                                        0.025947   \n",
       "L56                                        0.013964   \n",
       "L57                                        0.007642   \n",
       "L58                                        0.004270   \n",
       "L59                                        0.002623   \n",
       "\n",
       "      wavelet-LLLglszmZoneEntropy  wavelet-LLLglszmZonePercentage  \\\n",
       "NAME                                                                \n",
       "X2-1                     6.130760                        0.461261   \n",
       "X3                       5.685717                        0.381232   \n",
       "X4                       5.770776                        0.698225   \n",
       "X5                       5.689176                        0.537954   \n",
       "X6                       3.721612                        1.000000   \n",
       "...                           ...                             ...   \n",
       "L55                      5.183365                        0.703297   \n",
       "L56                      5.184157                        0.731034   \n",
       "L57                      5.717587                        0.278552   \n",
       "L58                      6.479337                        0.206056   \n",
       "L59                      6.397461                        0.425758   \n",
       "\n",
       "      wavelet-LLLglszmZoneVariance  wavelet-LLLngtdmBusyness  \\\n",
       "NAME                                                           \n",
       "X2-1                      5.506943                  0.179501   \n",
       "X3                       10.388698                  0.082228   \n",
       "X4                        0.787777                  0.037907   \n",
       "X5                        2.280703                  0.087354   \n",
       "X6                        0.000000                  0.041858   \n",
       "...                            ...                       ...   \n",
       "L55                       1.025146                  0.020200   \n",
       "L56                       0.515575                  0.026783   \n",
       "L57                     110.601900                  0.405384   \n",
       "L58                     494.745756                  0.732839   \n",
       "L59                      16.433623                  1.458568   \n",
       "\n",
       "      wavelet-LLLngtdmCoarseness  wavelet-LLLngtdmComplexity  \\\n",
       "NAME                                                           \n",
       "X2-1                    0.009362                 1490.228725   \n",
       "X3                      0.016611                 1010.246634   \n",
       "X4                      0.029661                 4444.669700   \n",
       "X5                      0.023778                  770.115810   \n",
       "X6                      0.150401                  569.926316   \n",
       "...                          ...                         ...   \n",
       "L55                     0.109703                  808.298210   \n",
       "L56                     0.082561                  613.155316   \n",
       "L57                     0.006583                  295.482604   \n",
       "L58                     0.001708                  840.260449   \n",
       "L59                     0.000727                 1413.049188   \n",
       "\n",
       "      wavelet-LLLngtdmContrast  wavelet-LLLngtdmStrength  \n",
       "NAME                                                      \n",
       "X2-1                  0.414473                  3.601381  \n",
       "X3                    0.243355                  7.384377  \n",
       "X4                    0.862347                 16.119822  \n",
       "X5                    0.338459                  6.332368  \n",
       "X6                    2.030981                 33.718653  \n",
       "...                        ...                       ...  \n",
       "L55                   0.253232                 34.297916  \n",
       "L56                   0.285109                 22.278056  \n",
       "L57                   0.074280                  1.334465  \n",
       "L58                   0.100901                  0.773317  \n",
       "L59                   0.106956                  0.350365  \n",
       "\n",
       "[138 rows x 851 columns]"
      ]
     },
     "execution_count": 6,
     "metadata": {},
     "output_type": "execute_result"
    }
   ],
   "source": [
    "features = data_.drop(columns=['MVI','diagnosticsVersionsPyRadiomics','diagnosticsVersionsNumpy','diagnosticsVersionsSimpleITK','diagnosticsVersionsPyWavelet',\n",
    "                              'diagnosticsVersionsPython','diagnosticsConfigurationSettings','diagnosticsConfigurationEnabledImageTypes',\n",
    "                              'diagnosticsImage-originalHash','diagnosticsImage-originalDimensionality',\n",
    "                               'diagnosticsImage-originalSpacing','diagnosticsImage-originalSize','diagnosticsImage-originalMean','diagnosticsImage-originalMinimum',\n",
    "                               'diagnosticsImage-originalMaximum','diagnosticsMask-originalHash','diagnosticsMask-originalSpacing','diagnosticsMask-originalSize',\n",
    "                               'diagnosticsMask-originalBoundingBox','diagnosticsMask-originalVoxelNum','diagnosticsMask-originalVolumeNum','diagnosticsMask-originalCenterOfMassIndex',\n",
    "                               'diagnosticsMask-originalCenterOfMass'\n",
    "                              ])\n",
    "features"
   ]
  },
  {
   "cell_type": "code",
   "execution_count": 7,
   "id": "4c34447d-9a3a-4172-a217-4432d220c0b2",
   "metadata": {},
   "outputs": [],
   "source": [
    "from sklearn.preprocessing import StandardScaler,MinMaxScaler"
   ]
  },
  {
   "cell_type": "code",
   "execution_count": 8,
   "id": "a35081b2-2914-4302-af94-82757b72d3aa",
   "metadata": {},
   "outputs": [
    {
     "data": {
      "text/plain": [
       "array([[-0.2741352 , -0.38880644, -0.39349722, ...,  0.74669837,\n",
       "         0.32000434, -0.34395201],\n",
       "       [-0.36646711,  0.20209181, -0.45581461, ...,  0.26008714,\n",
       "        -0.0244887 , -0.11173468],\n",
       "       [-1.23459146, -0.98364019, -0.88600431, ...,  3.74194382,\n",
       "         1.22165747,  0.42448618],\n",
       "       ...,\n",
       "       [ 0.64649905,  0.86966344,  0.34817059, ..., -0.46454867,\n",
       "        -0.36486876, -0.48310551],\n",
       "       [ 1.00920399,  1.68404208,  1.41425446, ...,  0.08775323,\n",
       "        -0.31127622, -0.51755131],\n",
       "       [ 0.18894464,  0.33132756,  1.50578065, ...,  0.66845289,\n",
       "        -0.29908481, -0.54351399]])"
      ]
     },
     "execution_count": 8,
     "metadata": {},
     "output_type": "execute_result"
    }
   ],
   "source": [
    "transfer = StandardScaler()\n",
    "features_ = transfer.fit_transform(features)\n",
    "features_\n",
    "# 数据标准化很有必要"
   ]
  },
  {
   "cell_type": "code",
   "execution_count": 9,
   "id": "f9092e1f-f759-426f-b1d5-4eaab8f2bc45",
   "metadata": {},
   "outputs": [],
   "source": [
    "from sklearn.model_selection import train_test_split"
   ]
  },
  {
   "cell_type": "code",
   "execution_count": 10,
   "id": "1c84c308-0b57-441d-9216-bcf3531d48c9",
   "metadata": {},
   "outputs": [],
   "source": [
    "train_features, test_features, train_target, test_target = train_test_split(\n",
    "    features_, target, \n",
    "    test_size = 0.3)"
   ]
  },
  {
   "cell_type": "code",
   "execution_count": 11,
   "id": "2bcb2945-cc53-46d6-81f6-9ae1a927478d",
   "metadata": {},
   "outputs": [
    {
     "name": "stdout",
     "output_type": "stream",
     "text": [
      "(96, 851)\n",
      "(96,)\n",
      "(42, 851)\n",
      "(42,)\n"
     ]
    }
   ],
   "source": [
    "print(train_features.shape)\n",
    "print(train_target.shape)\n",
    "print(test_features.shape)\n",
    "print(test_target.shape)"
   ]
  },
  {
   "cell_type": "code",
   "execution_count": 12,
   "id": "898f99c9-cb0b-4fa0-8df1-2374d9a10c03",
   "metadata": {},
   "outputs": [],
   "source": [
    "from sklearn.linear_model import LinearRegression, Lasso, Ridge, ElasticNet"
   ]
  },
  {
   "cell_type": "code",
   "execution_count": 13,
   "id": "fe280dfc-5fba-4b65-907c-be00e666be22",
   "metadata": {},
   "outputs": [],
   "source": [
    "from sklearn.linear_model import LogisticRegression"
   ]
  },
  {
   "cell_type": "code",
   "execution_count": 14,
   "id": "6ad05dbf-c0e7-4bdc-a423-6945343bd069",
   "metadata": {},
   "outputs": [],
   "source": [
    "# log = LogisticRegression(penalty='l1',max_iter = 10000000,solver='saga',C=0.001,n_jobs=-1)\n",
    "log = LogisticRegression(penalty='l1',max_iter = 10000000,n_jobs=-1,solver='saga')"
   ]
  },
  {
   "cell_type": "code",
   "execution_count": 15,
   "id": "9974af50-8cbf-4cbe-b439-734d58d4749d",
   "metadata": {},
   "outputs": [
    {
     "data": {
      "text/html": [
       "<style>#sk-container-id-1 {color: black;background-color: white;}#sk-container-id-1 pre{padding: 0;}#sk-container-id-1 div.sk-toggleable {background-color: white;}#sk-container-id-1 label.sk-toggleable__label {cursor: pointer;display: block;width: 100%;margin-bottom: 0;padding: 0.3em;box-sizing: border-box;text-align: center;}#sk-container-id-1 label.sk-toggleable__label-arrow:before {content: \"▸\";float: left;margin-right: 0.25em;color: #696969;}#sk-container-id-1 label.sk-toggleable__label-arrow:hover:before {color: black;}#sk-container-id-1 div.sk-estimator:hover label.sk-toggleable__label-arrow:before {color: black;}#sk-container-id-1 div.sk-toggleable__content {max-height: 0;max-width: 0;overflow: hidden;text-align: left;background-color: #f0f8ff;}#sk-container-id-1 div.sk-toggleable__content pre {margin: 0.2em;color: black;border-radius: 0.25em;background-color: #f0f8ff;}#sk-container-id-1 input.sk-toggleable__control:checked~div.sk-toggleable__content {max-height: 200px;max-width: 100%;overflow: auto;}#sk-container-id-1 input.sk-toggleable__control:checked~label.sk-toggleable__label-arrow:before {content: \"▾\";}#sk-container-id-1 div.sk-estimator input.sk-toggleable__control:checked~label.sk-toggleable__label {background-color: #d4ebff;}#sk-container-id-1 div.sk-label input.sk-toggleable__control:checked~label.sk-toggleable__label {background-color: #d4ebff;}#sk-container-id-1 input.sk-hidden--visually {border: 0;clip: rect(1px 1px 1px 1px);clip: rect(1px, 1px, 1px, 1px);height: 1px;margin: -1px;overflow: hidden;padding: 0;position: absolute;width: 1px;}#sk-container-id-1 div.sk-estimator {font-family: monospace;background-color: #f0f8ff;border: 1px dotted black;border-radius: 0.25em;box-sizing: border-box;margin-bottom: 0.5em;}#sk-container-id-1 div.sk-estimator:hover {background-color: #d4ebff;}#sk-container-id-1 div.sk-parallel-item::after {content: \"\";width: 100%;border-bottom: 1px solid gray;flex-grow: 1;}#sk-container-id-1 div.sk-label:hover label.sk-toggleable__label {background-color: #d4ebff;}#sk-container-id-1 div.sk-serial::before {content: \"\";position: absolute;border-left: 1px solid gray;box-sizing: border-box;top: 0;bottom: 0;left: 50%;z-index: 0;}#sk-container-id-1 div.sk-serial {display: flex;flex-direction: column;align-items: center;background-color: white;padding-right: 0.2em;padding-left: 0.2em;position: relative;}#sk-container-id-1 div.sk-item {position: relative;z-index: 1;}#sk-container-id-1 div.sk-parallel {display: flex;align-items: stretch;justify-content: center;background-color: white;position: relative;}#sk-container-id-1 div.sk-item::before, #sk-container-id-1 div.sk-parallel-item::before {content: \"\";position: absolute;border-left: 1px solid gray;box-sizing: border-box;top: 0;bottom: 0;left: 50%;z-index: -1;}#sk-container-id-1 div.sk-parallel-item {display: flex;flex-direction: column;z-index: 1;position: relative;background-color: white;}#sk-container-id-1 div.sk-parallel-item:first-child::after {align-self: flex-end;width: 50%;}#sk-container-id-1 div.sk-parallel-item:last-child::after {align-self: flex-start;width: 50%;}#sk-container-id-1 div.sk-parallel-item:only-child::after {width: 0;}#sk-container-id-1 div.sk-dashed-wrapped {border: 1px dashed gray;margin: 0 0.4em 0.5em 0.4em;box-sizing: border-box;padding-bottom: 0.4em;background-color: white;}#sk-container-id-1 div.sk-label label {font-family: monospace;font-weight: bold;display: inline-block;line-height: 1.2em;}#sk-container-id-1 div.sk-label-container {text-align: center;}#sk-container-id-1 div.sk-container {/* jupyter's `normalize.less` sets `[hidden] { display: none; }` but bootstrap.min.css set `[hidden] { display: none !important; }` so we also need the `!important` here to be able to override the default hidden behavior on the sphinx rendered scikit-learn.org. See: https://github.com/scikit-learn/scikit-learn/issues/21755 */display: inline-block !important;position: relative;}#sk-container-id-1 div.sk-text-repr-fallback {display: none;}</style><div id=\"sk-container-id-1\" class=\"sk-top-container\"><div class=\"sk-text-repr-fallback\"><pre>LogisticRegression(max_iter=10000000, n_jobs=-1, penalty=&#x27;l1&#x27;, solver=&#x27;saga&#x27;)</pre><b>In a Jupyter environment, please rerun this cell to show the HTML representation or trust the notebook. <br />On GitHub, the HTML representation is unable to render, please try loading this page with nbviewer.org.</b></div><div class=\"sk-container\" hidden><div class=\"sk-item\"><div class=\"sk-estimator sk-toggleable\"><input class=\"sk-toggleable__control sk-hidden--visually\" id=\"sk-estimator-id-1\" type=\"checkbox\" checked><label for=\"sk-estimator-id-1\" class=\"sk-toggleable__label sk-toggleable__label-arrow\">LogisticRegression</label><div class=\"sk-toggleable__content\"><pre>LogisticRegression(max_iter=10000000, n_jobs=-1, penalty=&#x27;l1&#x27;, solver=&#x27;saga&#x27;)</pre></div></div></div></div></div>"
      ],
      "text/plain": [
       "LogisticRegression(max_iter=10000000, n_jobs=-1, penalty='l1', solver='saga')"
      ]
     },
     "execution_count": 15,
     "metadata": {},
     "output_type": "execute_result"
    }
   ],
   "source": [
    "log.fit(train_features, train_target)"
   ]
  },
  {
   "cell_type": "code",
   "execution_count": 16,
   "id": "4351e618-96ec-4612-8b65-28291f6f86c1",
   "metadata": {},
   "outputs": [
    {
     "data": {
      "text/plain": [
       "array([[ 0.        , -0.00251629,  0.        ,  0.        ,  0.27412983,\n",
       "         0.        ,  0.        ,  0.        ,  0.        ,  0.        ,\n",
       "        -0.55947819,  0.        ,  0.        ,  0.        ,  0.        ,\n",
       "         0.        ,  0.        ,  0.        ,  0.06909572,  0.        ,\n",
       "         0.        ,  0.        ,  0.        ,  0.        ,  0.        ,\n",
       "         0.        ,  0.        ,  0.        ,  0.        ,  0.        ,\n",
       "         0.        ,  0.        ,  0.        ,  0.34595378,  0.        ,\n",
       "         0.        ,  0.2024178 ,  0.        ,  0.        ,  0.        ,\n",
       "         0.03449612,  0.        ,  0.        ,  0.        ,  0.        ,\n",
       "         0.        ,  0.        ,  0.        ,  0.        ,  0.        ,\n",
       "         0.        ,  0.        ,  0.        ,  0.        ,  0.        ,\n",
       "         0.11891291,  0.        ,  0.        ,  0.        ,  0.        ,\n",
       "         0.        ,  0.00573071,  0.        ,  0.        ,  0.        ,\n",
       "         0.        ,  0.        ,  0.        ,  0.        ,  0.        ,\n",
       "         0.        ,  0.        ,  0.        ,  0.        ,  0.        ,\n",
       "         0.        ,  0.        ,  0.        ,  0.        ,  0.        ,\n",
       "         0.        ,  0.        ,  0.        ,  0.        ,  0.        ,\n",
       "         0.        ,  0.        ,  0.        ,  0.        ,  0.        ,\n",
       "         0.        ,  0.        ,  0.        ,  0.        ,  0.        ,\n",
       "         0.        ,  0.        ,  0.        ,  0.        , -0.17212674,\n",
       "         0.        ,  0.        ,  0.        ,  0.        ,  0.        ,\n",
       "         0.        ,  0.        ,  0.        ,  0.        ,  0.        ,\n",
       "         0.        ,  0.        ,  0.        ,  0.        ,  0.        ,\n",
       "         0.        ,  0.        ,  0.        ,  0.        ,  0.        ,\n",
       "         0.15287748,  0.        ,  0.        ,  0.        ,  0.        ,\n",
       "        -0.08843626,  0.        , -0.2473824 ,  0.        ,  0.        ,\n",
       "         0.        ,  0.        ,  0.        ,  0.        ,  0.        ,\n",
       "         0.        ,  0.        ,  0.        ,  0.        ,  0.10855865,\n",
       "         0.        , -0.22064539,  0.        ,  0.        ,  0.28757947,\n",
       "         0.        , -0.22064539,  0.        ,  0.        ,  0.        ,\n",
       "         0.        ,  0.        ,  0.        ,  0.        ,  0.        ,\n",
       "         0.        ,  0.        , -0.18775474,  0.        ,  0.        ,\n",
       "         0.        ,  0.        ,  0.        ,  0.        ,  0.        ,\n",
       "         0.        ,  0.        ,  0.        ,  0.        ,  0.        ,\n",
       "         0.        ,  0.        ,  0.        ,  0.        ,  0.        ,\n",
       "         0.00746575,  0.        ,  0.        ,  0.        , -0.10959639,\n",
       "         0.        ,  0.        ,  0.        ,  0.        ,  0.        ,\n",
       "         0.        ,  0.        , -0.11496052,  0.        ,  0.        ,\n",
       "         0.        , -0.02073876,  0.        ,  0.        ,  0.        ,\n",
       "         0.        ,  0.        ,  0.        ,  0.        ,  0.07040879,\n",
       "         0.        ,  0.        ,  0.        ,  0.        ,  0.        ,\n",
       "         0.        ,  0.        ,  0.        ,  0.        ,  0.        ,\n",
       "         0.        ,  0.        ,  0.        ,  0.        , -0.08446169,\n",
       "         0.        ,  0.        ,  0.        ,  0.        ,  0.        ,\n",
       "         0.        ,  0.        ,  0.        ,  0.        ,  0.        ,\n",
       "         0.        ,  0.        ,  0.        ,  0.        ,  0.        ,\n",
       "         0.        ,  0.        ,  0.        ,  0.31439542,  0.        ,\n",
       "         0.        ,  0.        ,  0.        ,  0.        ,  0.        ,\n",
       "         0.        ,  0.        ,  0.        ,  0.        ,  0.        ,\n",
       "         0.        ,  0.        ,  0.        ,  0.        ,  0.        ,\n",
       "        -0.13773232,  0.        ,  0.        ,  0.        ,  0.        ,\n",
       "         0.        ,  0.        ,  0.        ,  0.        ,  0.        ,\n",
       "         0.        ,  0.        ,  0.        ,  0.        ,  0.        ,\n",
       "         0.        ,  0.        ,  0.        ,  0.        ,  0.        ,\n",
       "         0.        ,  0.        ,  0.        ,  0.        ,  0.        ,\n",
       "         0.        ,  0.        ,  0.        ,  0.        ,  0.        ,\n",
       "         0.        ,  0.05949456,  0.00507665,  0.        ,  0.        ,\n",
       "         0.        ,  0.        ,  0.        ,  0.        ,  0.        ,\n",
       "         0.        ,  0.        ,  0.        ,  0.        ,  0.        ,\n",
       "         0.        ,  0.        ,  0.        ,  0.        , -0.19429432,\n",
       "         0.        ,  0.        ,  0.        ,  0.        ,  0.        ,\n",
       "         0.        ,  0.        ,  0.        ,  0.        ,  0.        ,\n",
       "         0.        ,  0.        ,  0.14493185,  0.18806648,  0.        ,\n",
       "         0.        ,  0.        ,  0.        ,  0.        ,  0.        ,\n",
       "         0.        ,  0.        ,  0.        , -0.02130371,  0.        ,\n",
       "         0.        ,  0.        ,  0.        ,  0.        ,  0.        ,\n",
       "        -0.28568381,  0.        ,  0.        ,  0.        ,  0.        ,\n",
       "         0.        ,  0.        ,  0.        ,  0.62754869,  0.        ,\n",
       "         0.        ,  0.        ,  0.        ,  0.        ,  0.        ,\n",
       "         0.        ,  0.        ,  0.        ,  0.        ,  0.        ,\n",
       "         0.        ,  0.        ,  0.        ,  0.        ,  0.        ,\n",
       "         0.        ,  0.        ,  0.        ,  0.        ,  0.        ,\n",
       "         0.        ,  0.        ,  0.        ,  0.        ,  0.        ,\n",
       "         0.        ,  0.        ,  0.        ,  0.        ,  0.        ,\n",
       "         0.        ,  0.        ,  0.        ,  0.        ,  0.77849134,\n",
       "         0.28151971,  0.        ,  0.        , -0.23263558,  0.        ,\n",
       "         0.        ,  0.        ,  0.        ,  0.        ,  0.        ,\n",
       "         0.        ,  0.        ,  0.39129018, -0.08901909,  0.01952043,\n",
       "         0.        ,  0.34483769,  0.        ,  0.        ,  0.        ,\n",
       "         0.        ,  0.        ,  0.        ,  0.        ,  0.        ,\n",
       "         0.        ,  0.        ,  0.        ,  0.        ,  0.        ,\n",
       "         0.        ,  0.        ,  0.        ,  0.        ,  0.03802895,\n",
       "         0.        ,  0.        ,  0.        ,  0.        ,  0.        ,\n",
       "         0.        ,  0.        ,  0.        ,  0.        ,  0.        ,\n",
       "         0.        ,  0.        ,  0.        ,  0.        ,  0.        ,\n",
       "         0.        ,  0.07840697,  0.        ,  0.        ,  0.        ,\n",
       "         0.        ,  0.        ,  0.        ,  0.        ,  0.        ,\n",
       "         0.        ,  0.        ,  0.        ,  0.        ,  0.        ,\n",
       "         0.06270483,  0.        ,  0.        ,  0.        ,  0.        ,\n",
       "         0.        ,  0.        ,  0.        ,  0.        ,  0.        ,\n",
       "         0.        ,  0.        ,  0.00672794,  0.        ,  0.        ,\n",
       "         0.        ,  0.        ,  0.        ,  0.        , -0.34359723,\n",
       "         0.        ,  0.        ,  0.        ,  0.        ,  0.        ,\n",
       "         0.        ,  0.        ,  0.27021751,  0.13589688,  0.        ,\n",
       "         0.        ,  0.        ,  0.        ,  0.        ,  0.        ,\n",
       "         0.        ,  0.        ,  0.        ,  0.        ,  0.        ,\n",
       "         0.        , -0.27701915,  0.        ,  0.        , -0.10326807,\n",
       "         0.        ,  0.        ,  0.        ,  0.        ,  0.        ,\n",
       "         0.        ,  0.        ,  0.        ,  0.        , -0.10111215,\n",
       "         0.        ,  0.        ,  0.        ,  0.19397458,  0.        ,\n",
       "         0.        ,  0.        ,  0.        ,  0.        ,  0.        ,\n",
       "         0.        ,  0.        ,  0.        ,  0.        ,  0.        ,\n",
       "         0.        ,  0.        ,  0.        ,  0.        ,  0.        ,\n",
       "         0.        ,  0.        ,  0.        ,  0.        ,  0.        ,\n",
       "         0.        ,  0.        ,  0.        ,  0.        ,  0.        ,\n",
       "         0.        ,  0.        ,  0.        ,  0.        ,  0.        ,\n",
       "         0.        ,  0.        ,  0.        ,  0.        ,  0.        ,\n",
       "         0.        ,  0.        ,  0.        ,  0.        ,  0.        ,\n",
       "         0.        ,  0.        ,  0.        ,  0.        ,  0.        ,\n",
       "         0.        ,  0.        ,  0.        ,  0.        ,  0.        ,\n",
       "         0.        ,  0.        ,  0.        ,  0.        ,  0.        ,\n",
       "         0.        ,  0.        ,  0.        ,  0.07223007,  0.        ,\n",
       "         0.        ,  0.        ,  0.        ,  0.3460551 ,  0.        ,\n",
       "         0.        ,  0.        ,  0.        ,  0.        ,  0.        ,\n",
       "         0.        ,  0.        ,  0.        ,  0.        , -0.00155021,\n",
       "         0.        ,  0.        ,  0.        ,  0.        ,  0.        ,\n",
       "         0.        ,  0.19409813,  0.        ,  0.        ,  0.        ,\n",
       "         0.        , -0.01599551,  0.        ,  0.        ,  0.        ,\n",
       "         0.        ,  0.        , -0.64428766,  0.        ,  0.        ,\n",
       "         0.        ,  0.        ,  0.        ,  0.        ,  0.        ,\n",
       "         0.        ,  0.        ,  0.        ,  0.        ,  0.        ,\n",
       "        -0.02913667,  0.        ,  0.        ,  0.        ,  0.        ,\n",
       "         0.        ,  0.        ,  0.        ,  0.        ,  0.        ,\n",
       "         0.        ,  0.        ,  0.        ,  0.        ,  0.        ,\n",
       "         0.        ,  0.        ,  0.        ,  0.        ,  0.        ,\n",
       "         0.04702923,  0.        ,  0.        ,  0.        ,  0.        ,\n",
       "         0.        ,  0.        ,  0.        ,  0.        ,  0.        ,\n",
       "         0.        ,  0.        ,  0.        ,  0.11107747,  0.        ,\n",
       "         0.        ,  0.        ,  0.        ,  0.        ,  0.        ,\n",
       "         0.        ,  0.        ,  0.        ,  0.        ,  0.        ,\n",
       "         0.        ,  0.        ,  0.        ,  0.42605464,  0.        ,\n",
       "         0.        , -0.13112857,  0.        ,  0.        ,  0.        ,\n",
       "         0.        ,  0.        ,  0.        ,  0.06236162,  0.        ,\n",
       "         0.        ,  0.        , -0.08051036,  0.        ,  0.        ,\n",
       "         0.        , -0.11354168,  0.        ,  0.        ,  0.        ,\n",
       "         0.        ,  0.        ,  0.        ,  0.        ,  0.        ,\n",
       "         0.        ,  0.34703833,  0.        ,  0.        ,  0.        ,\n",
       "        -0.3056747 ,  0.        ,  0.        ,  0.        ,  0.        ,\n",
       "         0.        ,  0.        ,  0.06364839,  0.10301453,  0.        ,\n",
       "         0.        ,  0.        ,  0.        ,  0.        ,  0.        ,\n",
       "         0.        ,  0.        , -0.46918597,  0.        ,  0.        ,\n",
       "         0.        ,  0.        ,  0.        ,  0.        ,  0.        ,\n",
       "         0.1242977 ,  0.        ,  0.        ,  0.        ,  0.12932451,\n",
       "         0.        ,  0.        ,  0.        ,  0.        ,  0.        ,\n",
       "         0.        ,  0.        ,  0.25354827,  0.        ,  0.        ,\n",
       "         0.15710567,  0.        ,  0.        ,  0.        ,  0.        ,\n",
       "         0.        ,  0.        ,  0.        ,  0.02689169,  0.        ,\n",
       "         0.        ,  0.        ,  0.        ,  0.11324242,  0.        ,\n",
       "         0.        ,  0.        ,  0.        ,  0.        ,  0.        ,\n",
       "         0.        , -0.33205082, -0.13877792,  0.        ,  0.        ,\n",
       "         0.        ,  0.        ,  0.        ,  0.        ,  0.        ,\n",
       "         0.        ,  0.        ,  0.        ,  0.        ,  0.        ,\n",
       "         0.        ,  0.        ,  0.        ,  0.        ,  0.        ,\n",
       "         0.        ,  0.        ,  0.        ,  0.        ,  0.        ,\n",
       "         0.        ,  0.        ,  0.        ,  0.        ,  0.        ,\n",
       "         0.        ,  0.        ,  0.        ,  0.        ,  0.        ,\n",
       "         0.        , -0.48272295,  0.        ,  0.        ,  0.        ,\n",
       "         0.        ,  0.        ,  0.        ,  0.        ,  0.        ,\n",
       "         0.        ,  0.        ,  0.        ,  0.        ,  0.        ,\n",
       "         0.        ,  0.        ,  0.        ,  0.        ,  0.        ,\n",
       "         0.        , -0.07214082,  0.        ,  0.        ,  0.        ,\n",
       "         0.        ,  0.        ,  0.        ,  0.        ,  0.        ,\n",
       "         0.        ,  0.        ,  0.        ,  0.        ,  0.        ,\n",
       "         0.        ,  0.        ,  0.        ,  0.        ,  0.        ,\n",
       "         0.        ,  0.        ,  0.        ,  0.        ,  0.        ,\n",
       "         0.        ,  0.        ,  0.        ,  0.        ,  0.        ,\n",
       "         0.        ,  0.        ,  0.        ,  0.        ,  0.2261661 ,\n",
       "         0.20850129,  0.        ,  0.        ,  0.        ,  0.        ,\n",
       "         0.        ,  0.        ,  0.        ,  0.        ,  0.        ,\n",
       "         0.23250034,  0.        ,  0.        ,  0.        ,  0.        ,\n",
       "         0.        ]])"
      ]
     },
     "execution_count": 16,
     "metadata": {},
     "output_type": "execute_result"
    }
   ],
   "source": [
    "log.coef_\n",
    "# 系数"
   ]
  },
  {
   "cell_type": "code",
   "execution_count": 17,
   "id": "1997573e-bc68-4e6e-8c07-3b4cd3b0d14c",
   "metadata": {},
   "outputs": [
    {
     "data": {
      "text/plain": [
       "array([0.47463269])"
      ]
     },
     "execution_count": 17,
     "metadata": {},
     "output_type": "execute_result"
    }
   ],
   "source": [
    "log.intercept_\n",
    "# 截距"
   ]
  },
  {
   "cell_type": "code",
   "execution_count": 18,
   "id": "f6e8cd5e-3754-488e-862c-b743d1329421",
   "metadata": {},
   "outputs": [
    {
     "data": {
      "text/plain": [
       "array([0, 0, 1, 1, 0, 1, 1, 1, 1, 0, 1, 1, 1, 1, 1, 0, 0, 1, 0, 1, 1, 0,\n",
       "       1, 1, 0, 0, 0, 0, 0, 1, 1, 1, 0, 0, 1, 1, 1, 0, 1, 0, 1, 1])"
      ]
     },
     "execution_count": 18,
     "metadata": {},
     "output_type": "execute_result"
    }
   ],
   "source": [
    "test_predict = log.predict(test_features)\n",
    "test_predict\n",
    "# 预测结果"
   ]
  },
  {
   "cell_type": "code",
   "execution_count": 19,
   "id": "21f9b90d-9c07-49e9-a80f-009833b8141d",
   "metadata": {},
   "outputs": [
    {
     "data": {
      "text/plain": [
       "array([[8.42049958e-01, 1.57950042e-01],\n",
       "       [7.52061245e-01, 2.47938755e-01],\n",
       "       [3.77992974e-03, 9.96220070e-01],\n",
       "       [6.88291591e-02, 9.31170841e-01],\n",
       "       [5.04696786e-01, 4.95303214e-01],\n",
       "       [1.16195013e-02, 9.88380499e-01],\n",
       "       [4.06995075e-01, 5.93004925e-01],\n",
       "       [6.73802143e-02, 9.32619786e-01],\n",
       "       [1.77252597e-01, 8.22747403e-01],\n",
       "       [6.11758742e-01, 3.88241258e-01],\n",
       "       [1.96482463e-04, 9.99803518e-01],\n",
       "       [4.11416489e-01, 5.88583511e-01],\n",
       "       [4.11544470e-01, 5.88455530e-01],\n",
       "       [2.86270225e-01, 7.13729775e-01],\n",
       "       [3.08084515e-04, 9.99691915e-01],\n",
       "       [9.53382417e-01, 4.66175828e-02],\n",
       "       [9.76206214e-01, 2.37937863e-02],\n",
       "       [3.83952914e-01, 6.16047086e-01],\n",
       "       [6.16789410e-01, 3.83210590e-01],\n",
       "       [4.71089319e-01, 5.28910681e-01],\n",
       "       [4.64444466e-01, 5.35555534e-01],\n",
       "       [8.91506869e-01, 1.08493131e-01],\n",
       "       [2.77657125e-01, 7.22342875e-01],\n",
       "       [2.97518991e-01, 7.02481009e-01],\n",
       "       [7.81287073e-01, 2.18712927e-01],\n",
       "       [7.94306213e-01, 2.05693787e-01],\n",
       "       [6.97753064e-01, 3.02246936e-01],\n",
       "       [8.79310150e-01, 1.20689850e-01],\n",
       "       [7.81268118e-01, 2.18731882e-01],\n",
       "       [4.40509985e-01, 5.59490015e-01],\n",
       "       [3.39232286e-01, 6.60767714e-01],\n",
       "       [4.12860150e-01, 5.87139850e-01],\n",
       "       [7.71509235e-01, 2.28490765e-01],\n",
       "       [8.44794789e-01, 1.55205211e-01],\n",
       "       [6.89042704e-03, 9.93109573e-01],\n",
       "       [6.07946466e-02, 9.39205353e-01],\n",
       "       [7.28849161e-02, 9.27115084e-01],\n",
       "       [8.17443810e-01, 1.82556190e-01],\n",
       "       [1.58555332e-03, 9.98414447e-01],\n",
       "       [7.83429870e-01, 2.16570130e-01],\n",
       "       [1.11846037e-01, 8.88153963e-01],\n",
       "       [3.30644722e-01, 6.69355278e-01]])"
      ]
     },
     "execution_count": 19,
     "metadata": {},
     "output_type": "execute_result"
    }
   ],
   "source": [
    "test_proba = log.predict_proba(test_features)\n",
    "test_proba"
   ]
  },
  {
   "cell_type": "code",
   "execution_count": 20,
   "id": "7192f7d3-1943-4e22-a087-a9e2cbcd97cf",
   "metadata": {},
   "outputs": [
    {
     "data": {
      "text/plain": [
       "0.6428571428571429"
      ]
     },
     "execution_count": 20,
     "metadata": {},
     "output_type": "execute_result"
    }
   ],
   "source": [
    "log.score(test_features,test_target)"
   ]
  },
  {
   "cell_type": "code",
   "execution_count": null,
   "id": "6798e710-4a25-4898-b497-6fa1b9404ab5",
   "metadata": {},
   "outputs": [],
   "source": []
  },
  {
   "cell_type": "code",
   "execution_count": null,
   "id": "5528bfda-0123-4177-afbf-24a09fac13e6",
   "metadata": {},
   "outputs": [],
   "source": [
    "\n"
   ]
  },
  {
   "cell_type": "code",
   "execution_count": null,
   "id": "10fe814a-e00a-4561-81f0-56f6af86aa5e",
   "metadata": {},
   "outputs": [],
   "source": []
  },
  {
   "cell_type": "code",
   "execution_count": null,
   "id": "903130a9-5580-4db4-8c22-d09b48fb8fda",
   "metadata": {},
   "outputs": [],
   "source": []
  },
  {
   "cell_type": "code",
   "execution_count": null,
   "id": "098ba017-38d6-4c75-90a2-7ab9cfffa78e",
   "metadata": {},
   "outputs": [],
   "source": []
  },
  {
   "cell_type": "code",
   "execution_count": null,
   "id": "2094881b-bdd7-48b3-a28c-0b36841b101b",
   "metadata": {},
   "outputs": [],
   "source": [
    "from sklearn.metrics import confusion_matrix, roc_curve,accuracy_score\n",
    "import matplotlib.pyplot as plt\n",
    "accuracy_score(test_target,test_predict)\n",
    "confusion_matrix(test_target,test_predict)\n",
    "import seaborn as sns\n",
    "sns.heatmap(confusion_matrix(test_target,test_predict),\n",
    "           xticklabels=['B','M'],\n",
    "           yticklabels=['B','M'])\n",
    "fpr, tpr, thresholds = roc_curve(test_target, y_score)\n",
    "\n",
    "plt.figure()\n",
    "plt.plot(fpr, tpr)\n",
    "plt.xlabel('False Positive Rate')\n",
    "plt.ylabel('True Positive Rate')\n",
    "plt.title('ROC curve')\n",
    "plt.show()"
   ]
  },
  {
   "cell_type": "code",
   "execution_count": null,
   "id": "70fec9cd-39e9-4ce2-a83b-d5503f4caf4c",
   "metadata": {},
   "outputs": [],
   "source": []
  },
  {
   "cell_type": "code",
   "execution_count": 21,
   "id": "532f3a1c-e927-4612-82e7-b7e1fee723b1",
   "metadata": {},
   "outputs": [],
   "source": [
    "from sklearn.metrics import confusion_matrix, roc_curve,accuracy_score"
   ]
  },
  {
   "cell_type": "code",
   "execution_count": 22,
   "id": "2f8c8ff6-25a1-4477-adf7-93fe441090a3",
   "metadata": {},
   "outputs": [
    {
     "data": {
      "text/plain": [
       "0.6428571428571429"
      ]
     },
     "execution_count": 22,
     "metadata": {},
     "output_type": "execute_result"
    }
   ],
   "source": [
    "accuracy_score(test_target,test_predict)"
   ]
  },
  {
   "cell_type": "code",
   "execution_count": 23,
   "id": "ae7a6d34-5449-447f-931e-1ed2929885f2",
   "metadata": {},
   "outputs": [
    {
     "data": {
      "text/plain": [
       "array([[ 6,  4],\n",
       "       [11, 21]])"
      ]
     },
     "execution_count": 23,
     "metadata": {},
     "output_type": "execute_result"
    }
   ],
   "source": [
    "confusion_matrix(test_target,test_predict)"
   ]
  },
  {
   "cell_type": "code",
   "execution_count": 24,
   "id": "af82902b-43d1-490e-8279-bfae0ff220a8",
   "metadata": {},
   "outputs": [],
   "source": [
    "import seaborn as sns"
   ]
  },
  {
   "cell_type": "code",
   "execution_count": 25,
   "id": "f656e4f9-4c95-4ba2-8c34-feebf3279d9d",
   "metadata": {},
   "outputs": [
    {
     "data": {
      "text/plain": [
       "<Axes: >"
      ]
     },
     "execution_count": 25,
     "metadata": {},
     "output_type": "execute_result"
    },
    {
     "data": {
      "image/png": "[encoded data removed]",
      "text/plain": [
       "<Figure size 640x480 with 2 Axes>"
      ]
     },
     "metadata": {},
     "output_type": "display_data"
    }
   ],
   "source": [
    "sns.heatmap(confusion_matrix(test_target,test_predict),\n",
    "           xticklabels=['B','M'],\n",
    "           yticklabels=['B','M'])"
   ]
  },
  {
   "cell_type": "code",
   "execution_count": 26,
   "id": "d1bbdb8f-48eb-4520-ba07-20a4cedc52dd",
   "metadata": {},
   "outputs": [
    {
     "data": {
      "text/plain": [
       "array([-1.67356055, -1.109636  ,  5.57426276,  2.60481528, -0.0187877 ,\n",
       "        4.44338291,  0.37640162,  2.62764618,  1.53507342, -0.45471105,\n",
       "        8.53474087,  0.35811277,  0.35758428,  0.91356822,  8.08482828,\n",
       "       -3.01803832, -3.71424938,  0.47280347, -0.47594297,  0.11577186,\n",
       "        0.1424626 , -2.10622628,  0.95611293,  0.85914031, -1.27318262,\n",
       "       -1.35108046, -0.83662091, -1.98591365, -1.2730717 ,  0.23909257,\n",
       "        0.66671728,  0.35215412, -1.21685285, -1.69434556,  4.97070794,\n",
       "        2.73753241,  2.543196  , -1.49912415,  6.44523503, -1.28576713,\n",
       "        2.07202186,  0.70527053])"
      ]
     },
     "execution_count": 26,
     "metadata": {},
     "output_type": "execute_result"
    }
   ],
   "source": [
    "y_score = log.decision_function(test_features)\n",
    "y_score"
   ]
  },
  {
   "cell_type": "code",
   "execution_count": 27,
   "id": "db875607-c458-4a24-85b7-d91e11d205c8",
   "metadata": {},
   "outputs": [],
   "source": [
    "fpr, tpr, thresholds = roc_curve(test_target, y_score)"
   ]
  },
  {
   "cell_type": "code",
   "execution_count": 28,
   "id": "c19e7aea-2b7c-4da2-bdf5-232d794d38e3",
   "metadata": {},
   "outputs": [
    {
     "data": {
      "image/png": "[encoded data removed]",
      "text/plain": [
       "<Figure size 640x480 with 1 Axes>"
      ]
     },
     "metadata": {},
     "output_type": "display_data"
    }
   ],
   "source": [
    "import matplotlib.pyplot as plt\n",
    "plt.figure()\n",
    "plt.plot(fpr, tpr)\n",
    "plt.xlabel('False Positive Rate')\n",
    "plt.ylabel('True Positive Rate')\n",
    "plt.title('ROC curve')\n",
    "plt.show()"
   ]
  },
  {
   "cell_type": "code",
   "execution_count": 28,
   "id": "244242ad-31b9-48a8-b908-e6cb2cf5784f",
   "metadata": {},
   "outputs": [
    {
     "name": "stdout",
     "output_type": "stream",
     "text": [
      "Name: scikit-learn\n",
      "Version: 1.1.3\n",
      "Summary: A set of python modules for machine learning and data mining\n",
      "Home-page: http://scikit-learn.org\n",
      "Author: \n",
      "Author-email: \n",
      "License: new BSD\n",
      "Location: /root/anaconda3/lib/python3.11/site-packages\n",
      "Requires: joblib, numpy, scipy, threadpoolctl\n",
      "Required-by: imbalanced-learn\n",
      "Note: you may need to restart the kernel to use updated packages.\n"
     ]
    }
   ],
   "source": [
    "pip show scikit-learn"
   ]
  },
  {
   "cell_type": "code",
   "execution_count": 29,
   "id": "3513355c-826d-4c76-9a8b-f20835dabdad",
   "metadata": {},
   "outputs": [],
   "source": [
    "#from sklearn.metrics import plot_confusion_matrix, plot_roc_curve, plot_precision_recall_curve"
   ]
  },
  {
   "cell_type": "code",
   "execution_count": 30,
   "id": "c69ed691-c70c-423b-be3d-3896a38b63bc",
   "metadata": {},
   "outputs": [],
   "source": [
    "#confusion_matrix(log, test_features, test_target)"
   ]
  },
  {
   "cell_type": "code",
   "execution_count": null,
   "id": "f3e3bf25-c14d-418e-ae81-55bdd0ff2613",
   "metadata": {},
   "outputs": [],
   "source": []
  },
  {
   "cell_type": "code",
   "execution_count": null,
   "id": "ac4fd16a-6a89-436c-9520-01e3ec8be771",
   "metadata": {},
   "outputs": [],
   "source": []
  },
  {
   "cell_type": "code",
   "execution_count": null,
   "id": "88755a71-9f3f-4cc3-a182-dd4c83df34b5",
   "metadata": {},
   "outputs": [],
   "source": []
  },
  {
   "cell_type": "code",
   "execution_count": null,
   "id": "17d6e0dd-2256-44a7-82c6-3f08f1ce552c",
   "metadata": {},
   "outputs": [],
   "source": []
  },
  {
   "cell_type": "code",
   "execution_count": 32,
   "id": "4833f6d8-b157-41e2-bf07-109d18cb2bf8",
   "metadata": {},
   "outputs": [],
   "source": [
    "Cs = np.logspace(-3,2,200)\n",
    "acc_=[]\n",
    "coef_ = []\n",
    "for C_ in Cs:\n",
    "    log_l1 = LogisticRegression(penalty='l1',C = C_,max_iter=2000, solver='liblinear')\n",
    "    log_l1.fit(train_features, train_target)\n",
    "    coef_.append(log_l1.coef_)\n",
    "    acc_.append(log_l1.score(test_features, test_target))"
   ]
  },
  {
   "cell_type": "code",
   "execution_count": 33,
   "id": "84f354dc-035c-4e07-9678-3a602b88ba30",
   "metadata": {},
   "outputs": [],
   "source": [
    "# acc_"
   ]
  },
  {
   "cell_type": "code",
   "execution_count": 34,
   "id": "b02def00-5b15-42aa-9552-18b092a7fd4f",
   "metadata": {},
   "outputs": [
    {
     "data": {
      "text/plain": [
       "200"
      ]
     },
     "execution_count": 34,
     "metadata": {},
     "output_type": "execute_result"
    }
   ],
   "source": [
    "len(acc_)"
   ]
  },
  {
   "cell_type": "code",
   "execution_count": 35,
   "id": "9f404f3f-1bf4-491a-aa00-58b852955a60",
   "metadata": {},
   "outputs": [],
   "source": [
    "# coef_"
   ]
  },
  {
   "cell_type": "code",
   "execution_count": 36,
   "id": "1012488a-b6b4-47be-b47f-11e69c373970",
   "metadata": {},
   "outputs": [
    {
     "data": {
      "text/plain": [
       "200"
      ]
     },
     "execution_count": 36,
     "metadata": {},
     "output_type": "execute_result"
    }
   ],
   "source": [
    "len(coef_)"
   ]
  },
  {
   "cell_type": "code",
   "execution_count": 37,
   "id": "99f5ddb4-e428-45e7-ae76-98a992a9b16f",
   "metadata": {},
   "outputs": [
    {
     "data": {
      "image/png": "[encoded data removed]",
      "text/plain": [
       "<Figure size 640x480 with 1 Axes>"
      ]
     },
     "metadata": {},
     "output_type": "display_data"
    }
   ],
   "source": [
    "plt.plot(Cs, acc_)\n",
    "plt.xscale('log')\n",
    "plt.xlabel('C')\n",
    "plt.ylabel('acc')\n",
    "plt.show()"
   ]
  },
  {
   "cell_type": "code",
   "execution_count": 37,
   "id": "e03d9ba7-9db1-48eb-b2ee-6dc5b0596f85",
   "metadata": {},
   "outputs": [],
   "source": [
    "\n",
    "\n",
    "coef_ = np.array(coef_).reshape(200,851)"
   ]
  },
  {
   "cell_type": "code",
   "execution_count": 38,
   "id": "15d28097-7aa6-407f-9e6b-109334527deb",
   "metadata": {},
   "outputs": [
    {
     "data": {
      "image/png": "[encoded data removed]",
      "text/plain": [
       "<Figure size 640x480 with 1 Axes>"
      ]
     },
     "metadata": {},
     "output_type": "display_data"
    }
   ],
   "source": [
    "plt.plot(Cs, coef_)\n",
    "plt.xscale('log')\n",
    "plt.xlabel('C')\n",
    "plt.ylabel('Cofficients')\n",
    "plt.show()"
   ]
  },
  {
   "cell_type": "code",
   "execution_count": 39,
   "id": "96011ac2-4b4d-4ae0-9fa6-9e371214157d",
   "metadata": {},
   "outputs": [
    {
     "data": {
      "image/png": "[encoded data removed]",
      "text/plain": [
       "<Figure size 640x480 with 1 Axes>"
      ]
     },
     "metadata": {},
     "output_type": "display_data"
    }
   ],
   "source": [
    "plt.plot(Cs, coef_)\n",
    "plt.ylim([-2,1])\n",
    "plt.xlim([10**-3,10])\n",
    "plt.xscale('log')\n",
    "plt.xlabel('C')\n",
    "plt.ylabel('Cofficients')\n",
    "plt.show()"
   ]
  },
  {
   "cell_type": "code",
   "execution_count": null,
   "id": "21d0e148-0de6-4a20-8f8c-1e4a3ec9b954",
   "metadata": {},
   "outputs": [],
   "source": []
  },
  {
   "cell_type": "code",
   "execution_count": null,
   "id": "5f5d5bac-fb56-4ff8-9db0-55f0622431a6",
   "metadata": {},
   "outputs": [],
   "source": []
  },
  {
   "cell_type": "code",
   "execution_count": null,
   "id": "1e5602e4-078a-4185-97d3-e3d5273403ab",
   "metadata": {},
   "outputs": [],
   "source": []
  },
  {
   "cell_type": "code",
   "execution_count": 40,
   "id": "61b971f1-b39a-4903-9545-53056834594f",
   "metadata": {},
   "outputs": [],
   "source": [
    "from sklearn.preprocessing import PolynomialFeatures"
   ]
  },
  {
   "cell_type": "code",
   "execution_count": 41,
   "id": "e7ace37f-e1ed-431b-bf56-9ff95d868832",
   "metadata": {},
   "outputs": [],
   "source": [
    "poly_features = PolynomialFeatures(degree=2)"
   ]
  },
  {
   "cell_type": "code",
   "execution_count": 42,
   "id": "744d48cd-9066-4dd1-84ca-c1c5ea326f27",
   "metadata": {},
   "outputs": [],
   "source": [
    "train_features_ = poly_features.fit_transform(train_features)"
   ]
  },
  {
   "cell_type": "code",
   "execution_count": 43,
   "id": "c4f57153-6cc8-4912-9bd2-ab8818cbe0d3",
   "metadata": {},
   "outputs": [
    {
     "data": {
      "text/plain": [
       "array([[-0.73056071, -0.56990691, -0.42790781, ..., -0.3836155 ,\n",
       "         0.17452563, -0.50515712],\n",
       "       [ 0.07890596,  0.22929524, -0.56506549, ..., -0.43272533,\n",
       "        -0.07419243, -0.27138364],\n",
       "       [-0.95526715, -0.17753836, -0.70150359, ..., -0.46341379,\n",
       "        -0.00959204, -0.08691933],\n",
       "       ...,\n",
       "       [ 0.61489384, -0.33896987, -0.10462267, ..., -0.54954595,\n",
       "        -0.41418403, -0.49195947],\n",
       "       [ 0.14596168,  0.09927088,  2.33807886, ..., -0.41042663,\n",
       "        -0.44187784, -0.55642497],\n",
       "       [ 1.71753842, -1.91760088, -1.57447032, ..., -0.42301321,\n",
       "        -0.26818687,  0.2843586 ]])"
      ]
     },
     "execution_count": 43,
     "metadata": {},
     "output_type": "execute_result"
    }
   ],
   "source": [
    "train_features"
   ]
  },
  {
   "cell_type": "code",
   "execution_count": 44,
   "id": "1d6f6348-f315-4aa9-a1b3-aa111c5876b3",
   "metadata": {},
   "outputs": [
    {
     "data": {
      "text/plain": [
       "array([[ 1.00000000e+00, -7.30560712e-01, -5.69906907e-01, ...,\n",
       "         3.04591945e-02, -8.81628628e-02,  2.55183714e-01],\n",
       "       [ 1.00000000e+00,  7.89059635e-02,  2.29295240e-01, ...,\n",
       "         5.50451605e-03,  2.01346107e-02,  7.36490811e-02],\n",
       "       [ 1.00000000e+00, -9.55267149e-01, -1.77538356e-01, ...,\n",
       "         9.20071742e-05,  8.33733475e-04,  7.55497073e-03],\n",
       "       ...,\n",
       "       [ 1.00000000e+00,  6.14893839e-01, -3.38969873e-01, ...,\n",
       "         1.71548414e-01,  2.03761758e-01,  2.42024120e-01],\n",
       "       [ 1.00000000e+00,  1.45961676e-01,  9.92708827e-02, ...,\n",
       "         1.95256027e-01,  2.45871865e-01,  3.09608747e-01],\n",
       "       [ 1.00000000e+00,  1.71753842e+00, -1.91760088e+00, ...,\n",
       "         7.19241963e-02, -7.62612435e-02,  8.08598157e-02]])"
      ]
     },
     "execution_count": 44,
     "metadata": {},
     "output_type": "execute_result"
    }
   ],
   "source": [
    "train_features_"
   ]
  },
  {
   "cell_type": "code",
   "execution_count": 45,
   "id": "8b9a566e-0c85-48f3-ad78-2cc57d0307f7",
   "metadata": {},
   "outputs": [
    {
     "data": {
      "text/plain": [
       "(117, 363378)"
      ]
     },
     "execution_count": 45,
     "metadata": {},
     "output_type": "execute_result"
    }
   ],
   "source": [
    "train_features_.shape"
   ]
  },
  {
   "cell_type": "code",
   "execution_count": 46,
   "id": "4c2cf858-ada2-4a7f-a78b-bda68ebd7421",
   "metadata": {},
   "outputs": [],
   "source": [
    "log_ = LogisticRegression(max_iter = 10000)"
   ]
  },
  {
   "cell_type": "code",
   "execution_count": 47,
   "id": "23ddd21d-1d90-4463-a302-ffac3a8aef51",
   "metadata": {},
   "outputs": [
    {
     "data": {
      "text/html": [
       "<style>#sk-container-id-2 {color: black;background-color: white;}#sk-container-id-2 pre{padding: 0;}#sk-container-id-2 div.sk-toggleable {background-color: white;}#sk-container-id-2 label.sk-toggleable__label {cursor: pointer;display: block;width: 100%;margin-bottom: 0;padding: 0.3em;box-sizing: border-box;text-align: center;}#sk-container-id-2 label.sk-toggleable__label-arrow:before {content: \"▸\";float: left;margin-right: 0.25em;color: #696969;}#sk-container-id-2 label.sk-toggleable__label-arrow:hover:before {color: black;}#sk-container-id-2 div.sk-estimator:hover label.sk-toggleable__label-arrow:before {color: black;}#sk-container-id-2 div.sk-toggleable__content {max-height: 0;max-width: 0;overflow: hidden;text-align: left;background-color: #f0f8ff;}#sk-container-id-2 div.sk-toggleable__content pre {margin: 0.2em;color: black;border-radius: 0.25em;background-color: #f0f8ff;}#sk-container-id-2 input.sk-toggleable__control:checked~div.sk-toggleable__content {max-height: 200px;max-width: 100%;overflow: auto;}#sk-container-id-2 input.sk-toggleable__control:checked~label.sk-toggleable__label-arrow:before {content: \"▾\";}#sk-container-id-2 div.sk-estimator input.sk-toggleable__control:checked~label.sk-toggleable__label {background-color: #d4ebff;}#sk-container-id-2 div.sk-label input.sk-toggleable__control:checked~label.sk-toggleable__label {background-color: #d4ebff;}#sk-container-id-2 input.sk-hidden--visually {border: 0;clip: rect(1px 1px 1px 1px);clip: rect(1px, 1px, 1px, 1px);height: 1px;margin: -1px;overflow: hidden;padding: 0;position: absolute;width: 1px;}#sk-container-id-2 div.sk-estimator {font-family: monospace;background-color: #f0f8ff;border: 1px dotted black;border-radius: 0.25em;box-sizing: border-box;margin-bottom: 0.5em;}#sk-container-id-2 div.sk-estimator:hover {background-color: #d4ebff;}#sk-container-id-2 div.sk-parallel-item::after {content: \"\";width: 100%;border-bottom: 1px solid gray;flex-grow: 1;}#sk-container-id-2 div.sk-label:hover label.sk-toggleable__label {background-color: #d4ebff;}#sk-container-id-2 div.sk-serial::before {content: \"\";position: absolute;border-left: 1px solid gray;box-sizing: border-box;top: 0;bottom: 0;left: 50%;z-index: 0;}#sk-container-id-2 div.sk-serial {display: flex;flex-direction: column;align-items: center;background-color: white;padding-right: 0.2em;padding-left: 0.2em;position: relative;}#sk-container-id-2 div.sk-item {position: relative;z-index: 1;}#sk-container-id-2 div.sk-parallel {display: flex;align-items: stretch;justify-content: center;background-color: white;position: relative;}#sk-container-id-2 div.sk-item::before, #sk-container-id-2 div.sk-parallel-item::before {content: \"\";position: absolute;border-left: 1px solid gray;box-sizing: border-box;top: 0;bottom: 0;left: 50%;z-index: -1;}#sk-container-id-2 div.sk-parallel-item {display: flex;flex-direction: column;z-index: 1;position: relative;background-color: white;}#sk-container-id-2 div.sk-parallel-item:first-child::after {align-self: flex-end;width: 50%;}#sk-container-id-2 div.sk-parallel-item:last-child::after {align-self: flex-start;width: 50%;}#sk-container-id-2 div.sk-parallel-item:only-child::after {width: 0;}#sk-container-id-2 div.sk-dashed-wrapped {border: 1px dashed gray;margin: 0 0.4em 0.5em 0.4em;box-sizing: border-box;padding-bottom: 0.4em;background-color: white;}#sk-container-id-2 div.sk-label label {font-family: monospace;font-weight: bold;display: inline-block;line-height: 1.2em;}#sk-container-id-2 div.sk-label-container {text-align: center;}#sk-container-id-2 div.sk-container {/* jupyter's `normalize.less` sets `[hidden] { display: none; }` but bootstrap.min.css set `[hidden] { display: none !important; }` so we also need the `!important` here to be able to override the default hidden behavior on the sphinx rendered scikit-learn.org. See: https://github.com/scikit-learn/scikit-learn/issues/21755 */display: inline-block !important;position: relative;}#sk-container-id-2 div.sk-text-repr-fallback {display: none;}</style><div id=\"sk-container-id-2\" class=\"sk-top-container\"><div class=\"sk-text-repr-fallback\"><pre>LogisticRegression(max_iter=10000)</pre><b>In a Jupyter environment, please rerun this cell to show the HTML representation or trust the notebook. <br />On GitHub, the HTML representation is unable to render, please try loading this page with nbviewer.org.</b></div><div class=\"sk-container\" hidden><div class=\"sk-item\"><div class=\"sk-estimator sk-toggleable\"><input class=\"sk-toggleable__control sk-hidden--visually\" id=\"sk-estimator-id-2\" type=\"checkbox\" checked><label for=\"sk-estimator-id-2\" class=\"sk-toggleable__label sk-toggleable__label-arrow\">LogisticRegression</label><div class=\"sk-toggleable__content\"><pre>LogisticRegression(max_iter=10000)</pre></div></div></div></div></div>"
      ],
      "text/plain": [
       "LogisticRegression(max_iter=10000)"
      ]
     },
     "execution_count": 47,
     "metadata": {},
     "output_type": "execute_result"
    }
   ],
   "source": [
    "log_.fit(train_features_, train_target)"
   ]
  },
  {
   "cell_type": "code",
   "execution_count": 48,
   "id": "0ab48aac-a728-4fde-9661-909a41cc39f8",
   "metadata": {},
   "outputs": [
    {
     "data": {
      "text/plain": [
       "0.47619047619047616"
      ]
     },
     "execution_count": 48,
     "metadata": {},
     "output_type": "execute_result"
    }
   ],
   "source": [
    "test_features_ = poly_features.transform(test_features)\n",
    "log_.score(test_features_,test_target)"
   ]
  },
  {
   "cell_type": "code",
   "execution_count": null,
   "id": "9633e80c-5a46-47e0-b2e7-3147571a4107",
   "metadata": {},
   "outputs": [],
   "source": []
  },
  {
   "cell_type": "code",
   "execution_count": null,
   "id": "d6a90ca2-753a-4cc2-b94b-6f3e3bdcf440",
   "metadata": {},
   "outputs": [],
   "source": []
  },
  {
   "cell_type": "code",
   "execution_count": null,
   "id": "d65bd464-d4a9-4627-b0b3-350443d6273b",
   "metadata": {},
   "outputs": [],
   "source": []
  },
  {
   "cell_type": "code",
   "execution_count": null,
   "id": "394a2062-fdd7-4c00-82df-e8adb5d84a23",
   "metadata": {},
   "outputs": [],
   "source": []
  },
  {
   "cell_type": "code",
   "execution_count": null,
   "id": "e6520e7b-47f1-4d76-8357-ee9f9ab30333",
   "metadata": {},
   "outputs": [],
   "source": []
  },
  {
   "cell_type": "code",
   "execution_count": null,
   "id": "aea5c258-5538-4f51-8e83-a604555f0cae",
   "metadata": {},
   "outputs": [],
   "source": []
  }
 ],
 "metadata": {
  "kernelspec": {
   "display_name": "Python 3 (ipykernel)",
   "language": "python",
   "name": "python3"
  },
  "language_info": {
   "codemirror_mode": {
    "name": "ipython",
    "version": 3
   },
   "file_extension": ".py",
   "mimetype": "text/x-python",
   "name": "python",
   "nbconvert_exporter": "python",
   "pygments_lexer": "ipython3",
   "version": "3.11.5"
  }
 },
 "nbformat": 4,
 "nbformat_minor": 5
}
