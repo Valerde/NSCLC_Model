{
 "cells": [
  {
   "cell_type": "markdown",
   "metadata": {},
   "source": [
    "# 一、导入数据"
   ]
  },
  {
   "cell_type": "code",
   "execution_count": 52,
   "metadata": {},
   "outputs": [],
   "source": [
    "import numpy as np\n",
    "import pandas as pd\n",
    "from sklearn.utils import shuffle\n",
    "from sklearn.preprocessing import StandardScaler,MinMaxScaler\n",
    "from sklearn.linear_model import LassoCV\n",
    "from scipy.stats import ttest_ind, levene"
   ]
  },
  {
   "cell_type": "code",
   "execution_count": 53,
   "metadata": {},
   "outputs": [
    {
     "name": "stderr",
     "output_type": "stream",
     "text": [
      "/root/anaconda3/lib/python3.11/site-packages/scipy/stats/_morestats.py:2710: RuntimeWarning: invalid value encountered in double_scalars\n",
      "  W = numer / denom\n",
      "/tmp/ipykernel_37785/4155965730.py:32: RuntimeWarning: Precision loss occurred in moment calculation due to catastrophic cancellation. This occurs when the data are nearly identical. Results may be unreliable.\n",
      "  if ttest_ind(data_LA_[col],data_XA_[col],equal_var=False)[1] < 0.05:\n"
     ]
    }
   ],
   "source": [
    "data_LA = pd.read_csv(\"input/LA_total.csv\",index_col=0)\n",
    "data_XA = pd.read_csv(\"input/XA_total.csv\",index_col=0)\n",
    "\n",
    "\n",
    "data_LA_ = pd.DataFrame()\n",
    "columns_LA = data_LA.columns\n",
    "for col in columns_LA:\n",
    "    try:\n",
    "        df = data_LA[col].astype(np.float64)\n",
    "        data_LA_ = pd.concat([data_LA_,df],axis=1)\n",
    "    except:\n",
    "        pass\n",
    "    continue\n",
    "    \n",
    "data_XA_ = pd.DataFrame()\n",
    "columns_XA = data_XA.columns\n",
    "for col in columns_XA:\n",
    "    try:\n",
    "        df = data_XA[col].astype(np.float64)\n",
    "        data_XA_ = pd.concat([data_XA_,df],axis=1)\n",
    "    except:\n",
    "        pass\n",
    "    continue\n",
    "\n",
    "# 方差齐性\n",
    "index_ = []\n",
    "for col in data_LA_.columns:\n",
    "    if levene(data_LA_[col],data_XA_[col])[1] > 0.05:\n",
    "        if ttest_ind(data_LA_[col],data_XA_[col])[1] < 0.05:\n",
    "            index_.append(col)\n",
    "    else:\n",
    "        if ttest_ind(data_LA_[col],data_XA_[col],equal_var=False)[1] < 0.05:\n",
    "            index_.append(col)\n",
    "\n",
    "\n",
    "data_L_T = data_LA_[index_]\n",
    "data_X_T = data_XA_[index_]"
   ]
  },
  {
   "cell_type": "code",
   "execution_count": 54,
   "metadata": {},
   "outputs": [
    {
     "data": {
      "text/html": [
       "<div>\n",
       "<style scoped>\n",
       "    .dataframe tbody tr th:only-of-type {\n",
       "        vertical-align: middle;\n",
       "    }\n",
       "\n",
       "    .dataframe tbody tr th {\n",
       "        vertical-align: top;\n",
       "    }\n",
       "\n",
       "    .dataframe thead th {\n",
       "        text-align: right;\n",
       "    }\n",
       "</style>\n",
       "<table border=\"1\" class=\"dataframe\">\n",
       "  <thead>\n",
       "    <tr style=\"text-align: right;\">\n",
       "      <th></th>\n",
       "      <th>MVI</th>\n",
       "      <th>diagnosticsImage-originalMean</th>\n",
       "      <th>diagnosticsImage-originalMinimum</th>\n",
       "      <th>diagnosticsMask-originalVoxelNum</th>\n",
       "      <th>originalshapeFlatness</th>\n",
       "      <th>originalshapeLeastAxisLength</th>\n",
       "      <th>originalshapeMaximum2DDiameterRow</th>\n",
       "      <th>originalshapeMaximum2DDiameterSlice</th>\n",
       "      <th>originalshapeMeshVolume</th>\n",
       "      <th>originalshapeMinorAxisLength</th>\n",
       "      <th>...</th>\n",
       "      <th>wavelet-LLLglszmGrayLevelNonUniformity</th>\n",
       "      <th>wavelet-LLLglszmLowGrayLevelZoneEmphasis</th>\n",
       "      <th>wavelet-LLLglszmSizeZoneNonUniformity</th>\n",
       "      <th>wavelet-LLLglszmSizeZoneNonUniformityNormalized</th>\n",
       "      <th>wavelet-LLLglszmSmallAreaEmphasis</th>\n",
       "      <th>wavelet-LLLglszmZoneEntropy</th>\n",
       "      <th>wavelet-LLLglszmZonePercentage</th>\n",
       "      <th>wavelet-LLLngtdmCoarseness</th>\n",
       "      <th>wavelet-LLLngtdmContrast</th>\n",
       "      <th>wavelet-LLLngtdmStrength</th>\n",
       "    </tr>\n",
       "  </thead>\n",
       "  <tbody>\n",
       "    <tr>\n",
       "      <th>X41</th>\n",
       "      <td>1.0</td>\n",
       "      <td>-650.677140</td>\n",
       "      <td>-1024.0</td>\n",
       "      <td>206.0</td>\n",
       "      <td>0.405396</td>\n",
       "      <td>6.842845</td>\n",
       "      <td>17.780702</td>\n",
       "      <td>11.369043</td>\n",
       "      <td>774.039448</td>\n",
       "      <td>9.557205</td>\n",
       "      <td>...</td>\n",
       "      <td>5.967742</td>\n",
       "      <td>0.019161</td>\n",
       "      <td>60.709677</td>\n",
       "      <td>0.489594</td>\n",
       "      <td>0.726731</td>\n",
       "      <td>5.528518</td>\n",
       "      <td>0.601942</td>\n",
       "      <td>0.028932</td>\n",
       "      <td>0.334426</td>\n",
       "      <td>6.910365</td>\n",
       "    </tr>\n",
       "    <tr>\n",
       "      <th>L53</th>\n",
       "      <td>0.0</td>\n",
       "      <td>-603.609503</td>\n",
       "      <td>-1024.0</td>\n",
       "      <td>2160.0</td>\n",
       "      <td>0.494162</td>\n",
       "      <td>18.785400</td>\n",
       "      <td>42.703725</td>\n",
       "      <td>29.653794</td>\n",
       "      <td>9442.095177</td>\n",
       "      <td>21.256796</td>\n",
       "      <td>...</td>\n",
       "      <td>36.634011</td>\n",
       "      <td>0.007517</td>\n",
       "      <td>166.711645</td>\n",
       "      <td>0.308155</td>\n",
       "      <td>0.569377</td>\n",
       "      <td>6.219371</td>\n",
       "      <td>0.250463</td>\n",
       "      <td>0.002988</td>\n",
       "      <td>0.065019</td>\n",
       "      <td>1.039627</td>\n",
       "    </tr>\n",
       "    <tr>\n",
       "      <th>L58</th>\n",
       "      <td>0.0</td>\n",
       "      <td>-573.999285</td>\n",
       "      <td>-1024.0</td>\n",
       "      <td>3567.0</td>\n",
       "      <td>0.716195</td>\n",
       "      <td>22.609793</td>\n",
       "      <td>37.951750</td>\n",
       "      <td>28.675305</td>\n",
       "      <td>12252.504740</td>\n",
       "      <td>25.120958</td>\n",
       "      <td>...</td>\n",
       "      <td>41.808163</td>\n",
       "      <td>0.006764</td>\n",
       "      <td>218.556463</td>\n",
       "      <td>0.297356</td>\n",
       "      <td>0.554823</td>\n",
       "      <td>6.479337</td>\n",
       "      <td>0.206056</td>\n",
       "      <td>0.001708</td>\n",
       "      <td>0.100901</td>\n",
       "      <td>0.773317</td>\n",
       "    </tr>\n",
       "    <tr>\n",
       "      <th>X9</th>\n",
       "      <td>1.0</td>\n",
       "      <td>-547.092129</td>\n",
       "      <td>-1024.0</td>\n",
       "      <td>380.0</td>\n",
       "      <td>0.454595</td>\n",
       "      <td>7.835145</td>\n",
       "      <td>21.224320</td>\n",
       "      <td>16.322570</td>\n",
       "      <td>1416.078392</td>\n",
       "      <td>13.758645</td>\n",
       "      <td>...</td>\n",
       "      <td>8.823204</td>\n",
       "      <td>0.023080</td>\n",
       "      <td>60.889503</td>\n",
       "      <td>0.336406</td>\n",
       "      <td>0.590477</td>\n",
       "      <td>6.042421</td>\n",
       "      <td>0.476316</td>\n",
       "      <td>0.028226</td>\n",
       "      <td>0.211781</td>\n",
       "      <td>10.460162</td>\n",
       "    </tr>\n",
       "    <tr>\n",
       "      <th>L36</th>\n",
       "      <td>0.0</td>\n",
       "      <td>-587.676148</td>\n",
       "      <td>-1024.0</td>\n",
       "      <td>435.0</td>\n",
       "      <td>0.648197</td>\n",
       "      <td>13.394524</td>\n",
       "      <td>26.345697</td>\n",
       "      <td>19.817185</td>\n",
       "      <td>2336.525859</td>\n",
       "      <td>15.540746</td>\n",
       "      <td>...</td>\n",
       "      <td>8.371134</td>\n",
       "      <td>0.013630</td>\n",
       "      <td>59.536082</td>\n",
       "      <td>0.306887</td>\n",
       "      <td>0.556046</td>\n",
       "      <td>6.272273</td>\n",
       "      <td>0.445977</td>\n",
       "      <td>0.006613</td>\n",
       "      <td>1.089471</td>\n",
       "      <td>4.498534</td>\n",
       "    </tr>\n",
       "    <tr>\n",
       "      <th>...</th>\n",
       "      <td>...</td>\n",
       "      <td>...</td>\n",
       "      <td>...</td>\n",
       "      <td>...</td>\n",
       "      <td>...</td>\n",
       "      <td>...</td>\n",
       "      <td>...</td>\n",
       "      <td>...</td>\n",
       "      <td>...</td>\n",
       "      <td>...</td>\n",
       "      <td>...</td>\n",
       "      <td>...</td>\n",
       "      <td>...</td>\n",
       "      <td>...</td>\n",
       "      <td>...</td>\n",
       "      <td>...</td>\n",
       "      <td>...</td>\n",
       "      <td>...</td>\n",
       "      <td>...</td>\n",
       "      <td>...</td>\n",
       "      <td>...</td>\n",
       "    </tr>\n",
       "    <tr>\n",
       "      <th>X2-1</th>\n",
       "      <td>1.0</td>\n",
       "      <td>-631.386031</td>\n",
       "      <td>-1024.0</td>\n",
       "      <td>555.0</td>\n",
       "      <td>0.304004</td>\n",
       "      <td>8.934097</td>\n",
       "      <td>25.378386</td>\n",
       "      <td>22.853559</td>\n",
       "      <td>2009.419271</td>\n",
       "      <td>16.345148</td>\n",
       "      <td>...</td>\n",
       "      <td>11.515625</td>\n",
       "      <td>0.006493</td>\n",
       "      <td>89.718750</td>\n",
       "      <td>0.350464</td>\n",
       "      <td>0.604066</td>\n",
       "      <td>6.130760</td>\n",
       "      <td>0.461261</td>\n",
       "      <td>0.009362</td>\n",
       "      <td>0.414473</td>\n",
       "      <td>3.601381</td>\n",
       "    </tr>\n",
       "    <tr>\n",
       "      <th>X69</th>\n",
       "      <td>1.0</td>\n",
       "      <td>-461.711681</td>\n",
       "      <td>-1024.0</td>\n",
       "      <td>221.0</td>\n",
       "      <td>0.000000</td>\n",
       "      <td>0.000000</td>\n",
       "      <td>11.977500</td>\n",
       "      <td>13.110842</td>\n",
       "      <td>675.144063</td>\n",
       "      <td>9.008776</td>\n",
       "      <td>...</td>\n",
       "      <td>8.252033</td>\n",
       "      <td>0.029554</td>\n",
       "      <td>55.357724</td>\n",
       "      <td>0.450063</td>\n",
       "      <td>0.696604</td>\n",
       "      <td>5.243646</td>\n",
       "      <td>0.556561</td>\n",
       "      <td>0.053686</td>\n",
       "      <td>0.113252</td>\n",
       "      <td>7.985369</td>\n",
       "    </tr>\n",
       "    <tr>\n",
       "      <th>L20</th>\n",
       "      <td>0.0</td>\n",
       "      <td>-519.434062</td>\n",
       "      <td>-1024.0</td>\n",
       "      <td>585.0</td>\n",
       "      <td>0.470212</td>\n",
       "      <td>9.947152</td>\n",
       "      <td>23.717578</td>\n",
       "      <td>22.359344</td>\n",
       "      <td>1902.632141</td>\n",
       "      <td>13.088408</td>\n",
       "      <td>...</td>\n",
       "      <td>19.300429</td>\n",
       "      <td>0.010607</td>\n",
       "      <td>88.622318</td>\n",
       "      <td>0.380353</td>\n",
       "      <td>0.640048</td>\n",
       "      <td>5.582590</td>\n",
       "      <td>0.398291</td>\n",
       "      <td>0.013391</td>\n",
       "      <td>0.055859</td>\n",
       "      <td>4.511572</td>\n",
       "    </tr>\n",
       "    <tr>\n",
       "      <th>X44</th>\n",
       "      <td>1.0</td>\n",
       "      <td>-539.063600</td>\n",
       "      <td>-1024.0</td>\n",
       "      <td>111.0</td>\n",
       "      <td>0.295109</td>\n",
       "      <td>5.038233</td>\n",
       "      <td>18.749887</td>\n",
       "      <td>10.032306</td>\n",
       "      <td>460.639827</td>\n",
       "      <td>7.983709</td>\n",
       "      <td>...</td>\n",
       "      <td>3.695652</td>\n",
       "      <td>0.050787</td>\n",
       "      <td>14.347826</td>\n",
       "      <td>0.311909</td>\n",
       "      <td>0.570637</td>\n",
       "      <td>4.969002</td>\n",
       "      <td>0.414414</td>\n",
       "      <td>0.099943</td>\n",
       "      <td>0.161874</td>\n",
       "      <td>9.029339</td>\n",
       "    </tr>\n",
       "    <tr>\n",
       "      <th>x20</th>\n",
       "      <td>1.0</td>\n",
       "      <td>-600.984933</td>\n",
       "      <td>-1024.0</td>\n",
       "      <td>261.0</td>\n",
       "      <td>0.614269</td>\n",
       "      <td>7.908654</td>\n",
       "      <td>17.802055</td>\n",
       "      <td>12.827708</td>\n",
       "      <td>839.388805</td>\n",
       "      <td>11.355911</td>\n",
       "      <td>...</td>\n",
       "      <td>7.411765</td>\n",
       "      <td>0.010612</td>\n",
       "      <td>57.250000</td>\n",
       "      <td>0.420956</td>\n",
       "      <td>0.673088</td>\n",
       "      <td>5.633501</td>\n",
       "      <td>0.521073</td>\n",
       "      <td>0.033755</td>\n",
       "      <td>0.192491</td>\n",
       "      <td>11.364464</td>\n",
       "    </tr>\n",
       "  </tbody>\n",
       "</table>\n",
       "<p>138 rows × 460 columns</p>\n",
       "</div>"
      ],
      "text/plain": [
       "      MVI  diagnosticsImage-originalMean  diagnosticsImage-originalMinimum  \\\n",
       "X41   1.0                    -650.677140                           -1024.0   \n",
       "L53   0.0                    -603.609503                           -1024.0   \n",
       "L58   0.0                    -573.999285                           -1024.0   \n",
       "X9    1.0                    -547.092129                           -1024.0   \n",
       "L36   0.0                    -587.676148                           -1024.0   \n",
       "...   ...                            ...                               ...   \n",
       "X2-1  1.0                    -631.386031                           -1024.0   \n",
       "X69   1.0                    -461.711681                           -1024.0   \n",
       "L20   0.0                    -519.434062                           -1024.0   \n",
       "X44   1.0                    -539.063600                           -1024.0   \n",
       "x20   1.0                    -600.984933                           -1024.0   \n",
       "\n",
       "      diagnosticsMask-originalVoxelNum  originalshapeFlatness  \\\n",
       "X41                              206.0               0.405396   \n",
       "L53                             2160.0               0.494162   \n",
       "L58                             3567.0               0.716195   \n",
       "X9                               380.0               0.454595   \n",
       "L36                              435.0               0.648197   \n",
       "...                                ...                    ...   \n",
       "X2-1                             555.0               0.304004   \n",
       "X69                              221.0               0.000000   \n",
       "L20                              585.0               0.470212   \n",
       "X44                              111.0               0.295109   \n",
       "x20                              261.0               0.614269   \n",
       "\n",
       "      originalshapeLeastAxisLength  originalshapeMaximum2DDiameterRow  \\\n",
       "X41                       6.842845                          17.780702   \n",
       "L53                      18.785400                          42.703725   \n",
       "L58                      22.609793                          37.951750   \n",
       "X9                        7.835145                          21.224320   \n",
       "L36                      13.394524                          26.345697   \n",
       "...                            ...                                ...   \n",
       "X2-1                      8.934097                          25.378386   \n",
       "X69                       0.000000                          11.977500   \n",
       "L20                       9.947152                          23.717578   \n",
       "X44                       5.038233                          18.749887   \n",
       "x20                       7.908654                          17.802055   \n",
       "\n",
       "      originalshapeMaximum2DDiameterSlice  originalshapeMeshVolume  \\\n",
       "X41                             11.369043               774.039448   \n",
       "L53                             29.653794              9442.095177   \n",
       "L58                             28.675305             12252.504740   \n",
       "X9                              16.322570              1416.078392   \n",
       "L36                             19.817185              2336.525859   \n",
       "...                                   ...                      ...   \n",
       "X2-1                            22.853559              2009.419271   \n",
       "X69                             13.110842               675.144063   \n",
       "L20                             22.359344              1902.632141   \n",
       "X44                             10.032306               460.639827   \n",
       "x20                             12.827708               839.388805   \n",
       "\n",
       "      originalshapeMinorAxisLength  ...  \\\n",
       "X41                       9.557205  ...   \n",
       "L53                      21.256796  ...   \n",
       "L58                      25.120958  ...   \n",
       "X9                       13.758645  ...   \n",
       "L36                      15.540746  ...   \n",
       "...                            ...  ...   \n",
       "X2-1                     16.345148  ...   \n",
       "X69                       9.008776  ...   \n",
       "L20                      13.088408  ...   \n",
       "X44                       7.983709  ...   \n",
       "x20                      11.355911  ...   \n",
       "\n",
       "      wavelet-LLLglszmGrayLevelNonUniformity  \\\n",
       "X41                                 5.967742   \n",
       "L53                                36.634011   \n",
       "L58                                41.808163   \n",
       "X9                                  8.823204   \n",
       "L36                                 8.371134   \n",
       "...                                      ...   \n",
       "X2-1                               11.515625   \n",
       "X69                                 8.252033   \n",
       "L20                                19.300429   \n",
       "X44                                 3.695652   \n",
       "x20                                 7.411765   \n",
       "\n",
       "      wavelet-LLLglszmLowGrayLevelZoneEmphasis  \\\n",
       "X41                                   0.019161   \n",
       "L53                                   0.007517   \n",
       "L58                                   0.006764   \n",
       "X9                                    0.023080   \n",
       "L36                                   0.013630   \n",
       "...                                        ...   \n",
       "X2-1                                  0.006493   \n",
       "X69                                   0.029554   \n",
       "L20                                   0.010607   \n",
       "X44                                   0.050787   \n",
       "x20                                   0.010612   \n",
       "\n",
       "      wavelet-LLLglszmSizeZoneNonUniformity  \\\n",
       "X41                               60.709677   \n",
       "L53                              166.711645   \n",
       "L58                              218.556463   \n",
       "X9                                60.889503   \n",
       "L36                               59.536082   \n",
       "...                                     ...   \n",
       "X2-1                              89.718750   \n",
       "X69                               55.357724   \n",
       "L20                               88.622318   \n",
       "X44                               14.347826   \n",
       "x20                               57.250000   \n",
       "\n",
       "      wavelet-LLLglszmSizeZoneNonUniformityNormalized  \\\n",
       "X41                                          0.489594   \n",
       "L53                                          0.308155   \n",
       "L58                                          0.297356   \n",
       "X9                                           0.336406   \n",
       "L36                                          0.306887   \n",
       "...                                               ...   \n",
       "X2-1                                         0.350464   \n",
       "X69                                          0.450063   \n",
       "L20                                          0.380353   \n",
       "X44                                          0.311909   \n",
       "x20                                          0.420956   \n",
       "\n",
       "      wavelet-LLLglszmSmallAreaEmphasis  wavelet-LLLglszmZoneEntropy  \\\n",
       "X41                            0.726731                     5.528518   \n",
       "L53                            0.569377                     6.219371   \n",
       "L58                            0.554823                     6.479337   \n",
       "X9                             0.590477                     6.042421   \n",
       "L36                            0.556046                     6.272273   \n",
       "...                                 ...                          ...   \n",
       "X2-1                           0.604066                     6.130760   \n",
       "X69                            0.696604                     5.243646   \n",
       "L20                            0.640048                     5.582590   \n",
       "X44                            0.570637                     4.969002   \n",
       "x20                            0.673088                     5.633501   \n",
       "\n",
       "      wavelet-LLLglszmZonePercentage  wavelet-LLLngtdmCoarseness  \\\n",
       "X41                         0.601942                    0.028932   \n",
       "L53                         0.250463                    0.002988   \n",
       "L58                         0.206056                    0.001708   \n",
       "X9                          0.476316                    0.028226   \n",
       "L36                         0.445977                    0.006613   \n",
       "...                              ...                         ...   \n",
       "X2-1                        0.461261                    0.009362   \n",
       "X69                         0.556561                    0.053686   \n",
       "L20                         0.398291                    0.013391   \n",
       "X44                         0.414414                    0.099943   \n",
       "x20                         0.521073                    0.033755   \n",
       "\n",
       "      wavelet-LLLngtdmContrast  wavelet-LLLngtdmStrength  \n",
       "X41                   0.334426                  6.910365  \n",
       "L53                   0.065019                  1.039627  \n",
       "L58                   0.100901                  0.773317  \n",
       "X9                    0.211781                 10.460162  \n",
       "L36                   1.089471                  4.498534  \n",
       "...                        ...                       ...  \n",
       "X2-1                  0.414473                  3.601381  \n",
       "X69                   0.113252                  7.985369  \n",
       "L20                   0.055859                  4.511572  \n",
       "X44                   0.161874                  9.029339  \n",
       "x20                   0.192491                 11.364464  \n",
       "\n",
       "[138 rows x 460 columns]"
      ]
     },
     "execution_count": 54,
     "metadata": {},
     "output_type": "execute_result"
    }
   ],
   "source": [
    "data = pd.concat([data_L_T,data_X_T])\n",
    "data = shuffle(data)\n",
    "data"
   ]
  },
  {
   "cell_type": "code",
   "execution_count": 55,
   "metadata": {},
   "outputs": [],
   "source": [
    "\n",
    "\n",
    "# # 方差齐性\n",
    "# index_ = []\n",
    "# for col in data_LA_.columns:\n",
    "#     if levene(data_LA_[col],data_XA_[col])[1] > 0.05:\n",
    "#         if ttest_ind(data_LA_[col],data_XA_[col])[1] < 0.05:\n",
    "#             index_.append(col)\n",
    "#     else:\n",
    "#         if ttest_ind(data_LA_[col],data_XA_[col],equal_var=False)[1] < 0.05:\n",
    "#             index_.append(col)\n",
    "\n",
    "\n",
    "# data_L_T = data_LA_[index_]\n",
    "# data_X_T = data_XA_[index_]\n",
    "\n",
    "\n",
    "# data = pd.concat([data_L_T,data_X_T])\n",
    "# data = shuffle(data)\n",
    "\n",
    "# target = data.iloc[:, 0]\n",
    "# features = data.iloc[:,1:]\n",
    "# features_bk = features.copy()\n",
    "\n",
    "# transfer = StandardScaler()\n",
    "# features_SS = transfer.fit_transform(features_bk)\n",
    "# # 数据标准化很有必要\n",
    "\n",
    "# alphas_ = np.logspace(-2,0,300)\n",
    "\n",
    "\n",
    "# lassocv = LassoCV(alphas = alphas_,cv = 10,max_iter = 100000).fit(features_SS,target)\n",
    "# lassocv.alpha_\n",
    "\n",
    "# features = data[features.columns[lassocv.coef_!=0]]\n",
    "# print(len(features.columns))\n",
    "\n",
    "\n",
    "\n",
    "# features_SS =features_SS[:, pd.DataFrame(features_SS).columns[lassocv.coef_!=0]]\n",
    "# features_SS.shape"
   ]
  },
  {
   "cell_type": "markdown",
   "metadata": {},
   "source": [
    "# 二、设置变量"
   ]
  },
  {
   "cell_type": "code",
   "execution_count": 56,
   "metadata": {},
   "outputs": [
    {
     "data": {
      "text/plain": [
       "array([[-0.05427492,  0.36214298, -0.60893508, ..., -0.12402213,\n",
       "         0.15885434, -0.14083172],\n",
       "       [ 0.26373893,  0.36214298,  0.14690314, ..., -0.49573281,\n",
       "        -0.3835127 , -0.50120403],\n",
       "       [ 0.46380123,  0.36214298,  0.69115307, ..., -0.51408244,\n",
       "        -0.31127622, -0.51755131],\n",
       "       ...,\n",
       "       [ 0.83247273,  0.36214298, -0.46233186, ..., -0.3466943 ,\n",
       "        -0.40195389, -0.28808044],\n",
       "       [ 0.69984519,  0.36214298, -0.64568259, ...,  0.89337627,\n",
       "        -0.18852555, -0.01075955],\n",
       "       [ 0.28147192,  0.36214298, -0.5876602 , ..., -0.05492873,\n",
       "        -0.12688712,  0.13258096]])"
      ]
     },
     "execution_count": 56,
     "metadata": {},
     "output_type": "execute_result"
    }
   ],
   "source": [
    "target = data.iloc[:, 0]\n",
    "features = data.iloc[:,1:]\n",
    "features_bk = features.copy()\n",
    "\n",
    "transfer = StandardScaler()\n",
    "features_SS = transfer.fit_transform(features_bk)\n",
    "# features_SS = features_bk\n",
    "\n",
    "\n",
    "features_SS"
   ]
  },
  {
   "cell_type": "code",
   "execution_count": 57,
   "metadata": {},
   "outputs": [
    {
     "data": {
      "text/plain": [
       "(138, 459)"
      ]
     },
     "execution_count": 57,
     "metadata": {},
     "output_type": "execute_result"
    }
   ],
   "source": [
    "features_SS.shape"
   ]
  },
  {
   "cell_type": "markdown",
   "metadata": {},
   "source": [
    "# 三、PCA降维"
   ]
  },
  {
   "cell_type": "code",
   "execution_count": 58,
   "metadata": {},
   "outputs": [],
   "source": [
    "from sklearn.decomposition import PCA"
   ]
  },
  {
   "cell_type": "code",
   "execution_count": 59,
   "metadata": {},
   "outputs": [],
   "source": [
    "pca=PCA()"
   ]
  },
  {
   "cell_type": "code",
   "execution_count": 60,
   "metadata": {},
   "outputs": [],
   "source": [
    "features_reduced = pca.fit_transform(features_SS)"
   ]
  },
  {
   "cell_type": "code",
   "execution_count": 68,
   "metadata": {},
   "outputs": [
    {
     "data": {
      "text/plain": [
       "(138, 459)"
      ]
     },
     "execution_count": 68,
     "metadata": {},
     "output_type": "execute_result"
    }
   ],
   "source": [
    "features.shape"
   ]
  },
  {
   "cell_type": "code",
   "execution_count": null,
   "metadata": {},
   "outputs": [],
   "source": [
    "pca_2 = PCA(n_components=2)"
   ]
  },
  {
   "cell_type": "code",
   "execution_count": null,
   "metadata": {},
   "outputs": [],
   "source": [
    "features_2 = pca_2.fit_transform(features_SS)"
   ]
  },
  {
   "cell_type": "code",
   "execution_count": null,
   "metadata": {},
   "outputs": [],
   "source": [
    "features_2.shape"
   ]
  },
  {
   "cell_type": "code",
   "execution_count": null,
   "metadata": {},
   "outputs": [],
   "source": [
    "pca_95 = PCA(n_components=0.95)"
   ]
  },
  {
   "cell_type": "code",
   "execution_count": null,
   "metadata": {},
   "outputs": [],
   "source": [
    "features_95 = pca_95.fit_transform(features_SS)"
   ]
  },
  {
   "cell_type": "code",
   "execution_count": null,
   "metadata": {},
   "outputs": [],
   "source": [
    "features_95.shape"
   ]
  },
  {
   "cell_type": "code",
   "execution_count": null,
   "metadata": {},
   "outputs": [],
   "source": [
    "pca.explained_variance_ratio_"
   ]
  },
  {
   "cell_type": "code",
   "execution_count": null,
   "metadata": {},
   "outputs": [],
   "source": [
    "cumsum = np.cumsum(pca.explained_variance_ratio_)"
   ]
  },
  {
   "cell_type": "code",
   "execution_count": null,
   "metadata": {},
   "outputs": [],
   "source": [
    "cumsum"
   ]
  },
  {
   "cell_type": "code",
   "execution_count": null,
   "metadata": {},
   "outputs": [],
   "source": [
    "import matplotlib.pyplot as plt\n",
    "plt.plot(cumsum)"
   ]
  },
  {
   "cell_type": "code",
   "execution_count": null,
   "metadata": {},
   "outputs": [],
   "source": [
    "pca_2.explained_variance_ratio_"
   ]
  },
  {
   "cell_type": "code",
   "execution_count": null,
   "metadata": {},
   "outputs": [],
   "source": [
    "features_2"
   ]
  },
  {
   "cell_type": "code",
   "execution_count": null,
   "metadata": {},
   "outputs": [],
   "source": [
    "x=features_2[:,0]\n",
    "y=features_2[:,1]"
   ]
  },
  {
   "cell_type": "code",
   "execution_count": null,
   "metadata": {
    "scrolled": true
   },
   "outputs": [],
   "source": [
    "plt.scatter(x,y)"
   ]
  },
  {
   "cell_type": "code",
   "execution_count": 62,
   "metadata": {},
   "outputs": [],
   "source": [
    "from sklearn.model_selection import train_test_split\n",
    "train_features, test_features, train_target, test_target = train_test_split(\n",
    "    features_reduced, target, \n",
    "    test_size = 0.3)"
   ]
  },
  {
   "cell_type": "code",
   "execution_count": 63,
   "metadata": {},
   "outputs": [],
   "source": [
    "from sklearn.svm import SVC\n",
    "clf = SVC()"
   ]
  },
  {
   "cell_type": "code",
   "execution_count": 64,
   "metadata": {},
   "outputs": [
    {
     "data": {
      "text/html": [
       "<style>#sk-container-id-2 {color: black;background-color: white;}#sk-container-id-2 pre{padding: 0;}#sk-container-id-2 div.sk-toggleable {background-color: white;}#sk-container-id-2 label.sk-toggleable__label {cursor: pointer;display: block;width: 100%;margin-bottom: 0;padding: 0.3em;box-sizing: border-box;text-align: center;}#sk-container-id-2 label.sk-toggleable__label-arrow:before {content: \"▸\";float: left;margin-right: 0.25em;color: #696969;}#sk-container-id-2 label.sk-toggleable__label-arrow:hover:before {color: black;}#sk-container-id-2 div.sk-estimator:hover label.sk-toggleable__label-arrow:before {color: black;}#sk-container-id-2 div.sk-toggleable__content {max-height: 0;max-width: 0;overflow: hidden;text-align: left;background-color: #f0f8ff;}#sk-container-id-2 div.sk-toggleable__content pre {margin: 0.2em;color: black;border-radius: 0.25em;background-color: #f0f8ff;}#sk-container-id-2 input.sk-toggleable__control:checked~div.sk-toggleable__content {max-height: 200px;max-width: 100%;overflow: auto;}#sk-container-id-2 input.sk-toggleable__control:checked~label.sk-toggleable__label-arrow:before {content: \"▾\";}#sk-container-id-2 div.sk-estimator input.sk-toggleable__control:checked~label.sk-toggleable__label {background-color: #d4ebff;}#sk-container-id-2 div.sk-label input.sk-toggleable__control:checked~label.sk-toggleable__label {background-color: #d4ebff;}#sk-container-id-2 input.sk-hidden--visually {border: 0;clip: rect(1px 1px 1px 1px);clip: rect(1px, 1px, 1px, 1px);height: 1px;margin: -1px;overflow: hidden;padding: 0;position: absolute;width: 1px;}#sk-container-id-2 div.sk-estimator {font-family: monospace;background-color: #f0f8ff;border: 1px dotted black;border-radius: 0.25em;box-sizing: border-box;margin-bottom: 0.5em;}#sk-container-id-2 div.sk-estimator:hover {background-color: #d4ebff;}#sk-container-id-2 div.sk-parallel-item::after {content: \"\";width: 100%;border-bottom: 1px solid gray;flex-grow: 1;}#sk-container-id-2 div.sk-label:hover label.sk-toggleable__label {background-color: #d4ebff;}#sk-container-id-2 div.sk-serial::before {content: \"\";position: absolute;border-left: 1px solid gray;box-sizing: border-box;top: 0;bottom: 0;left: 50%;z-index: 0;}#sk-container-id-2 div.sk-serial {display: flex;flex-direction: column;align-items: center;background-color: white;padding-right: 0.2em;padding-left: 0.2em;position: relative;}#sk-container-id-2 div.sk-item {position: relative;z-index: 1;}#sk-container-id-2 div.sk-parallel {display: flex;align-items: stretch;justify-content: center;background-color: white;position: relative;}#sk-container-id-2 div.sk-item::before, #sk-container-id-2 div.sk-parallel-item::before {content: \"\";position: absolute;border-left: 1px solid gray;box-sizing: border-box;top: 0;bottom: 0;left: 50%;z-index: -1;}#sk-container-id-2 div.sk-parallel-item {display: flex;flex-direction: column;z-index: 1;position: relative;background-color: white;}#sk-container-id-2 div.sk-parallel-item:first-child::after {align-self: flex-end;width: 50%;}#sk-container-id-2 div.sk-parallel-item:last-child::after {align-self: flex-start;width: 50%;}#sk-container-id-2 div.sk-parallel-item:only-child::after {width: 0;}#sk-container-id-2 div.sk-dashed-wrapped {border: 1px dashed gray;margin: 0 0.4em 0.5em 0.4em;box-sizing: border-box;padding-bottom: 0.4em;background-color: white;}#sk-container-id-2 div.sk-label label {font-family: monospace;font-weight: bold;display: inline-block;line-height: 1.2em;}#sk-container-id-2 div.sk-label-container {text-align: center;}#sk-container-id-2 div.sk-container {/* jupyter's `normalize.less` sets `[hidden] { display: none; }` but bootstrap.min.css set `[hidden] { display: none !important; }` so we also need the `!important` here to be able to override the default hidden behavior on the sphinx rendered scikit-learn.org. See: https://github.com/scikit-learn/scikit-learn/issues/21755 */display: inline-block !important;position: relative;}#sk-container-id-2 div.sk-text-repr-fallback {display: none;}</style><div id=\"sk-container-id-2\" class=\"sk-top-container\"><div class=\"sk-text-repr-fallback\"><pre>SVC()</pre><b>In a Jupyter environment, please rerun this cell to show the HTML representation or trust the notebook. <br />On GitHub, the HTML representation is unable to render, please try loading this page with nbviewer.org.</b></div><div class=\"sk-container\" hidden><div class=\"sk-item\"><div class=\"sk-estimator sk-toggleable\"><input class=\"sk-toggleable__control sk-hidden--visually\" id=\"sk-estimator-id-2\" type=\"checkbox\" checked><label for=\"sk-estimator-id-2\" class=\"sk-toggleable__label sk-toggleable__label-arrow\">SVC</label><div class=\"sk-toggleable__content\"><pre>SVC()</pre></div></div></div></div></div>"
      ],
      "text/plain": [
       "SVC()"
      ]
     },
     "execution_count": 64,
     "metadata": {},
     "output_type": "execute_result"
    }
   ],
   "source": [
    "clf.fit(train_features, train_target)"
   ]
  },
  {
   "cell_type": "code",
   "execution_count": 65,
   "metadata": {},
   "outputs": [
    {
     "data": {
      "text/plain": [
       "0.6428571428571429"
      ]
     },
     "execution_count": 65,
     "metadata": {},
     "output_type": "execute_result"
    }
   ],
   "source": [
    "clf.score(test_features, test_target)"
   ]
  },
  {
   "cell_type": "code",
   "execution_count": 66,
   "metadata": {},
   "outputs": [],
   "source": [
    "features_recovered = pca_95.inverse_transform(features_95)"
   ]
  },
  {
   "cell_type": "code",
   "execution_count": 67,
   "metadata": {},
   "outputs": [
    {
     "data": {
      "text/plain": [
       "(138, 459)"
      ]
     },
     "execution_count": 67,
     "metadata": {},
     "output_type": "execute_result"
    }
   ],
   "source": [
    "features_recovered.shape #只保留features 95% 的信息"
   ]
  },
  {
   "cell_type": "markdown",
   "metadata": {},
   "source": [
    "# 四、Kernel PCA"
   ]
  },
  {
   "cell_type": "code",
   "execution_count": null,
   "metadata": {},
   "outputs": [],
   "source": [
    "from sklearn.decomposition import KernelPCA"
   ]
  },
  {
   "cell_type": "code",
   "execution_count": null,
   "metadata": {},
   "outputs": [],
   "source": [
    "linear_PCA = KernelPCA(n_components=200,kernel=\"linear\")"
   ]
  },
  {
   "cell_type": "code",
   "execution_count": null,
   "metadata": {},
   "outputs": [],
   "source": [
    "features_linear = linear_PCA.fit_transform(features_SS)"
   ]
  },
  {
   "cell_type": "code",
   "execution_count": null,
   "metadata": {},
   "outputs": [],
   "source": [
    "rbf_PCA = KernelPCA(n_components=600,kernel=\"rbf\")"
   ]
  },
  {
   "cell_type": "code",
   "execution_count": null,
   "metadata": {},
   "outputs": [],
   "source": [
    "features_rbf = rbf_PCA.fit_transform(features_SS)"
   ]
  },
  {
   "cell_type": "code",
   "execution_count": null,
   "metadata": {},
   "outputs": [],
   "source": [
    "sgm_PCA = KernelPCA(n_components=40,kernel=\"sigmoid\")"
   ]
  },
  {
   "cell_type": "code",
   "execution_count": null,
   "metadata": {},
   "outputs": [],
   "source": [
    "features_sgm = sgm_PCA.fit_transform(features_SS)\n",
    "\n",
    "\n",
    "\n",
    "from sklearn.model_selection import train_test_split\n",
    "train_features, test_features, train_target, test_target = train_test_split(\n",
    "    features_rbf, target, \n",
    "    test_size = 0.3)\n",
    "\n",
    "from sklearn.svm import SVC\n",
    "clf = SVC()\n",
    "clf.fit(train_features, train_target)\n",
    "clf.score(test_features, test_target)\n",
    "\n"
   ]
  },
  {
   "cell_type": "code",
   "execution_count": null,
   "metadata": {},
   "outputs": [],
   "source": [
    "clf.predict(test_features)"
   ]
  },
  {
   "cell_type": "code",
   "execution_count": null,
   "metadata": {},
   "outputs": [],
   "source": [
    "features_sgm\n"
   ]
  },
  {
   "cell_type": "code",
   "execution_count": null,
   "metadata": {},
   "outputs": [],
   "source": [
    "plt.figure(figsize=(20, 4))\n",
    "plt.subplot(131)\n",
    "plt.scatter(features_linear[:,0],features_linear[:,1])\n",
    "plt.subplot(132)\n",
    "plt.scatter(features_rbf[:,0],features_rbf[:,1])\n",
    "plt.subplot(133)\n",
    "plt.scatter(features_sgm[:,0],features_sgm[:,1])\n",
    "plt.show()"
   ]
  },
  {
   "cell_type": "markdown",
   "metadata": {},
   "source": [
    "# 五、LDA"
   ]
  },
  {
   "cell_type": "code",
   "execution_count": null,
   "metadata": {},
   "outputs": [],
   "source": [
    "from sklearn.discriminant_analysis import LinearDiscriminantAnalysis"
   ]
  },
  {
   "cell_type": "code",
   "execution_count": null,
   "metadata": {},
   "outputs": [],
   "source": [
    "lda = LinearDiscriminantAnalysis(n_components=1)"
   ]
  },
  {
   "cell_type": "code",
   "execution_count": null,
   "metadata": {},
   "outputs": [],
   "source": [
    "features_lda = lda.fit_transform(features_SS,target)"
   ]
  },
  {
   "cell_type": "code",
   "execution_count": null,
   "metadata": {},
   "outputs": [],
   "source": [
    "features_lda.shape"
   ]
  },
  {
   "cell_type": "code",
   "execution_count": null,
   "metadata": {},
   "outputs": [],
   "source": [
    "features_lda"
   ]
  },
  {
   "cell_type": "code",
   "execution_count": null,
   "metadata": {},
   "outputs": [],
   "source": [
    "from sklearn.model_selection import train_test_split\n",
    "train_features, test_features, train_target, test_target = train_test_split(\n",
    "    features_lda, target, \n",
    "    test_size = 0.3)"
   ]
  },
  {
   "cell_type": "code",
   "execution_count": null,
   "metadata": {},
   "outputs": [],
   "source": [
    "from sklearn.svm import SVC\n",
    "clf = SVC()\n",
    "clf.fit(train_features, train_target)\n",
    "clf.score(test_features, test_target)"
   ]
  },
  {
   "cell_type": "code",
   "execution_count": null,
   "metadata": {},
   "outputs": [],
   "source": [
    "clf.predict(test_features)"
   ]
  },
  {
   "cell_type": "code",
   "execution_count": null,
   "metadata": {},
   "outputs": [],
   "source": [
    "test_target.shape"
   ]
  },
  {
   "cell_type": "code",
   "execution_count": null,
   "metadata": {},
   "outputs": [],
   "source": []
  }
 ],
 "metadata": {
  "kernelspec": {
   "display_name": "Python 3 (ipykernel)",
   "language": "python",
   "name": "python3"
  },
  "language_info": {
   "codemirror_mode": {
    "name": "ipython",
    "version": 3
   },
   "file_extension": ".py",
   "mimetype": "text/x-python",
   "name": "python",
   "nbconvert_exporter": "python",
   "pygments_lexer": "ipython3",
   "version": "3.11.5"
  }
 },
 "nbformat": 4,
 "nbformat_minor": 4
}
