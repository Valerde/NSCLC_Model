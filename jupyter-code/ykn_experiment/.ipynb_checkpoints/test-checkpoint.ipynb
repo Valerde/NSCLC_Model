{
 "cells": [
  {
   "cell_type": "code",
   "execution_count": 1,
   "id": "40c0a582-1442-4726-a550-6c7b618d31df",
   "metadata": {},
   "outputs": [
    {
     "name": "stdout",
     "output_type": "stream",
     "text": [
      "选择的列：\n",
      "[[ 1  3]\n",
      " [ 4  6]\n",
      " [ 7  9]\n",
      " [10 12]]\n"
     ]
    }
   ],
   "source": [
    "import numpy as np\n",
    "\n",
    "# 假设a是一个4x3的NumPy数组，b是一个长度为3的布尔值数组\n",
    "a = np.array([[1, 2, 3],\n",
    "              [4, 5, 6],\n",
    "              [7, 8, 9],\n",
    "              [10, 11, 12]])\n",
    "\n",
    "b = np.array([True, False, True])  # 假设布尔值数组b表示要保留的列\n",
    "\n",
    "# 根据布尔值数组b选择保留的列\n",
    "selected_columns = a[:, b]\n",
    "\n",
    "print(\"选择的列：\")\n",
    "print(selected_columns)"
   ]
  },
  {
   "cell_type": "code",
   "execution_count": 6,
   "id": "862cd327-4217-447b-b9d2-2f57298b9d96",
   "metadata": {},
   "outputs": [
    {
     "name": "stdout",
     "output_type": "stream",
     "text": [
      "模型准确率： 0.23333333333333334\n"
     ]
    }
   ],
   "source": [
    "import numpy as np\n",
    "from sklearn.model_selection import train_test_split\n",
    "from sklearn.preprocessing import StandardScaler\n",
    "from sklearn.discriminant_analysis import LinearDiscriminantAnalysis as LDA\n",
    "from sklearn.tree import DecisionTreeClassifier\n",
    "from sklearn.metrics import accuracy_score\n",
    "\n",
    "# 生成样本数据\n",
    "# 假设有5个特征，最后一个特征为标签（1表示好转，0表示未好转）\n",
    "\n",
    "X = np.random.randn(100, 100)\n",
    "y = np.random.randint(0, 2, 100)\n",
    "# 数据标准化\n",
    "scaler = StandardScaler()\n",
    "X_train_scaled = scaler.fit_transform(X_train)\n",
    "X_test_scaled = scaler.transform(X_test)\n",
    "# 划分训练集和测试集\n",
    "X_train, X_test, y_train, y_test = train_test_split(X, y, test_size=0.3)\n",
    "\n",
    "# 特征选择：t检验\n",
    "# from scipy.stats import ttest_ind\n",
    "# t_values, p_values = ttest_ind(X_train[y_train==0], X_train[y_train==1], axis=0)\n",
    "# selected_features = np.where(p_values < 0.05)[0]\n",
    "# X_train_selected = X_train[:, selected_features]\n",
    "# X_test_selected = X_test[:, selected_features]\n",
    "\n",
    "\n",
    "\n",
    "# 线性判别分析（LDA）降维\n",
    "lda = LDA(n_components=1)\n",
    "X_train_lda = lda.fit_transform(X_train_scaled, y_train)\n",
    "X_test_lda = lda.transform(X_test_scaled)\n",
    "\n",
    "# 使用决策树模型进行分类\n",
    "clf = DecisionTreeClassifier()\n",
    "clf.fit(X_train_lda, y_train)\n",
    "y_pred = clf.predict(X_test_lda)\n",
    "\n",
    "# 计算准确率\n",
    "accuracy = accuracy_score(y_test, y_pred)\n",
    "print(\"模型准确率：\", accuracy)"
   ]
  },
  {
   "cell_type": "code",
   "execution_count": null,
   "id": "fc456dda-38a3-40db-8208-80d637de39ef",
   "metadata": {},
   "outputs": [],
   "source": []
  },
  {
   "cell_type": "code",
   "execution_count": null,
   "id": "610569c2-e360-4bf7-8360-43a56ed4054a",
   "metadata": {},
   "outputs": [],
   "source": []
  }
 ],
 "metadata": {
  "kernelspec": {
   "display_name": "Python 3 (ipykernel)",
   "language": "python",
   "name": "python3"
  },
  "language_info": {
   "codemirror_mode": {
    "name": "ipython",
    "version": 3
   },
   "file_extension": ".py",
   "mimetype": "text/x-python",
   "name": "python",
   "nbconvert_exporter": "python",
   "pygments_lexer": "ipython3",
   "version": "3.11.5"
  }
 },
 "nbformat": 4,
 "nbformat_minor": 5
}
