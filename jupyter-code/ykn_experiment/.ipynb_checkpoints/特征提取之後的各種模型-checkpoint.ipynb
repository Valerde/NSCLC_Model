{
 "cells": [
  {
   "cell_type": "code",
   "execution_count": 18,
   "id": "8590162a-05a6-434f-8024-697107293f81",
   "metadata": {},
   "outputs": [
    {
     "name": "stderr",
     "output_type": "stream",
     "text": [
      "/root/anaconda3/lib/python3.11/site-packages/scipy/stats/_morestats.py:2710: RuntimeWarning: invalid value encountered in double_scalars\n",
      "  W = numer / denom\n",
      "/tmp/ipykernel_384803/1685460547.py:40: RuntimeWarning: Precision loss occurred in moment calculation due to catastrophic cancellation. This occurs when the data are nearly identical. Results may be unreliable.\n",
      "  if ttest_ind(data_LA_[col],data_XA_[col],equal_var=False)[1] < 0.05:\n"
     ]
    },
    {
     "name": "stdout",
     "output_type": "stream",
     "text": [
      "19\n"
     ]
    },
    {
     "data": {
      "text/plain": [
       "(138, 19)"
      ]
     },
     "execution_count": 18,
     "metadata": {},
     "output_type": "execute_result"
    }
   ],
   "source": [
    "import numpy as np\n",
    "import pandas as pd\n",
    "from sklearn.utils import shuffle\n",
    "from sklearn.preprocessing import StandardScaler,MinMaxScaler\n",
    "from sklearn.linear_model import LassoCV\n",
    "from scipy.stats import ttest_ind, levene\n",
    "\n",
    "data_LA = pd.read_csv(\"input/LA_total.csv\",index_col=0)\n",
    "data_XA = pd.read_csv(\"input/XA_total.csv\",index_col=0)\n",
    "\n",
    "\n",
    "data_LA_ = pd.DataFrame()\n",
    "columns_LA = data_LA.columns\n",
    "for col in columns_LA:\n",
    "    try:\n",
    "        df = data_LA[col].astype(np.float64)\n",
    "        data_LA_ = pd.concat([data_LA_,df],axis=1)\n",
    "    except:\n",
    "        pass\n",
    "    continue\n",
    "    \n",
    "data_XA_ = pd.DataFrame()\n",
    "columns_XA = data_XA.columns\n",
    "for col in columns_XA:\n",
    "    try:\n",
    "        df = data_XA[col].astype(np.float64)\n",
    "        data_XA_ = pd.concat([data_XA_,df],axis=1)\n",
    "    except:\n",
    "        pass\n",
    "    continue\n",
    "\n",
    "\n",
    "# 方差齐性\n",
    "index_ = []\n",
    "for col in data_LA_.columns:\n",
    "    if levene(data_LA_[col],data_XA_[col])[1] > 0.05:\n",
    "        if ttest_ind(data_LA_[col],data_XA_[col])[1] < 0.05:\n",
    "            index_.append(col)\n",
    "    else:\n",
    "        if ttest_ind(data_LA_[col],data_XA_[col],equal_var=False)[1] < 0.05:\n",
    "            index_.append(col)\n",
    "\n",
    "\n",
    "data_L_T = data_LA_[index_]\n",
    "data_X_T = data_XA_[index_]\n",
    "\n",
    "\n",
    "data = pd.concat([data_L_T,data_X_T])\n",
    "data = shuffle(data)\n",
    "\n",
    "target = data.iloc[:, 0]\n",
    "features = data.iloc[:,1:]\n",
    "features_bk = features.copy()\n",
    "\n",
    "transfer = StandardScaler()\n",
    "features_SS = transfer.fit_transform(features_bk)\n",
    "# 数据标准化很有必要\n",
    "\n",
    "alphas_ = np.logspace(-2,0,300)\n",
    "\n",
    "\n",
    "lassocv = LassoCV(alphas = alphas_,cv = 10,max_iter = 100000).fit(features_SS,target)\n",
    "lassocv.alpha_\n",
    "\n",
    "features = data[features.columns[lassocv.coef_!=0]]\n",
    "print(len(features.columns))\n",
    "\n",
    "\n",
    "features_SS =features_SS[:, pd.DataFrame(features_SS).columns[lassocv.coef_!=0]]\n",
    "features_SS.shape"
   ]
  },
  {
   "cell_type": "code",
   "execution_count": 3,
   "id": "f071e22d-25a9-42b7-9852-9d07017101cf",
   "metadata": {},
   "outputs": [],
   "source": [
    "from sklearn.model_selection import train_test_split\n",
    "train_features, test_features, train_target, test_target = train_test_split(\n",
    "    features_SS, target, \n",
    "    test_size = 0.2)"
   ]
  },
  {
   "cell_type": "code",
   "execution_count": 4,
   "id": "cc741aa7-0a2f-44dc-b792-57318c52f6b4",
   "metadata": {},
   "outputs": [
    {
     "data": {
      "text/plain": [
       "0.7857142857142857"
      ]
     },
     "execution_count": 4,
     "metadata": {},
     "output_type": "execute_result"
    }
   ],
   "source": [
    "#邏輯回歸\n",
    "from sklearn.linear_model import LinearRegression, Lasso, Ridge, ElasticNet\n",
    "from sklearn.linear_model import LogisticRegression\n",
    "\n",
    "log = LogisticRegression(penalty='l2',max_iter = 10000000,n_jobs=-1)\n",
    "\n",
    "log.fit(train_features, train_target)\n",
    "test_predict = log.predict(test_features)\n",
    "# print(test_target)\n",
    "# print(test_predict)\n",
    "log.score(test_features,test_target)"
   ]
  },
  {
   "cell_type": "code",
   "execution_count": 5,
   "id": "b4bad0e8-fd11-4902-9aaa-3b901c55578e",
   "metadata": {},
   "outputs": [
    {
     "name": "stdout",
     "output_type": "stream",
     "text": [
      "0.7142857142857143\n"
     ]
    }
   ],
   "source": [
    "#randomForest\n",
    "from sklearn.ensemble import RandomForestClassifier\n",
    "model_rf = RandomForestClassifier(n_estimators = 20).fit(train_features,train_target)\n",
    "score_rf = model_rf.score(test_features,test_target)\n",
    "print(score_rf)"
   ]
  },
  {
   "cell_type": "code",
   "execution_count": 6,
   "id": "a1b2d445-6df5-47ee-a8fb-02f1fdc61870",
   "metadata": {},
   "outputs": [
    {
     "data": {
      "text/plain": [
       "0.6428571428571429"
      ]
     },
     "execution_count": 6,
     "metadata": {},
     "output_type": "execute_result"
    }
   ],
   "source": [
    "#svm\n",
    "from sklearn.svm import SVC\n",
    "svc_linear = SVC(kernel = \"linear\",max_iter=-1)\n",
    "svc_linear.fit(train_features, train_target)\n",
    "test_predict = svc_linear.predict(test_features)\n",
    "svc_linear.score(test_features,test_target)"
   ]
  },
  {
   "cell_type": "code",
   "execution_count": 7,
   "id": "2dc619f8-0032-4453-9e05-a40a231c616b",
   "metadata": {},
   "outputs": [
    {
     "data": {
      "text/plain": [
       "0.6071428571428571"
      ]
     },
     "execution_count": 7,
     "metadata": {},
     "output_type": "execute_result"
    }
   ],
   "source": [
    "\n",
    "svc_poly = SVC(kernel=\"poly\",degree=3,coef0=0)\n",
    "svc_poly.fit(train_features, train_target)\n",
    "test_predict = svc_poly.predict(test_features)\n",
    "svc_poly.score(test_features,test_target)"
   ]
  },
  {
   "cell_type": "code",
   "execution_count": 8,
   "id": "8acd35eb-cdea-42af-9354-10d9788f3100",
   "metadata": {},
   "outputs": [
    {
     "data": {
      "text/plain": [
       "0.7142857142857143"
      ]
     },
     "execution_count": 8,
     "metadata": {},
     "output_type": "execute_result"
    }
   ],
   "source": [
    "svc_rbf = SVC(kernel=\"rbf\",degree=3,coef0=0)\n",
    "svc_rbf.fit(train_features, train_target)\n",
    "test_predict = svc_rbf.predict(test_features)\n",
    "svc_rbf.score(test_features,test_target)"
   ]
  },
  {
   "cell_type": "code",
   "execution_count": 9,
   "id": "42a090b5-3c2b-4040-ad3b-c641e634528b",
   "metadata": {},
   "outputs": [
    {
     "name": "stdout",
     "output_type": "stream",
     "text": [
      "LogisticRegression 0.7857142857142857\n",
      "SVC 0.6428571428571429\n",
      "SVC 0.6071428571428571\n",
      "SVC 0.7142857142857143\n",
      "VotingClassifier 0.7142857142857143\n"
     ]
    }
   ],
   "source": [
    "#集成算法\n",
    "from sklearn.linear_model import LogisticRegression\n",
    "from sklearn.svm import SVC\n",
    "from sklearn.tree import DecisionTreeClassifier\n",
    "from sklearn.ensemble import VotingClassifier\n",
    "\n",
    "log_clf = LogisticRegression(penalty='l2',max_iter = 10000000,n_jobs=-1)\n",
    "svc_linear = SVC(kernel = \"linear\",max_iter=-1)\n",
    "svc_poly = SVC(kernel=\"poly\",degree=3,coef0=0)\n",
    "svc_rbf = SVC(kernel=\"rbf\",degree=3,coef0=0)\n",
    "tree_clf = DecisionTreeClassifier()\n",
    "\n",
    "voting_clf = VotingClassifier(\n",
    "    estimators=[('lr', log_clf), ('svc_l', svc_linear),('svc_p',svc_poly),('svc_r',svc_rbf)],\n",
    "    voting='hard')\n",
    "#, ('tree', tree_clf)\n",
    "voting_clf.fit(train_features, train_target)\n",
    "\n",
    "for clf in (log_clf, svc_linear,svc_poly,svc_rbf, voting_clf):\n",
    "    clf.fit(train_features, train_target)\n",
    "    print(clf.__class__.__name__, clf.score(test_features, test_target))\n"
   ]
  },
  {
   "cell_type": "code",
   "execution_count": 10,
   "id": "c1a80946-85dc-4055-8546-004bbf34c0d4",
   "metadata": {},
   "outputs": [
    {
     "name": "stdout",
     "output_type": "stream",
     "text": [
      "LogisticRegression 0.7857142857142857\n",
      "SVC 0.6428571428571429\n",
      "SVC 0.6071428571428571\n",
      "SVC 0.7142857142857143\n",
      "VotingClassifier 0.7857142857142857\n"
     ]
    }
   ],
   "source": [
    "log_clf = LogisticRegression(penalty='l2',max_iter = 10000000,n_jobs=-1)\n",
    "svc_linear = SVC(kernel = \"linear\",max_iter=-1,probability=True)\n",
    "svc_poly = SVC(kernel=\"poly\",degree=3,coef0=0,probability=True)\n",
    "svc_rbf = SVC(kernel=\"rbf\",degree=3,coef0=0,probability=True)\n",
    "tree_clf = DecisionTreeClassifier()\n",
    "\n",
    "voting_clf = VotingClassifier(\n",
    "     estimators=[('lr', log_clf), ('svc_l', svc_linear),('svc_p',svc_poly),('svc_r',svc_rbf)],\n",
    "    voting='soft')\n",
    "#, ('tree', tree_clf)\n",
    "voting_clf.fit(train_features, train_target)\n",
    "for clf in (log_clf,  svc_linear,svc_poly,svc_rbf, voting_clf):\n",
    "    clf.fit(train_features, train_target)\n",
    "    print(clf.__class__.__name__, clf.score(test_features, test_target))"
   ]
  },
  {
   "cell_type": "code",
   "execution_count": 11,
   "id": "57ff2b95-b3b9-4b85-b00c-deea43818616",
   "metadata": {},
   "outputs": [
    {
     "data": {
      "text/plain": [
       "0.75"
      ]
     },
     "execution_count": 11,
     "metadata": {},
     "output_type": "execute_result"
    }
   ],
   "source": [
    "from sklearn.ensemble import StackingClassifier\n",
    "log_clf = LogisticRegression(penalty='l2',max_iter = 10000000,n_jobs=-1)\n",
    "svc_linear = SVC(kernel = \"linear\",max_iter=-1,probability=True)\n",
    "svc_poly = SVC(kernel=\"poly\",degree=3,coef0=0,probability=True)\n",
    "svc_rbf = SVC(kernel=\"rbf\",degree=3,coef0=0,probability=True)\n",
    "tree_clf = DecisionTreeClassifier()\n",
    "\n",
    "log_ensemble = LogisticRegression()\n",
    "\n",
    "stk_clf = StackingClassifier(\n",
    "      estimators=[('lr', log_clf), ('svc_l', svc_linear),\n",
    "                  ('svc_p',svc_poly),('svc_r',svc_rbf)],\n",
    "    final_estimator=log_ensemble)\n",
    "\n",
    "stk_clf.fit(train_features, train_target)\n",
    "\n",
    "stk_clf.score(test_features, test_target)"
   ]
  },
  {
   "cell_type": "code",
   "execution_count": 12,
   "id": "836862fe-aeff-433f-9d5e-942f63743e62",
   "metadata": {},
   "outputs": [
    {
     "data": {
      "text/plain": [
       "0.7857142857142857"
      ]
     },
     "execution_count": 12,
     "metadata": {},
     "output_type": "execute_result"
    }
   ],
   "source": [
    "from sklearn.ensemble import BaggingClassifier\n",
    "bag_clf = BaggingClassifier(\n",
    "    DecisionTreeClassifier(), n_estimators=500,\n",
    "    max_samples=70, max_features=10,\n",
    "    bootstrap=True, oob_score=True)\n",
    "\n",
    "bag_clf.fit(train_features, train_target)\n",
    "bag_clf.score(test_features, test_target)"
   ]
  },
  {
   "cell_type": "code",
   "execution_count": 13,
   "id": "fc3d64ed-eba8-4c6c-87dc-f2b6b7d34776",
   "metadata": {},
   "outputs": [
    {
     "data": {
      "text/plain": [
       "0.7142857142857143"
      ]
     },
     "execution_count": 13,
     "metadata": {},
     "output_type": "execute_result"
    }
   ],
   "source": [
    "from sklearn.ensemble import AdaBoostClassifier\n",
    "\n",
    "ada_clf = AdaBoostClassifier(\n",
    "    DecisionTreeClassifier(), n_estimators=200, learning_rate=0.5)\n",
    "\n",
    "ada_clf.fit(train_features,train_target)\n",
    "ada_clf.score(test_features,test_target)"
   ]
  },
  {
   "cell_type": "code",
   "execution_count": 14,
   "id": "efa18be7-0c64-4218-8d20-626f236a4bcd",
   "metadata": {},
   "outputs": [
    {
     "data": {
      "text/plain": [
       "0.6428571428571429"
      ]
     },
     "execution_count": 14,
     "metadata": {},
     "output_type": "execute_result"
    }
   ],
   "source": [
    "from sklearn.ensemble import GradientBoostingClassifier\n",
    "gra_clf = GradientBoostingClassifier(n_estimators=200, learning_rate=0.5)#Gradient Tree Boosting\n",
    "\n",
    "gra_clf.fit(train_features,train_target)\n",
    "gra_clf.score(test_features,test_target)"
   ]
  },
  {
   "cell_type": "code",
   "execution_count": 15,
   "id": "8dcc3894-0e05-42fa-9259-b3bce44e482e",
   "metadata": {},
   "outputs": [
    {
     "data": {
      "text/plain": [
       "array([0.00000000e+00, 1.03854160e-01, 2.53853793e-01, 8.47283632e-02,\n",
       "       0.00000000e+00, 8.72350528e-02, 0.00000000e+00, 0.00000000e+00,\n",
       "       9.49713581e-17, 1.60870687e-01, 0.00000000e+00, 4.28558255e-02,\n",
       "       6.66565672e-02, 0.00000000e+00, 0.00000000e+00, 0.00000000e+00,\n",
       "       4.14751974e-02, 4.62620858e-02, 1.12208267e-01, 0.00000000e+00])"
      ]
     },
     "execution_count": 15,
     "metadata": {},
     "output_type": "execute_result"
    }
   ],
   "source": [
    "ada_clf.feature_importances_"
   ]
  },
  {
   "cell_type": "code",
   "execution_count": 16,
   "id": "6f220873-e375-4e47-a9c6-3b565b69fe11",
   "metadata": {},
   "outputs": [
    {
     "data": {
      "text/plain": [
       "array([0.00103188, 0.11800468, 0.17650331, 0.08146451, 0.00618557,\n",
       "       0.12995772, 0.04654297, 0.0790843 , 0.00096173, 0.03680832,\n",
       "       0.04789128, 0.00798968, 0.03222963, 0.05004932, 0.0075253 ,\n",
       "       0.01599637, 0.01454819, 0.06454575, 0.06132896, 0.02135052])"
      ]
     },
     "execution_count": 16,
     "metadata": {},
     "output_type": "execute_result"
    }
   ],
   "source": [
    "gra_clf.feature_importances_"
   ]
  },
  {
   "cell_type": "code",
   "execution_count": 17,
   "id": "0bd5001d-1ea9-428a-9ddb-7c7785ffdaaf",
   "metadata": {},
   "outputs": [
    {
     "data": {
      "text/plain": [
       "0.7857142857142857"
      ]
     },
     "execution_count": 17,
     "metadata": {},
     "output_type": "execute_result"
    }
   ],
   "source": [
    "import xgboost\n",
    "\n",
    "xgb_clf = xgboost.XGBClassifier(n_estimators=200,learning_rate=0.5)\n",
    "xgb_clf.fit(train_features, train_target)\n",
    "xgb_clf.score(test_features, test_target)"
   ]
  },
  {
   "cell_type": "code",
   "execution_count": null,
   "id": "89257605-02a2-4a9c-a842-9180f7015616",
   "metadata": {},
   "outputs": [],
   "source": []
  }
 ],
 "metadata": {
  "kernelspec": {
   "display_name": "Python 3 (ipykernel)",
   "language": "python",
   "name": "python3"
  },
  "language_info": {
   "codemirror_mode": {
    "name": "ipython",
    "version": 3
   },
   "file_extension": ".py",
   "mimetype": "text/x-python",
   "name": "python",
   "nbconvert_exporter": "python",
   "pygments_lexer": "ipython3",
   "version": "3.11.5"
  }
 },
 "nbformat": 4,
 "nbformat_minor": 5
}
