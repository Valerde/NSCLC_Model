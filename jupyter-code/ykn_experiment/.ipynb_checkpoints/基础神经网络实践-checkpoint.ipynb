{
 "cells": [
  {
   "cell_type": "markdown",
   "metadata": {},
   "source": [
    "# 一、导入数据"
   ]
  },
  {
   "cell_type": "code",
   "execution_count": 1,
   "metadata": {},
   "outputs": [
    {
     "name": "stderr",
     "output_type": "stream",
     "text": [
      "2024-04-01 18:41:23.645123: I tensorflow/core/platform/cpu_feature_guard.cc:182] This TensorFlow binary is optimized to use available CPU instructions in performance-critical operations.\n",
      "To enable the following instructions: SSE4.1 SSE4.2 AVX AVX2 FMA, in other operations, rebuild TensorFlow with the appropriate compiler flags.\n",
      "/root/anaconda3/lib/python3.11/site-packages/scipy/stats/_morestats.py:2710: RuntimeWarning: invalid value encountered in double_scalars\n",
      "  W = numer / denom\n",
      "/tmp/ipykernel_438228/104313423.py:41: RuntimeWarning: Precision loss occurred in moment calculation due to catastrophic cancellation. This occurs when the data are nearly identical. Results may be unreliable.\n",
      "  if ttest_ind(data_LA_[col],data_XA_[col],equal_var=False)[1] < 0.05:\n"
     ]
    },
    {
     "name": "stdout",
     "output_type": "stream",
     "text": [
      "8\n"
     ]
    }
   ],
   "source": [
    "import numpy as np\n",
    "import pandas as pd\n",
    "from sklearn.utils import shuffle\n",
    "from sklearn.preprocessing import StandardScaler,MinMaxScaler\n",
    "from sklearn.linear_model import LassoCV\n",
    "from scipy.stats import ttest_ind, levene\n",
    "from tensorflow import keras\n",
    "\n",
    "data_LA = pd.read_csv(\"input/LA_total.csv\",index_col=0)\n",
    "data_XA = pd.read_csv(\"input/XA_total.csv\",index_col=0)\n",
    "\n",
    "\n",
    "data_LA_ = pd.DataFrame()\n",
    "columns_LA = data_LA.columns\n",
    "for col in columns_LA:\n",
    "    try:\n",
    "        df = data_LA[col].astype(np.float64)\n",
    "        data_LA_ = pd.concat([data_LA_,df],axis=1)\n",
    "    except:\n",
    "        pass\n",
    "    continue\n",
    "    \n",
    "data_XA_ = pd.DataFrame()\n",
    "columns_XA = data_XA.columns\n",
    "for col in columns_XA:\n",
    "    try:\n",
    "        df = data_XA[col].astype(np.float64)\n",
    "        data_XA_ = pd.concat([data_XA_,df],axis=1)\n",
    "    except:\n",
    "        pass\n",
    "    continue\n",
    "\n",
    "\n",
    "# 方差齐性\n",
    "index_ = []\n",
    "for col in data_LA_.columns:\n",
    "    if levene(data_LA_[col],data_XA_[col])[1] > 0.05:\n",
    "        if ttest_ind(data_LA_[col],data_XA_[col])[1] < 0.05:\n",
    "            index_.append(col)\n",
    "    else:\n",
    "        if ttest_ind(data_LA_[col],data_XA_[col],equal_var=False)[1] < 0.05:\n",
    "            index_.append(col)\n",
    "\n",
    "\n",
    "data_L_T = data_LA_[index_]\n",
    "data_X_T = data_XA_[index_]\n",
    "\n",
    "\n",
    "data = pd.concat([data_L_T,data_X_T])\n",
    "data = shuffle(data)\n",
    "\n",
    "target = data.iloc[:, 0]\n",
    "features = data.iloc[:,1:]\n",
    "features_bk = features.copy()\n",
    "\n",
    "transfer = StandardScaler()\n",
    "features_SS = transfer.fit_transform(features_bk)\n",
    "# 数据标准化很有必要\n",
    "\n",
    "alphas_ = np.logspace(-2,0,300)\n",
    "\n",
    "\n",
    "lassocv = LassoCV(alphas = alphas_,cv = 10,max_iter = 100000).fit(features_SS,target)\n",
    "lassocv.alpha_\n",
    "features = data[features.columns[lassocv.coef_!=0]]\n",
    "print(len(features.columns))\n",
    "# print(lassocv.coef_[lassocv.coef_!=0])\n",
    "\n",
    "features_SS =features_SS[:, pd.DataFrame(features_SS).columns[lassocv.coef_!=0]]"
   ]
  },
  {
   "cell_type": "markdown",
   "metadata": {},
   "source": [
    "# 三、拆分数据集"
   ]
  },
  {
   "cell_type": "code",
   "execution_count": 2,
   "metadata": {},
   "outputs": [],
   "source": [
    "from sklearn.model_selection import train_test_split"
   ]
  },
  {
   "cell_type": "code",
   "execution_count": 3,
   "metadata": {},
   "outputs": [],
   "source": [
    "train_features_full, test_features, train_target_full, test_target = train_test_split(\n",
    "    features_SS, target, \n",
    "    test_size = 0.15)"
   ]
  },
  {
   "cell_type": "code",
   "execution_count": 4,
   "metadata": {},
   "outputs": [
    {
     "name": "stdout",
     "output_type": "stream",
     "text": [
      "(117, 8)\n",
      "(117,)\n",
      "(21, 8)\n",
      "(21,)\n"
     ]
    }
   ],
   "source": [
    "print(train_features_full.shape)\n",
    "print(train_target_full.shape)\n",
    "print(test_features.shape)\n",
    "print(test_target.shape)"
   ]
  },
  {
   "cell_type": "code",
   "execution_count": 5,
   "metadata": {},
   "outputs": [],
   "source": [
    "train_features, validation_features, train_target, validation_target = train_test_split(\n",
    "    train_features_full, train_target_full, \n",
    "    test_size = 0.15)"
   ]
  },
  {
   "cell_type": "code",
   "execution_count": 6,
   "metadata": {},
   "outputs": [
    {
     "name": "stdout",
     "output_type": "stream",
     "text": [
      "(99, 8)\n",
      "(99,)\n",
      "(18, 8)\n",
      "(18,)\n",
      "(21, 8)\n",
      "(21,)\n"
     ]
    }
   ],
   "source": [
    "print(train_features.shape)\n",
    "print(train_target.shape)\n",
    "print(validation_features.shape)\n",
    "print(validation_target.shape)\n",
    "print(test_features.shape)\n",
    "print(test_target.shape)"
   ]
  },
  {
   "cell_type": "markdown",
   "metadata": {},
   "source": [
    "# 四、建立模型"
   ]
  },
  {
   "cell_type": "code",
   "execution_count": 7,
   "metadata": {},
   "outputs": [
    {
     "name": "stderr",
     "output_type": "stream",
     "text": [
      "2024-04-01 18:41:29.577865: I tensorflow/core/common_runtime/process_util.cc:146] Creating new thread pool with default inter op setting: 2. Tune using inter_op_parallelism_threads for best performance.\n"
     ]
    }
   ],
   "source": [
    "clf = keras.Sequential()\n",
    "clf.add(keras.layers.InputLayer( input_shape = train_features.shape[1:]))\n",
    "clf.add(keras.layers.Dense(10,activation='selu'))\n",
    "clf.add(keras.layers.Dense(5,activation='selu'))\n",
    "clf.add(keras.layers.Dense(1,activation='sigmoid'))"
   ]
  },
  {
   "cell_type": "code",
   "execution_count": 8,
   "metadata": {},
   "outputs": [
    {
     "name": "stdout",
     "output_type": "stream",
     "text": [
      "Model: \"sequential\"\n",
      "_________________________________________________________________\n",
      " Layer (type)                Output Shape              Param #   \n",
      "=================================================================\n",
      " dense (Dense)               (None, 10)                90        \n",
      "                                                                 \n",
      " dense_1 (Dense)             (None, 5)                 55        \n",
      "                                                                 \n",
      " dense_2 (Dense)             (None, 1)                 6         \n",
      "                                                                 \n",
      "=================================================================\n",
      "Total params: 151\n",
      "Trainable params: 151\n",
      "Non-trainable params: 0\n",
      "_________________________________________________________________\n"
     ]
    }
   ],
   "source": [
    "clf.summary()"
   ]
  },
  {
   "cell_type": "code",
   "execution_count": 9,
   "metadata": {},
   "outputs": [],
   "source": [
    "# keras.utils.plot_model(clf,to_file='output/nn.png')"
   ]
  },
  {
   "cell_type": "markdown",
   "metadata": {},
   "source": [
    "# 五、编辑训练模型"
   ]
  },
  {
   "cell_type": "code",
   "execution_count": 10,
   "metadata": {},
   "outputs": [],
   "source": [
    "clf.compile(loss = 'binary_crossentropy', metrics = 'accuracy', optimizer='rmsprop')"
   ]
  },
  {
   "cell_type": "code",
   "execution_count": 11,
   "metadata": {},
   "outputs": [
    {
     "name": "stdout",
     "output_type": "stream",
     "text": [
      "Epoch 1/100\n",
      "10/10 [==============================] - 1s 24ms/step - loss: 0.7387 - accuracy: 0.5556 - val_loss: 0.7175 - val_accuracy: 0.5000\n",
      "Epoch 2/100\n",
      "10/10 [==============================] - 0s 7ms/step - loss: 0.7106 - accuracy: 0.5758 - val_loss: 0.6582 - val_accuracy: 0.5000\n",
      "Epoch 3/100\n",
      "10/10 [==============================] - 0s 8ms/step - loss: 0.6976 - accuracy: 0.6162 - val_loss: 0.6227 - val_accuracy: 0.6111\n",
      "Epoch 4/100\n",
      "10/10 [==============================] - 0s 9ms/step - loss: 0.6879 - accuracy: 0.6263 - val_loss: 0.5938 - val_accuracy: 0.6111\n",
      "Epoch 5/100\n",
      "10/10 [==============================] - 0s 7ms/step - loss: 0.6815 - accuracy: 0.6465 - val_loss: 0.5680 - val_accuracy: 0.7222\n",
      "Epoch 6/100\n",
      "10/10 [==============================] - 0s 5ms/step - loss: 0.6751 - accuracy: 0.6364 - val_loss: 0.5446 - val_accuracy: 0.7778\n",
      "Epoch 7/100\n",
      "10/10 [==============================] - 0s 8ms/step - loss: 0.6703 - accuracy: 0.6364 - val_loss: 0.5352 - val_accuracy: 0.8333\n",
      "Epoch 8/100\n",
      "10/10 [==============================] - 0s 9ms/step - loss: 0.6647 - accuracy: 0.6263 - val_loss: 0.5252 - val_accuracy: 0.8333\n",
      "Epoch 9/100\n",
      "10/10 [==============================] - 0s 9ms/step - loss: 0.6614 - accuracy: 0.6465 - val_loss: 0.5194 - val_accuracy: 0.7778\n",
      "Epoch 10/100\n",
      "10/10 [==============================] - 0s 8ms/step - loss: 0.6569 - accuracy: 0.6465 - val_loss: 0.5098 - val_accuracy: 0.8333\n",
      "Epoch 11/100\n",
      "10/10 [==============================] - 0s 8ms/step - loss: 0.6538 - accuracy: 0.6364 - val_loss: 0.5069 - val_accuracy: 0.8333\n",
      "Epoch 12/100\n",
      "10/10 [==============================] - 0s 9ms/step - loss: 0.6515 - accuracy: 0.6566 - val_loss: 0.5021 - val_accuracy: 0.8333\n",
      "Epoch 13/100\n",
      "10/10 [==============================] - 0s 6ms/step - loss: 0.6476 - accuracy: 0.6465 - val_loss: 0.4980 - val_accuracy: 0.8333\n",
      "Epoch 14/100\n",
      "10/10 [==============================] - 0s 4ms/step - loss: 0.6437 - accuracy: 0.6566 - val_loss: 0.4944 - val_accuracy: 0.8333\n",
      "Epoch 15/100\n",
      "10/10 [==============================] - 0s 5ms/step - loss: 0.6422 - accuracy: 0.6465 - val_loss: 0.4905 - val_accuracy: 0.8333\n",
      "Epoch 16/100\n",
      "10/10 [==============================] - 0s 5ms/step - loss: 0.6395 - accuracy: 0.6465 - val_loss: 0.4862 - val_accuracy: 0.8333\n",
      "Epoch 17/100\n",
      "10/10 [==============================] - 0s 5ms/step - loss: 0.6373 - accuracy: 0.6667 - val_loss: 0.4810 - val_accuracy: 0.8333\n",
      "Epoch 18/100\n",
      "10/10 [==============================] - 0s 4ms/step - loss: 0.6332 - accuracy: 0.6465 - val_loss: 0.4792 - val_accuracy: 0.8333\n",
      "Epoch 19/100\n",
      "10/10 [==============================] - 0s 4ms/step - loss: 0.6326 - accuracy: 0.6667 - val_loss: 0.4766 - val_accuracy: 0.8333\n",
      "Epoch 20/100\n",
      "10/10 [==============================] - 0s 4ms/step - loss: 0.6319 - accuracy: 0.6566 - val_loss: 0.4712 - val_accuracy: 0.8333\n",
      "Epoch 21/100\n",
      "10/10 [==============================] - 0s 4ms/step - loss: 0.6309 - accuracy: 0.6465 - val_loss: 0.4694 - val_accuracy: 0.8333\n",
      "Epoch 22/100\n",
      "10/10 [==============================] - 0s 4ms/step - loss: 0.6276 - accuracy: 0.6566 - val_loss: 0.4684 - val_accuracy: 0.8333\n",
      "Epoch 23/100\n",
      "10/10 [==============================] - 0s 5ms/step - loss: 0.6274 - accuracy: 0.6768 - val_loss: 0.4649 - val_accuracy: 0.8333\n",
      "Epoch 24/100\n",
      "10/10 [==============================] - 0s 4ms/step - loss: 0.6250 - accuracy: 0.6667 - val_loss: 0.4625 - val_accuracy: 0.8333\n",
      "Epoch 25/100\n",
      "10/10 [==============================] - 0s 5ms/step - loss: 0.6240 - accuracy: 0.6465 - val_loss: 0.4625 - val_accuracy: 0.8333\n",
      "Epoch 26/100\n",
      "10/10 [==============================] - 0s 6ms/step - loss: 0.6232 - accuracy: 0.6566 - val_loss: 0.4587 - val_accuracy: 0.8333\n",
      "Epoch 27/100\n",
      "10/10 [==============================] - 0s 9ms/step - loss: 0.6211 - accuracy: 0.6667 - val_loss: 0.4558 - val_accuracy: 0.8333\n",
      "Epoch 28/100\n",
      "10/10 [==============================] - 0s 7ms/step - loss: 0.6203 - accuracy: 0.6566 - val_loss: 0.4536 - val_accuracy: 0.8333\n",
      "Epoch 29/100\n",
      "10/10 [==============================] - 0s 8ms/step - loss: 0.6183 - accuracy: 0.6667 - val_loss: 0.4506 - val_accuracy: 0.8333\n",
      "Epoch 30/100\n",
      "10/10 [==============================] - 0s 7ms/step - loss: 0.6185 - accuracy: 0.6465 - val_loss: 0.4495 - val_accuracy: 0.8333\n",
      "Epoch 31/100\n",
      "10/10 [==============================] - 0s 4ms/step - loss: 0.6169 - accuracy: 0.6566 - val_loss: 0.4503 - val_accuracy: 0.8333\n",
      "Epoch 32/100\n",
      "10/10 [==============================] - 0s 6ms/step - loss: 0.6165 - accuracy: 0.6667 - val_loss: 0.4483 - val_accuracy: 0.8333\n",
      "Epoch 33/100\n",
      "10/10 [==============================] - 0s 7ms/step - loss: 0.6156 - accuracy: 0.6667 - val_loss: 0.4464 - val_accuracy: 0.8889\n",
      "Epoch 34/100\n",
      "10/10 [==============================] - 0s 6ms/step - loss: 0.6151 - accuracy: 0.6566 - val_loss: 0.4450 - val_accuracy: 0.8889\n",
      "Epoch 35/100\n",
      "10/10 [==============================] - 0s 9ms/step - loss: 0.6136 - accuracy: 0.6667 - val_loss: 0.4433 - val_accuracy: 0.8333\n",
      "Epoch 36/100\n",
      "10/10 [==============================] - 0s 9ms/step - loss: 0.6133 - accuracy: 0.6566 - val_loss: 0.4421 - val_accuracy: 0.8333\n",
      "Epoch 37/100\n",
      "10/10 [==============================] - 0s 10ms/step - loss: 0.6131 - accuracy: 0.6465 - val_loss: 0.4414 - val_accuracy: 0.8333\n",
      "Epoch 38/100\n",
      "10/10 [==============================] - 0s 6ms/step - loss: 0.6106 - accuracy: 0.6566 - val_loss: 0.4373 - val_accuracy: 0.8333\n",
      "Epoch 39/100\n",
      "10/10 [==============================] - 0s 8ms/step - loss: 0.6103 - accuracy: 0.6566 - val_loss: 0.4368 - val_accuracy: 0.8333\n",
      "Epoch 40/100\n",
      "10/10 [==============================] - 0s 7ms/step - loss: 0.6114 - accuracy: 0.6465 - val_loss: 0.4358 - val_accuracy: 0.8333\n",
      "Epoch 41/100\n",
      "10/10 [==============================] - 0s 9ms/step - loss: 0.6091 - accuracy: 0.6465 - val_loss: 0.4354 - val_accuracy: 0.8333\n",
      "Epoch 42/100\n",
      "10/10 [==============================] - 0s 7ms/step - loss: 0.6077 - accuracy: 0.6566 - val_loss: 0.4343 - val_accuracy: 0.8333\n",
      "Epoch 43/100\n",
      "10/10 [==============================] - 0s 7ms/step - loss: 0.6081 - accuracy: 0.6566 - val_loss: 0.4322 - val_accuracy: 0.8333\n",
      "Epoch 44/100\n",
      "10/10 [==============================] - 0s 7ms/step - loss: 0.6079 - accuracy: 0.6566 - val_loss: 0.4320 - val_accuracy: 0.8333\n",
      "Epoch 45/100\n",
      "10/10 [==============================] - 0s 7ms/step - loss: 0.6073 - accuracy: 0.6465 - val_loss: 0.4315 - val_accuracy: 0.8333\n",
      "Epoch 46/100\n",
      "10/10 [==============================] - 0s 9ms/step - loss: 0.6055 - accuracy: 0.6667 - val_loss: 0.4300 - val_accuracy: 0.8333\n",
      "Epoch 47/100\n",
      "10/10 [==============================] - 0s 6ms/step - loss: 0.6052 - accuracy: 0.6667 - val_loss: 0.4303 - val_accuracy: 0.8333\n",
      "Epoch 48/100\n",
      "10/10 [==============================] - 0s 6ms/step - loss: 0.6054 - accuracy: 0.6768 - val_loss: 0.4285 - val_accuracy: 0.8333\n",
      "Epoch 49/100\n",
      "10/10 [==============================] - 0s 8ms/step - loss: 0.6054 - accuracy: 0.6465 - val_loss: 0.4292 - val_accuracy: 0.8333\n",
      "Epoch 50/100\n",
      "10/10 [==============================] - 0s 9ms/step - loss: 0.6034 - accuracy: 0.6768 - val_loss: 0.4294 - val_accuracy: 0.8333\n",
      "Epoch 51/100\n",
      "10/10 [==============================] - 0s 10ms/step - loss: 0.6029 - accuracy: 0.6768 - val_loss: 0.4285 - val_accuracy: 0.8333\n",
      "Epoch 52/100\n",
      "10/10 [==============================] - 0s 10ms/step - loss: 0.6025 - accuracy: 0.6667 - val_loss: 0.4280 - val_accuracy: 0.8333\n",
      "Epoch 53/100\n",
      "10/10 [==============================] - 0s 10ms/step - loss: 0.6016 - accuracy: 0.6667 - val_loss: 0.4276 - val_accuracy: 0.8333\n",
      "Epoch 54/100\n",
      "10/10 [==============================] - 0s 8ms/step - loss: 0.6014 - accuracy: 0.6667 - val_loss: 0.4260 - val_accuracy: 0.8333\n",
      "Epoch 55/100\n",
      "10/10 [==============================] - 0s 5ms/step - loss: 0.6014 - accuracy: 0.6667 - val_loss: 0.4251 - val_accuracy: 0.8333\n",
      "Epoch 56/100\n",
      "10/10 [==============================] - 0s 4ms/step - loss: 0.6013 - accuracy: 0.6667 - val_loss: 0.4239 - val_accuracy: 0.8333\n",
      "Epoch 57/100\n",
      "10/10 [==============================] - 0s 7ms/step - loss: 0.6000 - accuracy: 0.6566 - val_loss: 0.4230 - val_accuracy: 0.8333\n",
      "Epoch 58/100\n",
      "10/10 [==============================] - 0s 4ms/step - loss: 0.5999 - accuracy: 0.6465 - val_loss: 0.4243 - val_accuracy: 0.8333\n",
      "Epoch 59/100\n",
      "10/10 [==============================] - 0s 4ms/step - loss: 0.5982 - accuracy: 0.6566 - val_loss: 0.4199 - val_accuracy: 0.8333\n",
      "Epoch 60/100\n",
      "10/10 [==============================] - 0s 4ms/step - loss: 0.5993 - accuracy: 0.6768 - val_loss: 0.4196 - val_accuracy: 0.8333\n",
      "Epoch 61/100\n",
      "10/10 [==============================] - 0s 3ms/step - loss: 0.6002 - accuracy: 0.6667 - val_loss: 0.4186 - val_accuracy: 0.8333\n",
      "Epoch 62/100\n",
      "10/10 [==============================] - 0s 5ms/step - loss: 0.5973 - accuracy: 0.6768 - val_loss: 0.4171 - val_accuracy: 0.8333\n",
      "Epoch 63/100\n",
      "10/10 [==============================] - 0s 4ms/step - loss: 0.5975 - accuracy: 0.6566 - val_loss: 0.4180 - val_accuracy: 0.8333\n",
      "Epoch 64/100\n",
      "10/10 [==============================] - 0s 5ms/step - loss: 0.5974 - accuracy: 0.6667 - val_loss: 0.4163 - val_accuracy: 0.8333\n",
      "Epoch 65/100\n",
      "10/10 [==============================] - 0s 4ms/step - loss: 0.5978 - accuracy: 0.6566 - val_loss: 0.4175 - val_accuracy: 0.8333\n",
      "Epoch 66/100\n",
      "10/10 [==============================] - 0s 5ms/step - loss: 0.5970 - accuracy: 0.6667 - val_loss: 0.4149 - val_accuracy: 0.8333\n",
      "Epoch 67/100\n",
      "10/10 [==============================] - 0s 4ms/step - loss: 0.5950 - accuracy: 0.6667 - val_loss: 0.4124 - val_accuracy: 0.8333\n",
      "Epoch 68/100\n",
      "10/10 [==============================] - 0s 4ms/step - loss: 0.5970 - accuracy: 0.6667 - val_loss: 0.4121 - val_accuracy: 0.8333\n",
      "Epoch 69/100\n",
      "10/10 [==============================] - 0s 4ms/step - loss: 0.5958 - accuracy: 0.6566 - val_loss: 0.4119 - val_accuracy: 0.8333\n",
      "Epoch 70/100\n",
      "10/10 [==============================] - 0s 4ms/step - loss: 0.5949 - accuracy: 0.6768 - val_loss: 0.4131 - val_accuracy: 0.8333\n",
      "Epoch 71/100\n",
      "10/10 [==============================] - 0s 6ms/step - loss: 0.5939 - accuracy: 0.6667 - val_loss: 0.4134 - val_accuracy: 0.8333\n",
      "Epoch 72/100\n",
      "10/10 [==============================] - 0s 7ms/step - loss: 0.5939 - accuracy: 0.6970 - val_loss: 0.4138 - val_accuracy: 0.8333\n",
      "Epoch 73/100\n",
      "10/10 [==============================] - 0s 5ms/step - loss: 0.5937 - accuracy: 0.6869 - val_loss: 0.4138 - val_accuracy: 0.8889\n",
      "Epoch 74/100\n",
      "10/10 [==============================] - 0s 5ms/step - loss: 0.5937 - accuracy: 0.6869 - val_loss: 0.4128 - val_accuracy: 0.8889\n",
      "Epoch 75/100\n",
      "10/10 [==============================] - 0s 5ms/step - loss: 0.5921 - accuracy: 0.6768 - val_loss: 0.4141 - val_accuracy: 0.8889\n",
      "Epoch 76/100\n",
      "10/10 [==============================] - 0s 4ms/step - loss: 0.5927 - accuracy: 0.6566 - val_loss: 0.4147 - val_accuracy: 0.8889\n",
      "Epoch 77/100\n",
      "10/10 [==============================] - 0s 4ms/step - loss: 0.5918 - accuracy: 0.6869 - val_loss: 0.4118 - val_accuracy: 0.8889\n",
      "Epoch 78/100\n",
      "10/10 [==============================] - 0s 4ms/step - loss: 0.5916 - accuracy: 0.6768 - val_loss: 0.4124 - val_accuracy: 0.8889\n",
      "Epoch 79/100\n",
      "10/10 [==============================] - 0s 5ms/step - loss: 0.5912 - accuracy: 0.6768 - val_loss: 0.4127 - val_accuracy: 0.8889\n",
      "Epoch 80/100\n",
      "10/10 [==============================] - 0s 4ms/step - loss: 0.5927 - accuracy: 0.6667 - val_loss: 0.4138 - val_accuracy: 0.8889\n",
      "Epoch 81/100\n",
      "10/10 [==============================] - 0s 4ms/step - loss: 0.5912 - accuracy: 0.6869 - val_loss: 0.4130 - val_accuracy: 0.8889\n",
      "Epoch 82/100\n",
      "10/10 [==============================] - 0s 4ms/step - loss: 0.5911 - accuracy: 0.6768 - val_loss: 0.4098 - val_accuracy: 0.8889\n",
      "Epoch 83/100\n",
      "10/10 [==============================] - 0s 4ms/step - loss: 0.5896 - accuracy: 0.6869 - val_loss: 0.4088 - val_accuracy: 0.8889\n",
      "Epoch 84/100\n",
      "10/10 [==============================] - 0s 4ms/step - loss: 0.5888 - accuracy: 0.6869 - val_loss: 0.4082 - val_accuracy: 0.8889\n",
      "Epoch 85/100\n",
      "10/10 [==============================] - 0s 6ms/step - loss: 0.5886 - accuracy: 0.6970 - val_loss: 0.4066 - val_accuracy: 0.8889\n",
      "Epoch 86/100\n",
      "10/10 [==============================] - 0s 5ms/step - loss: 0.5891 - accuracy: 0.6768 - val_loss: 0.4060 - val_accuracy: 0.8889\n",
      "Epoch 87/100\n",
      "10/10 [==============================] - 0s 28ms/step - loss: 0.5889 - accuracy: 0.6869 - val_loss: 0.4059 - val_accuracy: 0.8889\n",
      "Epoch 88/100\n",
      "10/10 [==============================] - 0s 21ms/step - loss: 0.5881 - accuracy: 0.6869 - val_loss: 0.4075 - val_accuracy: 0.8889\n",
      "Epoch 89/100\n",
      "10/10 [==============================] - 0s 10ms/step - loss: 0.5892 - accuracy: 0.6768 - val_loss: 0.4085 - val_accuracy: 0.8889\n",
      "Epoch 90/100\n",
      "10/10 [==============================] - 0s 7ms/step - loss: 0.5875 - accuracy: 0.6869 - val_loss: 0.4097 - val_accuracy: 0.8889\n",
      "Epoch 91/100\n",
      "10/10 [==============================] - 0s 9ms/step - loss: 0.5880 - accuracy: 0.6869 - val_loss: 0.4066 - val_accuracy: 0.8889\n",
      "Epoch 92/100\n",
      "10/10 [==============================] - 0s 7ms/step - loss: 0.5868 - accuracy: 0.6869 - val_loss: 0.4069 - val_accuracy: 0.8889\n",
      "Epoch 93/100\n",
      "10/10 [==============================] - 0s 9ms/step - loss: 0.5870 - accuracy: 0.6768 - val_loss: 0.4069 - val_accuracy: 0.8889\n",
      "Epoch 94/100\n",
      "10/10 [==============================] - 0s 9ms/step - loss: 0.5864 - accuracy: 0.6768 - val_loss: 0.4033 - val_accuracy: 0.8889\n",
      "Epoch 95/100\n",
      "10/10 [==============================] - 0s 9ms/step - loss: 0.5858 - accuracy: 0.6869 - val_loss: 0.4057 - val_accuracy: 0.8889\n",
      "Epoch 96/100\n",
      "10/10 [==============================] - 0s 8ms/step - loss: 0.5843 - accuracy: 0.6970 - val_loss: 0.4056 - val_accuracy: 0.8889\n",
      "Epoch 97/100\n",
      "10/10 [==============================] - 0s 9ms/step - loss: 0.5857 - accuracy: 0.6869 - val_loss: 0.4049 - val_accuracy: 0.8889\n",
      "Epoch 98/100\n",
      "10/10 [==============================] - 0s 11ms/step - loss: 0.5852 - accuracy: 0.6566 - val_loss: 0.4086 - val_accuracy: 0.8889\n",
      "Epoch 99/100\n",
      "10/10 [==============================] - 0s 8ms/step - loss: 0.5842 - accuracy: 0.6869 - val_loss: 0.4081 - val_accuracy: 0.8889\n",
      "Epoch 100/100\n",
      "10/10 [==============================] - 0s 8ms/step - loss: 0.5859 - accuracy: 0.6667 - val_loss: 0.4051 - val_accuracy: 0.8889\n"
     ]
    },
    {
     "data": {
      "text/plain": [
       "<keras.callbacks.History at 0x7f26203e0e50>"
      ]
     },
     "execution_count": 11,
     "metadata": {},
     "output_type": "execute_result"
    }
   ],
   "source": [
    "clf.fit(train_features, train_target, batch_size = 10, epochs=100,\n",
    "         validation_data=(validation_features, validation_target))"
   ]
  },
  {
   "cell_type": "code",
   "execution_count": 12,
   "metadata": {},
   "outputs": [
    {
     "name": "stdout",
     "output_type": "stream",
     "text": [
      "1/1 [==============================] - 0s 46ms/step - loss: 0.4706 - accuracy: 0.8571\n"
     ]
    },
    {
     "data": {
      "text/plain": [
       "[0.4706073999404907, 0.8571428656578064]"
      ]
     },
     "execution_count": 12,
     "metadata": {},
     "output_type": "execute_result"
    }
   ],
   "source": [
    "clf.evaluate(test_features, test_target)"
   ]
  },
  {
   "cell_type": "code",
   "execution_count": 13,
   "metadata": {},
   "outputs": [
    {
     "name": "stdout",
     "output_type": "stream",
     "text": [
      "1/1 [==============================] - 0s 72ms/step\n"
     ]
    },
    {
     "data": {
      "text/plain": [
       "array([[0.70817214],\n",
       "       [0.8570714 ],\n",
       "       [0.71779776],\n",
       "       [0.9750911 ],\n",
       "       [0.3568454 ],\n",
       "       [0.94999677],\n",
       "       [0.9793155 ],\n",
       "       [0.35433143],\n",
       "       [0.7132036 ],\n",
       "       [0.6652212 ],\n",
       "       [0.6025863 ],\n",
       "       [0.4319135 ],\n",
       "       [0.59809804],\n",
       "       [0.51310515],\n",
       "       [0.3814942 ],\n",
       "       [0.47189143],\n",
       "       [0.4207037 ],\n",
       "       [0.5277746 ],\n",
       "       [0.90612197],\n",
       "       [0.5110991 ],\n",
       "       [0.7407737 ]], dtype=float32)"
      ]
     },
     "execution_count": 13,
     "metadata": {},
     "output_type": "execute_result"
    }
   ],
   "source": [
    "clf.predict(test_features)"
   ]
  },
  {
   "cell_type": "code",
   "execution_count": 14,
   "metadata": {},
   "outputs": [
    {
     "name": "stdout",
     "output_type": "stream",
     "text": [
      "1/1 [==============================] - 0s 20ms/step\n"
     ]
    }
   ],
   "source": [
    "# clf.predict_classes(test_features)\n",
    "\n",
    "predict_x=clf.predict(test_features) \n",
    "classes_x=np.argmax(predict_x,axis=1)"
   ]
  },
  {
   "cell_type": "code",
   "execution_count": 15,
   "metadata": {},
   "outputs": [
    {
     "name": "stdout",
     "output_type": "stream",
     "text": [
      "1/1 [==============================] - 0s 20ms/step\n"
     ]
    },
    {
     "data": {
      "text/plain": [
       "array([[1],\n",
       "       [1],\n",
       "       [1],\n",
       "       [1],\n",
       "       [0],\n",
       "       [1],\n",
       "       [1],\n",
       "       [0],\n",
       "       [1],\n",
       "       [1],\n",
       "       [1],\n",
       "       [0],\n",
       "       [1],\n",
       "       [1],\n",
       "       [0],\n",
       "       [0],\n",
       "       [0],\n",
       "       [1],\n",
       "       [1],\n",
       "       [1],\n",
       "       [1]], dtype=int32)"
      ]
     },
     "execution_count": 15,
     "metadata": {},
     "output_type": "execute_result"
    }
   ],
   "source": [
    "(clf.predict(test_features) > 0.5).astype(\"int32\")"
   ]
  },
  {
   "cell_type": "code",
   "execution_count": 16,
   "metadata": {},
   "outputs": [],
   "source": [
    "from sklearn.metrics import accuracy_score"
   ]
  },
  {
   "cell_type": "code",
   "execution_count": 17,
   "metadata": {},
   "outputs": [
    {
     "name": "stdout",
     "output_type": "stream",
     "text": [
      "1/1 [==============================] - 0s 20ms/step\n"
     ]
    },
    {
     "data": {
      "text/plain": [
       "0.8571428571428571"
      ]
     },
     "execution_count": 17,
     "metadata": {},
     "output_type": "execute_result"
    }
   ],
   "source": [
    "accuracy_score(test_target,(clf.predict(test_features) > 0.5).astype(\"int32\"))"
   ]
  },
  {
   "cell_type": "markdown",
   "metadata": {},
   "source": [
    "# 六、callbacks"
   ]
  },
  {
   "cell_type": "code",
   "execution_count": 18,
   "metadata": {},
   "outputs": [
    {
     "name": "stdout",
     "output_type": "stream",
     "text": [
      "Epoch 1/100\n",
      "10/10 [==============================] - 0s 19ms/step - loss: 0.5837 - accuracy: 0.6869 - val_loss: 0.4045 - val_accuracy: 0.8889\n",
      "Epoch 2/100\n",
      "10/10 [==============================] - 0s 7ms/step - loss: 0.5829 - accuracy: 0.6869 - val_loss: 0.4050 - val_accuracy: 0.8889\n",
      "Epoch 3/100\n",
      "10/10 [==============================] - 0s 10ms/step - loss: 0.5850 - accuracy: 0.6869 - val_loss: 0.4042 - val_accuracy: 0.8889\n",
      "Epoch 4/100\n",
      "10/10 [==============================] - 0s 8ms/step - loss: 0.5821 - accuracy: 0.6869 - val_loss: 0.4059 - val_accuracy: 0.8889\n",
      "Epoch 5/100\n",
      "10/10 [==============================] - 0s 7ms/step - loss: 0.5837 - accuracy: 0.6869 - val_loss: 0.4035 - val_accuracy: 0.8889\n",
      "Epoch 6/100\n",
      "10/10 [==============================] - 0s 9ms/step - loss: 0.5838 - accuracy: 0.6869 - val_loss: 0.4039 - val_accuracy: 0.8889\n",
      "Epoch 7/100\n",
      "10/10 [==============================] - 0s 8ms/step - loss: 0.5833 - accuracy: 0.6869 - val_loss: 0.4043 - val_accuracy: 0.8889\n",
      "Epoch 8/100\n",
      "10/10 [==============================] - 0s 9ms/step - loss: 0.5812 - accuracy: 0.6869 - val_loss: 0.4043 - val_accuracy: 0.8889\n",
      "Epoch 9/100\n",
      "10/10 [==============================] - 0s 9ms/step - loss: 0.5823 - accuracy: 0.6869 - val_loss: 0.4056 - val_accuracy: 0.8889\n",
      "Epoch 10/100\n",
      "10/10 [==============================] - 0s 11ms/step - loss: 0.5803 - accuracy: 0.6869 - val_loss: 0.4029 - val_accuracy: 0.8889\n",
      "Epoch 11/100\n",
      "10/10 [==============================] - 0s 8ms/step - loss: 0.5817 - accuracy: 0.6869 - val_loss: 0.4033 - val_accuracy: 0.8889\n",
      "Epoch 12/100\n",
      "10/10 [==============================] - 0s 11ms/step - loss: 0.5798 - accuracy: 0.6869 - val_loss: 0.4031 - val_accuracy: 0.8889\n",
      "Epoch 13/100\n",
      "10/10 [==============================] - 0s 10ms/step - loss: 0.5822 - accuracy: 0.6869 - val_loss: 0.4000 - val_accuracy: 0.8889\n",
      "Epoch 14/100\n",
      "10/10 [==============================] - 0s 10ms/step - loss: 0.5808 - accuracy: 0.6869 - val_loss: 0.3997 - val_accuracy: 0.8889\n",
      "Epoch 15/100\n",
      "10/10 [==============================] - 0s 9ms/step - loss: 0.5789 - accuracy: 0.6768 - val_loss: 0.4007 - val_accuracy: 0.8889\n",
      "Epoch 16/100\n",
      "10/10 [==============================] - 0s 9ms/step - loss: 0.5791 - accuracy: 0.6869 - val_loss: 0.4006 - val_accuracy: 0.8889\n",
      "Epoch 17/100\n",
      "10/10 [==============================] - 0s 13ms/step - loss: 0.5801 - accuracy: 0.6869 - val_loss: 0.4002 - val_accuracy: 0.8889\n",
      "Epoch 18/100\n",
      "10/10 [==============================] - 0s 9ms/step - loss: 0.5780 - accuracy: 0.6869 - val_loss: 0.4001 - val_accuracy: 0.8889\n",
      "Epoch 19/100\n",
      "10/10 [==============================] - 0s 8ms/step - loss: 0.5805 - accuracy: 0.6869 - val_loss: 0.4002 - val_accuracy: 0.8889\n",
      "Epoch 20/100\n",
      "10/10 [==============================] - 0s 9ms/step - loss: 0.5776 - accuracy: 0.6869 - val_loss: 0.3978 - val_accuracy: 0.8889\n",
      "Epoch 21/100\n",
      "10/10 [==============================] - 0s 8ms/step - loss: 0.5778 - accuracy: 0.6869 - val_loss: 0.3964 - val_accuracy: 0.8889\n",
      "Epoch 22/100\n",
      "10/10 [==============================] - 0s 6ms/step - loss: 0.5780 - accuracy: 0.6869 - val_loss: 0.3993 - val_accuracy: 0.8889\n",
      "Epoch 23/100\n",
      "10/10 [==============================] - 0s 9ms/step - loss: 0.5769 - accuracy: 0.6869 - val_loss: 0.3992 - val_accuracy: 0.8889\n",
      "Epoch 24/100\n",
      "10/10 [==============================] - 0s 10ms/step - loss: 0.5767 - accuracy: 0.6970 - val_loss: 0.3979 - val_accuracy: 0.8889\n",
      "Epoch 25/100\n",
      "10/10 [==============================] - 0s 10ms/step - loss: 0.5766 - accuracy: 0.6869 - val_loss: 0.3988 - val_accuracy: 0.8889\n",
      "Epoch 26/100\n",
      "10/10 [==============================] - 0s 10ms/step - loss: 0.5781 - accuracy: 0.6869 - val_loss: 0.3975 - val_accuracy: 0.8889\n",
      "Epoch 27/100\n",
      "10/10 [==============================] - 0s 8ms/step - loss: 0.5762 - accuracy: 0.6869 - val_loss: 0.3978 - val_accuracy: 0.8889\n",
      "Epoch 28/100\n",
      "10/10 [==============================] - 0s 10ms/step - loss: 0.5741 - accuracy: 0.6869 - val_loss: 0.3961 - val_accuracy: 0.8889\n",
      "Epoch 29/100\n",
      "10/10 [==============================] - 0s 9ms/step - loss: 0.5745 - accuracy: 0.6869 - val_loss: 0.3987 - val_accuracy: 0.8889\n",
      "Epoch 30/100\n",
      "10/10 [==============================] - 0s 7ms/step - loss: 0.5742 - accuracy: 0.6768 - val_loss: 0.4000 - val_accuracy: 0.8889\n",
      "Epoch 31/100\n",
      "10/10 [==============================] - 0s 7ms/step - loss: 0.5750 - accuracy: 0.6869 - val_loss: 0.3993 - val_accuracy: 0.8889\n",
      "Epoch 32/100\n",
      "10/10 [==============================] - 0s 5ms/step - loss: 0.5760 - accuracy: 0.6869 - val_loss: 0.3987 - val_accuracy: 0.8889\n",
      "Epoch 33/100\n",
      "10/10 [==============================] - 0s 8ms/step - loss: 0.5730 - accuracy: 0.6869 - val_loss: 0.3964 - val_accuracy: 0.8889\n",
      "Epoch 34/100\n",
      "10/10 [==============================] - 0s 15ms/step - loss: 0.5727 - accuracy: 0.6869 - val_loss: 0.3950 - val_accuracy: 0.8889\n",
      "Epoch 35/100\n",
      "10/10 [==============================] - 0s 13ms/step - loss: 0.5731 - accuracy: 0.6768 - val_loss: 0.3948 - val_accuracy: 0.8889\n",
      "Epoch 36/100\n",
      "10/10 [==============================] - 0s 10ms/step - loss: 0.5735 - accuracy: 0.6869 - val_loss: 0.3960 - val_accuracy: 0.8889\n",
      "Epoch 37/100\n",
      "10/10 [==============================] - 0s 5ms/step - loss: 0.5742 - accuracy: 0.6869 - val_loss: 0.3961 - val_accuracy: 0.8889\n",
      "Epoch 38/100\n",
      "10/10 [==============================] - 0s 6ms/step - loss: 0.5714 - accuracy: 0.6869 - val_loss: 0.3958 - val_accuracy: 0.8889\n",
      "Epoch 39/100\n",
      "10/10 [==============================] - 0s 7ms/step - loss: 0.5712 - accuracy: 0.6869 - val_loss: 0.3965 - val_accuracy: 0.8889\n",
      "Epoch 40/100\n",
      "10/10 [==============================] - 0s 5ms/step - loss: 0.5724 - accuracy: 0.6768 - val_loss: 0.3970 - val_accuracy: 0.8889\n",
      "Epoch 41/100\n",
      "10/10 [==============================] - 0s 4ms/step - loss: 0.5709 - accuracy: 0.6768 - val_loss: 0.3987 - val_accuracy: 0.8889\n",
      "Epoch 42/100\n",
      "10/10 [==============================] - 0s 5ms/step - loss: 0.5709 - accuracy: 0.6768 - val_loss: 0.4016 - val_accuracy: 0.8333\n",
      "Epoch 43/100\n",
      "10/10 [==============================] - 0s 4ms/step - loss: 0.5691 - accuracy: 0.6869 - val_loss: 0.4001 - val_accuracy: 0.8333\n",
      "Epoch 44/100\n",
      "10/10 [==============================] - 0s 5ms/step - loss: 0.5690 - accuracy: 0.6869 - val_loss: 0.3996 - val_accuracy: 0.8333\n",
      "Epoch 45/100\n",
      "10/10 [==============================] - 0s 6ms/step - loss: 0.5697 - accuracy: 0.6970 - val_loss: 0.3972 - val_accuracy: 0.8889\n",
      "Epoch 46/100\n",
      "10/10 [==============================] - 0s 5ms/step - loss: 0.5704 - accuracy: 0.6869 - val_loss: 0.3970 - val_accuracy: 0.8889\n",
      "Epoch 47/100\n",
      "10/10 [==============================] - 0s 5ms/step - loss: 0.5669 - accuracy: 0.6768 - val_loss: 0.3980 - val_accuracy: 0.8889\n",
      "Epoch 48/100\n",
      "10/10 [==============================] - 0s 5ms/step - loss: 0.5687 - accuracy: 0.6970 - val_loss: 0.3973 - val_accuracy: 0.8889\n",
      "Epoch 49/100\n",
      "10/10 [==============================] - 0s 5ms/step - loss: 0.5672 - accuracy: 0.6869 - val_loss: 0.3954 - val_accuracy: 0.8889\n",
      "Epoch 50/100\n",
      "10/10 [==============================] - 0s 7ms/step - loss: 0.5681 - accuracy: 0.6869 - val_loss: 0.3952 - val_accuracy: 0.8889\n",
      "Epoch 51/100\n",
      "10/10 [==============================] - 0s 7ms/step - loss: 0.5663 - accuracy: 0.6869 - val_loss: 0.3940 - val_accuracy: 0.8889\n",
      "Epoch 52/100\n",
      "10/10 [==============================] - 0s 6ms/step - loss: 0.5673 - accuracy: 0.6869 - val_loss: 0.3939 - val_accuracy: 0.8889\n",
      "Epoch 53/100\n",
      "10/10 [==============================] - 0s 5ms/step - loss: 0.5665 - accuracy: 0.6869 - val_loss: 0.3955 - val_accuracy: 0.8889\n",
      "Epoch 54/100\n",
      "10/10 [==============================] - 0s 5ms/step - loss: 0.5648 - accuracy: 0.6970 - val_loss: 0.3952 - val_accuracy: 0.8889\n",
      "Epoch 55/100\n",
      "10/10 [==============================] - 0s 5ms/step - loss: 0.5649 - accuracy: 0.6970 - val_loss: 0.3957 - val_accuracy: 0.8889\n",
      "Epoch 56/100\n",
      "10/10 [==============================] - 0s 5ms/step - loss: 0.5660 - accuracy: 0.6768 - val_loss: 0.3946 - val_accuracy: 0.8889\n",
      "Epoch 57/100\n",
      "10/10 [==============================] - 0s 7ms/step - loss: 0.5649 - accuracy: 0.7071 - val_loss: 0.3933 - val_accuracy: 0.8889\n",
      "Epoch 58/100\n",
      "10/10 [==============================] - 0s 5ms/step - loss: 0.5637 - accuracy: 0.6970 - val_loss: 0.3968 - val_accuracy: 0.8333\n",
      "Epoch 59/100\n",
      "10/10 [==============================] - 0s 5ms/step - loss: 0.5652 - accuracy: 0.6768 - val_loss: 0.3949 - val_accuracy: 0.8889\n",
      "Epoch 60/100\n",
      "10/10 [==============================] - 0s 5ms/step - loss: 0.5640 - accuracy: 0.6869 - val_loss: 0.3987 - val_accuracy: 0.8333\n",
      "Epoch 61/100\n",
      "10/10 [==============================] - 0s 5ms/step - loss: 0.5629 - accuracy: 0.6970 - val_loss: 0.3980 - val_accuracy: 0.8333\n",
      "Epoch 62/100\n",
      "10/10 [==============================] - 0s 5ms/step - loss: 0.5618 - accuracy: 0.6869 - val_loss: 0.3964 - val_accuracy: 0.8333\n",
      "Epoch 63/100\n",
      "10/10 [==============================] - 0s 5ms/step - loss: 0.5627 - accuracy: 0.6869 - val_loss: 0.3961 - val_accuracy: 0.8333\n",
      "Epoch 64/100\n",
      "10/10 [==============================] - 0s 5ms/step - loss: 0.5629 - accuracy: 0.6768 - val_loss: 0.3964 - val_accuracy: 0.8333\n",
      "Epoch 65/100\n",
      "10/10 [==============================] - 0s 6ms/step - loss: 0.5606 - accuracy: 0.7071 - val_loss: 0.3957 - val_accuracy: 0.8333\n",
      "Epoch 66/100\n",
      "10/10 [==============================] - 0s 5ms/step - loss: 0.5593 - accuracy: 0.7071 - val_loss: 0.3944 - val_accuracy: 0.8889\n",
      "Epoch 67/100\n",
      "10/10 [==============================] - 0s 5ms/step - loss: 0.5618 - accuracy: 0.6970 - val_loss: 0.3946 - val_accuracy: 0.8889\n",
      "Epoch 68/100\n",
      "10/10 [==============================] - 0s 7ms/step - loss: 0.5608 - accuracy: 0.6869 - val_loss: 0.3958 - val_accuracy: 0.8333\n",
      "Epoch 69/100\n",
      "10/10 [==============================] - 0s 6ms/step - loss: 0.5611 - accuracy: 0.7172 - val_loss: 0.3945 - val_accuracy: 0.8889\n",
      "Epoch 70/100\n",
      "10/10 [==============================] - 0s 9ms/step - loss: 0.5608 - accuracy: 0.7071 - val_loss: 0.3941 - val_accuracy: 0.8889\n",
      "Epoch 71/100\n",
      "10/10 [==============================] - 0s 8ms/step - loss: 0.5577 - accuracy: 0.7172 - val_loss: 0.3937 - val_accuracy: 0.8889\n",
      "Epoch 72/100\n",
      "10/10 [==============================] - 0s 9ms/step - loss: 0.5595 - accuracy: 0.7071 - val_loss: 0.3950 - val_accuracy: 0.8889\n",
      "Epoch 73/100\n",
      "10/10 [==============================] - 0s 9ms/step - loss: 0.5574 - accuracy: 0.7071 - val_loss: 0.3942 - val_accuracy: 0.8333\n",
      "Epoch 74/100\n",
      "10/10 [==============================] - 0s 6ms/step - loss: 0.5577 - accuracy: 0.7172 - val_loss: 0.3961 - val_accuracy: 0.8333\n",
      "Epoch 75/100\n",
      "10/10 [==============================] - 0s 9ms/step - loss: 0.5582 - accuracy: 0.7172 - val_loss: 0.3956 - val_accuracy: 0.8333\n",
      "Epoch 76/100\n",
      "10/10 [==============================] - 0s 9ms/step - loss: 0.5578 - accuracy: 0.6970 - val_loss: 0.3948 - val_accuracy: 0.8333\n",
      "Epoch 77/100\n",
      "10/10 [==============================] - 0s 11ms/step - loss: 0.5558 - accuracy: 0.7071 - val_loss: 0.3950 - val_accuracy: 0.8333\n",
      "Epoch 78/100\n",
      "10/10 [==============================] - 0s 9ms/step - loss: 0.5585 - accuracy: 0.6970 - val_loss: 0.3946 - val_accuracy: 0.8333\n",
      "Epoch 79/100\n",
      "10/10 [==============================] - 0s 9ms/step - loss: 0.5567 - accuracy: 0.7172 - val_loss: 0.3912 - val_accuracy: 0.8889\n",
      "Epoch 80/100\n",
      "10/10 [==============================] - 0s 4ms/step - loss: 0.5560 - accuracy: 0.7172 - val_loss: 0.3926 - val_accuracy: 0.8333\n",
      "Epoch 81/100\n",
      "10/10 [==============================] - 0s 5ms/step - loss: 0.5553 - accuracy: 0.7172 - val_loss: 0.3921 - val_accuracy: 0.8333\n",
      "Epoch 82/100\n",
      "10/10 [==============================] - 0s 8ms/step - loss: 0.5531 - accuracy: 0.7071 - val_loss: 0.3928 - val_accuracy: 0.8333\n",
      "Epoch 83/100\n",
      "10/10 [==============================] - 0s 10ms/step - loss: 0.5553 - accuracy: 0.6970 - val_loss: 0.3891 - val_accuracy: 0.8889\n",
      "Epoch 84/100\n",
      "10/10 [==============================] - 0s 8ms/step - loss: 0.5544 - accuracy: 0.7172 - val_loss: 0.3905 - val_accuracy: 0.8333\n",
      "Epoch 85/100\n",
      "10/10 [==============================] - 0s 9ms/step - loss: 0.5569 - accuracy: 0.7071 - val_loss: 0.3896 - val_accuracy: 0.8333\n",
      "Epoch 86/100\n",
      "10/10 [==============================] - 0s 6ms/step - loss: 0.5536 - accuracy: 0.7071 - val_loss: 0.3891 - val_accuracy: 0.8333\n",
      "Epoch 87/100\n",
      "10/10 [==============================] - 0s 4ms/step - loss: 0.5526 - accuracy: 0.7071 - val_loss: 0.3900 - val_accuracy: 0.8333\n",
      "Epoch 88/100\n",
      "10/10 [==============================] - 0s 7ms/step - loss: 0.5527 - accuracy: 0.7071 - val_loss: 0.3886 - val_accuracy: 0.8889\n",
      "Epoch 89/100\n",
      "10/10 [==============================] - 0s 5ms/step - loss: 0.5511 - accuracy: 0.7273 - val_loss: 0.3917 - val_accuracy: 0.8333\n",
      "Epoch 90/100\n",
      "10/10 [==============================] - 0s 6ms/step - loss: 0.5544 - accuracy: 0.7071 - val_loss: 0.3914 - val_accuracy: 0.8333\n",
      "Epoch 91/100\n",
      "10/10 [==============================] - 0s 7ms/step - loss: 0.5511 - accuracy: 0.7071 - val_loss: 0.3920 - val_accuracy: 0.8333\n",
      "Epoch 92/100\n",
      "10/10 [==============================] - 0s 5ms/step - loss: 0.5516 - accuracy: 0.7374 - val_loss: 0.3913 - val_accuracy: 0.8333\n",
      "Epoch 93/100\n",
      "10/10 [==============================] - 0s 6ms/step - loss: 0.5507 - accuracy: 0.7071 - val_loss: 0.3887 - val_accuracy: 0.8889\n",
      "Epoch 94/100\n",
      "10/10 [==============================] - 0s 6ms/step - loss: 0.5497 - accuracy: 0.7273 - val_loss: 0.3891 - val_accuracy: 0.8333\n",
      "Epoch 95/100\n",
      "10/10 [==============================] - 0s 6ms/step - loss: 0.5531 - accuracy: 0.7172 - val_loss: 0.3892 - val_accuracy: 0.8333\n",
      "Epoch 96/100\n",
      "10/10 [==============================] - 0s 6ms/step - loss: 0.5478 - accuracy: 0.7475 - val_loss: 0.3892 - val_accuracy: 0.8333\n",
      "Epoch 97/100\n",
      "10/10 [==============================] - 0s 6ms/step - loss: 0.5486 - accuracy: 0.7172 - val_loss: 0.3913 - val_accuracy: 0.8333\n",
      "Epoch 98/100\n",
      "10/10 [==============================] - 0s 5ms/step - loss: 0.5495 - accuracy: 0.7475 - val_loss: 0.3902 - val_accuracy: 0.8333\n",
      "Epoch 99/100\n",
      "10/10 [==============================] - 0s 5ms/step - loss: 0.5483 - accuracy: 0.7071 - val_loss: 0.3888 - val_accuracy: 0.8333\n",
      "Epoch 100/100\n",
      "10/10 [==============================] - 0s 6ms/step - loss: 0.5485 - accuracy: 0.7273 - val_loss: 0.3872 - val_accuracy: 0.8333\n"
     ]
    },
    {
     "data": {
      "text/plain": [
       "<keras.callbacks.History at 0x7f26201ea0d0>"
      ]
     },
     "execution_count": 18,
     "metadata": {},
     "output_type": "execute_result"
    }
   ],
   "source": [
    "checkpoint_cb = keras.callbacks.ModelCheckpoint(\"output/clf.h5\", save_best_only=True, monitor='val_loss')\n",
    "clf.fit(train_features, train_target, batch_size = 10, epochs=100,\n",
    "         validation_data=(validation_features, validation_target),\n",
    "         callbacks = checkpoint_cb)"
   ]
  },
  {
   "cell_type": "code",
   "execution_count": 19,
   "metadata": {
    "scrolled": true
   },
   "outputs": [
    {
     "name": "stdout",
     "output_type": "stream",
     "text": [
      "Epoch 1/200\n",
      "5/5 [==============================] - 0s 20ms/step - loss: 0.5450 - accuracy: 0.7374 - val_loss: 0.3882 - val_accuracy: 0.8333\n",
      "Epoch 2/200\n",
      "5/5 [==============================] - 0s 9ms/step - loss: 0.5478 - accuracy: 0.7374 - val_loss: 0.3876 - val_accuracy: 0.8333\n",
      "Epoch 3/200\n",
      "5/5 [==============================] - 0s 8ms/step - loss: 0.5439 - accuracy: 0.7475 - val_loss: 0.3902 - val_accuracy: 0.8333\n",
      "Epoch 4/200\n",
      "5/5 [==============================] - 0s 8ms/step - loss: 0.5460 - accuracy: 0.7172 - val_loss: 0.3879 - val_accuracy: 0.8333\n",
      "Epoch 5/200\n",
      "5/5 [==============================] - 0s 12ms/step - loss: 0.5453 - accuracy: 0.7374 - val_loss: 0.3880 - val_accuracy: 0.8333\n",
      "Epoch 6/200\n",
      "5/5 [==============================] - 0s 13ms/step - loss: 0.5438 - accuracy: 0.7475 - val_loss: 0.3884 - val_accuracy: 0.8333\n",
      "Epoch 7/200\n",
      "5/5 [==============================] - 0s 12ms/step - loss: 0.5451 - accuracy: 0.7475 - val_loss: 0.3896 - val_accuracy: 0.8333\n",
      "Epoch 8/200\n",
      "5/5 [==============================] - 0s 15ms/step - loss: 0.5450 - accuracy: 0.7374 - val_loss: 0.3905 - val_accuracy: 0.8333\n",
      "Epoch 9/200\n",
      "5/5 [==============================] - 0s 11ms/step - loss: 0.5446 - accuracy: 0.7172 - val_loss: 0.3926 - val_accuracy: 0.8333\n",
      "Epoch 10/200\n",
      "5/5 [==============================] - 0s 8ms/step - loss: 0.5428 - accuracy: 0.7374 - val_loss: 0.3942 - val_accuracy: 0.8333\n",
      "Epoch 11/200\n",
      "5/5 [==============================] - 0s 8ms/step - loss: 0.5438 - accuracy: 0.7374 - val_loss: 0.3933 - val_accuracy: 0.8333\n",
      "Epoch 12/200\n",
      "5/5 [==============================] - 0s 10ms/step - loss: 0.5460 - accuracy: 0.7172 - val_loss: 0.3917 - val_accuracy: 0.8333\n"
     ]
    },
    {
     "data": {
      "text/plain": [
       "<keras.callbacks.History at 0x7f26255ec590>"
      ]
     },
     "execution_count": 19,
     "metadata": {},
     "output_type": "execute_result"
    }
   ],
   "source": [
    "early_stopping_cb = keras.callbacks.EarlyStopping(patience=10, restore_best_weights=True)\n",
    "clf.fit(train_features, train_target, batch_size = 20, epochs=200,\n",
    "         validation_data=(validation_features, validation_target),\n",
    "         callbacks = early_stopping_cb)"
   ]
  },
  {
   "cell_type": "code",
   "execution_count": 20,
   "metadata": {},
   "outputs": [],
   "source": [
    "clf.compile(loss = 'binary_crossentropy', metrics = 'accuracy', \n",
    "              optimizer=keras.optimizers.RMSprop(learning_rate = 0.0001))"
   ]
  },
  {
   "cell_type": "code",
   "execution_count": 21,
   "metadata": {},
   "outputs": [
    {
     "name": "stdout",
     "output_type": "stream",
     "text": [
      "Epoch 1/100\n",
      "10/10 [==============================] - 1s 23ms/step - loss: 0.5440 - accuracy: 0.7475 - val_loss: 0.3871 - val_accuracy: 0.8333 - lr: 1.0000e-04\n",
      "Epoch 2/100\n",
      "10/10 [==============================] - 0s 6ms/step - loss: 0.5433 - accuracy: 0.7475 - val_loss: 0.3872 - val_accuracy: 0.8333 - lr: 1.0000e-04\n",
      "Epoch 3/100\n",
      "10/10 [==============================] - 0s 4ms/step - loss: 0.5432 - accuracy: 0.7475 - val_loss: 0.3875 - val_accuracy: 0.8333 - lr: 1.0000e-04\n",
      "Epoch 4/100\n",
      "10/10 [==============================] - 0s 8ms/step - loss: 0.5432 - accuracy: 0.7374 - val_loss: 0.3878 - val_accuracy: 0.8333 - lr: 1.0000e-04\n",
      "Epoch 5/100\n",
      "10/10 [==============================] - 0s 8ms/step - loss: 0.5433 - accuracy: 0.7374 - val_loss: 0.3880 - val_accuracy: 0.8333 - lr: 1.0000e-04\n",
      "Epoch 6/100\n",
      "10/10 [==============================] - 0s 6ms/step - loss: 0.5431 - accuracy: 0.7374 - val_loss: 0.3880 - val_accuracy: 0.8333 - lr: 1.0000e-04\n",
      "Epoch 7/100\n",
      "10/10 [==============================] - 0s 4ms/step - loss: 0.5428 - accuracy: 0.7374 - val_loss: 0.3881 - val_accuracy: 0.8333 - lr: 5.0000e-05\n",
      "Epoch 8/100\n",
      "10/10 [==============================] - 0s 4ms/step - loss: 0.5428 - accuracy: 0.7374 - val_loss: 0.3881 - val_accuracy: 0.8333 - lr: 5.0000e-05\n",
      "Epoch 9/100\n",
      "10/10 [==============================] - 0s 5ms/step - loss: 0.5428 - accuracy: 0.7374 - val_loss: 0.3882 - val_accuracy: 0.8333 - lr: 5.0000e-05\n",
      "Epoch 10/100\n",
      "10/10 [==============================] - 0s 5ms/step - loss: 0.5427 - accuracy: 0.7374 - val_loss: 0.3882 - val_accuracy: 0.8333 - lr: 5.0000e-05\n",
      "Epoch 11/100\n",
      "10/10 [==============================] - 0s 4ms/step - loss: 0.5427 - accuracy: 0.7374 - val_loss: 0.3883 - val_accuracy: 0.8333 - lr: 5.0000e-05\n",
      "Epoch 12/100\n",
      "10/10 [==============================] - 0s 4ms/step - loss: 0.5426 - accuracy: 0.7374 - val_loss: 0.3884 - val_accuracy: 0.8333 - lr: 2.5000e-05\n",
      "Epoch 13/100\n",
      "10/10 [==============================] - 0s 4ms/step - loss: 0.5426 - accuracy: 0.7374 - val_loss: 0.3883 - val_accuracy: 0.8333 - lr: 2.5000e-05\n",
      "Epoch 14/100\n",
      "10/10 [==============================] - 0s 3ms/step - loss: 0.5426 - accuracy: 0.7374 - val_loss: 0.3884 - val_accuracy: 0.8333 - lr: 2.5000e-05\n",
      "Epoch 15/100\n",
      "10/10 [==============================] - 0s 4ms/step - loss: 0.5426 - accuracy: 0.7374 - val_loss: 0.3884 - val_accuracy: 0.8333 - lr: 2.5000e-05\n",
      "Epoch 16/100\n",
      "10/10 [==============================] - 0s 5ms/step - loss: 0.5426 - accuracy: 0.7374 - val_loss: 0.3884 - val_accuracy: 0.8333 - lr: 2.5000e-05\n",
      "Epoch 17/100\n",
      "10/10 [==============================] - 0s 5ms/step - loss: 0.5425 - accuracy: 0.7374 - val_loss: 0.3884 - val_accuracy: 0.8333 - lr: 1.2500e-05\n",
      "Epoch 18/100\n",
      "10/10 [==============================] - 0s 5ms/step - loss: 0.5425 - accuracy: 0.7374 - val_loss: 0.3884 - val_accuracy: 0.8333 - lr: 1.2500e-05\n",
      "Epoch 19/100\n",
      "10/10 [==============================] - 0s 4ms/step - loss: 0.5425 - accuracy: 0.7374 - val_loss: 0.3884 - val_accuracy: 0.8333 - lr: 1.2500e-05\n",
      "Epoch 20/100\n",
      "10/10 [==============================] - 0s 4ms/step - loss: 0.5424 - accuracy: 0.7374 - val_loss: 0.3884 - val_accuracy: 0.8333 - lr: 1.2500e-05\n",
      "Epoch 21/100\n",
      "10/10 [==============================] - 0s 5ms/step - loss: 0.5425 - accuracy: 0.7374 - val_loss: 0.3884 - val_accuracy: 0.8333 - lr: 1.2500e-05\n",
      "Epoch 22/100\n",
      "10/10 [==============================] - 0s 5ms/step - loss: 0.5424 - accuracy: 0.7374 - val_loss: 0.3884 - val_accuracy: 0.8333 - lr: 6.2500e-06\n",
      "Epoch 23/100\n",
      "10/10 [==============================] - 0s 5ms/step - loss: 0.5424 - accuracy: 0.7374 - val_loss: 0.3885 - val_accuracy: 0.8333 - lr: 6.2500e-06\n",
      "Epoch 24/100\n",
      "10/10 [==============================] - 0s 5ms/step - loss: 0.5424 - accuracy: 0.7374 - val_loss: 0.3885 - val_accuracy: 0.8333 - lr: 6.2500e-06\n",
      "Epoch 25/100\n",
      "10/10 [==============================] - 0s 6ms/step - loss: 0.5424 - accuracy: 0.7374 - val_loss: 0.3885 - val_accuracy: 0.8333 - lr: 6.2500e-06\n",
      "Epoch 26/100\n",
      "10/10 [==============================] - 0s 5ms/step - loss: 0.5424 - accuracy: 0.7374 - val_loss: 0.3885 - val_accuracy: 0.8333 - lr: 6.2500e-06\n",
      "Epoch 27/100\n",
      "10/10 [==============================] - 0s 9ms/step - loss: 0.5424 - accuracy: 0.7374 - val_loss: 0.3885 - val_accuracy: 0.8333 - lr: 3.1250e-06\n",
      "Epoch 28/100\n",
      "10/10 [==============================] - 0s 11ms/step - loss: 0.5424 - accuracy: 0.7374 - val_loss: 0.3885 - val_accuracy: 0.8333 - lr: 3.1250e-06\n",
      "Epoch 29/100\n",
      "10/10 [==============================] - 0s 7ms/step - loss: 0.5424 - accuracy: 0.7374 - val_loss: 0.3885 - val_accuracy: 0.8333 - lr: 3.1250e-06\n",
      "Epoch 30/100\n",
      "10/10 [==============================] - 0s 5ms/step - loss: 0.5424 - accuracy: 0.7374 - val_loss: 0.3885 - val_accuracy: 0.8333 - lr: 3.1250e-06\n",
      "Epoch 31/100\n",
      "10/10 [==============================] - 0s 7ms/step - loss: 0.5424 - accuracy: 0.7374 - val_loss: 0.3885 - val_accuracy: 0.8333 - lr: 3.1250e-06\n",
      "Epoch 32/100\n",
      "10/10 [==============================] - 0s 6ms/step - loss: 0.5424 - accuracy: 0.7374 - val_loss: 0.3885 - val_accuracy: 0.8333 - lr: 1.5625e-06\n",
      "Epoch 33/100\n",
      "10/10 [==============================] - 0s 5ms/step - loss: 0.5424 - accuracy: 0.7374 - val_loss: 0.3885 - val_accuracy: 0.8333 - lr: 1.5625e-06\n",
      "Epoch 34/100\n",
      "10/10 [==============================] - 0s 5ms/step - loss: 0.5424 - accuracy: 0.7374 - val_loss: 0.3885 - val_accuracy: 0.8333 - lr: 1.5625e-06\n",
      "Epoch 35/100\n",
      "10/10 [==============================] - 0s 4ms/step - loss: 0.5424 - accuracy: 0.7374 - val_loss: 0.3885 - val_accuracy: 0.8333 - lr: 1.5625e-06\n",
      "Epoch 36/100\n",
      "10/10 [==============================] - 0s 6ms/step - loss: 0.5424 - accuracy: 0.7374 - val_loss: 0.3885 - val_accuracy: 0.8333 - lr: 1.5625e-06\n",
      "Epoch 37/100\n",
      "10/10 [==============================] - 0s 6ms/step - loss: 0.5424 - accuracy: 0.7374 - val_loss: 0.3885 - val_accuracy: 0.8333 - lr: 7.8125e-07\n",
      "Epoch 38/100\n",
      "10/10 [==============================] - 0s 4ms/step - loss: 0.5424 - accuracy: 0.7374 - val_loss: 0.3885 - val_accuracy: 0.8333 - lr: 7.8125e-07\n",
      "Epoch 39/100\n",
      "10/10 [==============================] - 0s 6ms/step - loss: 0.5424 - accuracy: 0.7374 - val_loss: 0.3885 - val_accuracy: 0.8333 - lr: 7.8125e-07\n",
      "Epoch 40/100\n",
      "10/10 [==============================] - 0s 8ms/step - loss: 0.5424 - accuracy: 0.7374 - val_loss: 0.3885 - val_accuracy: 0.8333 - lr: 7.8125e-07\n",
      "Epoch 41/100\n",
      "10/10 [==============================] - 0s 8ms/step - loss: 0.5424 - accuracy: 0.7374 - val_loss: 0.3885 - val_accuracy: 0.8333 - lr: 7.8125e-07\n",
      "Epoch 42/100\n",
      "10/10 [==============================] - 0s 8ms/step - loss: 0.5424 - accuracy: 0.7374 - val_loss: 0.3885 - val_accuracy: 0.8333 - lr: 3.9062e-07\n",
      "Epoch 43/100\n",
      "10/10 [==============================] - 0s 9ms/step - loss: 0.5424 - accuracy: 0.7374 - val_loss: 0.3885 - val_accuracy: 0.8333 - lr: 3.9062e-07\n",
      "Epoch 44/100\n",
      "10/10 [==============================] - 0s 9ms/step - loss: 0.5424 - accuracy: 0.7374 - val_loss: 0.3885 - val_accuracy: 0.8333 - lr: 3.9062e-07\n",
      "Epoch 45/100\n",
      "10/10 [==============================] - 0s 8ms/step - loss: 0.5424 - accuracy: 0.7374 - val_loss: 0.3885 - val_accuracy: 0.8333 - lr: 3.9062e-07\n",
      "Epoch 46/100\n",
      "10/10 [==============================] - 0s 7ms/step - loss: 0.5424 - accuracy: 0.7374 - val_loss: 0.3885 - val_accuracy: 0.8333 - lr: 3.9062e-07\n",
      "Epoch 47/100\n",
      "10/10 [==============================] - 0s 10ms/step - loss: 0.5424 - accuracy: 0.7374 - val_loss: 0.3885 - val_accuracy: 0.8333 - lr: 1.9531e-07\n",
      "Epoch 48/100\n",
      "10/10 [==============================] - 0s 11ms/step - loss: 0.5424 - accuracy: 0.7374 - val_loss: 0.3885 - val_accuracy: 0.8333 - lr: 1.9531e-07\n",
      "Epoch 49/100\n",
      "10/10 [==============================] - 0s 8ms/step - loss: 0.5424 - accuracy: 0.7374 - val_loss: 0.3885 - val_accuracy: 0.8333 - lr: 1.9531e-07\n",
      "Epoch 50/100\n",
      "10/10 [==============================] - 0s 9ms/step - loss: 0.5424 - accuracy: 0.7374 - val_loss: 0.3885 - val_accuracy: 0.8333 - lr: 1.9531e-07\n",
      "Epoch 51/100\n",
      "10/10 [==============================] - 0s 9ms/step - loss: 0.5424 - accuracy: 0.7374 - val_loss: 0.3885 - val_accuracy: 0.8333 - lr: 1.9531e-07\n",
      "Epoch 52/100\n",
      "10/10 [==============================] - 0s 8ms/step - loss: 0.5424 - accuracy: 0.7374 - val_loss: 0.3885 - val_accuracy: 0.8333 - lr: 9.7656e-08\n",
      "Epoch 53/100\n",
      "10/10 [==============================] - 0s 7ms/step - loss: 0.5424 - accuracy: 0.7374 - val_loss: 0.3885 - val_accuracy: 0.8333 - lr: 9.7656e-08\n",
      "Epoch 54/100\n",
      "10/10 [==============================] - 0s 7ms/step - loss: 0.5424 - accuracy: 0.7374 - val_loss: 0.3885 - val_accuracy: 0.8333 - lr: 9.7656e-08\n",
      "Epoch 55/100\n",
      "10/10 [==============================] - 0s 7ms/step - loss: 0.5424 - accuracy: 0.7374 - val_loss: 0.3885 - val_accuracy: 0.8333 - lr: 9.7656e-08\n",
      "Epoch 56/100\n",
      "10/10 [==============================] - 0s 7ms/step - loss: 0.5424 - accuracy: 0.7374 - val_loss: 0.3885 - val_accuracy: 0.8333 - lr: 9.7656e-08\n",
      "Epoch 57/100\n",
      "10/10 [==============================] - 0s 7ms/step - loss: 0.5424 - accuracy: 0.7374 - val_loss: 0.3885 - val_accuracy: 0.8333 - lr: 4.8828e-08\n",
      "Epoch 58/100\n",
      "10/10 [==============================] - 0s 6ms/step - loss: 0.5424 - accuracy: 0.7374 - val_loss: 0.3885 - val_accuracy: 0.8333 - lr: 4.8828e-08\n",
      "Epoch 59/100\n",
      "10/10 [==============================] - 0s 9ms/step - loss: 0.5424 - accuracy: 0.7374 - val_loss: 0.3885 - val_accuracy: 0.8333 - lr: 4.8828e-08\n",
      "Epoch 60/100\n",
      "10/10 [==============================] - 0s 7ms/step - loss: 0.5424 - accuracy: 0.7374 - val_loss: 0.3885 - val_accuracy: 0.8333 - lr: 4.8828e-08\n",
      "Epoch 61/100\n",
      "10/10 [==============================] - 0s 10ms/step - loss: 0.5424 - accuracy: 0.7374 - val_loss: 0.3885 - val_accuracy: 0.8333 - lr: 4.8828e-08\n",
      "Epoch 62/100\n",
      "10/10 [==============================] - 0s 7ms/step - loss: 0.5424 - accuracy: 0.7374 - val_loss: 0.3885 - val_accuracy: 0.8333 - lr: 2.4414e-08\n",
      "Epoch 63/100\n",
      "10/10 [==============================] - 0s 7ms/step - loss: 0.5424 - accuracy: 0.7374 - val_loss: 0.3885 - val_accuracy: 0.8333 - lr: 2.4414e-08\n",
      "Epoch 64/100\n",
      "10/10 [==============================] - 0s 9ms/step - loss: 0.5424 - accuracy: 0.7374 - val_loss: 0.3885 - val_accuracy: 0.8333 - lr: 2.4414e-08\n",
      "Epoch 65/100\n",
      "10/10 [==============================] - 0s 8ms/step - loss: 0.5424 - accuracy: 0.7374 - val_loss: 0.3885 - val_accuracy: 0.8333 - lr: 2.4414e-08\n",
      "Epoch 66/100\n",
      "10/10 [==============================] - 0s 9ms/step - loss: 0.5424 - accuracy: 0.7374 - val_loss: 0.3885 - val_accuracy: 0.8333 - lr: 2.4414e-08\n",
      "Epoch 67/100\n",
      "10/10 [==============================] - 0s 9ms/step - loss: 0.5424 - accuracy: 0.7374 - val_loss: 0.3885 - val_accuracy: 0.8333 - lr: 1.2207e-08\n",
      "Epoch 68/100\n",
      "10/10 [==============================] - 0s 10ms/step - loss: 0.5424 - accuracy: 0.7374 - val_loss: 0.3885 - val_accuracy: 0.8333 - lr: 1.2207e-08\n",
      "Epoch 69/100\n",
      "10/10 [==============================] - 0s 9ms/step - loss: 0.5424 - accuracy: 0.7374 - val_loss: 0.3885 - val_accuracy: 0.8333 - lr: 1.2207e-08\n",
      "Epoch 70/100\n",
      "10/10 [==============================] - 0s 9ms/step - loss: 0.5424 - accuracy: 0.7374 - val_loss: 0.3885 - val_accuracy: 0.8333 - lr: 1.2207e-08\n",
      "Epoch 71/100\n",
      "10/10 [==============================] - 0s 11ms/step - loss: 0.5424 - accuracy: 0.7374 - val_loss: 0.3885 - val_accuracy: 0.8333 - lr: 1.2207e-08\n",
      "Epoch 72/100\n",
      "10/10 [==============================] - 0s 8ms/step - loss: 0.5424 - accuracy: 0.7374 - val_loss: 0.3885 - val_accuracy: 0.8333 - lr: 6.1035e-09\n",
      "Epoch 73/100\n",
      "10/10 [==============================] - 0s 12ms/step - loss: 0.5424 - accuracy: 0.7374 - val_loss: 0.3885 - val_accuracy: 0.8333 - lr: 6.1035e-09\n",
      "Epoch 74/100\n",
      "10/10 [==============================] - 0s 11ms/step - loss: 0.5424 - accuracy: 0.7374 - val_loss: 0.3885 - val_accuracy: 0.8333 - lr: 6.1035e-09\n",
      "Epoch 75/100\n",
      "10/10 [==============================] - 0s 15ms/step - loss: 0.5424 - accuracy: 0.7374 - val_loss: 0.3885 - val_accuracy: 0.8333 - lr: 6.1035e-09\n",
      "Epoch 76/100\n",
      "10/10 [==============================] - 0s 11ms/step - loss: 0.5424 - accuracy: 0.7374 - val_loss: 0.3885 - val_accuracy: 0.8333 - lr: 6.1035e-09\n",
      "Epoch 77/100\n",
      "10/10 [==============================] - 0s 9ms/step - loss: 0.5424 - accuracy: 0.7374 - val_loss: 0.3885 - val_accuracy: 0.8333 - lr: 3.0518e-09\n",
      "Epoch 78/100\n",
      "10/10 [==============================] - 0s 11ms/step - loss: 0.5424 - accuracy: 0.7374 - val_loss: 0.3885 - val_accuracy: 0.8333 - lr: 3.0518e-09\n",
      "Epoch 79/100\n",
      "10/10 [==============================] - 0s 7ms/step - loss: 0.5424 - accuracy: 0.7374 - val_loss: 0.3885 - val_accuracy: 0.8333 - lr: 3.0518e-09\n",
      "Epoch 80/100\n",
      "10/10 [==============================] - 0s 11ms/step - loss: 0.5424 - accuracy: 0.7374 - val_loss: 0.3885 - val_accuracy: 0.8333 - lr: 3.0518e-09\n",
      "Epoch 81/100\n",
      "10/10 [==============================] - 0s 10ms/step - loss: 0.5424 - accuracy: 0.7374 - val_loss: 0.3885 - val_accuracy: 0.8333 - lr: 3.0518e-09\n",
      "Epoch 82/100\n",
      "10/10 [==============================] - 0s 10ms/step - loss: 0.5424 - accuracy: 0.7374 - val_loss: 0.3885 - val_accuracy: 0.8333 - lr: 1.5259e-09\n",
      "Epoch 83/100\n",
      "10/10 [==============================] - 0s 10ms/step - loss: 0.5424 - accuracy: 0.7374 - val_loss: 0.3885 - val_accuracy: 0.8333 - lr: 1.5259e-09\n",
      "Epoch 84/100\n",
      "10/10 [==============================] - 0s 11ms/step - loss: 0.5424 - accuracy: 0.7374 - val_loss: 0.3885 - val_accuracy: 0.8333 - lr: 1.5259e-09\n",
      "Epoch 85/100\n",
      "10/10 [==============================] - 0s 10ms/step - loss: 0.5424 - accuracy: 0.7374 - val_loss: 0.3885 - val_accuracy: 0.8333 - lr: 1.5259e-09\n",
      "Epoch 86/100\n",
      "10/10 [==============================] - 0s 7ms/step - loss: 0.5424 - accuracy: 0.7374 - val_loss: 0.3885 - val_accuracy: 0.8333 - lr: 1.5259e-09\n",
      "Epoch 87/100\n",
      "10/10 [==============================] - 0s 8ms/step - loss: 0.5424 - accuracy: 0.7374 - val_loss: 0.3885 - val_accuracy: 0.8333 - lr: 7.6294e-10\n",
      "Epoch 88/100\n",
      "10/10 [==============================] - 0s 7ms/step - loss: 0.5424 - accuracy: 0.7374 - val_loss: 0.3885 - val_accuracy: 0.8333 - lr: 7.6294e-10\n",
      "Epoch 89/100\n",
      "10/10 [==============================] - 0s 5ms/step - loss: 0.5424 - accuracy: 0.7374 - val_loss: 0.3885 - val_accuracy: 0.8333 - lr: 7.6294e-10\n",
      "Epoch 90/100\n",
      "10/10 [==============================] - 0s 5ms/step - loss: 0.5424 - accuracy: 0.7374 - val_loss: 0.3885 - val_accuracy: 0.8333 - lr: 7.6294e-10\n",
      "Epoch 91/100\n",
      "10/10 [==============================] - 0s 5ms/step - loss: 0.5424 - accuracy: 0.7374 - val_loss: 0.3885 - val_accuracy: 0.8333 - lr: 7.6294e-10\n",
      "Epoch 92/100\n",
      "10/10 [==============================] - 0s 6ms/step - loss: 0.5424 - accuracy: 0.7374 - val_loss: 0.3885 - val_accuracy: 0.8333 - lr: 3.8147e-10\n",
      "Epoch 93/100\n",
      "10/10 [==============================] - 0s 6ms/step - loss: 0.5424 - accuracy: 0.7374 - val_loss: 0.3885 - val_accuracy: 0.8333 - lr: 3.8147e-10\n",
      "Epoch 94/100\n",
      "10/10 [==============================] - 0s 6ms/step - loss: 0.5424 - accuracy: 0.7374 - val_loss: 0.3885 - val_accuracy: 0.8333 - lr: 3.8147e-10\n",
      "Epoch 95/100\n",
      "10/10 [==============================] - 0s 5ms/step - loss: 0.5424 - accuracy: 0.7374 - val_loss: 0.3885 - val_accuracy: 0.8333 - lr: 3.8147e-10\n",
      "Epoch 96/100\n",
      "10/10 [==============================] - 0s 5ms/step - loss: 0.5424 - accuracy: 0.7374 - val_loss: 0.3885 - val_accuracy: 0.8333 - lr: 3.8147e-10\n",
      "Epoch 97/100\n",
      "10/10 [==============================] - 0s 5ms/step - loss: 0.5424 - accuracy: 0.7374 - val_loss: 0.3885 - val_accuracy: 0.8333 - lr: 1.9073e-10\n",
      "Epoch 98/100\n",
      "10/10 [==============================] - 0s 6ms/step - loss: 0.5424 - accuracy: 0.7374 - val_loss: 0.3885 - val_accuracy: 0.8333 - lr: 1.9073e-10\n",
      "Epoch 99/100\n",
      "10/10 [==============================] - 0s 5ms/step - loss: 0.5424 - accuracy: 0.7374 - val_loss: 0.3885 - val_accuracy: 0.8333 - lr: 1.9073e-10\n",
      "Epoch 100/100\n",
      "10/10 [==============================] - 0s 5ms/step - loss: 0.5424 - accuracy: 0.7374 - val_loss: 0.3885 - val_accuracy: 0.8333 - lr: 1.9073e-10\n"
     ]
    },
    {
     "data": {
      "text/plain": [
       "<keras.callbacks.History at 0x7f2618191d50>"
      ]
     },
     "execution_count": 21,
     "metadata": {},
     "output_type": "execute_result"
    }
   ],
   "source": [
    "lr_scheduler = keras.callbacks.ReduceLROnPlateau(factor=0.5, patience=5)\n",
    "clf.fit(train_features, train_target, batch_size = 10, epochs=100,\n",
    "         validation_data=(validation_features, validation_target),\n",
    "         callbacks = [lr_scheduler,checkpoint_cb])"
   ]
  },
  {
   "cell_type": "code",
   "execution_count": 22,
   "metadata": {},
   "outputs": [],
   "source": [
    "clf.save(\"output/clf_1.h5\")"
   ]
  },
  {
   "cell_type": "code",
   "execution_count": 23,
   "metadata": {},
   "outputs": [],
   "source": [
    "clf = keras.models.load_model(\"output/clf.h5\")"
   ]
  },
  {
   "cell_type": "code",
   "execution_count": null,
   "metadata": {},
   "outputs": [],
   "source": []
  }
 ],
 "metadata": {
  "kernelspec": {
   "display_name": "Python 3 (ipykernel)",
   "language": "python",
   "name": "python3"
  },
  "language_info": {
   "codemirror_mode": {
    "name": "ipython",
    "version": 3
   },
   "file_extension": ".py",
   "mimetype": "text/x-python",
   "name": "python",
   "nbconvert_exporter": "python",
   "pygments_lexer": "ipython3",
   "version": "3.11.5"
  }
 },
 "nbformat": 4,
 "nbformat_minor": 4
}
