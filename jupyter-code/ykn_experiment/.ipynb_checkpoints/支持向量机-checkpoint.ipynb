{
 "cells": [
  {
   "cell_type": "markdown",
   "metadata": {},
   "source": [
    "# 一、导入数据"
   ]
  },
  {
   "cell_type": "code",
   "execution_count": 1,
   "metadata": {},
   "outputs": [],
   "source": [
    "import numpy as np\n",
    "import pandas as pd"
   ]
  },
  {
   "cell_type": "code",
   "execution_count": 2,
   "metadata": {},
   "outputs": [],
   "source": [
    "data = pd.read_csv(\"input/total.csv\",index_col=0)"
   ]
  },
  {
   "cell_type": "code",
   "execution_count": 3,
   "metadata": {},
   "outputs": [
    {
     "data": {
      "text/html": [
       "<div>\n",
       "<style scoped>\n",
       "    .dataframe tbody tr th:only-of-type {\n",
       "        vertical-align: middle;\n",
       "    }\n",
       "\n",
       "    .dataframe tbody tr th {\n",
       "        vertical-align: top;\n",
       "    }\n",
       "\n",
       "    .dataframe thead th {\n",
       "        text-align: right;\n",
       "    }\n",
       "</style>\n",
       "<table border=\"1\" class=\"dataframe\">\n",
       "  <thead>\n",
       "    <tr style=\"text-align: right;\">\n",
       "      <th></th>\n",
       "      <th>MVI</th>\n",
       "      <th>diagnosticsVersionsPyRadiomics</th>\n",
       "      <th>diagnosticsVersionsNumpy</th>\n",
       "      <th>diagnosticsVersionsSimpleITK</th>\n",
       "      <th>diagnosticsVersionsPyWavelet</th>\n",
       "      <th>diagnosticsVersionsPython</th>\n",
       "      <th>diagnosticsConfigurationSettings</th>\n",
       "      <th>diagnosticsConfigurationEnabledImageTypes</th>\n",
       "      <th>diagnosticsImage-originalHash</th>\n",
       "      <th>diagnosticsImage-originalDimensionality</th>\n",
       "      <th>...</th>\n",
       "      <th>wavelet-LLLglszmSmallAreaHighGrayLevelEmphasis</th>\n",
       "      <th>wavelet-LLLglszmSmallAreaLowGrayLevelEmphasis</th>\n",
       "      <th>wavelet-LLLglszmZoneEntropy</th>\n",
       "      <th>wavelet-LLLglszmZonePercentage</th>\n",
       "      <th>wavelet-LLLglszmZoneVariance</th>\n",
       "      <th>wavelet-LLLngtdmBusyness</th>\n",
       "      <th>wavelet-LLLngtdmCoarseness</th>\n",
       "      <th>wavelet-LLLngtdmComplexity</th>\n",
       "      <th>wavelet-LLLngtdmContrast</th>\n",
       "      <th>wavelet-LLLngtdmStrength</th>\n",
       "    </tr>\n",
       "    <tr>\n",
       "      <th>NAME</th>\n",
       "      <th></th>\n",
       "      <th></th>\n",
       "      <th></th>\n",
       "      <th></th>\n",
       "      <th></th>\n",
       "      <th></th>\n",
       "      <th></th>\n",
       "      <th></th>\n",
       "      <th></th>\n",
       "      <th></th>\n",
       "      <th></th>\n",
       "      <th></th>\n",
       "      <th></th>\n",
       "      <th></th>\n",
       "      <th></th>\n",
       "      <th></th>\n",
       "      <th></th>\n",
       "      <th></th>\n",
       "      <th></th>\n",
       "      <th></th>\n",
       "      <th></th>\n",
       "    </tr>\n",
       "  </thead>\n",
       "  <tbody>\n",
       "    <tr>\n",
       "      <th>X2-1</th>\n",
       "      <td>1</td>\n",
       "      <td>v3.0.1.post4+gad5b2de</td>\n",
       "      <td>1.19.2</td>\n",
       "      <td>2.0.2</td>\n",
       "      <td>1.1.1</td>\n",
       "      <td>3.6.7</td>\n",
       "      <td>{'minimumROIDimensions': 2, 'minimumROISize': ...</td>\n",
       "      <td>{'Original': {}, 'Wavelet': {}}</td>\n",
       "      <td>29f6af1a37740af486f91ec89a90a1ca4e6984e2</td>\n",
       "      <td>3D</td>\n",
       "      <td>...</td>\n",
       "      <td>318.638010</td>\n",
       "      <td>0.005610</td>\n",
       "      <td>6.130760</td>\n",
       "      <td>0.461261</td>\n",
       "      <td>5.506943</td>\n",
       "      <td>0.179501</td>\n",
       "      <td>0.009362</td>\n",
       "      <td>1490.228725</td>\n",
       "      <td>0.414473</td>\n",
       "      <td>3.601381</td>\n",
       "    </tr>\n",
       "    <tr>\n",
       "      <th>X3</th>\n",
       "      <td>1</td>\n",
       "      <td>v3.0.1.post4+gad5b2de</td>\n",
       "      <td>1.19.2</td>\n",
       "      <td>2.0.2</td>\n",
       "      <td>1.1.1</td>\n",
       "      <td>3.6.7</td>\n",
       "      <td>{'minimumROIDimensions': 2, 'minimumROISize': ...</td>\n",
       "      <td>{'Original': {}, 'Wavelet': {}}</td>\n",
       "      <td>4068241f92f505e2a2dae6f92d23e6931bb461da</td>\n",
       "      <td>3D</td>\n",
       "      <td>...</td>\n",
       "      <td>253.189853</td>\n",
       "      <td>0.012959</td>\n",
       "      <td>5.685717</td>\n",
       "      <td>0.381232</td>\n",
       "      <td>10.388698</td>\n",
       "      <td>0.082228</td>\n",
       "      <td>0.016611</td>\n",
       "      <td>1010.246634</td>\n",
       "      <td>0.243355</td>\n",
       "      <td>7.384377</td>\n",
       "    </tr>\n",
       "    <tr>\n",
       "      <th>X4</th>\n",
       "      <td>1</td>\n",
       "      <td>v3.0.1.post4+gad5b2de</td>\n",
       "      <td>1.19.2</td>\n",
       "      <td>2.0.2</td>\n",
       "      <td>1.1.1</td>\n",
       "      <td>3.6.7</td>\n",
       "      <td>{'minimumROIDimensions': 2, 'minimumROISize': ...</td>\n",
       "      <td>{'Original': {}, 'Wavelet': {}}</td>\n",
       "      <td>37a295cd8d6a203b63878c9495593cccf75685bc</td>\n",
       "      <td>3D</td>\n",
       "      <td>...</td>\n",
       "      <td>433.031711</td>\n",
       "      <td>0.012561</td>\n",
       "      <td>5.770776</td>\n",
       "      <td>0.698225</td>\n",
       "      <td>0.787777</td>\n",
       "      <td>0.037907</td>\n",
       "      <td>0.029661</td>\n",
       "      <td>4444.669700</td>\n",
       "      <td>0.862347</td>\n",
       "      <td>16.119822</td>\n",
       "    </tr>\n",
       "    <tr>\n",
       "      <th>X5</th>\n",
       "      <td>1</td>\n",
       "      <td>v3.0.1.post4+gad5b2de</td>\n",
       "      <td>1.19.2</td>\n",
       "      <td>2.0.2</td>\n",
       "      <td>1.1.1</td>\n",
       "      <td>3.6.7</td>\n",
       "      <td>{'minimumROIDimensions': 2, 'minimumROISize': ...</td>\n",
       "      <td>{'Original': {}, 'Wavelet': {}}</td>\n",
       "      <td>1ac20a232efc03ba36dc4df0ea8a6fb642f5cf97</td>\n",
       "      <td>3D</td>\n",
       "      <td>...</td>\n",
       "      <td>201.231494</td>\n",
       "      <td>0.012413</td>\n",
       "      <td>5.689176</td>\n",
       "      <td>0.537954</td>\n",
       "      <td>2.280703</td>\n",
       "      <td>0.087354</td>\n",
       "      <td>0.023778</td>\n",
       "      <td>770.115810</td>\n",
       "      <td>0.338459</td>\n",
       "      <td>6.332368</td>\n",
       "    </tr>\n",
       "    <tr>\n",
       "      <th>X6</th>\n",
       "      <td>1</td>\n",
       "      <td>v3.0.1.post4+gad5b2de</td>\n",
       "      <td>1.19.2</td>\n",
       "      <td>2.0.2</td>\n",
       "      <td>1.1.1</td>\n",
       "      <td>3.6.7</td>\n",
       "      <td>{'minimumROIDimensions': 2, 'minimumROISize': ...</td>\n",
       "      <td>{'Original': {}, 'Wavelet': {}}</td>\n",
       "      <td>eef77e18d852d42eb559b217ca48634a2bcf0977</td>\n",
       "      <td>3D</td>\n",
       "      <td>...</td>\n",
       "      <td>374.894737</td>\n",
       "      <td>0.056433</td>\n",
       "      <td>3.721612</td>\n",
       "      <td>1.000000</td>\n",
       "      <td>0.000000</td>\n",
       "      <td>0.041858</td>\n",
       "      <td>0.150401</td>\n",
       "      <td>569.926316</td>\n",
       "      <td>2.030981</td>\n",
       "      <td>33.718653</td>\n",
       "    </tr>\n",
       "    <tr>\n",
       "      <th>...</th>\n",
       "      <td>...</td>\n",
       "      <td>...</td>\n",
       "      <td>...</td>\n",
       "      <td>...</td>\n",
       "      <td>...</td>\n",
       "      <td>...</td>\n",
       "      <td>...</td>\n",
       "      <td>...</td>\n",
       "      <td>...</td>\n",
       "      <td>...</td>\n",
       "      <td>...</td>\n",
       "      <td>...</td>\n",
       "      <td>...</td>\n",
       "      <td>...</td>\n",
       "      <td>...</td>\n",
       "      <td>...</td>\n",
       "      <td>...</td>\n",
       "      <td>...</td>\n",
       "      <td>...</td>\n",
       "      <td>...</td>\n",
       "      <td>...</td>\n",
       "    </tr>\n",
       "    <tr>\n",
       "      <th>L55</th>\n",
       "      <td>0</td>\n",
       "      <td>v3.0.1.post4+gad5b2de</td>\n",
       "      <td>1.19.2</td>\n",
       "      <td>2.0.2</td>\n",
       "      <td>1.1.1</td>\n",
       "      <td>3.6.7</td>\n",
       "      <td>{'minimumROIDimensions': 2, 'minimumROISize': ...</td>\n",
       "      <td>{'Original': {}, 'Wavelet': {}}</td>\n",
       "      <td>dbd3b9b2485071bef320ff53d7296898f68c82d7</td>\n",
       "      <td>3D</td>\n",
       "      <td>...</td>\n",
       "      <td>279.387486</td>\n",
       "      <td>0.025947</td>\n",
       "      <td>5.183365</td>\n",
       "      <td>0.703297</td>\n",
       "      <td>1.025146</td>\n",
       "      <td>0.020200</td>\n",
       "      <td>0.109703</td>\n",
       "      <td>808.298210</td>\n",
       "      <td>0.253232</td>\n",
       "      <td>34.297916</td>\n",
       "    </tr>\n",
       "    <tr>\n",
       "      <th>L56</th>\n",
       "      <td>0</td>\n",
       "      <td>v3.0.1.post4+gad5b2de</td>\n",
       "      <td>1.19.2</td>\n",
       "      <td>2.0.2</td>\n",
       "      <td>1.1.1</td>\n",
       "      <td>3.6.7</td>\n",
       "      <td>{'minimumROIDimensions': 2, 'minimumROISize': ...</td>\n",
       "      <td>{'Original': {}, 'Wavelet': {}}</td>\n",
       "      <td>91f710e9a57b891bb8a2de753d91a44464027c12</td>\n",
       "      <td>3D</td>\n",
       "      <td>...</td>\n",
       "      <td>326.311845</td>\n",
       "      <td>0.013964</td>\n",
       "      <td>5.184157</td>\n",
       "      <td>0.731034</td>\n",
       "      <td>0.515575</td>\n",
       "      <td>0.026783</td>\n",
       "      <td>0.082561</td>\n",
       "      <td>613.155316</td>\n",
       "      <td>0.285109</td>\n",
       "      <td>22.278056</td>\n",
       "    </tr>\n",
       "    <tr>\n",
       "      <th>L57</th>\n",
       "      <td>0</td>\n",
       "      <td>v3.0.1.post4+gad5b2de</td>\n",
       "      <td>1.19.2</td>\n",
       "      <td>2.0.2</td>\n",
       "      <td>1.1.1</td>\n",
       "      <td>3.6.7</td>\n",
       "      <td>{'minimumROIDimensions': 2, 'minimumROISize': ...</td>\n",
       "      <td>{'Original': {}, 'Wavelet': {}}</td>\n",
       "      <td>cb601d98e9be5faf634e187ba8ca058fe6133f84</td>\n",
       "      <td>3D</td>\n",
       "      <td>...</td>\n",
       "      <td>112.369080</td>\n",
       "      <td>0.007642</td>\n",
       "      <td>5.717587</td>\n",
       "      <td>0.278552</td>\n",
       "      <td>110.601900</td>\n",
       "      <td>0.405384</td>\n",
       "      <td>0.006583</td>\n",
       "      <td>295.482604</td>\n",
       "      <td>0.074280</td>\n",
       "      <td>1.334465</td>\n",
       "    </tr>\n",
       "    <tr>\n",
       "      <th>L58</th>\n",
       "      <td>0</td>\n",
       "      <td>v3.0.1.post4+gad5b2de</td>\n",
       "      <td>1.19.2</td>\n",
       "      <td>2.0.2</td>\n",
       "      <td>1.1.1</td>\n",
       "      <td>3.6.7</td>\n",
       "      <td>{'minimumROIDimensions': 2, 'minimumROISize': ...</td>\n",
       "      <td>{'Original': {}, 'Wavelet': {}}</td>\n",
       "      <td>7f1fa8a2fbc12b8e80c24023498ecd5b61017273</td>\n",
       "      <td>3D</td>\n",
       "      <td>...</td>\n",
       "      <td>208.933922</td>\n",
       "      <td>0.004270</td>\n",
       "      <td>6.479337</td>\n",
       "      <td>0.206056</td>\n",
       "      <td>494.745756</td>\n",
       "      <td>0.732839</td>\n",
       "      <td>0.001708</td>\n",
       "      <td>840.260449</td>\n",
       "      <td>0.100901</td>\n",
       "      <td>0.773317</td>\n",
       "    </tr>\n",
       "    <tr>\n",
       "      <th>L59</th>\n",
       "      <td>0</td>\n",
       "      <td>v3.0.1.post4+gad5b2de</td>\n",
       "      <td>1.19.2</td>\n",
       "      <td>2.0.2</td>\n",
       "      <td>1.1.1</td>\n",
       "      <td>3.6.7</td>\n",
       "      <td>{'minimumROIDimensions': 2, 'minimumROISize': ...</td>\n",
       "      <td>{'Original': {}, 'Wavelet': {}}</td>\n",
       "      <td>4c4c9134a36733ea0a5637bf06ec8153c41160bb</td>\n",
       "      <td>3D</td>\n",
       "      <td>...</td>\n",
       "      <td>307.010998</td>\n",
       "      <td>0.002623</td>\n",
       "      <td>6.397461</td>\n",
       "      <td>0.425758</td>\n",
       "      <td>16.433623</td>\n",
       "      <td>1.458568</td>\n",
       "      <td>0.000727</td>\n",
       "      <td>1413.049188</td>\n",
       "      <td>0.106956</td>\n",
       "      <td>0.350365</td>\n",
       "    </tr>\n",
       "  </tbody>\n",
       "</table>\n",
       "<p>138 rows × 874 columns</p>\n",
       "</div>"
      ],
      "text/plain": [
       "      MVI diagnosticsVersionsPyRadiomics diagnosticsVersionsNumpy  \\\n",
       "NAME                                                                \n",
       "X2-1    1          v3.0.1.post4+gad5b2de                   1.19.2   \n",
       "X3      1          v3.0.1.post4+gad5b2de                   1.19.2   \n",
       "X4      1          v3.0.1.post4+gad5b2de                   1.19.2   \n",
       "X5      1          v3.0.1.post4+gad5b2de                   1.19.2   \n",
       "X6      1          v3.0.1.post4+gad5b2de                   1.19.2   \n",
       "...   ...                            ...                      ...   \n",
       "L55     0          v3.0.1.post4+gad5b2de                   1.19.2   \n",
       "L56     0          v3.0.1.post4+gad5b2de                   1.19.2   \n",
       "L57     0          v3.0.1.post4+gad5b2de                   1.19.2   \n",
       "L58     0          v3.0.1.post4+gad5b2de                   1.19.2   \n",
       "L59     0          v3.0.1.post4+gad5b2de                   1.19.2   \n",
       "\n",
       "     diagnosticsVersionsSimpleITK diagnosticsVersionsPyWavelet  \\\n",
       "NAME                                                             \n",
       "X2-1                        2.0.2                        1.1.1   \n",
       "X3                          2.0.2                        1.1.1   \n",
       "X4                          2.0.2                        1.1.1   \n",
       "X5                          2.0.2                        1.1.1   \n",
       "X6                          2.0.2                        1.1.1   \n",
       "...                           ...                          ...   \n",
       "L55                         2.0.2                        1.1.1   \n",
       "L56                         2.0.2                        1.1.1   \n",
       "L57                         2.0.2                        1.1.1   \n",
       "L58                         2.0.2                        1.1.1   \n",
       "L59                         2.0.2                        1.1.1   \n",
       "\n",
       "     diagnosticsVersionsPython  \\\n",
       "NAME                             \n",
       "X2-1                     3.6.7   \n",
       "X3                       3.6.7   \n",
       "X4                       3.6.7   \n",
       "X5                       3.6.7   \n",
       "X6                       3.6.7   \n",
       "...                        ...   \n",
       "L55                      3.6.7   \n",
       "L56                      3.6.7   \n",
       "L57                      3.6.7   \n",
       "L58                      3.6.7   \n",
       "L59                      3.6.7   \n",
       "\n",
       "                       diagnosticsConfigurationSettings  \\\n",
       "NAME                                                      \n",
       "X2-1  {'minimumROIDimensions': 2, 'minimumROISize': ...   \n",
       "X3    {'minimumROIDimensions': 2, 'minimumROISize': ...   \n",
       "X4    {'minimumROIDimensions': 2, 'minimumROISize': ...   \n",
       "X5    {'minimumROIDimensions': 2, 'minimumROISize': ...   \n",
       "X6    {'minimumROIDimensions': 2, 'minimumROISize': ...   \n",
       "...                                                 ...   \n",
       "L55   {'minimumROIDimensions': 2, 'minimumROISize': ...   \n",
       "L56   {'minimumROIDimensions': 2, 'minimumROISize': ...   \n",
       "L57   {'minimumROIDimensions': 2, 'minimumROISize': ...   \n",
       "L58   {'minimumROIDimensions': 2, 'minimumROISize': ...   \n",
       "L59   {'minimumROIDimensions': 2, 'minimumROISize': ...   \n",
       "\n",
       "     diagnosticsConfigurationEnabledImageTypes  \\\n",
       "NAME                                             \n",
       "X2-1           {'Original': {}, 'Wavelet': {}}   \n",
       "X3             {'Original': {}, 'Wavelet': {}}   \n",
       "X4             {'Original': {}, 'Wavelet': {}}   \n",
       "X5             {'Original': {}, 'Wavelet': {}}   \n",
       "X6             {'Original': {}, 'Wavelet': {}}   \n",
       "...                                        ...   \n",
       "L55            {'Original': {}, 'Wavelet': {}}   \n",
       "L56            {'Original': {}, 'Wavelet': {}}   \n",
       "L57            {'Original': {}, 'Wavelet': {}}   \n",
       "L58            {'Original': {}, 'Wavelet': {}}   \n",
       "L59            {'Original': {}, 'Wavelet': {}}   \n",
       "\n",
       "                 diagnosticsImage-originalHash  \\\n",
       "NAME                                             \n",
       "X2-1  29f6af1a37740af486f91ec89a90a1ca4e6984e2   \n",
       "X3    4068241f92f505e2a2dae6f92d23e6931bb461da   \n",
       "X4    37a295cd8d6a203b63878c9495593cccf75685bc   \n",
       "X5    1ac20a232efc03ba36dc4df0ea8a6fb642f5cf97   \n",
       "X6    eef77e18d852d42eb559b217ca48634a2bcf0977   \n",
       "...                                        ...   \n",
       "L55   dbd3b9b2485071bef320ff53d7296898f68c82d7   \n",
       "L56   91f710e9a57b891bb8a2de753d91a44464027c12   \n",
       "L57   cb601d98e9be5faf634e187ba8ca058fe6133f84   \n",
       "L58   7f1fa8a2fbc12b8e80c24023498ecd5b61017273   \n",
       "L59   4c4c9134a36733ea0a5637bf06ec8153c41160bb   \n",
       "\n",
       "     diagnosticsImage-originalDimensionality  ...  \\\n",
       "NAME                                          ...   \n",
       "X2-1                                      3D  ...   \n",
       "X3                                        3D  ...   \n",
       "X4                                        3D  ...   \n",
       "X5                                        3D  ...   \n",
       "X6                                        3D  ...   \n",
       "...                                      ...  ...   \n",
       "L55                                       3D  ...   \n",
       "L56                                       3D  ...   \n",
       "L57                                       3D  ...   \n",
       "L58                                       3D  ...   \n",
       "L59                                       3D  ...   \n",
       "\n",
       "     wavelet-LLLglszmSmallAreaHighGrayLevelEmphasis  \\\n",
       "NAME                                                  \n",
       "X2-1                                     318.638010   \n",
       "X3                                       253.189853   \n",
       "X4                                       433.031711   \n",
       "X5                                       201.231494   \n",
       "X6                                       374.894737   \n",
       "...                                             ...   \n",
       "L55                                      279.387486   \n",
       "L56                                      326.311845   \n",
       "L57                                      112.369080   \n",
       "L58                                      208.933922   \n",
       "L59                                      307.010998   \n",
       "\n",
       "     wavelet-LLLglszmSmallAreaLowGrayLevelEmphasis  \\\n",
       "NAME                                                 \n",
       "X2-1                                      0.005610   \n",
       "X3                                        0.012959   \n",
       "X4                                        0.012561   \n",
       "X5                                        0.012413   \n",
       "X6                                        0.056433   \n",
       "...                                            ...   \n",
       "L55                                       0.025947   \n",
       "L56                                       0.013964   \n",
       "L57                                       0.007642   \n",
       "L58                                       0.004270   \n",
       "L59                                       0.002623   \n",
       "\n",
       "      wavelet-LLLglszmZoneEntropy  wavelet-LLLglszmZonePercentage  \\\n",
       "NAME                                                                \n",
       "X2-1                     6.130760                        0.461261   \n",
       "X3                       5.685717                        0.381232   \n",
       "X4                       5.770776                        0.698225   \n",
       "X5                       5.689176                        0.537954   \n",
       "X6                       3.721612                        1.000000   \n",
       "...                           ...                             ...   \n",
       "L55                      5.183365                        0.703297   \n",
       "L56                      5.184157                        0.731034   \n",
       "L57                      5.717587                        0.278552   \n",
       "L58                      6.479337                        0.206056   \n",
       "L59                      6.397461                        0.425758   \n",
       "\n",
       "      wavelet-LLLglszmZoneVariance wavelet-LLLngtdmBusyness  \\\n",
       "NAME                                                          \n",
       "X2-1                      5.506943                 0.179501   \n",
       "X3                       10.388698                 0.082228   \n",
       "X4                        0.787777                 0.037907   \n",
       "X5                        2.280703                 0.087354   \n",
       "X6                        0.000000                 0.041858   \n",
       "...                            ...                      ...   \n",
       "L55                       1.025146                 0.020200   \n",
       "L56                       0.515575                 0.026783   \n",
       "L57                     110.601900                 0.405384   \n",
       "L58                     494.745756                 0.732839   \n",
       "L59                      16.433623                 1.458568   \n",
       "\n",
       "     wavelet-LLLngtdmCoarseness wavelet-LLLngtdmComplexity  \\\n",
       "NAME                                                         \n",
       "X2-1                   0.009362                1490.228725   \n",
       "X3                     0.016611                1010.246634   \n",
       "X4                     0.029661                4444.669700   \n",
       "X5                     0.023778                 770.115810   \n",
       "X6                     0.150401                 569.926316   \n",
       "...                         ...                        ...   \n",
       "L55                    0.109703                 808.298210   \n",
       "L56                    0.082561                 613.155316   \n",
       "L57                    0.006583                 295.482604   \n",
       "L58                    0.001708                 840.260449   \n",
       "L59                    0.000727                1413.049188   \n",
       "\n",
       "     wavelet-LLLngtdmContrast  wavelet-LLLngtdmStrength  \n",
       "NAME                                                     \n",
       "X2-1                 0.414473                  3.601381  \n",
       "X3                   0.243355                  7.384377  \n",
       "X4                   0.862347                 16.119822  \n",
       "X5                   0.338459                  6.332368  \n",
       "X6                   2.030981                 33.718653  \n",
       "...                       ...                       ...  \n",
       "L55                  0.253232                 34.297916  \n",
       "L56                  0.285109                 22.278056  \n",
       "L57                  0.074280                  1.334465  \n",
       "L58                  0.100901                  0.773317  \n",
       "L59                  0.106956                  0.350365  \n",
       "\n",
       "[138 rows x 874 columns]"
      ]
     },
     "execution_count": 3,
     "metadata": {},
     "output_type": "execute_result"
    }
   ],
   "source": [
    "data_ = data.copy()\n",
    "data_"
   ]
  },
  {
   "cell_type": "code",
   "execution_count": 4,
   "metadata": {},
   "outputs": [
    {
     "name": "stdout",
     "output_type": "stream",
     "text": [
      "<class 'pandas.core.frame.DataFrame'>\n",
      "Index: 138 entries, X2-1 to L59\n",
      "Columns: 874 entries, MVI to wavelet-LLLngtdmStrength\n",
      "dtypes: float64(848), int64(9), object(17)\n",
      "memory usage: 943.4+ KB\n"
     ]
    }
   ],
   "source": [
    "data_.info()"
   ]
  },
  {
   "cell_type": "markdown",
   "metadata": {},
   "source": [
    "# 二、设置变量"
   ]
  },
  {
   "cell_type": "code",
   "execution_count": 5,
   "metadata": {},
   "outputs": [
    {
     "data": {
      "text/html": [
       "<div>\n",
       "<style scoped>\n",
       "    .dataframe tbody tr th:only-of-type {\n",
       "        vertical-align: middle;\n",
       "    }\n",
       "\n",
       "    .dataframe tbody tr th {\n",
       "        vertical-align: top;\n",
       "    }\n",
       "\n",
       "    .dataframe thead th {\n",
       "        text-align: right;\n",
       "    }\n",
       "</style>\n",
       "<table border=\"1\" class=\"dataframe\">\n",
       "  <thead>\n",
       "    <tr style=\"text-align: right;\">\n",
       "      <th></th>\n",
       "      <th>originalshapeElongation</th>\n",
       "      <th>originalshapeFlatness</th>\n",
       "      <th>originalshapeLeastAxisLength</th>\n",
       "      <th>originalshapeMajorAxisLength</th>\n",
       "      <th>originalshapeMaximum2DDiameterColumn</th>\n",
       "      <th>originalshapeMaximum2DDiameterRow</th>\n",
       "      <th>originalshapeMaximum2DDiameterSlice</th>\n",
       "      <th>originalshapeMaximum3DDiameter</th>\n",
       "      <th>originalshapeMeshVolume</th>\n",
       "      <th>originalshapeMinorAxisLength</th>\n",
       "      <th>...</th>\n",
       "      <th>wavelet-LLLglszmSmallAreaHighGrayLevelEmphasis</th>\n",
       "      <th>wavelet-LLLglszmSmallAreaLowGrayLevelEmphasis</th>\n",
       "      <th>wavelet-LLLglszmZoneEntropy</th>\n",
       "      <th>wavelet-LLLglszmZonePercentage</th>\n",
       "      <th>wavelet-LLLglszmZoneVariance</th>\n",
       "      <th>wavelet-LLLngtdmBusyness</th>\n",
       "      <th>wavelet-LLLngtdmCoarseness</th>\n",
       "      <th>wavelet-LLLngtdmComplexity</th>\n",
       "      <th>wavelet-LLLngtdmContrast</th>\n",
       "      <th>wavelet-LLLngtdmStrength</th>\n",
       "    </tr>\n",
       "    <tr>\n",
       "      <th>NAME</th>\n",
       "      <th></th>\n",
       "      <th></th>\n",
       "      <th></th>\n",
       "      <th></th>\n",
       "      <th></th>\n",
       "      <th></th>\n",
       "      <th></th>\n",
       "      <th></th>\n",
       "      <th></th>\n",
       "      <th></th>\n",
       "      <th></th>\n",
       "      <th></th>\n",
       "      <th></th>\n",
       "      <th></th>\n",
       "      <th></th>\n",
       "      <th></th>\n",
       "      <th></th>\n",
       "      <th></th>\n",
       "      <th></th>\n",
       "      <th></th>\n",
       "      <th></th>\n",
       "    </tr>\n",
       "  </thead>\n",
       "  <tbody>\n",
       "    <tr>\n",
       "      <th>X2-1</th>\n",
       "      <td>0.556183</td>\n",
       "      <td>0.304004</td>\n",
       "      <td>8.934097</td>\n",
       "      <td>29.388077</td>\n",
       "      <td>30.766256</td>\n",
       "      <td>25.378386</td>\n",
       "      <td>22.853559</td>\n",
       "      <td>30.957695</td>\n",
       "      <td>2009.419271</td>\n",
       "      <td>16.345148</td>\n",
       "      <td>...</td>\n",
       "      <td>318.638010</td>\n",
       "      <td>0.005610</td>\n",
       "      <td>6.130760</td>\n",
       "      <td>0.461261</td>\n",
       "      <td>5.506943</td>\n",
       "      <td>0.179501</td>\n",
       "      <td>0.009362</td>\n",
       "      <td>1490.228725</td>\n",
       "      <td>0.414473</td>\n",
       "      <td>3.601381</td>\n",
       "    </tr>\n",
       "    <tr>\n",
       "      <th>X3</th>\n",
       "      <td>0.538948</td>\n",
       "      <td>0.421506</td>\n",
       "      <td>8.462664</td>\n",
       "      <td>20.077230</td>\n",
       "      <td>25.378386</td>\n",
       "      <td>24.965288</td>\n",
       "      <td>11.442280</td>\n",
       "      <td>25.711440</td>\n",
       "      <td>1245.291667</td>\n",
       "      <td>10.820578</td>\n",
       "      <td>...</td>\n",
       "      <td>253.189853</td>\n",
       "      <td>0.012959</td>\n",
       "      <td>5.685717</td>\n",
       "      <td>0.381232</td>\n",
       "      <td>10.388698</td>\n",
       "      <td>0.082228</td>\n",
       "      <td>0.016611</td>\n",
       "      <td>1010.246634</td>\n",
       "      <td>0.243355</td>\n",
       "      <td>7.384377</td>\n",
       "    </tr>\n",
       "    <tr>\n",
       "      <th>X4</th>\n",
       "      <td>0.376898</td>\n",
       "      <td>0.185720</td>\n",
       "      <td>5.208266</td>\n",
       "      <td>28.043626</td>\n",
       "      <td>24.202595</td>\n",
       "      <td>25.492205</td>\n",
       "      <td>14.740596</td>\n",
       "      <td>28.391945</td>\n",
       "      <td>769.449870</td>\n",
       "      <td>10.569593</td>\n",
       "      <td>...</td>\n",
       "      <td>433.031711</td>\n",
       "      <td>0.012561</td>\n",
       "      <td>5.770776</td>\n",
       "      <td>0.698225</td>\n",
       "      <td>0.787777</td>\n",
       "      <td>0.037907</td>\n",
       "      <td>0.029661</td>\n",
       "      <td>4444.669700</td>\n",
       "      <td>0.862347</td>\n",
       "      <td>16.119822</td>\n",
       "    </tr>\n",
       "    <tr>\n",
       "      <th>X5</th>\n",
       "      <td>0.392714</td>\n",
       "      <td>0.229733</td>\n",
       "      <td>6.209354</td>\n",
       "      <td>27.028565</td>\n",
       "      <td>24.953490</td>\n",
       "      <td>26.476129</td>\n",
       "      <td>12.483830</td>\n",
       "      <td>26.773148</td>\n",
       "      <td>892.256973</td>\n",
       "      <td>10.614482</td>\n",
       "      <td>...</td>\n",
       "      <td>201.231494</td>\n",
       "      <td>0.012413</td>\n",
       "      <td>5.689176</td>\n",
       "      <td>0.537954</td>\n",
       "      <td>2.280703</td>\n",
       "      <td>0.087354</td>\n",
       "      <td>0.023778</td>\n",
       "      <td>770.115810</td>\n",
       "      <td>0.338459</td>\n",
       "      <td>6.332368</td>\n",
       "    </tr>\n",
       "    <tr>\n",
       "      <th>X6</th>\n",
       "      <td>0.396503</td>\n",
       "      <td>0.000000</td>\n",
       "      <td>0.000000</td>\n",
       "      <td>5.834307</td>\n",
       "      <td>8.310385</td>\n",
       "      <td>8.310385</td>\n",
       "      <td>5.408327</td>\n",
       "      <td>9.330729</td>\n",
       "      <td>68.250000</td>\n",
       "      <td>2.313318</td>\n",
       "      <td>...</td>\n",
       "      <td>374.894737</td>\n",
       "      <td>0.056433</td>\n",
       "      <td>3.721612</td>\n",
       "      <td>1.000000</td>\n",
       "      <td>0.000000</td>\n",
       "      <td>0.041858</td>\n",
       "      <td>0.150401</td>\n",
       "      <td>569.926316</td>\n",
       "      <td>2.030981</td>\n",
       "      <td>33.718653</td>\n",
       "    </tr>\n",
       "    <tr>\n",
       "      <th>...</th>\n",
       "      <td>...</td>\n",
       "      <td>...</td>\n",
       "      <td>...</td>\n",
       "      <td>...</td>\n",
       "      <td>...</td>\n",
       "      <td>...</td>\n",
       "      <td>...</td>\n",
       "      <td>...</td>\n",
       "      <td>...</td>\n",
       "      <td>...</td>\n",
       "      <td>...</td>\n",
       "      <td>...</td>\n",
       "      <td>...</td>\n",
       "      <td>...</td>\n",
       "      <td>...</td>\n",
       "      <td>...</td>\n",
       "      <td>...</td>\n",
       "      <td>...</td>\n",
       "      <td>...</td>\n",
       "      <td>...</td>\n",
       "      <td>...</td>\n",
       "    </tr>\n",
       "    <tr>\n",
       "      <th>L55</th>\n",
       "      <td>0.491960</td>\n",
       "      <td>0.320452</td>\n",
       "      <td>4.651530</td>\n",
       "      <td>14.515524</td>\n",
       "      <td>16.520263</td>\n",
       "      <td>17.406822</td>\n",
       "      <td>8.340038</td>\n",
       "      <td>17.460737</td>\n",
       "      <td>313.942978</td>\n",
       "      <td>7.141055</td>\n",
       "      <td>...</td>\n",
       "      <td>279.387486</td>\n",
       "      <td>0.025947</td>\n",
       "      <td>5.183365</td>\n",
       "      <td>0.703297</td>\n",
       "      <td>1.025146</td>\n",
       "      <td>0.020200</td>\n",
       "      <td>0.109703</td>\n",
       "      <td>808.298210</td>\n",
       "      <td>0.253232</td>\n",
       "      <td>34.297916</td>\n",
       "    </tr>\n",
       "    <tr>\n",
       "      <th>L56</th>\n",
       "      <td>0.491124</td>\n",
       "      <td>0.329871</td>\n",
       "      <td>6.792284</td>\n",
       "      <td>20.590706</td>\n",
       "      <td>16.891183</td>\n",
       "      <td>20.227225</td>\n",
       "      <td>18.690962</td>\n",
       "      <td>21.405454</td>\n",
       "      <td>616.151733</td>\n",
       "      <td>10.112599</td>\n",
       "      <td>...</td>\n",
       "      <td>326.311845</td>\n",
       "      <td>0.013964</td>\n",
       "      <td>5.184157</td>\n",
       "      <td>0.731034</td>\n",
       "      <td>0.515575</td>\n",
       "      <td>0.026783</td>\n",
       "      <td>0.082561</td>\n",
       "      <td>613.155316</td>\n",
       "      <td>0.285109</td>\n",
       "      <td>22.278056</td>\n",
       "    </tr>\n",
       "    <tr>\n",
       "      <th>L57</th>\n",
       "      <td>0.728034</td>\n",
       "      <td>0.554254</td>\n",
       "      <td>14.544836</td>\n",
       "      <td>26.242202</td>\n",
       "      <td>30.566942</td>\n",
       "      <td>26.468711</td>\n",
       "      <td>27.300936</td>\n",
       "      <td>31.643975</td>\n",
       "      <td>4666.411388</td>\n",
       "      <td>19.105224</td>\n",
       "      <td>...</td>\n",
       "      <td>112.369080</td>\n",
       "      <td>0.007642</td>\n",
       "      <td>5.717587</td>\n",
       "      <td>0.278552</td>\n",
       "      <td>110.601900</td>\n",
       "      <td>0.405384</td>\n",
       "      <td>0.006583</td>\n",
       "      <td>295.482604</td>\n",
       "      <td>0.074280</td>\n",
       "      <td>1.334465</td>\n",
       "    </tr>\n",
       "    <tr>\n",
       "      <th>L58</th>\n",
       "      <td>0.795739</td>\n",
       "      <td>0.716195</td>\n",
       "      <td>22.609793</td>\n",
       "      <td>31.569341</td>\n",
       "      <td>37.260536</td>\n",
       "      <td>37.951750</td>\n",
       "      <td>28.675305</td>\n",
       "      <td>38.636205</td>\n",
       "      <td>12252.504740</td>\n",
       "      <td>25.120958</td>\n",
       "      <td>...</td>\n",
       "      <td>208.933922</td>\n",
       "      <td>0.004270</td>\n",
       "      <td>6.479337</td>\n",
       "      <td>0.206056</td>\n",
       "      <td>494.745756</td>\n",
       "      <td>0.732839</td>\n",
       "      <td>0.001708</td>\n",
       "      <td>840.260449</td>\n",
       "      <td>0.100901</td>\n",
       "      <td>0.773317</td>\n",
       "    </tr>\n",
       "    <tr>\n",
       "      <th>L59</th>\n",
       "      <td>0.642624</td>\n",
       "      <td>0.447204</td>\n",
       "      <td>23.302191</td>\n",
       "      <td>52.106358</td>\n",
       "      <td>43.637007</td>\n",
       "      <td>60.602229</td>\n",
       "      <td>45.004700</td>\n",
       "      <td>61.800219</td>\n",
       "      <td>27374.066030</td>\n",
       "      <td>33.484814</td>\n",
       "      <td>...</td>\n",
       "      <td>307.010998</td>\n",
       "      <td>0.002623</td>\n",
       "      <td>6.397461</td>\n",
       "      <td>0.425758</td>\n",
       "      <td>16.433623</td>\n",
       "      <td>1.458568</td>\n",
       "      <td>0.000727</td>\n",
       "      <td>1413.049188</td>\n",
       "      <td>0.106956</td>\n",
       "      <td>0.350365</td>\n",
       "    </tr>\n",
       "  </tbody>\n",
       "</table>\n",
       "<p>138 rows × 851 columns</p>\n",
       "</div>"
      ],
      "text/plain": [
       "      originalshapeElongation  originalshapeFlatness  \\\n",
       "NAME                                                   \n",
       "X2-1                 0.556183               0.304004   \n",
       "X3                   0.538948               0.421506   \n",
       "X4                   0.376898               0.185720   \n",
       "X5                   0.392714               0.229733   \n",
       "X6                   0.396503               0.000000   \n",
       "...                       ...                    ...   \n",
       "L55                  0.491960               0.320452   \n",
       "L56                  0.491124               0.329871   \n",
       "L57                  0.728034               0.554254   \n",
       "L58                  0.795739               0.716195   \n",
       "L59                  0.642624               0.447204   \n",
       "\n",
       "      originalshapeLeastAxisLength  originalshapeMajorAxisLength  \\\n",
       "NAME                                                               \n",
       "X2-1                      8.934097                     29.388077   \n",
       "X3                        8.462664                     20.077230   \n",
       "X4                        5.208266                     28.043626   \n",
       "X5                        6.209354                     27.028565   \n",
       "X6                        0.000000                      5.834307   \n",
       "...                            ...                           ...   \n",
       "L55                       4.651530                     14.515524   \n",
       "L56                       6.792284                     20.590706   \n",
       "L57                      14.544836                     26.242202   \n",
       "L58                      22.609793                     31.569341   \n",
       "L59                      23.302191                     52.106358   \n",
       "\n",
       "      originalshapeMaximum2DDiameterColumn  originalshapeMaximum2DDiameterRow  \\\n",
       "NAME                                                                            \n",
       "X2-1                             30.766256                          25.378386   \n",
       "X3                               25.378386                          24.965288   \n",
       "X4                               24.202595                          25.492205   \n",
       "X5                               24.953490                          26.476129   \n",
       "X6                                8.310385                           8.310385   \n",
       "...                                    ...                                ...   \n",
       "L55                              16.520263                          17.406822   \n",
       "L56                              16.891183                          20.227225   \n",
       "L57                              30.566942                          26.468711   \n",
       "L58                              37.260536                          37.951750   \n",
       "L59                              43.637007                          60.602229   \n",
       "\n",
       "      originalshapeMaximum2DDiameterSlice  originalshapeMaximum3DDiameter  \\\n",
       "NAME                                                                        \n",
       "X2-1                            22.853559                       30.957695   \n",
       "X3                              11.442280                       25.711440   \n",
       "X4                              14.740596                       28.391945   \n",
       "X5                              12.483830                       26.773148   \n",
       "X6                               5.408327                        9.330729   \n",
       "...                                   ...                             ...   \n",
       "L55                              8.340038                       17.460737   \n",
       "L56                             18.690962                       21.405454   \n",
       "L57                             27.300936                       31.643975   \n",
       "L58                             28.675305                       38.636205   \n",
       "L59                             45.004700                       61.800219   \n",
       "\n",
       "      originalshapeMeshVolume  originalshapeMinorAxisLength  ...  \\\n",
       "NAME                                                         ...   \n",
       "X2-1              2009.419271                     16.345148  ...   \n",
       "X3                1245.291667                     10.820578  ...   \n",
       "X4                 769.449870                     10.569593  ...   \n",
       "X5                 892.256973                     10.614482  ...   \n",
       "X6                  68.250000                      2.313318  ...   \n",
       "...                       ...                           ...  ...   \n",
       "L55                313.942978                      7.141055  ...   \n",
       "L56                616.151733                     10.112599  ...   \n",
       "L57               4666.411388                     19.105224  ...   \n",
       "L58              12252.504740                     25.120958  ...   \n",
       "L59              27374.066030                     33.484814  ...   \n",
       "\n",
       "      wavelet-LLLglszmSmallAreaHighGrayLevelEmphasis  \\\n",
       "NAME                                                   \n",
       "X2-1                                      318.638010   \n",
       "X3                                        253.189853   \n",
       "X4                                        433.031711   \n",
       "X5                                        201.231494   \n",
       "X6                                        374.894737   \n",
       "...                                              ...   \n",
       "L55                                       279.387486   \n",
       "L56                                       326.311845   \n",
       "L57                                       112.369080   \n",
       "L58                                       208.933922   \n",
       "L59                                       307.010998   \n",
       "\n",
       "      wavelet-LLLglszmSmallAreaLowGrayLevelEmphasis  \\\n",
       "NAME                                                  \n",
       "X2-1                                       0.005610   \n",
       "X3                                         0.012959   \n",
       "X4                                         0.012561   \n",
       "X5                                         0.012413   \n",
       "X6                                         0.056433   \n",
       "...                                             ...   \n",
       "L55                                        0.025947   \n",
       "L56                                        0.013964   \n",
       "L57                                        0.007642   \n",
       "L58                                        0.004270   \n",
       "L59                                        0.002623   \n",
       "\n",
       "      wavelet-LLLglszmZoneEntropy  wavelet-LLLglszmZonePercentage  \\\n",
       "NAME                                                                \n",
       "X2-1                     6.130760                        0.461261   \n",
       "X3                       5.685717                        0.381232   \n",
       "X4                       5.770776                        0.698225   \n",
       "X5                       5.689176                        0.537954   \n",
       "X6                       3.721612                        1.000000   \n",
       "...                           ...                             ...   \n",
       "L55                      5.183365                        0.703297   \n",
       "L56                      5.184157                        0.731034   \n",
       "L57                      5.717587                        0.278552   \n",
       "L58                      6.479337                        0.206056   \n",
       "L59                      6.397461                        0.425758   \n",
       "\n",
       "      wavelet-LLLglszmZoneVariance  wavelet-LLLngtdmBusyness  \\\n",
       "NAME                                                           \n",
       "X2-1                      5.506943                  0.179501   \n",
       "X3                       10.388698                  0.082228   \n",
       "X4                        0.787777                  0.037907   \n",
       "X5                        2.280703                  0.087354   \n",
       "X6                        0.000000                  0.041858   \n",
       "...                            ...                       ...   \n",
       "L55                       1.025146                  0.020200   \n",
       "L56                       0.515575                  0.026783   \n",
       "L57                     110.601900                  0.405384   \n",
       "L58                     494.745756                  0.732839   \n",
       "L59                      16.433623                  1.458568   \n",
       "\n",
       "      wavelet-LLLngtdmCoarseness  wavelet-LLLngtdmComplexity  \\\n",
       "NAME                                                           \n",
       "X2-1                    0.009362                 1490.228725   \n",
       "X3                      0.016611                 1010.246634   \n",
       "X4                      0.029661                 4444.669700   \n",
       "X5                      0.023778                  770.115810   \n",
       "X6                      0.150401                  569.926316   \n",
       "...                          ...                         ...   \n",
       "L55                     0.109703                  808.298210   \n",
       "L56                     0.082561                  613.155316   \n",
       "L57                     0.006583                  295.482604   \n",
       "L58                     0.001708                  840.260449   \n",
       "L59                     0.000727                 1413.049188   \n",
       "\n",
       "      wavelet-LLLngtdmContrast  wavelet-LLLngtdmStrength  \n",
       "NAME                                                      \n",
       "X2-1                  0.414473                  3.601381  \n",
       "X3                    0.243355                  7.384377  \n",
       "X4                    0.862347                 16.119822  \n",
       "X5                    0.338459                  6.332368  \n",
       "X6                    2.030981                 33.718653  \n",
       "...                        ...                       ...  \n",
       "L55                   0.253232                 34.297916  \n",
       "L56                   0.285109                 22.278056  \n",
       "L57                   0.074280                  1.334465  \n",
       "L58                   0.100901                  0.773317  \n",
       "L59                   0.106956                  0.350365  \n",
       "\n",
       "[138 rows x 851 columns]"
      ]
     },
     "execution_count": 5,
     "metadata": {},
     "output_type": "execute_result"
    }
   ],
   "source": [
    "features = data_.drop(columns=['MVI','diagnosticsVersionsPyRadiomics','diagnosticsVersionsNumpy','diagnosticsVersionsSimpleITK','diagnosticsVersionsPyWavelet',\n",
    "                              'diagnosticsVersionsPython','diagnosticsConfigurationSettings','diagnosticsConfigurationEnabledImageTypes',\n",
    "                              'diagnosticsImage-originalHash','diagnosticsImage-originalDimensionality',\n",
    "                               'diagnosticsImage-originalSpacing','diagnosticsImage-originalSize','diagnosticsImage-originalMean','diagnosticsImage-originalMinimum',\n",
    "                               'diagnosticsImage-originalMaximum','diagnosticsMask-originalHash','diagnosticsMask-originalSpacing','diagnosticsMask-originalSize',\n",
    "                               'diagnosticsMask-originalBoundingBox','diagnosticsMask-originalVoxelNum','diagnosticsMask-originalVolumeNum','diagnosticsMask-originalCenterOfMassIndex',\n",
    "                               'diagnosticsMask-originalCenterOfMass'\n",
    "                              ])\n",
    "features"
   ]
  },
  {
   "cell_type": "code",
   "execution_count": 6,
   "metadata": {},
   "outputs": [
    {
     "data": {
      "text/plain": [
       "NAME\n",
       "X2-1    1\n",
       "X3      1\n",
       "X4      1\n",
       "X5      1\n",
       "X6      1\n",
       "       ..\n",
       "L55     0\n",
       "L56     0\n",
       "L57     0\n",
       "L58     0\n",
       "L59     0\n",
       "Name: MVI, Length: 138, dtype: int64"
      ]
     },
     "execution_count": 6,
     "metadata": {},
     "output_type": "execute_result"
    }
   ],
   "source": [
    "target = data_.iloc[:, 0]\n",
    "target"
   ]
  },
  {
   "cell_type": "code",
   "execution_count": 7,
   "metadata": {},
   "outputs": [],
   "source": [
    "from sklearn.preprocessing import StandardScaler"
   ]
  },
  {
   "cell_type": "code",
   "execution_count": 8,
   "metadata": {},
   "outputs": [],
   "source": [
    "transfer = StandardScaler()"
   ]
  },
  {
   "cell_type": "code",
   "execution_count": 9,
   "metadata": {},
   "outputs": [],
   "source": [
    "features_ = transfer.fit_transform(features)"
   ]
  },
  {
   "cell_type": "code",
   "execution_count": 10,
   "metadata": {},
   "outputs": [
    {
     "data": {
      "text/plain": [
       "array([[-0.2741352 , -0.38880644, -0.39349722, ...,  0.74669837,\n",
       "         0.32000434, -0.34395201],\n",
       "       [-0.36646711,  0.20209181, -0.45581461, ...,  0.26008714,\n",
       "        -0.0244887 , -0.11173468],\n",
       "       [-1.23459146, -0.98364019, -0.88600431, ...,  3.74194382,\n",
       "         1.22165747,  0.42448618],\n",
       "       ...,\n",
       "       [ 0.64649905,  0.86966344,  0.34817059, ..., -0.46454867,\n",
       "        -0.36486876, -0.48310551],\n",
       "       [ 1.00920399,  1.68404208,  1.41425446, ...,  0.08775323,\n",
       "        -0.31127622, -0.51755131],\n",
       "       [ 0.18894464,  0.33132756,  1.50578065, ...,  0.66845289,\n",
       "        -0.29908481, -0.54351399]])"
      ]
     },
     "execution_count": 10,
     "metadata": {},
     "output_type": "execute_result"
    }
   ],
   "source": [
    "features_"
   ]
  },
  {
   "cell_type": "markdown",
   "metadata": {},
   "source": [
    "# 三、拆分数据集"
   ]
  },
  {
   "cell_type": "code",
   "execution_count": 11,
   "metadata": {},
   "outputs": [],
   "source": [
    "from sklearn.model_selection import train_test_split"
   ]
  },
  {
   "cell_type": "code",
   "execution_count": 12,
   "metadata": {},
   "outputs": [],
   "source": [
    "train_features, test_features, train_target, test_target = train_test_split(\n",
    "    features_, target, \n",
    "    test_size = 0.15)"
   ]
  },
  {
   "cell_type": "code",
   "execution_count": 13,
   "metadata": {},
   "outputs": [
    {
     "name": "stdout",
     "output_type": "stream",
     "text": [
      "(117, 851)\n",
      "(117,)\n",
      "(21, 851)\n",
      "(21,)\n"
     ]
    }
   ],
   "source": [
    "print(train_features.shape)\n",
    "print(train_target.shape)\n",
    "print(test_features.shape)\n",
    "print(test_target.shape)"
   ]
  },
  {
   "cell_type": "markdown",
   "metadata": {},
   "source": [
    "# 四、建立模型"
   ]
  },
  {
   "cell_type": "code",
   "execution_count": 14,
   "metadata": {},
   "outputs": [],
   "source": [
    "from sklearn.svm import SVC"
   ]
  },
  {
   "cell_type": "code",
   "execution_count": 15,
   "metadata": {},
   "outputs": [],
   "source": [
    "svc_linear = SVC(kernel = \"linear\",max_iter=-1)"
   ]
  },
  {
   "cell_type": "code",
   "execution_count": 16,
   "metadata": {},
   "outputs": [
    {
     "data": {
      "text/html": [
       "<style>#sk-container-id-1 {color: black;background-color: white;}#sk-container-id-1 pre{padding: 0;}#sk-container-id-1 div.sk-toggleable {background-color: white;}#sk-container-id-1 label.sk-toggleable__label {cursor: pointer;display: block;width: 100%;margin-bottom: 0;padding: 0.3em;box-sizing: border-box;text-align: center;}#sk-container-id-1 label.sk-toggleable__label-arrow:before {content: \"▸\";float: left;margin-right: 0.25em;color: #696969;}#sk-container-id-1 label.sk-toggleable__label-arrow:hover:before {color: black;}#sk-container-id-1 div.sk-estimator:hover label.sk-toggleable__label-arrow:before {color: black;}#sk-container-id-1 div.sk-toggleable__content {max-height: 0;max-width: 0;overflow: hidden;text-align: left;background-color: #f0f8ff;}#sk-container-id-1 div.sk-toggleable__content pre {margin: 0.2em;color: black;border-radius: 0.25em;background-color: #f0f8ff;}#sk-container-id-1 input.sk-toggleable__control:checked~div.sk-toggleable__content {max-height: 200px;max-width: 100%;overflow: auto;}#sk-container-id-1 input.sk-toggleable__control:checked~label.sk-toggleable__label-arrow:before {content: \"▾\";}#sk-container-id-1 div.sk-estimator input.sk-toggleable__control:checked~label.sk-toggleable__label {background-color: #d4ebff;}#sk-container-id-1 div.sk-label input.sk-toggleable__control:checked~label.sk-toggleable__label {background-color: #d4ebff;}#sk-container-id-1 input.sk-hidden--visually {border: 0;clip: rect(1px 1px 1px 1px);clip: rect(1px, 1px, 1px, 1px);height: 1px;margin: -1px;overflow: hidden;padding: 0;position: absolute;width: 1px;}#sk-container-id-1 div.sk-estimator {font-family: monospace;background-color: #f0f8ff;border: 1px dotted black;border-radius: 0.25em;box-sizing: border-box;margin-bottom: 0.5em;}#sk-container-id-1 div.sk-estimator:hover {background-color: #d4ebff;}#sk-container-id-1 div.sk-parallel-item::after {content: \"\";width: 100%;border-bottom: 1px solid gray;flex-grow: 1;}#sk-container-id-1 div.sk-label:hover label.sk-toggleable__label {background-color: #d4ebff;}#sk-container-id-1 div.sk-serial::before {content: \"\";position: absolute;border-left: 1px solid gray;box-sizing: border-box;top: 0;bottom: 0;left: 50%;z-index: 0;}#sk-container-id-1 div.sk-serial {display: flex;flex-direction: column;align-items: center;background-color: white;padding-right: 0.2em;padding-left: 0.2em;position: relative;}#sk-container-id-1 div.sk-item {position: relative;z-index: 1;}#sk-container-id-1 div.sk-parallel {display: flex;align-items: stretch;justify-content: center;background-color: white;position: relative;}#sk-container-id-1 div.sk-item::before, #sk-container-id-1 div.sk-parallel-item::before {content: \"\";position: absolute;border-left: 1px solid gray;box-sizing: border-box;top: 0;bottom: 0;left: 50%;z-index: -1;}#sk-container-id-1 div.sk-parallel-item {display: flex;flex-direction: column;z-index: 1;position: relative;background-color: white;}#sk-container-id-1 div.sk-parallel-item:first-child::after {align-self: flex-end;width: 50%;}#sk-container-id-1 div.sk-parallel-item:last-child::after {align-self: flex-start;width: 50%;}#sk-container-id-1 div.sk-parallel-item:only-child::after {width: 0;}#sk-container-id-1 div.sk-dashed-wrapped {border: 1px dashed gray;margin: 0 0.4em 0.5em 0.4em;box-sizing: border-box;padding-bottom: 0.4em;background-color: white;}#sk-container-id-1 div.sk-label label {font-family: monospace;font-weight: bold;display: inline-block;line-height: 1.2em;}#sk-container-id-1 div.sk-label-container {text-align: center;}#sk-container-id-1 div.sk-container {/* jupyter's `normalize.less` sets `[hidden] { display: none; }` but bootstrap.min.css set `[hidden] { display: none !important; }` so we also need the `!important` here to be able to override the default hidden behavior on the sphinx rendered scikit-learn.org. See: https://github.com/scikit-learn/scikit-learn/issues/21755 */display: inline-block !important;position: relative;}#sk-container-id-1 div.sk-text-repr-fallback {display: none;}</style><div id=\"sk-container-id-1\" class=\"sk-top-container\"><div class=\"sk-text-repr-fallback\"><pre>SVC(kernel=&#x27;linear&#x27;)</pre><b>In a Jupyter environment, please rerun this cell to show the HTML representation or trust the notebook. <br />On GitHub, the HTML representation is unable to render, please try loading this page with nbviewer.org.</b></div><div class=\"sk-container\" hidden><div class=\"sk-item\"><div class=\"sk-estimator sk-toggleable\"><input class=\"sk-toggleable__control sk-hidden--visually\" id=\"sk-estimator-id-1\" type=\"checkbox\" checked><label for=\"sk-estimator-id-1\" class=\"sk-toggleable__label sk-toggleable__label-arrow\">SVC</label><div class=\"sk-toggleable__content\"><pre>SVC(kernel=&#x27;linear&#x27;)</pre></div></div></div></div></div>"
      ],
      "text/plain": [
       "SVC(kernel='linear')"
      ]
     },
     "execution_count": 16,
     "metadata": {},
     "output_type": "execute_result"
    }
   ],
   "source": [
    "svc_linear.fit(train_features, train_target)"
   ]
  },
  {
   "cell_type": "code",
   "execution_count": 17,
   "metadata": {},
   "outputs": [
    {
     "data": {
      "text/plain": [
       "array([[ 1.94026057e-02, -4.18310267e-01, -3.23608039e-01,\n",
       "        -1.06874872e-01,  5.20691440e-02, -8.36537690e-02,\n",
       "        -3.11993387e-03, -2.55745489e-02,  3.20527364e-02,\n",
       "         1.20345571e-01, -2.38608912e-01,  7.06176489e-02,\n",
       "         2.51421823e-02,  3.25578149e-02, -2.35576279e-02,\n",
       "        -4.68710901e-02, -1.99103240e-02, -3.03894744e-02,\n",
       "         1.02153864e-01, -4.34261343e-03, -1.04606660e-01,\n",
       "         1.02272748e-02, -3.53180639e-02, -4.25033129e-02,\n",
       "        -7.16341909e-02, -3.10555627e-02,  4.49646512e-02,\n",
       "        -2.66110248e-02,  1.24693766e-01, -9.07626733e-03,\n",
       "         4.35808187e-03,  1.35850738e-02,  4.05259615e-02,\n",
       "         1.00448018e-01,  5.55330082e-02,  5.42145456e-02,\n",
       "         7.18259270e-02, -1.03796601e-01,  5.66606942e-02,\n",
       "         1.01978561e-02,  1.89320065e-02, -2.58090704e-02,\n",
       "        -2.76566552e-02, -8.69777508e-02, -7.47499881e-02,\n",
       "         1.13595844e-03, -9.80918048e-03, -9.04481798e-02,\n",
       "        -1.79660898e-03,  1.57328491e-02, -1.60754439e-02,\n",
       "        -3.43603573e-02, -3.38923251e-02, -1.79660823e-03,\n",
       "        -1.94828735e-02,  6.68174630e-02, -1.37588528e-02,\n",
       "        -4.81271411e-02,  4.47098429e-02, -4.11529026e-02,\n",
       "         6.90418510e-03,  2.53320069e-02,  4.76904382e-02,\n",
       "        -1.04194358e-02, -1.22626330e-01,  3.93670282e-03,\n",
       "         2.44057376e-02, -2.15372248e-02,  7.98717995e-02,\n",
       "         3.30903929e-02,  1.00949462e-02,  1.12031524e-02,\n",
       "         1.23063009e-02,  4.57907527e-02,  1.56732999e-02,\n",
       "         1.09032527e-02,  1.36583351e-02,  2.80608317e-02,\n",
       "        -5.85360154e-02, -9.05093563e-03,  3.38496963e-02,\n",
       "        -3.92239293e-04,  2.32902976e-02,  1.54016739e-02,\n",
       "         5.93967405e-02,  2.67855680e-02, -2.21837379e-02,\n",
       "         2.60817735e-02, -3.33804092e-02,  2.68850831e-02,\n",
       "        -4.15841919e-03, -1.32886614e-01,  3.01147434e-03,\n",
       "         4.31383921e-02, -2.89580021e-02,  8.18173222e-02,\n",
       "         5.36304071e-02,  1.64263511e-02,  5.37782249e-02,\n",
       "        -1.53940516e-01, -2.04493893e-02, -4.27112149e-03,\n",
       "         3.31812976e-02,  1.90831708e-02, -8.08411282e-04,\n",
       "         4.68724451e-02,  3.24311141e-02, -3.99408208e-02,\n",
       "         4.31839743e-02, -1.04686763e-04, -1.04628317e-01,\n",
       "        -8.19731495e-02,  6.81313569e-03,  7.38614835e-03,\n",
       "        -5.86209124e-02, -1.73234083e-02,  6.06055442e-02,\n",
       "         4.71088132e-02, -2.35236994e-02, -7.50127236e-02,\n",
       "         1.17753898e-01, -7.21716189e-02, -3.55274730e-02,\n",
       "         1.97822833e-02,  2.90079577e-02, -2.21120920e-01,\n",
       "         1.29338625e-01, -1.42240540e-01,  7.72771037e-02,\n",
       "        -4.36279512e-02, -2.15218646e-01,  7.46669402e-03,\n",
       "         2.77702343e-02,  5.90832037e-03, -5.36798623e-02,\n",
       "        -3.37773135e-02, -9.17856983e-02, -1.74324288e-01,\n",
       "        -3.13355388e-02,  4.36897194e-02, -9.66337046e-02,\n",
       "        -1.73783366e-01,  1.67912584e-02,  4.13938265e-02,\n",
       "         4.55818113e-02,  5.53125682e-02, -1.73783366e-01,\n",
       "         3.02060850e-02, -3.79611336e-03, -3.57694866e-02,\n",
       "        -1.32050427e-02, -3.61282477e-02,  6.93039045e-02,\n",
       "        -1.51209865e-02,  2.93983890e-02, -7.52487431e-02,\n",
       "         1.11682862e-01, -1.04300725e-01, -8.86874086e-02,\n",
       "        -1.50132701e-01, -6.41281644e-02, -9.39229502e-03,\n",
       "        -4.52385365e-02, -1.60939213e-02,  1.05965425e-02,\n",
       "         2.80030793e-02, -7.03761817e-02,  1.27432033e-01,\n",
       "        -1.36957627e-01, -3.42346393e-02, -1.61217813e-01,\n",
       "        -1.09513833e-01,  3.26279926e-03, -5.52135940e-02,\n",
       "        -7.39136903e-02,  1.38448468e-01, -8.15877760e-02,\n",
       "        -5.40161345e-02, -1.85704540e-01, -7.21701901e-02,\n",
       "        -6.89486180e-02,  6.21740381e-02, -3.64213349e-02,\n",
       "        -1.02659157e-02,  6.38418962e-02, -4.23250789e-03,\n",
       "        -2.85405556e-01, -2.71914094e-02, -5.64518838e-02,\n",
       "        -5.35646936e-02, -3.14293287e-02, -2.19583036e-01,\n",
       "         6.44176745e-02, -6.70337717e-02, -1.08145910e-02,\n",
       "         3.66127255e-03,  5.42201705e-02, -1.24712921e-01,\n",
       "         6.17807637e-02,  1.92154030e-01, -4.53833893e-02,\n",
       "        -3.56152418e-02, -9.80833900e-04, -3.09138303e-02,\n",
       "        -1.02909538e-01, -6.35310547e-02,  1.35707961e-01,\n",
       "        -5.98457197e-02, -4.39878641e-02,  1.45216795e-02,\n",
       "         9.73971349e-02,  1.89608488e-02, -7.74379656e-02,\n",
       "        -4.94935105e-02, -1.86990120e-01,  1.16601477e-02,\n",
       "         1.79633552e-02, -4.01951044e-02, -1.56361423e-02,\n",
       "         3.28777287e-02, -2.32990632e-02,  5.10878061e-02,\n",
       "        -5.10376394e-02, -1.28171784e-02, -3.01322830e-02,\n",
       "        -1.04391039e-02, -2.80304979e-02, -3.67192560e-02,\n",
       "        -4.04378778e-02,  8.21086813e-02,  4.63294992e-02,\n",
       "         3.94943546e-02, -8.89412076e-02,  4.45930652e-02,\n",
       "        -7.37373973e-02,  3.78374545e-03,  6.60660709e-03,\n",
       "         5.08947302e-03, -1.00579440e-02, -7.37373973e-02,\n",
       "        -5.34200361e-04, -6.84545700e-03, -2.54962056e-02,\n",
       "        -2.69517693e-02,  2.08224653e-02,  1.23366871e-02,\n",
       "         1.68412158e-02, -3.79483105e-02, -1.00067202e-02,\n",
       "         2.30980262e-02, -1.59211765e-01,  3.14113347e-02,\n",
       "         9.77215064e-02, -9.86883771e-03,  2.95533098e-02,\n",
       "         6.67707418e-02,  1.53356084e-02,  1.30533716e-02,\n",
       "        -4.20586467e-02, -9.29455433e-03,  2.42675704e-02,\n",
       "        -5.28957296e-02,  5.95847607e-02,  1.03279454e-01,\n",
       "        -2.14095555e-02, -1.55967091e-02, -3.56031940e-02,\n",
       "        -3.73454831e-02,  1.04144822e-02, -4.32609061e-02,\n",
       "         2.58150810e-06,  1.08254816e-01,  2.26089160e-02,\n",
       "         3.34985343e-02, -7.89475864e-02, -3.57747935e-03,\n",
       "         1.13270611e-02,  3.58195713e-02,  2.18548220e-03,\n",
       "         1.02948998e-01, -1.49840302e-02, -8.49159348e-02,\n",
       "        -8.17182257e-02, -4.85158829e-03,  8.63890250e-02,\n",
       "        -3.55084464e-02,  4.05836402e-02,  1.24723248e-02,\n",
       "         9.10587227e-02,  3.40863520e-02,  7.41436952e-02,\n",
       "        -1.00670253e-04,  1.71395167e-02, -8.16788193e-02,\n",
       "         1.12750801e-01,  1.38007499e-02,  2.56461333e-02,\n",
       "         4.15581769e-02, -1.02209351e-02, -1.14004826e-01,\n",
       "         5.24486269e-02,  6.01491936e-02, -2.65719533e-01,\n",
       "        -7.02208047e-02, -2.82316709e-02,  6.16942427e-02,\n",
       "         5.48435120e-02, -1.86484827e-02,  4.46233822e-02,\n",
       "        -1.76717918e-02,  6.11758923e-02, -1.51038351e-02,\n",
       "         5.09315924e-03,  1.70904301e-02, -1.13680656e-02,\n",
       "        -2.59597972e-02,  9.67968121e-02, -2.82137315e-02,\n",
       "        -5.03696743e-02, -7.15625033e-02,  3.17023377e-02,\n",
       "         2.92298742e-02,  3.96098445e-02,  3.72307309e-02,\n",
       "         7.89607727e-02, -1.02894739e-01, -1.21943462e-03,\n",
       "         1.94098407e-02,  4.56718036e-02, -1.92944330e-02,\n",
       "        -1.67509586e-01,  9.48063255e-02,  1.94098413e-02,\n",
       "        -1.09013387e-02, -1.97714785e-02,  1.02111327e-01,\n",
       "        -2.01604673e-02, -1.14530832e-02,  1.45048108e-01,\n",
       "        -7.54805733e-03,  5.68757365e-02, -2.49392481e-02,\n",
       "         4.18958510e-02, -7.63808271e-02, -3.75534440e-03,\n",
       "        -6.63134823e-02,  8.00059050e-02,  3.90661446e-02,\n",
       "        -2.73578930e-02, -6.21793875e-03, -3.16682479e-02,\n",
       "         5.21060739e-02, -2.40978217e-02,  6.20690867e-02,\n",
       "        -5.41818502e-02, -2.24991273e-02, -6.46588706e-02,\n",
       "         3.60061021e-02, -8.30948852e-03,  1.45361513e-02,\n",
       "        -3.26205358e-02,  9.41380130e-02, -7.09026126e-03,\n",
       "        -1.08023114e-02, -7.42229127e-02, -8.24456894e-03,\n",
       "        -4.63950355e-02,  1.44978494e-02, -3.24715222e-02,\n",
       "         8.05517425e-03, -2.96018186e-02,  1.49179286e-03,\n",
       "        -4.97459701e-02,  3.16019271e-02,  2.75484489e-01,\n",
       "         2.33487539e-01, -4.96780081e-04, -1.85559648e-02,\n",
       "        -5.33661458e-02,  3.94670251e-02,  8.54873201e-03,\n",
       "         3.62987888e-03,  4.08852825e-02,  6.42476290e-02,\n",
       "         2.48192404e-02, -2.29219523e-02,  1.09153719e-02,\n",
       "         1.29300979e-01, -4.62441391e-02,  3.78676527e-02,\n",
       "         2.64479692e-02,  5.10493163e-02, -9.97266063e-02,\n",
       "         1.47660337e-02,  3.84808580e-02,  7.41418246e-02,\n",
       "        -1.51880585e-02, -4.73398100e-02,  1.74309695e-02,\n",
       "         1.89242586e-02,  7.66825393e-02, -6.71600750e-02,\n",
       "        -3.26807049e-02,  1.35945347e-02,  3.03915088e-03,\n",
       "         5.16742389e-02,  6.50312171e-02,  5.13076189e-02,\n",
       "        -8.27805027e-02,  1.46022755e-01, -5.56399321e-02,\n",
       "         6.18689810e-03, -8.58346861e-02,  4.81122111e-02,\n",
       "         3.25642786e-02,  5.71219584e-02,  1.00632531e-01,\n",
       "         2.92649489e-02, -1.38647817e-01, -1.21226679e-01,\n",
       "        -5.11221735e-03,  3.19343887e-02,  2.42660266e-02,\n",
       "        -3.58495131e-01,  5.95074050e-02, -5.11221693e-03,\n",
       "         5.22570410e-02, -1.59035438e-02,  2.90010566e-02,\n",
       "        -5.54573907e-02,  3.81052179e-03,  4.88274424e-02,\n",
       "         1.69802809e-02,  2.83251601e-02,  3.17765135e-02,\n",
       "        -1.44470437e-02, -1.76667217e-02, -9.76787921e-03,\n",
       "        -5.40397294e-02, -7.64570954e-03,  2.76745505e-02,\n",
       "        -1.55218713e-03,  3.11832886e-02, -3.48701699e-02,\n",
       "         2.06661802e-02,  3.24728243e-02, -3.07847965e-02,\n",
       "         3.94649501e-03, -2.75723995e-02, -5.52724409e-02,\n",
       "         1.88988705e-02, -3.30335922e-03,  6.77205244e-02,\n",
       "         5.06290729e-02, -3.73502570e-02,  6.01796730e-02,\n",
       "         3.98182200e-02, -6.20064891e-02, -3.91637243e-02,\n",
       "        -1.23839846e-01,  7.75386056e-04,  3.69575648e-02,\n",
       "        -3.76714469e-03,  2.38719667e-02, -2.84799234e-04,\n",
       "        -4.97017123e-02, -1.39251450e-01,  8.98460765e-03,\n",
       "         1.99166387e-03,  2.11240131e-02, -2.85680817e-03,\n",
       "         9.12939364e-02,  1.93325351e-03, -4.12287714e-03,\n",
       "         1.03677030e-03,  2.81730101e-02,  5.36782246e-02,\n",
       "         3.25682066e-02,  2.77317115e-02, -3.00909653e-02,\n",
       "        -9.48395443e-02, -4.72972306e-02, -8.58204387e-02,\n",
       "         7.39424304e-02, -2.36831662e-01, -8.40729779e-02,\n",
       "        -1.44159513e-02, -1.21033107e-01, -5.43854193e-02,\n",
       "         4.43952778e-02, -6.72327976e-02,  2.57103266e-02,\n",
       "        -3.88950134e-02, -4.22279235e-02, -5.52885395e-02,\n",
       "         8.99081178e-02, -4.98442736e-03,  5.04021092e-02,\n",
       "         1.12101000e-01,  3.81854762e-02,  9.82916878e-02,\n",
       "         1.05635442e-01, -8.27235782e-03,  7.20195802e-02,\n",
       "         3.12599213e-02,  8.35066208e-02,  2.45913045e-03,\n",
       "        -3.92988043e-03, -1.76225222e-02, -2.36719819e-02,\n",
       "        -3.45847674e-02,  2.24280112e-02, -1.67917338e-01,\n",
       "         5.75638650e-02,  7.18885684e-02, -1.59387151e-03,\n",
       "         1.73921534e-01,  7.83615857e-02,  5.75638654e-02,\n",
       "        -1.19133303e-02,  1.03284915e-01,  4.74759303e-02,\n",
       "        -4.27997239e-02, -1.29517455e-02,  5.42076529e-02,\n",
       "         1.67830580e-02, -2.77341603e-03,  3.73350203e-02,\n",
       "         2.01803718e-02, -1.10758465e-02,  2.21575954e-02,\n",
       "         1.25134673e-02,  3.54443382e-02,  6.72102290e-02,\n",
       "         2.01342043e-02,  3.29280484e-02,  9.46468302e-02,\n",
       "        -1.16287686e-02,  3.70658329e-02,  6.28558829e-02,\n",
       "         7.25788817e-03,  2.77014713e-02,  1.40353772e-02,\n",
       "        -1.21471277e-01,  2.03709889e-03,  2.86405582e-02,\n",
       "        -7.51930183e-03,  7.91138580e-02, -5.23712897e-03,\n",
       "         4.84500738e-02,  6.72747574e-03, -3.33037442e-02,\n",
       "         1.17150629e-01, -1.66970012e-01,  2.60463907e-02,\n",
       "        -3.90325042e-03, -2.76281404e-02, -6.08431615e-05,\n",
       "         2.48727033e-02, -6.46119883e-02,  1.52049589e-01,\n",
       "         1.80006848e-01,  2.91385607e-02,  7.61119771e-02,\n",
       "        -8.68954180e-02,  3.01614067e-02, -4.54096171e-03,\n",
       "         1.80212803e-03,  3.02567858e-02,  5.53990840e-02,\n",
       "        -1.22358913e-03,  2.00403065e-02, -4.90507589e-02,\n",
       "         8.09236939e-02, -1.84819009e-02,  2.90251929e-02,\n",
       "        -1.34046000e-02,  8.74144997e-02, -1.52006563e-02,\n",
       "         3.51191033e-02,  1.03372997e-01,  9.14879718e-02,\n",
       "        -3.31682443e-02,  9.20088936e-03,  1.48325572e-02,\n",
       "         4.22084544e-02,  9.51960400e-04,  2.03716671e-03,\n",
       "        -5.36358211e-03,  7.03682833e-02, -3.13887490e-02,\n",
       "         1.24462631e-01,  7.00676325e-02,  8.84094959e-02,\n",
       "         7.27631660e-02, -1.32559849e-02,  4.96779245e-02,\n",
       "         3.95552474e-02,  3.79880827e-02, -1.53222271e-02,\n",
       "        -1.17810373e-02, -6.93442807e-03, -3.27639089e-02,\n",
       "         2.92873463e-02, -7.94326030e-02, -3.01829421e-02,\n",
       "        -9.57211846e-03,  1.51806883e-02,  3.94560280e-02,\n",
       "        -1.13837616e-02, -1.34367531e-02, -9.57211910e-03,\n",
       "         3.54952295e-02,  8.03492258e-02,  5.24077334e-02,\n",
       "        -5.54640797e-02, -5.19832392e-02, -1.35585244e-01,\n",
       "        -1.70865301e-02,  7.28798930e-02, -2.19850852e-02,\n",
       "        -1.14869026e-01, -1.63181836e-01, -8.41507472e-03,\n",
       "        -4.38802522e-02,  2.24748743e-02, -1.74933223e-02,\n",
       "        -3.44303703e-02, -2.95613748e-03, -9.96976798e-03,\n",
       "         6.25233114e-02, -2.38758158e-02,  1.46214090e-02,\n",
       "        -5.94886280e-02, -1.31685074e-02, -4.55112908e-02,\n",
       "         1.45313277e-02,  6.01643883e-03,  7.89508516e-02,\n",
       "         3.75225610e-02,  3.75059262e-02,  5.57267563e-02,\n",
       "        -1.37890730e-02, -5.56098077e-02, -4.61665297e-02,\n",
       "        -9.30862268e-02,  1.79833203e-02, -4.26689794e-02,\n",
       "        -3.48024976e-03, -3.72614441e-02, -9.25439269e-05,\n",
       "        -5.06044636e-02, -7.01826413e-02,  2.69601997e-01,\n",
       "         2.07663263e-01, -4.80098205e-02, -2.87039585e-03,\n",
       "         6.27570396e-02, -2.27291290e-02, -4.33728632e-03,\n",
       "         3.59741231e-03,  3.37844013e-02,  3.78128258e-02,\n",
       "         5.86298865e-02,  6.20326898e-02,  1.15627287e-02,\n",
       "        -1.86629855e-02, -7.97422206e-03, -1.00907554e-01,\n",
       "        -1.51409197e-02, -1.22674501e-01, -4.65119667e-02,\n",
       "        -5.79286521e-02, -3.40835630e-02,  6.26637661e-02,\n",
       "         1.27418744e-01, -8.89156955e-02, -6.41772210e-02,\n",
       "        -5.29029645e-02,  1.18933544e-01,  1.55849678e-02,\n",
       "         1.38968180e-01,  7.96182361e-03,  2.46594165e-02,\n",
       "         1.33359542e-01, -2.66894400e-01,  1.18314476e-02,\n",
       "         2.36281473e-03, -6.09532013e-02, -6.15942478e-02,\n",
       "        -4.04912467e-02,  3.31166909e-02,  1.22390111e-01,\n",
       "         1.24203955e-01,  1.27583592e-01,  2.10505453e-01,\n",
       "         7.41259178e-02, -2.43622068e-01,  2.54300071e-02,\n",
       "        -2.56130033e-02,  9.02860327e-02, -5.96007667e-02,\n",
       "        -2.70733606e-01,  1.09226663e-01, -2.56130029e-02,\n",
       "        -5.16922471e-02,  6.99263033e-03,  3.82782078e-02,\n",
       "        -4.67947593e-02, -9.28040491e-02,  6.44658878e-02,\n",
       "        -1.87135052e-02,  1.18879097e-02,  2.41679574e-02,\n",
       "         1.56542644e-02, -2.61523309e-02,  2.40218159e-02,\n",
       "         4.45704843e-02, -1.05773006e-01,  4.71011087e-03,\n",
       "        -2.57917996e-02,  5.72767157e-04,  1.26985854e-01,\n",
       "         5.36523221e-04,  2.50785122e-02,  5.78839487e-02,\n",
       "        -2.17887290e-02,  4.75125774e-02,  4.12436947e-02,\n",
       "        -8.50572169e-02,  1.32239673e-02, -5.35481284e-02,\n",
       "        -4.89778259e-02,  2.18581331e-02, -7.51541342e-02,\n",
       "         3.29274283e-02,  3.64093046e-02, -1.52033729e-03,\n",
       "         4.00592876e-02, -7.85452439e-02,  3.52234433e-02,\n",
       "        -4.76836879e-03, -7.12807394e-02, -3.89036435e-05,\n",
       "         1.84503906e-02, -2.47078193e-03,  3.67867592e-02,\n",
       "         3.98781220e-03,  2.66909833e-02, -3.10007597e-03,\n",
       "        -2.82897179e-02, -1.23291817e-01, -6.16304526e-03,\n",
       "         1.89467874e-03,  2.06163250e-02,  1.33089971e-01,\n",
       "        -1.56790965e-01,  5.00563572e-02, -4.10874728e-02,\n",
       "        -1.87805090e-02, -1.46707994e-01, -1.75650055e-02,\n",
       "         7.34584455e-02,  1.09847179e-01, -4.78321131e-02,\n",
       "         3.23846288e-02, -1.09097222e-02,  8.03811620e-03,\n",
       "        -1.11603463e-02, -4.51273359e-02,  1.23120916e-01,\n",
       "        -4.37071087e-02,  7.11585635e-02, -1.46162010e-01,\n",
       "        -5.92107799e-02, -1.37100556e-02, -1.78401631e-02,\n",
       "        -2.64935891e-02,  6.59634413e-02,  7.46873899e-02,\n",
       "         3.02522861e-02, -3.05551230e-01,  3.19601749e-02,\n",
       "         8.23663546e-02,  8.08729664e-02,  1.69607612e-02,\n",
       "         2.55022600e-02, -1.41572809e-01, -7.76757181e-02,\n",
       "        -1.86776725e-02,  1.71947370e-03,  4.86959934e-02,\n",
       "         5.73464472e-02,  2.07817368e-02, -2.35659771e-02,\n",
       "        -7.06719046e-02, -8.77940189e-02,  5.73464478e-02,\n",
       "        -3.42262379e-02,  5.74132857e-02,  5.24840789e-02,\n",
       "        -2.77673993e-02, -6.57192471e-02, -4.50969650e-02,\n",
       "         1.57845286e-02, -1.52311171e-02, -2.93992766e-02,\n",
       "         4.39897658e-02,  1.39501755e-01, -1.01220611e-01,\n",
       "        -7.58348840e-02,  7.98857889e-03, -3.33429851e-02,\n",
       "         1.20639425e-02,  1.23559713e-02, -6.08729164e-02,\n",
       "        -1.61109118e-02, -3.24232045e-02,  5.76775641e-02,\n",
       "        -2.10239674e-02, -7.35948442e-02, -7.32221825e-02,\n",
       "        -1.80711872e-02, -8.26070010e-03, -1.70131271e-02,\n",
       "        -2.61915538e-02,  5.49166741e-02, -3.17157972e-02,\n",
       "        -3.34476101e-02, -7.12460224e-02, -3.73495169e-02,\n",
       "         6.57633793e-02, -9.03314633e-02, -6.51410246e-02,\n",
       "         8.57556075e-02,  2.72355935e-01,  9.82687839e-03,\n",
       "        -9.88551687e-02,  6.03748373e-02,  7.75224325e-02,\n",
       "         1.31449647e-01, -6.62702282e-02, -3.25989006e-02,\n",
       "        -6.98173476e-02, -9.84420409e-03,  8.55353864e-02,\n",
       "         2.59898975e-02,  2.29463307e-02, -2.05186855e-01,\n",
       "         4.59688070e-02,  3.91886032e-02]])"
      ]
     },
     "execution_count": 17,
     "metadata": {},
     "output_type": "execute_result"
    }
   ],
   "source": [
    "svc_linear.coef_"
   ]
  },
  {
   "cell_type": "code",
   "execution_count": 18,
   "metadata": {},
   "outputs": [
    {
     "data": {
      "text/plain": [
       "array([0.43252839])"
      ]
     },
     "execution_count": 18,
     "metadata": {},
     "output_type": "execute_result"
    }
   ],
   "source": [
    "svc_linear.intercept_"
   ]
  },
  {
   "cell_type": "code",
   "execution_count": 19,
   "metadata": {},
   "outputs": [
    {
     "data": {
      "text/plain": [
       "array([0, 1, 0, 1, 0, 0, 1, 1, 1, 0, 1, 1, 1, 1, 1, 0, 1, 0, 0, 0, 1])"
      ]
     },
     "execution_count": 19,
     "metadata": {},
     "output_type": "execute_result"
    }
   ],
   "source": [
    "test_predict = svc_linear.predict(test_features)\n",
    "test_predict"
   ]
  },
  {
   "cell_type": "code",
   "execution_count": 20,
   "metadata": {},
   "outputs": [
    {
     "data": {
      "text/plain": [
       "0.5238095238095238"
      ]
     },
     "execution_count": 20,
     "metadata": {},
     "output_type": "execute_result"
    }
   ],
   "source": [
    "svc_linear.score(test_features,test_target)"
   ]
  },
  {
   "cell_type": "code",
   "execution_count": 21,
   "metadata": {},
   "outputs": [],
   "source": [
    "svc_poly = SVC(kernel=\"poly\",degree=3,coef0=0.2)"
   ]
  },
  {
   "cell_type": "code",
   "execution_count": 22,
   "metadata": {
    "scrolled": true
   },
   "outputs": [
    {
     "data": {
      "text/html": [
       "<style>#sk-container-id-2 {color: black;background-color: white;}#sk-container-id-2 pre{padding: 0;}#sk-container-id-2 div.sk-toggleable {background-color: white;}#sk-container-id-2 label.sk-toggleable__label {cursor: pointer;display: block;width: 100%;margin-bottom: 0;padding: 0.3em;box-sizing: border-box;text-align: center;}#sk-container-id-2 label.sk-toggleable__label-arrow:before {content: \"▸\";float: left;margin-right: 0.25em;color: #696969;}#sk-container-id-2 label.sk-toggleable__label-arrow:hover:before {color: black;}#sk-container-id-2 div.sk-estimator:hover label.sk-toggleable__label-arrow:before {color: black;}#sk-container-id-2 div.sk-toggleable__content {max-height: 0;max-width: 0;overflow: hidden;text-align: left;background-color: #f0f8ff;}#sk-container-id-2 div.sk-toggleable__content pre {margin: 0.2em;color: black;border-radius: 0.25em;background-color: #f0f8ff;}#sk-container-id-2 input.sk-toggleable__control:checked~div.sk-toggleable__content {max-height: 200px;max-width: 100%;overflow: auto;}#sk-container-id-2 input.sk-toggleable__control:checked~label.sk-toggleable__label-arrow:before {content: \"▾\";}#sk-container-id-2 div.sk-estimator input.sk-toggleable__control:checked~label.sk-toggleable__label {background-color: #d4ebff;}#sk-container-id-2 div.sk-label input.sk-toggleable__control:checked~label.sk-toggleable__label {background-color: #d4ebff;}#sk-container-id-2 input.sk-hidden--visually {border: 0;clip: rect(1px 1px 1px 1px);clip: rect(1px, 1px, 1px, 1px);height: 1px;margin: -1px;overflow: hidden;padding: 0;position: absolute;width: 1px;}#sk-container-id-2 div.sk-estimator {font-family: monospace;background-color: #f0f8ff;border: 1px dotted black;border-radius: 0.25em;box-sizing: border-box;margin-bottom: 0.5em;}#sk-container-id-2 div.sk-estimator:hover {background-color: #d4ebff;}#sk-container-id-2 div.sk-parallel-item::after {content: \"\";width: 100%;border-bottom: 1px solid gray;flex-grow: 1;}#sk-container-id-2 div.sk-label:hover label.sk-toggleable__label {background-color: #d4ebff;}#sk-container-id-2 div.sk-serial::before {content: \"\";position: absolute;border-left: 1px solid gray;box-sizing: border-box;top: 0;bottom: 0;left: 50%;z-index: 0;}#sk-container-id-2 div.sk-serial {display: flex;flex-direction: column;align-items: center;background-color: white;padding-right: 0.2em;padding-left: 0.2em;position: relative;}#sk-container-id-2 div.sk-item {position: relative;z-index: 1;}#sk-container-id-2 div.sk-parallel {display: flex;align-items: stretch;justify-content: center;background-color: white;position: relative;}#sk-container-id-2 div.sk-item::before, #sk-container-id-2 div.sk-parallel-item::before {content: \"\";position: absolute;border-left: 1px solid gray;box-sizing: border-box;top: 0;bottom: 0;left: 50%;z-index: -1;}#sk-container-id-2 div.sk-parallel-item {display: flex;flex-direction: column;z-index: 1;position: relative;background-color: white;}#sk-container-id-2 div.sk-parallel-item:first-child::after {align-self: flex-end;width: 50%;}#sk-container-id-2 div.sk-parallel-item:last-child::after {align-self: flex-start;width: 50%;}#sk-container-id-2 div.sk-parallel-item:only-child::after {width: 0;}#sk-container-id-2 div.sk-dashed-wrapped {border: 1px dashed gray;margin: 0 0.4em 0.5em 0.4em;box-sizing: border-box;padding-bottom: 0.4em;background-color: white;}#sk-container-id-2 div.sk-label label {font-family: monospace;font-weight: bold;display: inline-block;line-height: 1.2em;}#sk-container-id-2 div.sk-label-container {text-align: center;}#sk-container-id-2 div.sk-container {/* jupyter's `normalize.less` sets `[hidden] { display: none; }` but bootstrap.min.css set `[hidden] { display: none !important; }` so we also need the `!important` here to be able to override the default hidden behavior on the sphinx rendered scikit-learn.org. See: https://github.com/scikit-learn/scikit-learn/issues/21755 */display: inline-block !important;position: relative;}#sk-container-id-2 div.sk-text-repr-fallback {display: none;}</style><div id=\"sk-container-id-2\" class=\"sk-top-container\"><div class=\"sk-text-repr-fallback\"><pre>SVC(coef0=0.2, kernel=&#x27;poly&#x27;)</pre><b>In a Jupyter environment, please rerun this cell to show the HTML representation or trust the notebook. <br />On GitHub, the HTML representation is unable to render, please try loading this page with nbviewer.org.</b></div><div class=\"sk-container\" hidden><div class=\"sk-item\"><div class=\"sk-estimator sk-toggleable\"><input class=\"sk-toggleable__control sk-hidden--visually\" id=\"sk-estimator-id-2\" type=\"checkbox\" checked><label for=\"sk-estimator-id-2\" class=\"sk-toggleable__label sk-toggleable__label-arrow\">SVC</label><div class=\"sk-toggleable__content\"><pre>SVC(coef0=0.2, kernel=&#x27;poly&#x27;)</pre></div></div></div></div></div>"
      ],
      "text/plain": [
       "SVC(coef0=0.2, kernel='poly')"
      ]
     },
     "execution_count": 22,
     "metadata": {},
     "output_type": "execute_result"
    }
   ],
   "source": [
    "svc_poly.fit(train_features, train_target)"
   ]
  },
  {
   "cell_type": "code",
   "execution_count": 23,
   "metadata": {
    "scrolled": true
   },
   "outputs": [],
   "source": [
    "#svc_poly.coef_"
   ]
  },
  {
   "cell_type": "code",
   "execution_count": 24,
   "metadata": {},
   "outputs": [
    {
     "data": {
      "text/plain": [
       "array([0.54982301])"
      ]
     },
     "execution_count": 24,
     "metadata": {},
     "output_type": "execute_result"
    }
   ],
   "source": [
    "svc_poly.intercept_"
   ]
  },
  {
   "cell_type": "code",
   "execution_count": 25,
   "metadata": {},
   "outputs": [
    {
     "data": {
      "text/plain": [
       "array([1, 1, 1, 0, 1, 1, 1, 1, 1, 0, 0, 1, 1, 1, 1, 1, 1, 0, 0, 1, 1])"
      ]
     },
     "execution_count": 25,
     "metadata": {},
     "output_type": "execute_result"
    }
   ],
   "source": [
    "test_predict = svc_poly.predict(test_features)\n",
    "test_predict"
   ]
  },
  {
   "cell_type": "code",
   "execution_count": 26,
   "metadata": {},
   "outputs": [
    {
     "data": {
      "text/plain": [
       "0.7142857142857143"
      ]
     },
     "execution_count": 26,
     "metadata": {},
     "output_type": "execute_result"
    }
   ],
   "source": [
    "svc_poly.score(test_features,test_target)"
   ]
  },
  {
   "cell_type": "code",
   "execution_count": 27,
   "metadata": {},
   "outputs": [],
   "source": [
    "svc_rbf = SVC(kernel=\"rbf\")"
   ]
  },
  {
   "cell_type": "code",
   "execution_count": 28,
   "metadata": {},
   "outputs": [
    {
     "data": {
      "text/html": [
       "<style>#sk-container-id-3 {color: black;background-color: white;}#sk-container-id-3 pre{padding: 0;}#sk-container-id-3 div.sk-toggleable {background-color: white;}#sk-container-id-3 label.sk-toggleable__label {cursor: pointer;display: block;width: 100%;margin-bottom: 0;padding: 0.3em;box-sizing: border-box;text-align: center;}#sk-container-id-3 label.sk-toggleable__label-arrow:before {content: \"▸\";float: left;margin-right: 0.25em;color: #696969;}#sk-container-id-3 label.sk-toggleable__label-arrow:hover:before {color: black;}#sk-container-id-3 div.sk-estimator:hover label.sk-toggleable__label-arrow:before {color: black;}#sk-container-id-3 div.sk-toggleable__content {max-height: 0;max-width: 0;overflow: hidden;text-align: left;background-color: #f0f8ff;}#sk-container-id-3 div.sk-toggleable__content pre {margin: 0.2em;color: black;border-radius: 0.25em;background-color: #f0f8ff;}#sk-container-id-3 input.sk-toggleable__control:checked~div.sk-toggleable__content {max-height: 200px;max-width: 100%;overflow: auto;}#sk-container-id-3 input.sk-toggleable__control:checked~label.sk-toggleable__label-arrow:before {content: \"▾\";}#sk-container-id-3 div.sk-estimator input.sk-toggleable__control:checked~label.sk-toggleable__label {background-color: #d4ebff;}#sk-container-id-3 div.sk-label input.sk-toggleable__control:checked~label.sk-toggleable__label {background-color: #d4ebff;}#sk-container-id-3 input.sk-hidden--visually {border: 0;clip: rect(1px 1px 1px 1px);clip: rect(1px, 1px, 1px, 1px);height: 1px;margin: -1px;overflow: hidden;padding: 0;position: absolute;width: 1px;}#sk-container-id-3 div.sk-estimator {font-family: monospace;background-color: #f0f8ff;border: 1px dotted black;border-radius: 0.25em;box-sizing: border-box;margin-bottom: 0.5em;}#sk-container-id-3 div.sk-estimator:hover {background-color: #d4ebff;}#sk-container-id-3 div.sk-parallel-item::after {content: \"\";width: 100%;border-bottom: 1px solid gray;flex-grow: 1;}#sk-container-id-3 div.sk-label:hover label.sk-toggleable__label {background-color: #d4ebff;}#sk-container-id-3 div.sk-serial::before {content: \"\";position: absolute;border-left: 1px solid gray;box-sizing: border-box;top: 0;bottom: 0;left: 50%;z-index: 0;}#sk-container-id-3 div.sk-serial {display: flex;flex-direction: column;align-items: center;background-color: white;padding-right: 0.2em;padding-left: 0.2em;position: relative;}#sk-container-id-3 div.sk-item {position: relative;z-index: 1;}#sk-container-id-3 div.sk-parallel {display: flex;align-items: stretch;justify-content: center;background-color: white;position: relative;}#sk-container-id-3 div.sk-item::before, #sk-container-id-3 div.sk-parallel-item::before {content: \"\";position: absolute;border-left: 1px solid gray;box-sizing: border-box;top: 0;bottom: 0;left: 50%;z-index: -1;}#sk-container-id-3 div.sk-parallel-item {display: flex;flex-direction: column;z-index: 1;position: relative;background-color: white;}#sk-container-id-3 div.sk-parallel-item:first-child::after {align-self: flex-end;width: 50%;}#sk-container-id-3 div.sk-parallel-item:last-child::after {align-self: flex-start;width: 50%;}#sk-container-id-3 div.sk-parallel-item:only-child::after {width: 0;}#sk-container-id-3 div.sk-dashed-wrapped {border: 1px dashed gray;margin: 0 0.4em 0.5em 0.4em;box-sizing: border-box;padding-bottom: 0.4em;background-color: white;}#sk-container-id-3 div.sk-label label {font-family: monospace;font-weight: bold;display: inline-block;line-height: 1.2em;}#sk-container-id-3 div.sk-label-container {text-align: center;}#sk-container-id-3 div.sk-container {/* jupyter's `normalize.less` sets `[hidden] { display: none; }` but bootstrap.min.css set `[hidden] { display: none !important; }` so we also need the `!important` here to be able to override the default hidden behavior on the sphinx rendered scikit-learn.org. See: https://github.com/scikit-learn/scikit-learn/issues/21755 */display: inline-block !important;position: relative;}#sk-container-id-3 div.sk-text-repr-fallback {display: none;}</style><div id=\"sk-container-id-3\" class=\"sk-top-container\"><div class=\"sk-text-repr-fallback\"><pre>SVC()</pre><b>In a Jupyter environment, please rerun this cell to show the HTML representation or trust the notebook. <br />On GitHub, the HTML representation is unable to render, please try loading this page with nbviewer.org.</b></div><div class=\"sk-container\" hidden><div class=\"sk-item\"><div class=\"sk-estimator sk-toggleable\"><input class=\"sk-toggleable__control sk-hidden--visually\" id=\"sk-estimator-id-3\" type=\"checkbox\" checked><label for=\"sk-estimator-id-3\" class=\"sk-toggleable__label sk-toggleable__label-arrow\">SVC</label><div class=\"sk-toggleable__content\"><pre>SVC()</pre></div></div></div></div></div>"
      ],
      "text/plain": [
       "SVC()"
      ]
     },
     "execution_count": 28,
     "metadata": {},
     "output_type": "execute_result"
    }
   ],
   "source": [
    "svc_rbf.fit(train_features, train_target)"
   ]
  },
  {
   "cell_type": "code",
   "execution_count": 29,
   "metadata": {},
   "outputs": [],
   "source": [
    "#svc_rbf.coef_"
   ]
  },
  {
   "cell_type": "code",
   "execution_count": 30,
   "metadata": {},
   "outputs": [
    {
     "data": {
      "text/plain": [
       "array([0.73461722])"
      ]
     },
     "execution_count": 30,
     "metadata": {},
     "output_type": "execute_result"
    }
   ],
   "source": [
    "svc_rbf.intercept_"
   ]
  },
  {
   "cell_type": "code",
   "execution_count": 31,
   "metadata": {},
   "outputs": [
    {
     "data": {
      "text/plain": [
       "array([1, 1, 1, 1, 1, 1, 0, 1, 1, 1, 0, 1, 1, 1, 0, 0, 1, 0, 0, 0, 1])"
      ]
     },
     "execution_count": 31,
     "metadata": {},
     "output_type": "execute_result"
    }
   ],
   "source": [
    "test_predict = svc_rbf.predict(test_features)\n",
    "test_predict"
   ]
  },
  {
   "cell_type": "code",
   "execution_count": 32,
   "metadata": {},
   "outputs": [
    {
     "data": {
      "text/plain": [
       "0.7142857142857143"
      ]
     },
     "execution_count": 32,
     "metadata": {},
     "output_type": "execute_result"
    }
   ],
   "source": [
    "svc_rbf.score(test_features,test_target)"
   ]
  },
  {
   "cell_type": "markdown",
   "metadata": {},
   "source": [
    "# 五、查看模型效能"
   ]
  },
  {
   "cell_type": "code",
   "execution_count": 33,
   "metadata": {},
   "outputs": [],
   "source": [
    "from sklearn.metrics import confusion_matrix, roc_curve,accuracy_score"
   ]
  },
  {
   "cell_type": "code",
   "execution_count": 34,
   "metadata": {},
   "outputs": [
    {
     "data": {
      "text/plain": [
       "0.7142857142857143"
      ]
     },
     "execution_count": 34,
     "metadata": {},
     "output_type": "execute_result"
    }
   ],
   "source": [
    "accuracy_score(test_target,test_predict)"
   ]
  },
  {
   "cell_type": "code",
   "execution_count": 35,
   "metadata": {},
   "outputs": [
    {
     "data": {
      "text/plain": [
       "array([[ 4,  3],\n",
       "       [ 3, 11]])"
      ]
     },
     "execution_count": 35,
     "metadata": {},
     "output_type": "execute_result"
    }
   ],
   "source": [
    "confusion_matrix(test_target,test_predict)"
   ]
  },
  {
   "cell_type": "code",
   "execution_count": 36,
   "metadata": {},
   "outputs": [],
   "source": [
    "import seaborn as sns"
   ]
  },
  {
   "cell_type": "code",
   "execution_count": 37,
   "metadata": {},
   "outputs": [
    {
     "data": {
      "text/plain": [
       "<Axes: >"
      ]
     },
     "execution_count": 37,
     "metadata": {},
     "output_type": "execute_result"
    },
    {
     "data": {
      "image/png": "[encoded data removed]",
      "text/plain": [
       "<Figure size 640x480 with 2 Axes>"
      ]
     },
     "metadata": {},
     "output_type": "display_data"
    }
   ],
   "source": [
    "sns.heatmap(confusion_matrix(test_target,test_predict),\n",
    "           xticklabels=['B','M'],\n",
    "           yticklabels=['B','M'])"
   ]
  },
  {
   "cell_type": "code",
   "execution_count": 38,
   "metadata": {},
   "outputs": [],
   "source": [
    "y_score = svc_rbf.decision_function(test_features)"
   ]
  },
  {
   "cell_type": "code",
   "execution_count": 39,
   "metadata": {},
   "outputs": [],
   "source": [
    "fpr, tpr, thresholds = roc_curve(test_target, y_score)"
   ]
  },
  {
   "cell_type": "code",
   "execution_count": 40,
   "metadata": {
    "scrolled": true
   },
   "outputs": [
    {
     "data": {
      "image/png": "[encoded data removed]",
      "text/plain": [
       "<Figure size 640x480 with 1 Axes>"
      ]
     },
     "metadata": {},
     "output_type": "display_data"
    }
   ],
   "source": [
    "import matplotlib.pyplot as plt\n",
    "plt.figure()\n",
    "plt.plot(fpr, tpr)\n",
    "plt.xlabel('False Positive Rate')\n",
    "plt.ylabel('True Positive Rate')\n",
    "plt.title('ROC curve')\n",
    "plt.show()"
   ]
  },
  {
   "cell_type": "code",
   "execution_count": 41,
   "metadata": {},
   "outputs": [],
   "source": [
    "from sklearn.metrics import plot_confusion_matrix, plot_roc_curve, plot_precision_recall_curve"
   ]
  },
  {
   "cell_type": "code",
   "execution_count": 42,
   "metadata": {},
   "outputs": [
    {
     "name": "stderr",
     "output_type": "stream",
     "text": [
      "/root/anaconda3/lib/python3.11/site-packages/sklearn/utils/deprecation.py:87: FutureWarning: Function plot_confusion_matrix is deprecated; Function `plot_confusion_matrix` is deprecated in 1.0 and will be removed in 1.2. Use one of the class methods: ConfusionMatrixDisplay.from_predictions or ConfusionMatrixDisplay.from_estimator.\n",
      "  warnings.warn(msg, category=FutureWarning)\n"
     ]
    },
    {
     "data": {
      "text/plain": [
       "<sklearn.metrics._plot.confusion_matrix.ConfusionMatrixDisplay at 0x7f62c1b26390>"
      ]
     },
     "execution_count": 42,
     "metadata": {},
     "output_type": "execute_result"
    },
    {
     "data": {
      "image/png": "[encoded data removed]",
      "text/plain": [
       "<Figure size 640x480 with 2 Axes>"
      ]
     },
     "metadata": {},
     "output_type": "display_data"
    }
   ],
   "source": [
    "plot_confusion_matrix(svc_rbf, test_features, test_target)"
   ]
  },
  {
   "cell_type": "code",
   "execution_count": 43,
   "metadata": {},
   "outputs": [
    {
     "name": "stderr",
     "output_type": "stream",
     "text": [
      "/root/anaconda3/lib/python3.11/site-packages/sklearn/utils/deprecation.py:87: FutureWarning: Function plot_roc_curve is deprecated; Function :func:`plot_roc_curve` is deprecated in 1.0 and will be removed in 1.2. Use one of the class methods: :meth:`sklearn.metrics.RocCurveDisplay.from_predictions` or :meth:`sklearn.metrics.RocCurveDisplay.from_estimator`.\n",
      "  warnings.warn(msg, category=FutureWarning)\n"
     ]
    },
    {
     "data": {
      "text/plain": [
       "<sklearn.metrics._plot.roc_curve.RocCurveDisplay at 0x7f62ee509ad0>"
      ]
     },
     "execution_count": 43,
     "metadata": {},
     "output_type": "execute_result"
    },
    {
     "data": {
      "image/png": "[encoded data removed]",
      "text/plain": [
       "<Figure size 640x480 with 1 Axes>"
      ]
     },
     "metadata": {},
     "output_type": "display_data"
    }
   ],
   "source": [
    "plot_roc_curve(svc_rbf, test_features, test_target)"
   ]
  },
  {
   "cell_type": "code",
   "execution_count": 44,
   "metadata": {},
   "outputs": [
    {
     "name": "stderr",
     "output_type": "stream",
     "text": [
      "/root/anaconda3/lib/python3.11/site-packages/sklearn/utils/deprecation.py:87: FutureWarning: Function plot_precision_recall_curve is deprecated; Function `plot_precision_recall_curve` is deprecated in 1.0 and will be removed in 1.2. Use one of the class methods: PrecisionRecallDisplay.from_predictions or PrecisionRecallDisplay.from_estimator.\n",
      "  warnings.warn(msg, category=FutureWarning)\n"
     ]
    },
    {
     "data": {
      "text/plain": [
       "<sklearn.metrics._plot.precision_recall_curve.PrecisionRecallDisplay at 0x7f62c1c85b90>"
      ]
     },
     "execution_count": 44,
     "metadata": {},
     "output_type": "execute_result"
    },
    {
     "data": {
      "image/png": "[encoded data removed]",
      "text/plain": [
       "<Figure size 640x480 with 1 Axes>"
      ]
     },
     "metadata": {},
     "output_type": "display_data"
    }
   ],
   "source": [
    "plot_precision_recall_curve(svc_rbf, test_features, test_target)"
   ]
  },
  {
   "cell_type": "markdown",
   "metadata": {},
   "source": [
    "# 六、知识拓展"
   ]
  },
  {
   "cell_type": "code",
   "execution_count": 45,
   "metadata": {},
   "outputs": [],
   "source": [
    "Cs = np.logspace(-3,2,200)"
   ]
  },
  {
   "cell_type": "code",
   "execution_count": 46,
   "metadata": {},
   "outputs": [],
   "source": [
    "acc_=[]\n",
    "for C_ in Cs:\n",
    "    svc_rbf = SVC(kernel=\"rbf\",C=C_)\n",
    "    svc_rbf.fit(train_features, train_target)\n",
    "    acc_.append(svc_rbf.score(test_features, test_target))"
   ]
  },
  {
   "cell_type": "code",
   "execution_count": 47,
   "metadata": {},
   "outputs": [
    {
     "data": {
      "text/plain": [
       "[0.6666666666666666,\n",
       " 0.6666666666666666,\n",
       " 0.6666666666666666,\n",
       " 0.6666666666666666,\n",
       " 0.6666666666666666,\n",
       " 0.6666666666666666,\n",
       " 0.6666666666666666,\n",
       " 0.6666666666666666,\n",
       " 0.6666666666666666,\n",
       " 0.6666666666666666,\n",
       " 0.6666666666666666,\n",
       " 0.6666666666666666,\n",
       " 0.6666666666666666,\n",
       " 0.6666666666666666,\n",
       " 0.6666666666666666,\n",
       " 0.6666666666666666,\n",
       " 0.6666666666666666,\n",
       " 0.6666666666666666,\n",
       " 0.6666666666666666,\n",
       " 0.6666666666666666,\n",
       " 0.6666666666666666,\n",
       " 0.6666666666666666,\n",
       " 0.6666666666666666,\n",
       " 0.6666666666666666,\n",
       " 0.6666666666666666,\n",
       " 0.6666666666666666,\n",
       " 0.6666666666666666,\n",
       " 0.6666666666666666,\n",
       " 0.6666666666666666,\n",
       " 0.6666666666666666,\n",
       " 0.6666666666666666,\n",
       " 0.6666666666666666,\n",
       " 0.6666666666666666,\n",
       " 0.6666666666666666,\n",
       " 0.6666666666666666,\n",
       " 0.6666666666666666,\n",
       " 0.6666666666666666,\n",
       " 0.6666666666666666,\n",
       " 0.6666666666666666,\n",
       " 0.6666666666666666,\n",
       " 0.6666666666666666,\n",
       " 0.6666666666666666,\n",
       " 0.6666666666666666,\n",
       " 0.6666666666666666,\n",
       " 0.6666666666666666,\n",
       " 0.6666666666666666,\n",
       " 0.6666666666666666,\n",
       " 0.6666666666666666,\n",
       " 0.6666666666666666,\n",
       " 0.6666666666666666,\n",
       " 0.6666666666666666,\n",
       " 0.6666666666666666,\n",
       " 0.6666666666666666,\n",
       " 0.6666666666666666,\n",
       " 0.6666666666666666,\n",
       " 0.6666666666666666,\n",
       " 0.6666666666666666,\n",
       " 0.6666666666666666,\n",
       " 0.6666666666666666,\n",
       " 0.6666666666666666,\n",
       " 0.6666666666666666,\n",
       " 0.6666666666666666,\n",
       " 0.6666666666666666,\n",
       " 0.6666666666666666,\n",
       " 0.6666666666666666,\n",
       " 0.6666666666666666,\n",
       " 0.6666666666666666,\n",
       " 0.6666666666666666,\n",
       " 0.6666666666666666,\n",
       " 0.6666666666666666,\n",
       " 0.6666666666666666,\n",
       " 0.6666666666666666,\n",
       " 0.6666666666666666,\n",
       " 0.6666666666666666,\n",
       " 0.6666666666666666,\n",
       " 0.6666666666666666,\n",
       " 0.6666666666666666,\n",
       " 0.6666666666666666,\n",
       " 0.6666666666666666,\n",
       " 0.6666666666666666,\n",
       " 0.6666666666666666,\n",
       " 0.6666666666666666,\n",
       " 0.6666666666666666,\n",
       " 0.6666666666666666,\n",
       " 0.6666666666666666,\n",
       " 0.6666666666666666,\n",
       " 0.6666666666666666,\n",
       " 0.6666666666666666,\n",
       " 0.6666666666666666,\n",
       " 0.6666666666666666,\n",
       " 0.6666666666666666,\n",
       " 0.6666666666666666,\n",
       " 0.6666666666666666,\n",
       " 0.6666666666666666,\n",
       " 0.6666666666666666,\n",
       " 0.6666666666666666,\n",
       " 0.6666666666666666,\n",
       " 0.6666666666666666,\n",
       " 0.6666666666666666,\n",
       " 0.6666666666666666,\n",
       " 0.6666666666666666,\n",
       " 0.6666666666666666,\n",
       " 0.7619047619047619,\n",
       " 0.7619047619047619,\n",
       " 0.7619047619047619,\n",
       " 0.7619047619047619,\n",
       " 0.7619047619047619,\n",
       " 0.7619047619047619,\n",
       " 0.7619047619047619,\n",
       " 0.7142857142857143,\n",
       " 0.7142857142857143,\n",
       " 0.7142857142857143,\n",
       " 0.7619047619047619,\n",
       " 0.7619047619047619,\n",
       " 0.7619047619047619,\n",
       " 0.7619047619047619,\n",
       " 0.7619047619047619,\n",
       " 0.6666666666666666,\n",
       " 0.7142857142857143,\n",
       " 0.7142857142857143,\n",
       " 0.7142857142857143,\n",
       " 0.7142857142857143,\n",
       " 0.7142857142857143,\n",
       " 0.7142857142857143,\n",
       " 0.7142857142857143,\n",
       " 0.7142857142857143,\n",
       " 0.6666666666666666,\n",
       " 0.6666666666666666,\n",
       " 0.6666666666666666,\n",
       " 0.6666666666666666,\n",
       " 0.6666666666666666,\n",
       " 0.6666666666666666,\n",
       " 0.6666666666666666,\n",
       " 0.6666666666666666,\n",
       " 0.6666666666666666,\n",
       " 0.6666666666666666,\n",
       " 0.6190476190476191,\n",
       " 0.5714285714285714,\n",
       " 0.5714285714285714,\n",
       " 0.6190476190476191,\n",
       " 0.6666666666666666,\n",
       " 0.6666666666666666,\n",
       " 0.6666666666666666,\n",
       " 0.6666666666666666,\n",
       " 0.7142857142857143,\n",
       " 0.7142857142857143,\n",
       " 0.7142857142857143,\n",
       " 0.7619047619047619,\n",
       " 0.7619047619047619,\n",
       " 0.7619047619047619,\n",
       " 0.7619047619047619,\n",
       " 0.7619047619047619,\n",
       " 0.7619047619047619,\n",
       " 0.7619047619047619,\n",
       " 0.7619047619047619,\n",
       " 0.7619047619047619,\n",
       " 0.7619047619047619,\n",
       " 0.7619047619047619,\n",
       " 0.7142857142857143,\n",
       " 0.7142857142857143,\n",
       " 0.7142857142857143,\n",
       " 0.7142857142857143,\n",
       " 0.7142857142857143,\n",
       " 0.6190476190476191,\n",
       " 0.6190476190476191,\n",
       " 0.6190476190476191,\n",
       " 0.6190476190476191,\n",
       " 0.6190476190476191,\n",
       " 0.6666666666666666,\n",
       " 0.6666666666666666,\n",
       " 0.6666666666666666,\n",
       " 0.6666666666666666,\n",
       " 0.6666666666666666,\n",
       " 0.6666666666666666,\n",
       " 0.6666666666666666,\n",
       " 0.6666666666666666,\n",
       " 0.6666666666666666,\n",
       " 0.7142857142857143,\n",
       " 0.7142857142857143,\n",
       " 0.7142857142857143,\n",
       " 0.7142857142857143,\n",
       " 0.7142857142857143,\n",
       " 0.7142857142857143,\n",
       " 0.7142857142857143,\n",
       " 0.7142857142857143,\n",
       " 0.7142857142857143,\n",
       " 0.7142857142857143,\n",
       " 0.7142857142857143,\n",
       " 0.7142857142857143,\n",
       " 0.7142857142857143,\n",
       " 0.7142857142857143,\n",
       " 0.7142857142857143,\n",
       " 0.7142857142857143,\n",
       " 0.7142857142857143,\n",
       " 0.7142857142857143,\n",
       " 0.7142857142857143,\n",
       " 0.7142857142857143,\n",
       " 0.7142857142857143,\n",
       " 0.7142857142857143,\n",
       " 0.7142857142857143]"
      ]
     },
     "execution_count": 47,
     "metadata": {},
     "output_type": "execute_result"
    }
   ],
   "source": [
    "acc_"
   ]
  },
  {
   "cell_type": "code",
   "execution_count": 48,
   "metadata": {},
   "outputs": [
    {
     "data": {
      "text/plain": [
       "200"
      ]
     },
     "execution_count": 48,
     "metadata": {},
     "output_type": "execute_result"
    }
   ],
   "source": [
    "len(acc_)"
   ]
  },
  {
   "cell_type": "code",
   "execution_count": 49,
   "metadata": {
    "scrolled": true
   },
   "outputs": [
    {
     "data": {
      "image/png": "[encoded data removed]",
      "text/plain": [
       "<Figure size 640x480 with 1 Axes>"
      ]
     },
     "metadata": {},
     "output_type": "display_data"
    }
   ],
   "source": [
    "plt.plot(Cs, acc_)\n",
    "plt.xscale('log')\n",
    "plt.xlabel('C')\n",
    "plt.ylabel('acc')\n",
    "plt.show()"
   ]
  },
  {
   "cell_type": "code",
   "execution_count": 50,
   "metadata": {},
   "outputs": [],
   "source": [
    "from sklearn.metrics import auc"
   ]
  },
  {
   "cell_type": "code",
   "execution_count": 51,
   "metadata": {},
   "outputs": [],
   "source": [
    "Cs = np.logspace(-3,2,200)\n",
    "aucs_=[]\n",
    "for C_ in Cs:\n",
    "    svc_rbf = SVC(kernel=\"rbf\",C=C_)\n",
    "    svc_rbf.fit(train_features, train_target)\n",
    "    y_score = svc_rbf.decision_function(test_features)\n",
    "    fpr, tpr, thresholds = roc_curve(test_target, y_score)\n",
    "    auc_ = auc(fpr, tpr)\n",
    "    aucs_.append(auc_)"
   ]
  },
  {
   "cell_type": "code",
   "execution_count": 52,
   "metadata": {},
   "outputs": [
    {
     "data": {
      "text/plain": [
       "[0.8061224489795918,\n",
       " 0.7857142857142857,\n",
       " 0.7857142857142857,\n",
       " 0.7857142857142857,\n",
       " 0.7959183673469388,\n",
       " 0.7959183673469388,\n",
       " 0.7959183673469388,\n",
       " 0.7959183673469388,\n",
       " 0.7959183673469388,\n",
       " 0.7959183673469388,\n",
       " 0.7959183673469388,\n",
       " 0.7959183673469388,\n",
       " 0.7959183673469388,\n",
       " 0.7959183673469388,\n",
       " 0.7959183673469388,\n",
       " 0.7959183673469388,\n",
       " 0.7959183673469388,\n",
       " 0.7959183673469388,\n",
       " 0.7857142857142857,\n",
       " 0.7857142857142857,\n",
       " 0.7857142857142857,\n",
       " 0.7857142857142857,\n",
       " 0.7857142857142857,\n",
       " 0.7857142857142857,\n",
       " 0.7857142857142857,\n",
       " 0.7857142857142857,\n",
       " 0.7959183673469388,\n",
       " 0.7959183673469388,\n",
       " 0.7959183673469388,\n",
       " 0.7959183673469388,\n",
       " 0.7959183673469388,\n",
       " 0.7959183673469388,\n",
       " 0.7857142857142857,\n",
       " 0.7857142857142857,\n",
       " 0.7857142857142857,\n",
       " 0.7857142857142857,\n",
       " 0.7857142857142857,\n",
       " 0.7857142857142857,\n",
       " 0.7857142857142857,\n",
       " 0.7959183673469388,\n",
       " 0.7959183673469388,\n",
       " 0.7959183673469388,\n",
       " 0.7959183673469388,\n",
       " 0.7959183673469388,\n",
       " 0.7959183673469388,\n",
       " 0.7959183673469388,\n",
       " 0.7959183673469388,\n",
       " 0.7959183673469388,\n",
       " 0.7959183673469388,\n",
       " 0.7959183673469388,\n",
       " 0.7959183673469388,\n",
       " 0.7959183673469388,\n",
       " 0.7857142857142857,\n",
       " 0.7857142857142857,\n",
       " 0.7857142857142857,\n",
       " 0.7857142857142857,\n",
       " 0.7857142857142857,\n",
       " 0.7857142857142857,\n",
       " 0.7857142857142857,\n",
       " 0.7857142857142857,\n",
       " 0.7857142857142857,\n",
       " 0.7857142857142857,\n",
       " 0.7857142857142857,\n",
       " 0.7857142857142857,\n",
       " 0.7857142857142857,\n",
       " 0.7959183673469388,\n",
       " 0.7857142857142857,\n",
       " 0.7857142857142857,\n",
       " 0.7857142857142857,\n",
       " 0.7857142857142857,\n",
       " 0.7857142857142857,\n",
       " 0.7857142857142857,\n",
       " 0.7857142857142857,\n",
       " 0.7857142857142857,\n",
       " 0.7857142857142857,\n",
       " 0.7857142857142857,\n",
       " 0.7857142857142857,\n",
       " 0.7857142857142857,\n",
       " 0.7857142857142857,\n",
       " 0.7857142857142857,\n",
       " 0.7857142857142857,\n",
       " 0.7857142857142857,\n",
       " 0.7857142857142857,\n",
       " 0.7857142857142857,\n",
       " 0.7857142857142857,\n",
       " 0.7857142857142857,\n",
       " 0.7857142857142857,\n",
       " 0.7857142857142857,\n",
       " 0.7857142857142857,\n",
       " 0.7857142857142857,\n",
       " 0.7857142857142857,\n",
       " 0.7857142857142857,\n",
       " 0.7857142857142857,\n",
       " 0.7857142857142857,\n",
       " 0.7857142857142857,\n",
       " 0.7857142857142857,\n",
       " 0.7857142857142857,\n",
       " 0.7857142857142857,\n",
       " 0.7857142857142857,\n",
       " 0.7857142857142857,\n",
       " 0.7857142857142857,\n",
       " 0.7857142857142857,\n",
       " 0.7857142857142857,\n",
       " 0.7857142857142857,\n",
       " 0.7857142857142857,\n",
       " 0.7857142857142857,\n",
       " 0.7857142857142857,\n",
       " 0.7857142857142857,\n",
       " 0.7857142857142857,\n",
       " 0.7857142857142857,\n",
       " 0.7857142857142857,\n",
       " 0.7857142857142857,\n",
       " 0.7857142857142857,\n",
       " 0.7959183673469388,\n",
       " 0.7959183673469388,\n",
       " 0.8061224489795918,\n",
       " 0.8061224489795918,\n",
       " 0.8061224489795918,\n",
       " 0.8061224489795918,\n",
       " 0.8163265306122449,\n",
       " 0.8163265306122448,\n",
       " 0.826530612244898,\n",
       " 0.8163265306122449,\n",
       " 0.7959183673469388,\n",
       " 0.7959183673469388,\n",
       " 0.7959183673469388,\n",
       " 0.7857142857142857,\n",
       " 0.7857142857142857,\n",
       " 0.7755102040816326,\n",
       " 0.7653061224489797,\n",
       " 0.7653061224489797,\n",
       " 0.7653061224489797,\n",
       " 0.7551020408163266,\n",
       " 0.7448979591836735,\n",
       " 0.7448979591836735,\n",
       " 0.7448979591836735,\n",
       " 0.7448979591836735,\n",
       " 0.7448979591836735,\n",
       " 0.7448979591836735,\n",
       " 0.7448979591836735,\n",
       " 0.7551020408163266,\n",
       " 0.7755102040816326,\n",
       " 0.7959183673469388,\n",
       " 0.8163265306122449,\n",
       " 0.8163265306122449,\n",
       " 0.8163265306122449,\n",
       " 0.8061224489795918,\n",
       " 0.8163265306122449,\n",
       " 0.8163265306122449,\n",
       " 0.826530612244898,\n",
       " 0.826530612244898,\n",
       " 0.8367346938775511,\n",
       " 0.8367346938775511,\n",
       " 0.826530612244898,\n",
       " 0.8367346938775511,\n",
       " 0.826530612244898,\n",
       " 0.826530612244898,\n",
       " 0.8367346938775511,\n",
       " 0.8163265306122449,\n",
       " 0.8163265306122449,\n",
       " 0.8163265306122449,\n",
       " 0.8061224489795918,\n",
       " 0.7857142857142857,\n",
       " 0.7755102040816326,\n",
       " 0.7755102040816326,\n",
       " 0.7755102040816326,\n",
       " 0.7755102040816326,\n",
       " 0.7653061224489796,\n",
       " 0.7551020408163265,\n",
       " 0.7551020408163265,\n",
       " 0.7551020408163265,\n",
       " 0.7653061224489796,\n",
       " 0.7653061224489796,\n",
       " 0.7755102040816326,\n",
       " 0.7755102040816326,\n",
       " 0.7959183673469388,\n",
       " 0.8061224489795918,\n",
       " 0.8061224489795918,\n",
       " 0.8061224489795918,\n",
       " 0.826530612244898,\n",
       " 0.826530612244898,\n",
       " 0.826530612244898,\n",
       " 0.826530612244898,\n",
       " 0.826530612244898,\n",
       " 0.8163265306122449,\n",
       " 0.8163265306122449,\n",
       " 0.8163265306122449,\n",
       " 0.8163265306122449,\n",
       " 0.8163265306122449,\n",
       " 0.8163265306122449,\n",
       " 0.8163265306122449,\n",
       " 0.8163265306122449,\n",
       " 0.8163265306122449,\n",
       " 0.8163265306122449,\n",
       " 0.8163265306122449,\n",
       " 0.8163265306122449,\n",
       " 0.8163265306122449,\n",
       " 0.8163265306122449,\n",
       " 0.8163265306122449,\n",
       " 0.8163265306122449]"
      ]
     },
     "execution_count": 52,
     "metadata": {},
     "output_type": "execute_result"
    }
   ],
   "source": [
    "aucs_"
   ]
  },
  {
   "cell_type": "code",
   "execution_count": 53,
   "metadata": {},
   "outputs": [
    {
     "data": {
      "text/plain": [
       "200"
      ]
     },
     "execution_count": 53,
     "metadata": {},
     "output_type": "execute_result"
    }
   ],
   "source": [
    "len(aucs_)"
   ]
  },
  {
   "cell_type": "code",
   "execution_count": 54,
   "metadata": {},
   "outputs": [
    {
     "data": {
      "image/png": "[encoded data removed]",
      "text/plain": [
       "<Figure size 640x480 with 1 Axes>"
      ]
     },
     "metadata": {},
     "output_type": "display_data"
    }
   ],
   "source": [
    "plt.plot(Cs, aucs_)\n",
    "plt.xscale('log')\n",
    "plt.xlabel('C')\n",
    "plt.ylabel('auc')\n",
    "plt.show()"
   ]
  },
  {
   "cell_type": "code",
   "execution_count": null,
   "metadata": {},
   "outputs": [],
   "source": []
  },
  {
   "cell_type": "code",
   "execution_count": null,
   "metadata": {},
   "outputs": [],
   "source": []
  }
 ],
 "metadata": {
  "kernelspec": {
   "display_name": "Python 3 (ipykernel)",
   "language": "python",
   "name": "python3"
  },
  "language_info": {
   "codemirror_mode": {
    "name": "ipython",
    "version": 3
   },
   "file_extension": ".py",
   "mimetype": "text/x-python",
   "name": "python",
   "nbconvert_exporter": "python",
   "pygments_lexer": "ipython3",
   "version": "3.11.7"
  }
 },
 "nbformat": 4,
 "nbformat_minor": 4
}
