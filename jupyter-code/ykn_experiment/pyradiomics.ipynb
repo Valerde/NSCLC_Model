{
 "cells": [
  {
   "cell_type": "code",
   "execution_count": null,
   "id": "4a2ced0d-1ac6-4c6f-9afc-6bd8c68d53e3",
   "metadata": {},
   "outputs": [],
   "source": [
    "import numpy as np\n",
    "import pandas as pd\n",
    "from sklearn.utils import shuffle"
   ]
  },
  {
   "cell_type": "code",
   "execution_count": null,
   "id": "52809bf6-79bf-43a3-9264-2531b629a37e",
   "metadata": {},
   "outputs": [],
   "source": [
    "data_LA = pd.read_csv(\"input/LA_total.csv\",index_col=0)\n",
    "\n",
    "data_LA"
   ]
  },
  {
   "cell_type": "code",
   "execution_count": null,
   "id": "68d3b55a-e2c7-4f91-830c-9e9c3739d422",
   "metadata": {},
   "outputs": [],
   "source": [
    "data_XA = pd.read_csv(\"input/XA_total.csv\",index_col=0)\n",
    "data_XA"
   ]
  },
  {
   "cell_type": "code",
   "execution_count": null,
   "id": "7a1063ba-9a67-478f-b6df-193f095a26e5",
   "metadata": {},
   "outputs": [],
   "source": [
    "data_LA.columns"
   ]
  },
  {
   "cell_type": "code",
   "execution_count": null,
   "id": "766fd337-55ae-4359-8073-2ebb8c394e8b",
   "metadata": {},
   "outputs": [],
   "source": [
    "data_LA.info()"
   ]
  },
  {
   "cell_type": "code",
   "execution_count": null,
   "id": "5b9b6c5a-bc70-4b83-8465-2a1076245877",
   "metadata": {},
   "outputs": [],
   "source": [
    "data_LA_ = pd.DataFrame()\n",
    "columns_LA = data_LA.columns\n",
    "for col in columns_LA:\n",
    "    try:\n",
    "        df = data_LA[col].astype(np.float64)\n",
    "        data_LA_ = pd.concat([data_LA_,df],axis=1)\n",
    "    except:\n",
    "        pass\n",
    "    continue\n",
    "data_LA_"
   ]
  },
  {
   "cell_type": "code",
   "execution_count": null,
   "id": "7f9b9338-bdfb-4923-88b2-366eb974ff45",
   "metadata": {},
   "outputs": [],
   "source": [
    "data_XA_ = pd.DataFrame()\n",
    "columns_XA = data_XA.columns\n",
    "for col in columns_XA:\n",
    "    try:\n",
    "        df = data_XA[col].astype(np.float64)\n",
    "        data_XA_ = pd.concat([data_XA_,df],axis=1)\n",
    "    except:\n",
    "        pass\n",
    "    continue\n",
    "data_XA_"
   ]
  },
  {
   "cell_type": "code",
   "execution_count": null,
   "id": "e7539d0f-a288-4bc8-b6cc-8612f9e44c97",
   "metadata": {},
   "outputs": [],
   "source": [
    "# T檢驗"
   ]
  },
  {
   "cell_type": "code",
   "execution_count": null,
   "id": "3c5eeb3c-a374-48d7-ad0e-0cc7f73f2388",
   "metadata": {},
   "outputs": [],
   "source": [
    "from scipy.stats import ttest_ind, levene"
   ]
  },
  {
   "cell_type": "code",
   "execution_count": null,
   "id": "11f19a49-099c-488c-b552-f03565dbfe49",
   "metadata": {},
   "outputs": [],
   "source": [
    "index = []\n",
    "for col in data_LA_.columns:\n",
    "    if ttest_ind(data_LA_[col],data_XA_[col])[1] < 0.05:\n",
    "        index.append(col)"
   ]
  },
  {
   "cell_type": "code",
   "execution_count": null,
   "id": "486c4f5c-c155-46ca-b1ea-19a46e6731ac",
   "metadata": {},
   "outputs": [],
   "source": [
    "index"
   ]
  },
  {
   "cell_type": "code",
   "execution_count": null,
   "id": "005f9319-5648-4eb5-b83d-fad05c8b8c2c",
   "metadata": {},
   "outputs": [],
   "source": [
    "len(index)"
   ]
  },
  {
   "cell_type": "code",
   "execution_count": null,
   "id": "8fa98884-1d45-4928-8f67-170f3619bb99",
   "metadata": {},
   "outputs": [],
   "source": [
    "# 方差齐性\n",
    "index_ = []\n",
    "for col in data_LA_.columns:\n",
    "    if levene(data_LA_[col],data_XA_[col])[1] > 0.05:\n",
    "        if ttest_ind(data_LA_[col],data_XA_[col])[1] < 0.05:\n",
    "            index_.append(col)\n",
    "    else:\n",
    "        if ttest_ind(data_LA_[col],data_XA_[col],equal_var=False)[1] < 0.05:\n",
    "            index_.append(col)\n",
    "index_"
   ]
  },
  {
   "cell_type": "code",
   "execution_count": null,
   "id": "1aa2e59c-ef95-4c4d-be73-09410c0ca1fc",
   "metadata": {},
   "outputs": [],
   "source": [
    "len(index_)"
   ]
  },
  {
   "cell_type": "code",
   "execution_count": null,
   "id": "b1b73482-fe19-45bd-b15a-6f1492aba2b8",
   "metadata": {},
   "outputs": [],
   "source": [
    "data_L_T = data_LA_[index_]\n",
    "data_L_T"
   ]
  },
  {
   "cell_type": "code",
   "execution_count": null,
   "id": "6ba355f6-ca6f-48f7-a752-22f5164f71b8",
   "metadata": {},
   "outputs": [],
   "source": [
    "data_X_T = data_XA_[index_]\n",
    "data_X_T"
   ]
  },
  {
   "cell_type": "code",
   "execution_count": null,
   "id": "fb3d5ab4-9b0c-44d7-90d8-e1c1f67f275a",
   "metadata": {},
   "outputs": [],
   "source": [
    "# data = pd.concat([data_LA_,data_XA_])\n",
    "data = pd.concat([data_L_T,data_X_T])\n",
    "data = shuffle(data)\n",
    "print(data.shape)\n",
    "data"
   ]
  },
  {
   "cell_type": "code",
   "execution_count": null,
   "id": "3cc2a1ce-0f14-47ca-b17e-33108d37219c",
   "metadata": {},
   "outputs": [],
   "source": [
    "target = data.iloc[:, 0]\n",
    "target"
   ]
  },
  {
   "cell_type": "code",
   "execution_count": null,
   "id": "66e944c9-c35b-4554-9d3b-c52ae4df668a",
   "metadata": {},
   "outputs": [],
   "source": [
    "data.info()"
   ]
  },
  {
   "cell_type": "code",
   "execution_count": null,
   "id": "f955a394-7de3-4e20-bd08-1e0028a95b86",
   "metadata": {},
   "outputs": [],
   "source": [
    "features = data.iloc[:,1:]\n",
    "features"
   ]
  },
  {
   "cell_type": "code",
   "execution_count": null,
   "id": "669fe865-6e14-4731-ada0-c8a31a2ce008",
   "metadata": {},
   "outputs": [],
   "source": [
    "features_bk = features.copy()\n",
    "features_bk.info()"
   ]
  },
  {
   "cell_type": "code",
   "execution_count": null,
   "id": "4040948f-6d87-4565-8629-2865d787a2ad",
   "metadata": {},
   "outputs": [],
   "source": [
    "from sklearn.preprocessing import StandardScaler,MinMaxScaler"
   ]
  },
  {
   "cell_type": "code",
   "execution_count": null,
   "id": "6088dd96-098f-4950-b6d3-c2b6b087c84c",
   "metadata": {},
   "outputs": [],
   "source": [
    "transfer = StandardScaler()\n",
    "features_SS = transfer.fit_transform(features_bk)\n",
    "features_SS\n",
    "# 数据标准化很有必要"
   ]
  },
  {
   "cell_type": "code",
   "execution_count": null,
   "id": "4f47e3c6-44f6-42af-b836-671059e5f291",
   "metadata": {},
   "outputs": [],
   "source": [
    "type(features_SS)"
   ]
  },
  {
   "cell_type": "code",
   "execution_count": null,
   "id": "2266c6eb-5213-41cd-aef0-914d0c657ed0",
   "metadata": {},
   "outputs": [],
   "source": [
    "alphas_ = np.logspace(-2,0,300)\n",
    "alphas_"
   ]
  },
  {
   "cell_type": "code",
   "execution_count": null,
   "id": "ebc965e0-5868-46ad-a7a9-5b0b6e9539eb",
   "metadata": {},
   "outputs": [],
   "source": [
    "from sklearn.linear_model import LassoCV\n",
    "lassocv = LassoCV(alphas = alphas_,cv = 10,max_iter = 100000).fit(features_SS,target)\n",
    "lassocv.alpha_"
   ]
  },
  {
   "cell_type": "code",
   "execution_count": null,
   "id": "556daa48-9cef-4d01-830e-a3ae53f5dda6",
   "metadata": {},
   "outputs": [],
   "source": [
    "lassocv.coef_"
   ]
  },
  {
   "cell_type": "code",
   "execution_count": null,
   "id": "1e984109-cace-49b0-9d56-143254706028",
   "metadata": {},
   "outputs": [],
   "source": [
    "a = lassocv.coef_!=0\n",
    "cnt = 0\n",
    "for b in a:\n",
    "    if b:\n",
    "        cnt+=1\n",
    "cnt"
   ]
  },
  {
   "cell_type": "code",
   "execution_count": null,
   "id": "a4e21491-066f-4468-9823-16d7e987f8e0",
   "metadata": {},
   "outputs": [],
   "source": [
    "features.columns[lassocv.coef_!=0]"
   ]
  },
  {
   "cell_type": "code",
   "execution_count": null,
   "id": "c8d5e8e0-6ea6-474c-a98f-66694943b5c9",
   "metadata": {},
   "outputs": [],
   "source": [
    "features = data[features.columns[lassocv.coef_!=0]]"
   ]
  },
  {
   "cell_type": "code",
   "execution_count": null,
   "id": "af3e1a08-cfbf-41e2-a2e1-e425ea8e6e0b",
   "metadata": {},
   "outputs": [],
   "source": [
    "features"
   ]
  },
  {
   "cell_type": "code",
   "execution_count": null,
   "id": "08afb884-afd9-4893-a4e8-ed18697d654f",
   "metadata": {},
   "outputs": [],
   "source": [
    "#構建模型"
   ]
  },
  {
   "cell_type": "code",
   "execution_count": null,
   "id": "8556d564-6e14-412f-bbfb-66e6b5f8dee8",
   "metadata": {},
   "outputs": [],
   "source": [
    "transfer = StandardScaler()\n",
    "features_SS = transfer.fit_transform(features)\n",
    "print(features_SS.shape)\n",
    "features_SS\n"
   ]
  },
  {
   "cell_type": "code",
   "execution_count": null,
   "id": "bf96256a-d671-45bc-bd71-074b1c1c05e2",
   "metadata": {},
   "outputs": [],
   "source": [
    "from sklearn.model_selection import train_test_split"
   ]
  },
  {
   "cell_type": "code",
   "execution_count": null,
   "id": "819858a4-4689-4a83-86eb-93f4b4a39bac",
   "metadata": {},
   "outputs": [],
   "source": [
    "train_features, test_features, train_target, test_target = train_test_split(\n",
    "    features_SS, target, \n",
    "    test_size = 0.15)"
   ]
  },
  {
   "cell_type": "code",
   "execution_count": null,
   "id": "a4dedb34-0802-44d2-9849-917d6125f609",
   "metadata": {},
   "outputs": [],
   "source": [
    "from sklearn.linear_model import LinearRegression, Lasso, Ridge, ElasticNet\n",
    "from sklearn.linear_model import LogisticRegression"
   ]
  },
  {
   "cell_type": "code",
   "execution_count": null,
   "id": "0d3ec898-3e5f-47f4-b675-946c3fff1b1c",
   "metadata": {},
   "outputs": [],
   "source": [
    "# log = LogisticRegression(penalty='l1',max_iter = 10000000,solver='saga',C=0.001,n_jobs=-1)\n",
    "log = LogisticRegression(penalty='l2',max_iter = 10000000,n_jobs=-1)"
   ]
  },
  {
   "cell_type": "code",
   "execution_count": null,
   "id": "b8fd7153-eddb-40c9-8429-2761dcc0ebda",
   "metadata": {},
   "outputs": [],
   "source": [
    "log.fit(train_features, train_target)"
   ]
  },
  {
   "cell_type": "code",
   "execution_count": null,
   "id": "6b94fffe-6dc4-47be-899e-dcb01fce80d8",
   "metadata": {},
   "outputs": [],
   "source": [
    "test_predict = log.predict(test_features)\n",
    "test_predict"
   ]
  },
  {
   "cell_type": "code",
   "execution_count": null,
   "id": "aac02060-ff7b-424c-a507-a686ff2196ff",
   "metadata": {},
   "outputs": [],
   "source": [
    "test_target"
   ]
  },
  {
   "cell_type": "code",
   "execution_count": null,
   "id": "03492447-376b-412b-82b3-387c6602a7da",
   "metadata": {},
   "outputs": [],
   "source": [
    "test_proba = log.predict_proba(test_features)\n",
    "test_proba"
   ]
  },
  {
   "cell_type": "code",
   "execution_count": null,
   "id": "d0aa443d-9be0-4149-a232-4ff189d8483e",
   "metadata": {},
   "outputs": [],
   "source": [
    "log.score(test_features,test_target)"
   ]
  },
  {
   "cell_type": "code",
   "execution_count": null,
   "id": "78241b2c-a21a-4451-9db9-83c85c7cf1c5",
   "metadata": {},
   "outputs": [],
   "source": [
    "from sklearn.metrics import confusion_matrix, roc_curve,accuracy_score"
   ]
  },
  {
   "cell_type": "code",
   "execution_count": null,
   "id": "bff50ab8-9c3b-4e7d-8f8d-c6dfda5c0fd3",
   "metadata": {},
   "outputs": [],
   "source": [
    "accuracy_score(test_target,test_predict)"
   ]
  },
  {
   "cell_type": "code",
   "execution_count": null,
   "id": "49370e5b-3a79-4040-940e-2d320f2cac51",
   "metadata": {},
   "outputs": [],
   "source": [
    "confusion_matrix(test_target,test_predict)"
   ]
  },
  {
   "cell_type": "code",
   "execution_count": null,
   "id": "9973329d-c289-4cce-b16c-d6a9ee249a52",
   "metadata": {},
   "outputs": [],
   "source": [
    "import seaborn as sns"
   ]
  },
  {
   "cell_type": "code",
   "execution_count": null,
   "id": "e2546b8c-bba4-4de7-a7dd-e48875f26b4d",
   "metadata": {},
   "outputs": [],
   "source": [
    "sns.heatmap(confusion_matrix(test_target,test_predict),\n",
    "           xticklabels=['B','M'],\n",
    "           yticklabels=['B','M'])"
   ]
  },
  {
   "cell_type": "code",
   "execution_count": null,
   "id": "b25dced9-e5bc-4193-8968-f81b1f136052",
   "metadata": {},
   "outputs": [],
   "source": [
    "y_score = log.decision_function(test_features)\n",
    "y_score"
   ]
  },
  {
   "cell_type": "code",
   "execution_count": null,
   "id": "082a931c-a204-4882-a092-bdc12bd03bc0",
   "metadata": {},
   "outputs": [],
   "source": [
    "fpr, tpr, thresholds = roc_curve(test_target, y_score)"
   ]
  },
  {
   "cell_type": "code",
   "execution_count": null,
   "id": "670741a7-2aad-48e9-b521-3f772878c495",
   "metadata": {},
   "outputs": [],
   "source": [
    "import matplotlib.pyplot as plt\n",
    "plt.figure()\n",
    "plt.plot(fpr, tpr)\n",
    "plt.xlabel('False Positive Rate')\n",
    "plt.ylabel('True Positive Rate')\n",
    "plt.title('ROC curve')\n",
    "plt.show()"
   ]
  },
  {
   "cell_type": "code",
   "execution_count": null,
   "id": "3c38786a-63e1-4ab0-9de5-ddaaf83153ff",
   "metadata": {},
   "outputs": [],
   "source": []
  },
  {
   "cell_type": "code",
   "execution_count": null,
   "id": "19d18aea-3f4d-4408-8e09-49b620cb6e84",
   "metadata": {},
   "outputs": [],
   "source": []
  },
  {
   "cell_type": "code",
   "execution_count": null,
   "id": "5cec88bf-c3a6-456d-8642-df0e513ba00a",
   "metadata": {},
   "outputs": [],
   "source": []
  },
  {
   "cell_type": "code",
   "execution_count": null,
   "id": "08c6040d-dea0-45f5-adbf-23a8b2eeee17",
   "metadata": {},
   "outputs": [],
   "source": [
    "from sklearn.preprocessing import PolynomialFeatures"
   ]
  },
  {
   "cell_type": "code",
   "execution_count": null,
   "id": "1b728c2c-fff4-4b9e-9dc5-0cb980cf51ec",
   "metadata": {},
   "outputs": [],
   "source": [
    "poly_features = PolynomialFeatures(degree=3)"
   ]
  },
  {
   "cell_type": "code",
   "execution_count": null,
   "id": "acb623d1-7c40-4cee-87fc-20be47b5b833",
   "metadata": {},
   "outputs": [],
   "source": [
    "train_features_ = poly_features.fit_transform(train_features)"
   ]
  },
  {
   "cell_type": "code",
   "execution_count": null,
   "id": "3cfabd59-efb6-453c-804a-a7e29cd061f3",
   "metadata": {},
   "outputs": [],
   "source": [
    "log_ = LogisticRegression(max_iter = 10000000)"
   ]
  },
  {
   "cell_type": "code",
   "execution_count": null,
   "id": "ab788255-9ff8-4b77-bd0b-2de144035f05",
   "metadata": {},
   "outputs": [],
   "source": [
    "log_.fit(train_features_, train_target)"
   ]
  },
  {
   "cell_type": "code",
   "execution_count": null,
   "id": "6ddf30e4-9380-42e7-a089-acbd2cc86a76",
   "metadata": {},
   "outputs": [],
   "source": [
    "test_features_ = poly_features.transform(test_features)\n",
    "log_.score(test_features_,test_target)"
   ]
  },
  {
   "cell_type": "code",
   "execution_count": null,
   "id": "db4cdb03-4352-44aa-b19f-421505fe6586",
   "metadata": {},
   "outputs": [],
   "source": []
  }
 ],
 "metadata": {
  "kernelspec": {
   "display_name": "Python 3 (ipykernel)",
   "language": "python",
   "name": "python3"
  },
  "language_info": {
   "codemirror_mode": {
    "name": "ipython",
    "version": 3
   },
   "file_extension": ".py",
   "mimetype": "text/x-python",
   "name": "python",
   "nbconvert_exporter": "python",
   "pygments_lexer": "ipython3",
   "version": "3.11.5"
  }
 },
 "nbformat": 4,
 "nbformat_minor": 5
}
