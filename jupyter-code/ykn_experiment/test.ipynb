{
 "cells": [
  {
   "cell_type": "code",
   "execution_count": 1,
   "id": "40c0a582-1442-4726-a550-6c7b618d31df",
   "metadata": {},
   "outputs": [
    {
     "name": "stdout",
     "output_type": "stream",
     "text": [
      "选择的列：\n",
      "[[ 1  3]\n",
      " [ 4  6]\n",
      " [ 7  9]\n",
      " [10 12]]\n"
     ]
    }
   ],
   "source": [
    "import numpy as np\n",
    "\n",
    "# 假设a是一个4x3的NumPy数组，b是一个长度为3的布尔值数组\n",
    "a = np.array([[1, 2, 3],\n",
    "              [4, 5, 6],\n",
    "              [7, 8, 9],\n",
    "              [10, 11, 12]])\n",
    "\n",
    "b = np.array([True, False, True])  # 假设布尔值数组b表示要保留的列\n",
    "\n",
    "# 根据布尔值数组b选择保留的列\n",
    "selected_columns = a[:, b]\n",
    "\n",
    "print(\"选择的列：\")\n",
    "print(selected_columns)"
   ]
  },
  {
   "cell_type": "code",
   "execution_count": 6,
   "id": "862cd327-4217-447b-b9d2-2f57298b9d96",
   "metadata": {},
   "outputs": [
    {
     "name": "stdout",
     "output_type": "stream",
     "text": [
      "模型准确率： 0.23333333333333334\n"
     ]
    }
   ],
   "source": [
    "import numpy as np\n",
    "from sklearn.model_selection import train_test_split\n",
    "from sklearn.preprocessing import StandardScaler\n",
    "from sklearn.discriminant_analysis import LinearDiscriminantAnalysis as LDA\n",
    "from sklearn.tree import DecisionTreeClassifier\n",
    "from sklearn.metrics import accuracy_score\n",
    "\n",
    "# 生成样本数据\n",
    "# 假设有5个特征，最后一个特征为标签（1表示好转，0表示未好转）\n",
    "\n",
    "X = np.random.randn(100, 100)\n",
    "y = np.random.randint(0, 2, 100)\n",
    "# 数据标准化\n",
    "scaler = StandardScaler()\n",
    "X_train_scaled = scaler.fit_transform(X_train)\n",
    "X_test_scaled = scaler.transform(X_test)\n",
    "# 划分训练集和测试集\n",
    "X_train, X_test, y_train, y_test = train_test_split(X, y, test_size=0.3)\n",
    "\n",
    "# 特征选择：t检验\n",
    "# from scipy.stats import ttest_ind\n",
    "# t_values, p_values = ttest_ind(X_train[y_train==0], X_train[y_train==1], axis=0)\n",
    "# selected_features = np.where(p_values < 0.05)[0]\n",
    "# X_train_selected = X_train[:, selected_features]\n",
    "# X_test_selected = X_test[:, selected_features]\n",
    "\n",
    "\n",
    "\n",
    "# 线性判别分析（LDA）降维\n",
    "lda = LDA(n_components=1)\n",
    "X_train_lda = lda.fit_transform(X_train_scaled, y_train)\n",
    "X_test_lda = lda.transform(X_test_scaled)\n",
    "\n",
    "# 使用决策树模型进行分类\n",
    "clf = DecisionTreeClassifier()\n",
    "clf.fit(X_train_lda, y_train)\n",
    "y_pred = clf.predict(X_test_lda)\n",
    "\n",
    "# 计算准确率\n",
    "accuracy = accuracy_score(y_test, y_pred)\n",
    "print(\"模型准确率：\", accuracy)"
   ]
  },
  {
   "cell_type": "code",
   "execution_count": null,
   "id": "fc456dda-38a3-40db-8208-80d637de39ef",
   "metadata": {},
   "outputs": [],
   "source": []
  },
  {
   "cell_type": "code",
   "execution_count": 3,
   "id": "610569c2-e360-4bf7-8360-43a56ed4054a",
   "metadata": {},
   "outputs": [
    {
     "name": "stdout",
     "output_type": "stream",
     "text": [
      "Selected features: [0 1 2 3 4 5 7 8 9]\n",
      "Test score: 0.999993069808881\n"
     ]
    }
   ],
   "source": [
    "from sklearn.datasets import make_regression\n",
    "from sklearn.linear_model import LassoCV\n",
    "from sklearn.feature_selection import SelectFromModel\n",
    "from sklearn.model_selection import train_test_split\n",
    "\n",
    "# 生成示例数据集\n",
    "X, y = make_regression(n_samples=100, n_features=10, noise=0.1)\n",
    "\n",
    "# 将数据集分为训练集和测试集\n",
    "X_train, X_test, y_train, y_test = train_test_split(X, y, test_size=0.2)\n",
    "\n",
    "# 初始化LassoCV模型\n",
    "lasso_cv = LassoCV(cv=5)  # cv表示交叉验证的折数\n",
    "\n",
    "# 使用SelectFromModel进行特征选择\n",
    "selector = SelectFromModel(lasso_cv)\n",
    "\n",
    "# 拟合并转换数据\n",
    "X_train_selected = selector.fit_transform(X_train, y_train)\n",
    "\n",
    "# 输出选择的特征\n",
    "selected_features = selector.get_support(indices=True)\n",
    "print(\"Selected features:\", selected_features)\n",
    "\n",
    "# 在测试集上评估模型\n",
    "X_test_selected = selector.transform(X_test)\n",
    "lasso_cv.fit(X_train_selected, y_train)\n",
    "score = lasso_cv.score(X_test_selected, y_test)\n",
    "print(\"Test score:\", score)"
   ]
  },
  {
   "cell_type": "code",
   "execution_count": 4,
   "id": "04d00d43-ce43-446f-b2bd-3e1d2a753c39",
   "metadata": {},
   "outputs": [
    {
     "name": "stdout",
     "output_type": "stream",
     "text": [
      "Selected features: [0 1 2 3 4 5 6 7 8 9]\n",
      "Test score: 0.9999970340861294\n"
     ]
    }
   ],
   "source": [
    "from sklearn.datasets import make_regression\n",
    "from sklearn.linear_model import LassoCV\n",
    "from sklearn.feature_selection import SelectFromModel\n",
    "from sklearn.model_selection import train_test_split\n",
    "\n",
    "# 生成示例数据集\n",
    "X, y = make_regression(n_samples=100, n_features=10, noise=0.1, random_state=42)\n",
    "\n",
    "# 将数据集分为训练集和测试集\n",
    "X_train, X_test, y_train, y_test = train_test_split(X, y, test_size=0.2, random_state=42)\n",
    "\n",
    "# 初始化LassoCV模型\n",
    "lasso_cv = LassoCV(cv=5)  # cv表示交叉验证的折数\n",
    "\n",
    "# 使用SelectFromModel进行特征选择\n",
    "selector = SelectFromModel(lasso_cv)\n",
    "\n",
    "# 拟合并转换数据\n",
    "X_train_selected = selector.fit_transform(X_train, y_train)\n",
    "\n",
    "# 输出选择的特征\n",
    "selected_features = selector.get_support(indices=True)\n",
    "print(\"Selected features:\", selected_features)\n",
    "\n",
    "# 在测试集上评估模型\n",
    "X_test_selected = selector.transform(X_test)\n",
    "lasso_cv.fit(X_train_selected, y_train)\n",
    "score = lasso_cv.score(X_test_selected, y_test)\n",
    "print(\"Test score:\", score)\n"
   ]
  },
  {
   "cell_type": "code",
   "execution_count": 7,
   "id": "033e3c21-a848-48e7-88a1-76b044929176",
   "metadata": {},
   "outputs": [
    {
     "data": {
      "text/html": [
       "<div>\n",
       "<style scoped>\n",
       "    .dataframe tbody tr th:only-of-type {\n",
       "        vertical-align: middle;\n",
       "    }\n",
       "\n",
       "    .dataframe tbody tr th {\n",
       "        vertical-align: top;\n",
       "    }\n",
       "\n",
       "    .dataframe thead th {\n",
       "        text-align: right;\n",
       "    }\n",
       "</style>\n",
       "<table border=\"1\" class=\"dataframe\">\n",
       "  <thead>\n",
       "    <tr style=\"text-align: right;\">\n",
       "      <th></th>\n",
       "      <th>A</th>\n",
       "      <th>B</th>\n",
       "      <th>C</th>\n",
       "      <th>Column_1</th>\n",
       "      <th>Column_2</th>\n",
       "      <th>Column_3</th>\n",
       "      <th>Column_4</th>\n",
       "      <th>Column_5</th>\n",
       "      <th>Column_6</th>\n",
       "      <th>Column_7</th>\n",
       "      <th>...</th>\n",
       "      <th>Column_40</th>\n",
       "      <th>Column_41</th>\n",
       "      <th>Column_42</th>\n",
       "      <th>Column_43</th>\n",
       "      <th>Column_44</th>\n",
       "      <th>Column_45</th>\n",
       "      <th>Column_46</th>\n",
       "      <th>Column_47</th>\n",
       "      <th>Column_48</th>\n",
       "      <th>Column_49</th>\n",
       "    </tr>\n",
       "  </thead>\n",
       "  <tbody>\n",
       "    <tr>\n",
       "      <th>0</th>\n",
       "      <td>1</td>\n",
       "      <td>4</td>\n",
       "      <td>7</td>\n",
       "      <td>1</td>\n",
       "      <td>2</td>\n",
       "      <td>3</td>\n",
       "      <td>4</td>\n",
       "      <td>5</td>\n",
       "      <td>6</td>\n",
       "      <td>7</td>\n",
       "      <td>...</td>\n",
       "      <td>40</td>\n",
       "      <td>41</td>\n",
       "      <td>42</td>\n",
       "      <td>43</td>\n",
       "      <td>44</td>\n",
       "      <td>45</td>\n",
       "      <td>46</td>\n",
       "      <td>47</td>\n",
       "      <td>48</td>\n",
       "      <td>49</td>\n",
       "    </tr>\n",
       "    <tr>\n",
       "      <th>1</th>\n",
       "      <td>2</td>\n",
       "      <td>5</td>\n",
       "      <td>8</td>\n",
       "      <td>2</td>\n",
       "      <td>4</td>\n",
       "      <td>6</td>\n",
       "      <td>8</td>\n",
       "      <td>10</td>\n",
       "      <td>12</td>\n",
       "      <td>14</td>\n",
       "      <td>...</td>\n",
       "      <td>80</td>\n",
       "      <td>82</td>\n",
       "      <td>84</td>\n",
       "      <td>86</td>\n",
       "      <td>88</td>\n",
       "      <td>90</td>\n",
       "      <td>92</td>\n",
       "      <td>94</td>\n",
       "      <td>96</td>\n",
       "      <td>98</td>\n",
       "    </tr>\n",
       "    <tr>\n",
       "      <th>2</th>\n",
       "      <td>3</td>\n",
       "      <td>6</td>\n",
       "      <td>9</td>\n",
       "      <td>3</td>\n",
       "      <td>6</td>\n",
       "      <td>9</td>\n",
       "      <td>12</td>\n",
       "      <td>15</td>\n",
       "      <td>18</td>\n",
       "      <td>21</td>\n",
       "      <td>...</td>\n",
       "      <td>120</td>\n",
       "      <td>123</td>\n",
       "      <td>126</td>\n",
       "      <td>129</td>\n",
       "      <td>132</td>\n",
       "      <td>135</td>\n",
       "      <td>138</td>\n",
       "      <td>141</td>\n",
       "      <td>144</td>\n",
       "      <td>147</td>\n",
       "    </tr>\n",
       "  </tbody>\n",
       "</table>\n",
       "<p>3 rows × 52 columns</p>\n",
       "</div>"
      ],
      "text/plain": [
       "   A  B  C  Column_1  Column_2  Column_3  Column_4  Column_5  Column_6  \\\n",
       "0  1  4  7         1         2         3         4         5         6   \n",
       "1  2  5  8         2         4         6         8        10        12   \n",
       "2  3  6  9         3         6         9        12        15        18   \n",
       "\n",
       "   Column_7  ...  Column_40  Column_41  Column_42  Column_43  Column_44  \\\n",
       "0         7  ...         40         41         42         43         44   \n",
       "1        14  ...         80         82         84         86         88   \n",
       "2        21  ...        120        123        126        129        132   \n",
       "\n",
       "   Column_45  Column_46  Column_47  Column_48  Column_49  \n",
       "0         45         46         47         48         49  \n",
       "1         90         92         94         96         98  \n",
       "2        135        138        141        144        147  \n",
       "\n",
       "[3 rows x 52 columns]"
      ]
     },
     "execution_count": 7,
     "metadata": {},
     "output_type": "execute_result"
    }
   ],
   "source": [
    "import pandas as pd\n",
    "\n",
    "# 创建一个示例 DataFrame\n",
    "data = {'A': [1, 2, 3],\n",
    "        'B': [4, 5, 6],\n",
    "        'C': [7, 8, 9],\n",
    "        # 添加示例数据以至少包含 50 列\n",
    "        **{f'Column_{i}': [i * j for j in range(1, 4)] for i in range(1, 50)}}\n",
    "df = pd.DataFrame(data)\n",
    "df\n"
   ]
  },
  {
   "cell_type": "code",
   "execution_count": 8,
   "id": "8131a2fb-458d-4d1a-8c7d-671defc989f1",
   "metadata": {},
   "outputs": [
    {
     "name": "stdout",
     "output_type": "stream",
     "text": [
      "   B  Column_1  Column_2  Column_18  Column_29  Column_34\n",
      "0  4         1         2         18         29         34\n",
      "1  5         2         4         36         58         68\n",
      "2  6         3         6         54         87        102\n"
     ]
    }
   ],
   "source": [
    "# 通过列的索引数组选择多列\n",
    "column_indices = [1, 3, 4, 20, 31, 36]  # 要选择的列的索引数组\n",
    "selected_columns = df.iloc[:, column_indices]\n",
    "\n",
    "print(selected_columns)"
   ]
  },
  {
   "cell_type": "code",
   "execution_count": 3,
   "id": "ee2eff15-6227-43f8-b435-456ba9f1f4c0",
   "metadata": {},
   "outputs": [
    {
     "ename": "OSError",
     "evalue": "Parameter file G:\\parameter.yaml does not exist.",
     "output_type": "error",
     "traceback": [
      "\u001b[0;31m---------------------------------------------------------------------------\u001b[0m",
      "\u001b[0;31mOSError\u001b[0m                                   Traceback (most recent call last)",
      "Cell \u001b[0;32mIn[3], line 12\u001b[0m\n\u001b[1;32m      9\u001b[0m tree3 \u001b[38;5;241m=\u001b[39m \u001b[38;5;124mr\u001b[39m\u001b[38;5;124m'\u001b[39m\u001b[38;5;124mG:\u001b[39m\u001b[38;5;124m\\\u001b[39m\u001b[38;5;124mparameter.yaml\u001b[39m\u001b[38;5;124m'\u001b[39m\n\u001b[1;32m     10\u001b[0m tree4 \u001b[38;5;241m=\u001b[39m \u001b[38;5;124mr\u001b[39m\u001b[38;5;124m'\u001b[39m\u001b[38;5;124mresults.csv\u001b[39m\u001b[38;5;124m'\u001b[39m\n\u001b[0;32m---> 12\u001b[0m extractor \u001b[38;5;241m=\u001b[39m FEE\u001b[38;5;241m.\u001b[39mRadiomicsFeatureExtractor(tree3)\n\u001b[1;32m     13\u001b[0m namelist \u001b[38;5;241m=\u001b[39m []\n\u001b[1;32m     14\u001b[0m valuelist \u001b[38;5;241m=\u001b[39m []\n",
      "File \u001b[0;32m~/anaconda3/lib/python3.11/site-packages/radiomics/featureextractor.py:61\u001b[0m, in \u001b[0;36mRadiomicsFeatureExtractor.__init__\u001b[0;34m(self, *args, **kwargs)\u001b[0m\n\u001b[1;32m     59\u001b[0m \u001b[38;5;28;01melif\u001b[39;00m \u001b[38;5;28mlen\u001b[39m(args) \u001b[38;5;241m==\u001b[39m \u001b[38;5;241m1\u001b[39m \u001b[38;5;129;01mand\u001b[39;00m (\u001b[38;5;28misinstance\u001b[39m(args[\u001b[38;5;241m0\u001b[39m], six\u001b[38;5;241m.\u001b[39mstring_types) \u001b[38;5;129;01mor\u001b[39;00m \u001b[38;5;28misinstance\u001b[39m(args[\u001b[38;5;241m0\u001b[39m], pathlib\u001b[38;5;241m.\u001b[39mPurePath)):\n\u001b[1;32m     60\u001b[0m   \u001b[38;5;28;01mif\u001b[39;00m \u001b[38;5;129;01mnot\u001b[39;00m os\u001b[38;5;241m.\u001b[39mpath\u001b[38;5;241m.\u001b[39misfile(args[\u001b[38;5;241m0\u001b[39m]):\n\u001b[0;32m---> 61\u001b[0m     \u001b[38;5;28;01mraise\u001b[39;00m \u001b[38;5;167;01mIOError\u001b[39;00m(\u001b[38;5;124m\"\u001b[39m\u001b[38;5;124mParameter file \u001b[39m\u001b[38;5;132;01m%s\u001b[39;00m\u001b[38;5;124m does not exist.\u001b[39m\u001b[38;5;124m\"\u001b[39m \u001b[38;5;241m%\u001b[39m args[\u001b[38;5;241m0\u001b[39m])\n\u001b[1;32m     62\u001b[0m   logger\u001b[38;5;241m.\u001b[39minfo(\u001b[38;5;124m\"\u001b[39m\u001b[38;5;124mLoading parameter file \u001b[39m\u001b[38;5;132;01m%s\u001b[39;00m\u001b[38;5;124m\"\u001b[39m, \u001b[38;5;28mstr\u001b[39m(args[\u001b[38;5;241m0\u001b[39m]))\n\u001b[1;32m     63\u001b[0m   \u001b[38;5;28mself\u001b[39m\u001b[38;5;241m.\u001b[39m_applyParams(paramsFile\u001b[38;5;241m=\u001b[39margs[\u001b[38;5;241m0\u001b[39m])\n",
      "\u001b[0;31mOSError\u001b[0m: Parameter file G:\\parameter.yaml does not exist."
     ]
    }
   ],
   "source": [
    "import radiomics\n",
    "import radiomics.featureextractor as FEE\n",
    "import os\n",
    "import csv\n",
    "import pandas as pd\n",
    "\n",
    "tree1 = r'G:\\img'\n",
    "tree2 = r'G:\\voi'\n",
    "tree3 = r'G:\\parameter.yaml'\n",
    "tree4 = r'results.csv'\n",
    "\n",
    "extractor = FEE.RadiomicsFeatureExtractor(tree3)\n",
    "namelist = []\n",
    "valuelist = []\n",
    "result = []\n",
    "for root, dirs, files in os.walk(tree1):\n",
    "    for name in files:\n",
    "        result = (extractor.execute(os.path.join(tree1, name), os.path.join(tree2, name)))\n",
    "        valuelist.append(result.values())\n",
    "        namelist.append(name)\n",
    "with open(\"./csv.csv\",'w',newline='') as t:\n",
    "    writer = csv.writer(t)\n",
    "    writer.writerow(result.keys())\n",
    "    writer.writerows(valuelist)\n",
    "csv = pd.read_csv(\"./csv.csv\")\n",
    "csv.insert(0, 'Name', namelist)\n",
    "\n",
    "csv.to_csv(tree4, index=False)\n"
   ]
  },
  {
   "cell_type": "code",
   "execution_count": 1,
   "id": "abc1c97f-7912-4e38-94cd-7e89e418e929",
   "metadata": {},
   "outputs": [
    {
     "name": "stdout",
     "output_type": "stream",
     "text": [
      "Feature coefficients: [[ 3.13576434  0.1650597  17.04457114]]\n",
      "Selected features: [1 0 2]\n"
     ]
    }
   ],
   "source": [
    "from sklearn.discriminant_analysis import LinearDiscriminantAnalysis\n",
    "import numpy as np\n",
    "\n",
    "# 假设你有一个特征矩阵 X 和对应的类别标签 y\n",
    "X = np.array([[0.5, 1.2, 0.8],\n",
    "              [1.0, 2.0, 1.5],\n",
    "              [0.2, 0.6, 0.9],\n",
    "              [2.0, 2.5, 1.8]])\n",
    "y = np.array([0, 1, 0, 1])\n",
    "\n",
    "# 创建并拟合LDA模型\n",
    "lda = LinearDiscriminantAnalysis()\n",
    "lda.fit(X, y)\n",
    "\n",
    "# 获取特征系数\n",
    "feature_coefficients = lda.coef_\n",
    "\n",
    "# 输出特征系数\n",
    "print(\"Feature coefficients:\", feature_coefficients)\n",
    "\n",
    "# 根据特征系数选择特征\n",
    "selected_features = np.argsort(np.abs(feature_coefficients))[0]\n",
    "print(\"Selected features:\", selected_features)"
   ]
  },
  {
   "cell_type": "code",
   "execution_count": 5,
   "id": "8e910024-5484-49be-8cde-dffe2db4ba9e",
   "metadata": {},
   "outputs": [
    {
     "name": "stdout",
     "output_type": "stream",
     "text": [
      "asdff235vvdfb\n",
      "bdbbdv\n",
      "dvvav\n",
      "['asdff-235v_vdfb', '--bdb-b_dv', 'dv_va-v']\n"
     ]
    }
   ],
   "source": [
    "strs = ['asdff-235v_vdfb','--bdb-b_dv','dv_va-v']\n",
    "\n",
    "for col in strs:\n",
    "    _col = col.replace('-','')\n",
    "    new_col = _col.replace('_','')\n",
    "    print(new_col)\n",
    "\n",
    "print(strs)"
   ]
  },
  {
   "cell_type": "code",
   "execution_count": 9,
   "id": "086bb909-2bf9-457e-813c-4b31db0aad8f",
   "metadata": {},
   "outputs": [
    {
     "name": "stdout",
     "output_type": "stream",
     "text": [
      "['asdff235vvdfb', 'bdbbdv', 'dvvav']\n"
     ]
    }
   ],
   "source": [
    "strs = ['asdff-235v_vdfb','--bdb-b_dv','dv_va-v']\n",
    "\n",
    "# 使用列表推导式遍历字符串数组，将其中每个字符串中的所有'a'替换成'b'\n",
    "_str_array = [s.replace('-', '') for s in strs]\n",
    "new_str_array = [s.replace('_', '') for s in _str_array]\n",
    "\n",
    "print(new_str_array)"
   ]
  },
  {
   "cell_type": "code",
   "execution_count": null,
   "id": "103714de-826c-490f-ab87-098ac86a69c7",
   "metadata": {},
   "outputs": [],
   "source": []
  }
 ],
 "metadata": {
  "kernelspec": {
   "display_name": "Python 3 (ipykernel)",
   "language": "python",
   "name": "python3"
  },
  "language_info": {
   "codemirror_mode": {
    "name": "ipython",
    "version": 3
   },
   "file_extension": ".py",
   "mimetype": "text/x-python",
   "name": "python",
   "nbconvert_exporter": "python",
   "pygments_lexer": "ipython3",
   "version": "3.11.5"
  }
 },
 "nbformat": 4,
 "nbformat_minor": 5
}
