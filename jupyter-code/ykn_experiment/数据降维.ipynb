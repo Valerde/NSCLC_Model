{
 "cells": [
  {
   "cell_type": "markdown",
   "metadata": {},
   "source": [
    "# 一、导入数据"
   ]
  },
  {
   "cell_type": "code",
   "execution_count": 1,
   "metadata": {},
   "outputs": [],
   "source": [
    "import numpy as np\n",
    "import pandas as pd\n",
    "from sklearn.utils import shuffle\n",
    "from sklearn.preprocessing import StandardScaler,MinMaxScaler\n",
    "from sklearn.linear_model import LassoCV\n",
    "from scipy.stats import ttest_ind, levene"
   ]
  },
  {
   "cell_type": "code",
   "execution_count": 2,
   "metadata": {},
   "outputs": [
    {
     "name": "stderr",
     "output_type": "stream",
     "text": [
      "/root/anaconda3/lib/python3.11/site-packages/scipy/stats/_morestats.py:2710: RuntimeWarning: invalid value encountered in double_scalars\n",
      "  W = numer / denom\n",
      "/tmp/ipykernel_1613265/4155965730.py:32: RuntimeWarning: Precision loss occurred in moment calculation due to catastrophic cancellation. This occurs when the data are nearly identical. Results may be unreliable.\n",
      "  if ttest_ind(data_LA_[col],data_XA_[col],equal_var=False)[1] < 0.05:\n"
     ]
    }
   ],
   "source": [
    "data_LA = pd.read_csv(\"input/LA_total.csv\",index_col=0)\n",
    "data_XA = pd.read_csv(\"input/XA_total.csv\",index_col=0)\n",
    "\n",
    "\n",
    "data_LA_ = pd.DataFrame()\n",
    "columns_LA = data_LA.columns\n",
    "for col in columns_LA:\n",
    "    try:\n",
    "        df = data_LA[col].astype(np.float64)\n",
    "        data_LA_ = pd.concat([data_LA_,df],axis=1)\n",
    "    except:\n",
    "        pass\n",
    "    continue\n",
    "    \n",
    "data_XA_ = pd.DataFrame()\n",
    "columns_XA = data_XA.columns\n",
    "for col in columns_XA:\n",
    "    try:\n",
    "        df = data_XA[col].astype(np.float64)\n",
    "        data_XA_ = pd.concat([data_XA_,df],axis=1)\n",
    "    except:\n",
    "        pass\n",
    "    continue\n",
    "\n",
    "# 方差齐性\n",
    "index_ = []\n",
    "for col in data_LA_.columns:\n",
    "    if levene(data_LA_[col],data_XA_[col])[1] > 0.05:\n",
    "        if ttest_ind(data_LA_[col],data_XA_[col])[1] < 0.05:\n",
    "            index_.append(col)\n",
    "    else:\n",
    "        if ttest_ind(data_LA_[col],data_XA_[col],equal_var=False)[1] < 0.05:\n",
    "            index_.append(col)\n",
    "\n",
    "\n",
    "data_L_T = data_LA_[index_]\n",
    "data_X_T = data_XA_[index_]"
   ]
  },
  {
   "cell_type": "code",
   "execution_count": 3,
   "metadata": {},
   "outputs": [
    {
     "data": {
      "text/html": [
       "<div>\n",
       "<style scoped>\n",
       "    .dataframe tbody tr th:only-of-type {\n",
       "        vertical-align: middle;\n",
       "    }\n",
       "\n",
       "    .dataframe tbody tr th {\n",
       "        vertical-align: top;\n",
       "    }\n",
       "\n",
       "    .dataframe thead th {\n",
       "        text-align: right;\n",
       "    }\n",
       "</style>\n",
       "<table border=\"1\" class=\"dataframe\">\n",
       "  <thead>\n",
       "    <tr style=\"text-align: right;\">\n",
       "      <th></th>\n",
       "      <th>MVI</th>\n",
       "      <th>diagnosticsImage-originalMean</th>\n",
       "      <th>diagnosticsImage-originalMinimum</th>\n",
       "      <th>diagnosticsMask-originalVoxelNum</th>\n",
       "      <th>originalshapeFlatness</th>\n",
       "      <th>originalshapeLeastAxisLength</th>\n",
       "      <th>originalshapeMaximum2DDiameterRow</th>\n",
       "      <th>originalshapeMaximum2DDiameterSlice</th>\n",
       "      <th>originalshapeMeshVolume</th>\n",
       "      <th>originalshapeMinorAxisLength</th>\n",
       "      <th>...</th>\n",
       "      <th>wavelet-LLLglszmGrayLevelNonUniformity</th>\n",
       "      <th>wavelet-LLLglszmLowGrayLevelZoneEmphasis</th>\n",
       "      <th>wavelet-LLLglszmSizeZoneNonUniformity</th>\n",
       "      <th>wavelet-LLLglszmSizeZoneNonUniformityNormalized</th>\n",
       "      <th>wavelet-LLLglszmSmallAreaEmphasis</th>\n",
       "      <th>wavelet-LLLglszmZoneEntropy</th>\n",
       "      <th>wavelet-LLLglszmZonePercentage</th>\n",
       "      <th>wavelet-LLLngtdmCoarseness</th>\n",
       "      <th>wavelet-LLLngtdmContrast</th>\n",
       "      <th>wavelet-LLLngtdmStrength</th>\n",
       "    </tr>\n",
       "  </thead>\n",
       "  <tbody>\n",
       "    <tr>\n",
       "      <th>X50</th>\n",
       "      <td>1.0</td>\n",
       "      <td>-560.647651</td>\n",
       "      <td>-1024.0</td>\n",
       "      <td>362.0</td>\n",
       "      <td>0.331753</td>\n",
       "      <td>8.090053</td>\n",
       "      <td>29.419917</td>\n",
       "      <td>19.718865</td>\n",
       "      <td>1643.868896</td>\n",
       "      <td>14.645927</td>\n",
       "      <td>...</td>\n",
       "      <td>7.925000</td>\n",
       "      <td>0.019342</td>\n",
       "      <td>59.975000</td>\n",
       "      <td>0.374844</td>\n",
       "      <td>0.634927</td>\n",
       "      <td>5.897531</td>\n",
       "      <td>0.441989</td>\n",
       "      <td>0.007321</td>\n",
       "      <td>0.751890</td>\n",
       "      <td>3.257593</td>\n",
       "    </tr>\n",
       "    <tr>\n",
       "      <th>X19-1</th>\n",
       "      <td>1.0</td>\n",
       "      <td>-585.181628</td>\n",
       "      <td>-1024.0</td>\n",
       "      <td>71.0</td>\n",
       "      <td>0.000000</td>\n",
       "      <td>0.000000</td>\n",
       "      <td>9.105060</td>\n",
       "      <td>12.654759</td>\n",
       "      <td>255.878629</td>\n",
       "      <td>4.422720</td>\n",
       "      <td>...</td>\n",
       "      <td>2.720000</td>\n",
       "      <td>0.060102</td>\n",
       "      <td>27.880000</td>\n",
       "      <td>0.557600</td>\n",
       "      <td>0.774689</td>\n",
       "      <td>4.813661</td>\n",
       "      <td>0.704225</td>\n",
       "      <td>0.164622</td>\n",
       "      <td>0.223121</td>\n",
       "      <td>36.216280</td>\n",
       "    </tr>\n",
       "    <tr>\n",
       "      <th>L21</th>\n",
       "      <td>0.0</td>\n",
       "      <td>-507.213205</td>\n",
       "      <td>-1024.0</td>\n",
       "      <td>171.0</td>\n",
       "      <td>0.000000</td>\n",
       "      <td>0.000000</td>\n",
       "      <td>11.475031</td>\n",
       "      <td>10.203795</td>\n",
       "      <td>512.311157</td>\n",
       "      <td>9.010342</td>\n",
       "      <td>...</td>\n",
       "      <td>6.728155</td>\n",
       "      <td>0.023533</td>\n",
       "      <td>46.650485</td>\n",
       "      <td>0.452917</td>\n",
       "      <td>0.697240</td>\n",
       "      <td>5.241588</td>\n",
       "      <td>0.602339</td>\n",
       "      <td>0.061488</td>\n",
       "      <td>0.122304</td>\n",
       "      <td>13.837037</td>\n",
       "    </tr>\n",
       "    <tr>\n",
       "      <th>X16</th>\n",
       "      <td>1.0</td>\n",
       "      <td>-595.972137</td>\n",
       "      <td>-1024.0</td>\n",
       "      <td>28.0</td>\n",
       "      <td>0.000000</td>\n",
       "      <td>0.000000</td>\n",
       "      <td>8.766125</td>\n",
       "      <td>5.458962</td>\n",
       "      <td>96.251447</td>\n",
       "      <td>3.677664</td>\n",
       "      <td>...</td>\n",
       "      <td>1.666667</td>\n",
       "      <td>0.061554</td>\n",
       "      <td>13.000000</td>\n",
       "      <td>0.619048</td>\n",
       "      <td>0.812500</td>\n",
       "      <td>4.011365</td>\n",
       "      <td>0.750000</td>\n",
       "      <td>0.117936</td>\n",
       "      <td>1.729868</td>\n",
       "      <td>39.859153</td>\n",
       "    </tr>\n",
       "    <tr>\n",
       "      <th>X13</th>\n",
       "      <td>1.0</td>\n",
       "      <td>-561.705713</td>\n",
       "      <td>-1024.0</td>\n",
       "      <td>5.0</td>\n",
       "      <td>0.000000</td>\n",
       "      <td>0.000000</td>\n",
       "      <td>8.117304</td>\n",
       "      <td>2.174066</td>\n",
       "      <td>11.028646</td>\n",
       "      <td>1.229837</td>\n",
       "      <td>...</td>\n",
       "      <td>1.400000</td>\n",
       "      <td>0.327778</td>\n",
       "      <td>5.000000</td>\n",
       "      <td>1.000000</td>\n",
       "      <td>1.000000</td>\n",
       "      <td>1.921928</td>\n",
       "      <td>1.000000</td>\n",
       "      <td>0.342857</td>\n",
       "      <td>1.060667</td>\n",
       "      <td>4.837209</td>\n",
       "    </tr>\n",
       "    <tr>\n",
       "      <th>...</th>\n",
       "      <td>...</td>\n",
       "      <td>...</td>\n",
       "      <td>...</td>\n",
       "      <td>...</td>\n",
       "      <td>...</td>\n",
       "      <td>...</td>\n",
       "      <td>...</td>\n",
       "      <td>...</td>\n",
       "      <td>...</td>\n",
       "      <td>...</td>\n",
       "      <td>...</td>\n",
       "      <td>...</td>\n",
       "      <td>...</td>\n",
       "      <td>...</td>\n",
       "      <td>...</td>\n",
       "      <td>...</td>\n",
       "      <td>...</td>\n",
       "      <td>...</td>\n",
       "      <td>...</td>\n",
       "      <td>...</td>\n",
       "      <td>...</td>\n",
       "    </tr>\n",
       "    <tr>\n",
       "      <th>X66</th>\n",
       "      <td>1.0</td>\n",
       "      <td>-954.245401</td>\n",
       "      <td>-3024.0</td>\n",
       "      <td>770.0</td>\n",
       "      <td>0.632818</td>\n",
       "      <td>11.151757</td>\n",
       "      <td>21.360009</td>\n",
       "      <td>14.429245</td>\n",
       "      <td>1472.737630</td>\n",
       "      <td>11.661566</td>\n",
       "      <td>...</td>\n",
       "      <td>15.897727</td>\n",
       "      <td>0.070199</td>\n",
       "      <td>46.772727</td>\n",
       "      <td>0.265754</td>\n",
       "      <td>0.527173</td>\n",
       "      <td>5.714745</td>\n",
       "      <td>0.228571</td>\n",
       "      <td>0.010175</td>\n",
       "      <td>0.066420</td>\n",
       "      <td>0.861425</td>\n",
       "    </tr>\n",
       "    <tr>\n",
       "      <th>X18</th>\n",
       "      <td>1.0</td>\n",
       "      <td>-1118.470506</td>\n",
       "      <td>-3024.0</td>\n",
       "      <td>1056.0</td>\n",
       "      <td>0.071784</td>\n",
       "      <td>18.716927</td>\n",
       "      <td>37.126065</td>\n",
       "      <td>47.631205</td>\n",
       "      <td>3682.703018</td>\n",
       "      <td>32.012460</td>\n",
       "      <td>...</td>\n",
       "      <td>16.964029</td>\n",
       "      <td>0.023890</td>\n",
       "      <td>60.913669</td>\n",
       "      <td>0.219114</td>\n",
       "      <td>0.464881</td>\n",
       "      <td>6.445431</td>\n",
       "      <td>0.263258</td>\n",
       "      <td>0.013373</td>\n",
       "      <td>0.085337</td>\n",
       "      <td>3.309857</td>\n",
       "    </tr>\n",
       "    <tr>\n",
       "      <th>L36</th>\n",
       "      <td>0.0</td>\n",
       "      <td>-587.676148</td>\n",
       "      <td>-1024.0</td>\n",
       "      <td>435.0</td>\n",
       "      <td>0.648197</td>\n",
       "      <td>13.394524</td>\n",
       "      <td>26.345697</td>\n",
       "      <td>19.817185</td>\n",
       "      <td>2336.525859</td>\n",
       "      <td>15.540746</td>\n",
       "      <td>...</td>\n",
       "      <td>8.371134</td>\n",
       "      <td>0.013630</td>\n",
       "      <td>59.536082</td>\n",
       "      <td>0.306887</td>\n",
       "      <td>0.556046</td>\n",
       "      <td>6.272273</td>\n",
       "      <td>0.445977</td>\n",
       "      <td>0.006613</td>\n",
       "      <td>1.089471</td>\n",
       "      <td>4.498534</td>\n",
       "    </tr>\n",
       "    <tr>\n",
       "      <th>X62</th>\n",
       "      <td>1.0</td>\n",
       "      <td>-628.673143</td>\n",
       "      <td>-1024.0</td>\n",
       "      <td>59.0</td>\n",
       "      <td>0.213322</td>\n",
       "      <td>3.875242</td>\n",
       "      <td>17.028419</td>\n",
       "      <td>9.329552</td>\n",
       "      <td>202.386953</td>\n",
       "      <td>4.779190</td>\n",
       "      <td>...</td>\n",
       "      <td>3.410256</td>\n",
       "      <td>0.061492</td>\n",
       "      <td>21.256410</td>\n",
       "      <td>0.545036</td>\n",
       "      <td>0.766339</td>\n",
       "      <td>4.294910</td>\n",
       "      <td>0.661017</td>\n",
       "      <td>0.120956</td>\n",
       "      <td>0.176870</td>\n",
       "      <td>7.724134</td>\n",
       "    </tr>\n",
       "    <tr>\n",
       "      <th>L48</th>\n",
       "      <td>0.0</td>\n",
       "      <td>-658.172111</td>\n",
       "      <td>-1024.0</td>\n",
       "      <td>2748.0</td>\n",
       "      <td>0.258868</td>\n",
       "      <td>12.667455</td>\n",
       "      <td>32.180218</td>\n",
       "      <td>58.498413</td>\n",
       "      <td>9690.388519</td>\n",
       "      <td>28.413436</td>\n",
       "      <td>...</td>\n",
       "      <td>63.868095</td>\n",
       "      <td>0.010950</td>\n",
       "      <td>271.401353</td>\n",
       "      <td>0.305977</td>\n",
       "      <td>0.566113</td>\n",
       "      <td>6.217708</td>\n",
       "      <td>0.322780</td>\n",
       "      <td>0.002557</td>\n",
       "      <td>0.072590</td>\n",
       "      <td>0.740471</td>\n",
       "    </tr>\n",
       "  </tbody>\n",
       "</table>\n",
       "<p>138 rows × 460 columns</p>\n",
       "</div>"
      ],
      "text/plain": [
       "       MVI  diagnosticsImage-originalMean  diagnosticsImage-originalMinimum  \\\n",
       "X50    1.0                    -560.647651                           -1024.0   \n",
       "X19-1  1.0                    -585.181628                           -1024.0   \n",
       "L21    0.0                    -507.213205                           -1024.0   \n",
       "X16    1.0                    -595.972137                           -1024.0   \n",
       "X13    1.0                    -561.705713                           -1024.0   \n",
       "...    ...                            ...                               ...   \n",
       "X66    1.0                    -954.245401                           -3024.0   \n",
       "X18    1.0                   -1118.470506                           -3024.0   \n",
       "L36    0.0                    -587.676148                           -1024.0   \n",
       "X62    1.0                    -628.673143                           -1024.0   \n",
       "L48    0.0                    -658.172111                           -1024.0   \n",
       "\n",
       "       diagnosticsMask-originalVoxelNum  originalshapeFlatness  \\\n",
       "X50                               362.0               0.331753   \n",
       "X19-1                              71.0               0.000000   \n",
       "L21                               171.0               0.000000   \n",
       "X16                                28.0               0.000000   \n",
       "X13                                 5.0               0.000000   \n",
       "...                                 ...                    ...   \n",
       "X66                               770.0               0.632818   \n",
       "X18                              1056.0               0.071784   \n",
       "L36                               435.0               0.648197   \n",
       "X62                                59.0               0.213322   \n",
       "L48                              2748.0               0.258868   \n",
       "\n",
       "       originalshapeLeastAxisLength  originalshapeMaximum2DDiameterRow  \\\n",
       "X50                        8.090053                          29.419917   \n",
       "X19-1                      0.000000                           9.105060   \n",
       "L21                        0.000000                          11.475031   \n",
       "X16                        0.000000                           8.766125   \n",
       "X13                        0.000000                           8.117304   \n",
       "...                             ...                                ...   \n",
       "X66                       11.151757                          21.360009   \n",
       "X18                       18.716927                          37.126065   \n",
       "L36                       13.394524                          26.345697   \n",
       "X62                        3.875242                          17.028419   \n",
       "L48                       12.667455                          32.180218   \n",
       "\n",
       "       originalshapeMaximum2DDiameterSlice  originalshapeMeshVolume  \\\n",
       "X50                              19.718865              1643.868896   \n",
       "X19-1                            12.654759               255.878629   \n",
       "L21                              10.203795               512.311157   \n",
       "X16                               5.458962                96.251447   \n",
       "X13                               2.174066                11.028646   \n",
       "...                                    ...                      ...   \n",
       "X66                              14.429245              1472.737630   \n",
       "X18                              47.631205              3682.703018   \n",
       "L36                              19.817185              2336.525859   \n",
       "X62                               9.329552               202.386953   \n",
       "L48                              58.498413              9690.388519   \n",
       "\n",
       "       originalshapeMinorAxisLength  ...  \\\n",
       "X50                       14.645927  ...   \n",
       "X19-1                      4.422720  ...   \n",
       "L21                        9.010342  ...   \n",
       "X16                        3.677664  ...   \n",
       "X13                        1.229837  ...   \n",
       "...                             ...  ...   \n",
       "X66                       11.661566  ...   \n",
       "X18                       32.012460  ...   \n",
       "L36                       15.540746  ...   \n",
       "X62                        4.779190  ...   \n",
       "L48                       28.413436  ...   \n",
       "\n",
       "       wavelet-LLLglszmGrayLevelNonUniformity  \\\n",
       "X50                                  7.925000   \n",
       "X19-1                                2.720000   \n",
       "L21                                  6.728155   \n",
       "X16                                  1.666667   \n",
       "X13                                  1.400000   \n",
       "...                                       ...   \n",
       "X66                                 15.897727   \n",
       "X18                                 16.964029   \n",
       "L36                                  8.371134   \n",
       "X62                                  3.410256   \n",
       "L48                                 63.868095   \n",
       "\n",
       "       wavelet-LLLglszmLowGrayLevelZoneEmphasis  \\\n",
       "X50                                    0.019342   \n",
       "X19-1                                  0.060102   \n",
       "L21                                    0.023533   \n",
       "X16                                    0.061554   \n",
       "X13                                    0.327778   \n",
       "...                                         ...   \n",
       "X66                                    0.070199   \n",
       "X18                                    0.023890   \n",
       "L36                                    0.013630   \n",
       "X62                                    0.061492   \n",
       "L48                                    0.010950   \n",
       "\n",
       "       wavelet-LLLglszmSizeZoneNonUniformity  \\\n",
       "X50                                59.975000   \n",
       "X19-1                              27.880000   \n",
       "L21                                46.650485   \n",
       "X16                                13.000000   \n",
       "X13                                 5.000000   \n",
       "...                                      ...   \n",
       "X66                                46.772727   \n",
       "X18                                60.913669   \n",
       "L36                                59.536082   \n",
       "X62                                21.256410   \n",
       "L48                               271.401353   \n",
       "\n",
       "       wavelet-LLLglszmSizeZoneNonUniformityNormalized  \\\n",
       "X50                                           0.374844   \n",
       "X19-1                                         0.557600   \n",
       "L21                                           0.452917   \n",
       "X16                                           0.619048   \n",
       "X13                                           1.000000   \n",
       "...                                                ...   \n",
       "X66                                           0.265754   \n",
       "X18                                           0.219114   \n",
       "L36                                           0.306887   \n",
       "X62                                           0.545036   \n",
       "L48                                           0.305977   \n",
       "\n",
       "       wavelet-LLLglszmSmallAreaEmphasis  wavelet-LLLglszmZoneEntropy  \\\n",
       "X50                             0.634927                     5.897531   \n",
       "X19-1                           0.774689                     4.813661   \n",
       "L21                             0.697240                     5.241588   \n",
       "X16                             0.812500                     4.011365   \n",
       "X13                             1.000000                     1.921928   \n",
       "...                                  ...                          ...   \n",
       "X66                             0.527173                     5.714745   \n",
       "X18                             0.464881                     6.445431   \n",
       "L36                             0.556046                     6.272273   \n",
       "X62                             0.766339                     4.294910   \n",
       "L48                             0.566113                     6.217708   \n",
       "\n",
       "       wavelet-LLLglszmZonePercentage  wavelet-LLLngtdmCoarseness  \\\n",
       "X50                          0.441989                    0.007321   \n",
       "X19-1                        0.704225                    0.164622   \n",
       "L21                          0.602339                    0.061488   \n",
       "X16                          0.750000                    0.117936   \n",
       "X13                          1.000000                    0.342857   \n",
       "...                               ...                         ...   \n",
       "X66                          0.228571                    0.010175   \n",
       "X18                          0.263258                    0.013373   \n",
       "L36                          0.445977                    0.006613   \n",
       "X62                          0.661017                    0.120956   \n",
       "L48                          0.322780                    0.002557   \n",
       "\n",
       "       wavelet-LLLngtdmContrast  wavelet-LLLngtdmStrength  \n",
       "X50                    0.751890                  3.257593  \n",
       "X19-1                  0.223121                 36.216280  \n",
       "L21                    0.122304                 13.837037  \n",
       "X16                    1.729868                 39.859153  \n",
       "X13                    1.060667                  4.837209  \n",
       "...                         ...                       ...  \n",
       "X66                    0.066420                  0.861425  \n",
       "X18                    0.085337                  3.309857  \n",
       "L36                    1.089471                  4.498534  \n",
       "X62                    0.176870                  7.724134  \n",
       "L48                    0.072590                  0.740471  \n",
       "\n",
       "[138 rows x 460 columns]"
      ]
     },
     "execution_count": 3,
     "metadata": {},
     "output_type": "execute_result"
    }
   ],
   "source": [
    "data = pd.concat([data_L_T,data_X_T])\n",
    "data = shuffle(data)\n",
    "data"
   ]
  },
  {
   "cell_type": "code",
   "execution_count": 4,
   "metadata": {},
   "outputs": [],
   "source": [
    "\n",
    "\n",
    "# # 方差齐性\n",
    "# index_ = []\n",
    "# for col in data_LA_.columns:\n",
    "#     if levene(data_LA_[col],data_XA_[col])[1] > 0.05:\n",
    "#         if ttest_ind(data_LA_[col],data_XA_[col])[1] < 0.05:\n",
    "#             index_.append(col)\n",
    "#     else:\n",
    "#         if ttest_ind(data_LA_[col],data_XA_[col],equal_var=False)[1] < 0.05:\n",
    "#             index_.append(col)\n",
    "\n",
    "\n",
    "# data_L_T = data_LA_[index_]\n",
    "# data_X_T = data_XA_[index_]\n",
    "\n",
    "\n",
    "# data = pd.concat([data_L_T,data_X_T])\n",
    "# data = shuffle(data)\n",
    "\n",
    "# target = data.iloc[:, 0]\n",
    "# features = data.iloc[:,1:]\n",
    "# features_bk = features.copy()\n",
    "\n",
    "# transfer = StandardScaler()\n",
    "# features_SS = transfer.fit_transform(features_bk)\n",
    "# # 数据标准化很有必要\n",
    "\n",
    "# alphas_ = np.logspace(-2,0,300)\n",
    "\n",
    "\n",
    "# lassocv = LassoCV(alphas = alphas_,cv = 10,max_iter = 100000).fit(features_SS,target)\n",
    "# lassocv.alpha_\n",
    "\n",
    "# features = data[features.columns[lassocv.coef_!=0]]\n",
    "# print(len(features.columns))\n",
    "\n",
    "\n",
    "\n",
    "# features_SS =features_SS[:, pd.DataFrame(features_SS).columns[lassocv.coef_!=0]]\n",
    "# features_SS.shape"
   ]
  },
  {
   "cell_type": "markdown",
   "metadata": {},
   "source": [
    "# 二、设置变量"
   ]
  },
  {
   "cell_type": "code",
   "execution_count": 5,
   "metadata": {},
   "outputs": [
    {
     "data": {
      "text/plain": [
       "array([[ 0.55401193,  0.36214298, -0.5485918 , ..., -0.43365329,\n",
       "         0.99928799, -0.36505527],\n",
       "       [ 0.3882474 ,  0.36214298, -0.66115522, ...,  1.82005661,\n",
       "        -0.06522262,  1.65809717],\n",
       "       [ 0.91504331,  0.36214298, -0.62247363, ...,  0.34241849,\n",
       "        -0.26818687,  0.2843586 ],\n",
       "       ...,\n",
       "       [ 0.37139311,  0.36214298, -0.52035424, ..., -0.44380744,\n",
       "         1.67890157, -0.28888072],\n",
       "       [ 0.09439573,  0.36214298, -0.66579701, ...,  1.19443316,\n",
       "        -0.15833478, -0.09087891],\n",
       "       [-0.10491491,  0.36214298,  0.37435087, ..., -0.50191513,\n",
       "        -0.36826993, -0.51956753]])"
      ]
     },
     "execution_count": 5,
     "metadata": {},
     "output_type": "execute_result"
    }
   ],
   "source": [
    "target = data.iloc[:, 0]\n",
    "features = data.iloc[:,1:]\n",
    "features_bk = features.copy()\n",
    "\n",
    "transfer = StandardScaler()\n",
    "features_SS = transfer.fit_transform(features_bk)\n",
    "# features_SS = features_bk\n",
    "\n",
    "\n",
    "features_SS"
   ]
  },
  {
   "cell_type": "code",
   "execution_count": 6,
   "metadata": {},
   "outputs": [
    {
     "data": {
      "text/plain": [
       "(138, 459)"
      ]
     },
     "execution_count": 6,
     "metadata": {},
     "output_type": "execute_result"
    }
   ],
   "source": [
    "features_SS.shape"
   ]
  },
  {
   "cell_type": "markdown",
   "metadata": {},
   "source": [
    "# 三、PCA降维"
   ]
  },
  {
   "cell_type": "code",
   "execution_count": 7,
   "metadata": {},
   "outputs": [],
   "source": [
    "from sklearn.decomposition import PCA"
   ]
  },
  {
   "cell_type": "code",
   "execution_count": 8,
   "metadata": {},
   "outputs": [],
   "source": [
    "pca=PCA()"
   ]
  },
  {
   "cell_type": "code",
   "execution_count": 9,
   "metadata": {},
   "outputs": [],
   "source": [
    "features_reduced = pca.fit_transform(features_SS)"
   ]
  },
  {
   "cell_type": "code",
   "execution_count": 10,
   "metadata": {},
   "outputs": [
    {
     "data": {
      "text/plain": [
       "(138, 459)"
      ]
     },
     "execution_count": 10,
     "metadata": {},
     "output_type": "execute_result"
    }
   ],
   "source": [
    "features.shape"
   ]
  },
  {
   "cell_type": "code",
   "execution_count": null,
   "metadata": {},
   "outputs": [],
   "source": [
    "pca_2 = PCA(n_components=2)"
   ]
  },
  {
   "cell_type": "code",
   "execution_count": null,
   "metadata": {},
   "outputs": [],
   "source": [
    "features_2 = pca_2.fit_transform(features_SS)"
   ]
  },
  {
   "cell_type": "code",
   "execution_count": null,
   "metadata": {},
   "outputs": [],
   "source": [
    "features_2.shape"
   ]
  },
  {
   "cell_type": "code",
   "execution_count": null,
   "metadata": {},
   "outputs": [],
   "source": [
    "pca_95 = PCA(n_components=0.95)"
   ]
  },
  {
   "cell_type": "code",
   "execution_count": null,
   "metadata": {},
   "outputs": [],
   "source": [
    "features_95 = pca_95.fit_transform(features_SS)"
   ]
  },
  {
   "cell_type": "code",
   "execution_count": null,
   "metadata": {},
   "outputs": [],
   "source": [
    "features_95.shape"
   ]
  },
  {
   "cell_type": "code",
   "execution_count": null,
   "metadata": {},
   "outputs": [],
   "source": [
    "pca.explained_variance_ratio_"
   ]
  },
  {
   "cell_type": "code",
   "execution_count": null,
   "metadata": {},
   "outputs": [],
   "source": [
    "cumsum = np.cumsum(pca.explained_variance_ratio_)"
   ]
  },
  {
   "cell_type": "code",
   "execution_count": null,
   "metadata": {},
   "outputs": [],
   "source": [
    "cumsum"
   ]
  },
  {
   "cell_type": "code",
   "execution_count": null,
   "metadata": {},
   "outputs": [],
   "source": [
    "import matplotlib.pyplot as plt\n",
    "plt.plot(cumsum)"
   ]
  },
  {
   "cell_type": "code",
   "execution_count": null,
   "metadata": {},
   "outputs": [],
   "source": [
    "pca_2.explained_variance_ratio_"
   ]
  },
  {
   "cell_type": "code",
   "execution_count": null,
   "metadata": {},
   "outputs": [],
   "source": [
    "features_2"
   ]
  },
  {
   "cell_type": "code",
   "execution_count": null,
   "metadata": {},
   "outputs": [],
   "source": [
    "x=features_2[:,0]\n",
    "y=features_2[:,1]"
   ]
  },
  {
   "cell_type": "code",
   "execution_count": null,
   "metadata": {
    "scrolled": true
   },
   "outputs": [],
   "source": [
    "plt.scatter(x,y)"
   ]
  },
  {
   "cell_type": "code",
   "execution_count": null,
   "metadata": {},
   "outputs": [],
   "source": [
    "from sklearn.model_selection import train_test_split\n",
    "train_features, test_features, train_target, test_target = train_test_split(\n",
    "    features_reduced, target, \n",
    "    test_size = 0.3)"
   ]
  },
  {
   "cell_type": "code",
   "execution_count": null,
   "metadata": {},
   "outputs": [],
   "source": [
    "from sklearn.svm import SVC\n",
    "clf = SVC()"
   ]
  },
  {
   "cell_type": "code",
   "execution_count": null,
   "metadata": {},
   "outputs": [],
   "source": [
    "clf.fit(train_features, train_target)"
   ]
  },
  {
   "cell_type": "code",
   "execution_count": null,
   "metadata": {},
   "outputs": [],
   "source": [
    "clf.score(test_features, test_target)"
   ]
  },
  {
   "cell_type": "code",
   "execution_count": null,
   "metadata": {},
   "outputs": [],
   "source": [
    "features_recovered = pca_95.inverse_transform(features_95)"
   ]
  },
  {
   "cell_type": "code",
   "execution_count": null,
   "metadata": {},
   "outputs": [],
   "source": [
    "features_recovered.shape #只保留features 95% 的信息"
   ]
  },
  {
   "cell_type": "markdown",
   "metadata": {},
   "source": [
    "# 四、Kernel PCA"
   ]
  },
  {
   "cell_type": "code",
   "execution_count": null,
   "metadata": {},
   "outputs": [],
   "source": [
    "from sklearn.decomposition import KernelPCA"
   ]
  },
  {
   "cell_type": "code",
   "execution_count": null,
   "metadata": {},
   "outputs": [],
   "source": [
    "linear_PCA = KernelPCA(n_components=200,kernel=\"linear\")"
   ]
  },
  {
   "cell_type": "code",
   "execution_count": null,
   "metadata": {},
   "outputs": [],
   "source": [
    "features_linear = linear_PCA.fit_transform(features_SS)"
   ]
  },
  {
   "cell_type": "code",
   "execution_count": null,
   "metadata": {},
   "outputs": [],
   "source": [
    "rbf_PCA = KernelPCA(n_components=600,kernel=\"rbf\")"
   ]
  },
  {
   "cell_type": "code",
   "execution_count": null,
   "metadata": {},
   "outputs": [],
   "source": [
    "features_rbf = rbf_PCA.fit_transform(features_SS)"
   ]
  },
  {
   "cell_type": "code",
   "execution_count": null,
   "metadata": {},
   "outputs": [],
   "source": [
    "sgm_PCA = KernelPCA(n_components=40,kernel=\"sigmoid\")"
   ]
  },
  {
   "cell_type": "code",
   "execution_count": null,
   "metadata": {},
   "outputs": [],
   "source": [
    "features_sgm = sgm_PCA.fit_transform(features_SS)\n",
    "\n",
    "\n",
    "\n",
    "from sklearn.model_selection import train_test_split\n",
    "train_features, test_features, train_target, test_target = train_test_split(\n",
    "    features_rbf, target, \n",
    "    test_size = 0.3)\n",
    "\n",
    "from sklearn.svm import SVC\n",
    "clf = SVC()\n",
    "clf.fit(train_features, train_target)\n",
    "clf.score(test_features, test_target)\n",
    "\n"
   ]
  },
  {
   "cell_type": "code",
   "execution_count": null,
   "metadata": {},
   "outputs": [],
   "source": [
    "clf.predict(test_features)"
   ]
  },
  {
   "cell_type": "code",
   "execution_count": null,
   "metadata": {},
   "outputs": [],
   "source": [
    "features_sgm\n"
   ]
  },
  {
   "cell_type": "code",
   "execution_count": null,
   "metadata": {},
   "outputs": [],
   "source": [
    "plt.figure(figsize=(20, 4))\n",
    "plt.subplot(131)\n",
    "plt.scatter(features_linear[:,0],features_linear[:,1])\n",
    "plt.subplot(132)\n",
    "plt.scatter(features_rbf[:,0],features_rbf[:,1])\n",
    "plt.subplot(133)\n",
    "plt.scatter(features_sgm[:,0],features_sgm[:,1])\n",
    "plt.show()"
   ]
  },
  {
   "cell_type": "markdown",
   "metadata": {},
   "source": [
    "# 五、LDA"
   ]
  },
  {
   "cell_type": "code",
   "execution_count": null,
   "metadata": {},
   "outputs": [],
   "source": [
    "from sklearn.discriminant_analysis import LinearDiscriminantAnalysis"
   ]
  },
  {
   "cell_type": "code",
   "execution_count": null,
   "metadata": {},
   "outputs": [],
   "source": [
    "lda = LinearDiscriminantAnalysis(n_components=1)"
   ]
  },
  {
   "cell_type": "code",
   "execution_count": null,
   "metadata": {},
   "outputs": [],
   "source": [
    "features_lda = lda.fit_transform(features_SS,target)"
   ]
  },
  {
   "cell_type": "code",
   "execution_count": null,
   "metadata": {},
   "outputs": [],
   "source": [
    "features_lda.shape"
   ]
  },
  {
   "cell_type": "code",
   "execution_count": null,
   "metadata": {},
   "outputs": [],
   "source": [
    "features_lda"
   ]
  },
  {
   "cell_type": "code",
   "execution_count": null,
   "metadata": {},
   "outputs": [],
   "source": [
    "from sklearn.model_selection import train_test_split\n",
    "train_features, test_features, train_target, test_target = train_test_split(\n",
    "    features_lda, target, \n",
    "    test_size = 0.3)"
   ]
  },
  {
   "cell_type": "code",
   "execution_count": null,
   "metadata": {},
   "outputs": [],
   "source": [
    "from sklearn.svm import SVC\n",
    "clf = SVC()\n",
    "clf.fit(train_features, train_target)\n",
    "clf.score(test_features, test_target)"
   ]
  },
  {
   "cell_type": "code",
   "execution_count": null,
   "metadata": {},
   "outputs": [],
   "source": [
    "clf.predict(test_features)"
   ]
  },
  {
   "cell_type": "code",
   "execution_count": null,
   "metadata": {},
   "outputs": [],
   "source": [
    "test_target.shape"
   ]
  },
  {
   "cell_type": "code",
   "execution_count": null,
   "metadata": {},
   "outputs": [],
   "source": []
  }
 ],
 "metadata": {
  "kernelspec": {
   "display_name": "Python 3 (ipykernel)",
   "language": "python",
   "name": "python3"
  },
  "language_info": {
   "codemirror_mode": {
    "name": "ipython",
    "version": 3
   },
   "file_extension": ".py",
   "mimetype": "text/x-python",
   "name": "python",
   "nbconvert_exporter": "python",
   "pygments_lexer": "ipython3",
   "version": "3.11.5"
  }
 },
 "nbformat": 4,
 "nbformat_minor": 4
}
